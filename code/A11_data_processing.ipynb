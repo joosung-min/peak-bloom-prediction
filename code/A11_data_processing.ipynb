{
 "cells": [
  {
   "cell_type": "code",
   "execution_count": null,
   "metadata": {
    "vscode": {
     "languageId": "r"
    }
   },
   "outputs": [],
   "source": [
    "# Competition rules: https://competition.statistics.gmu.edu/competition-rules/\n",
    "# https://github.com/GMU-CherryBlossomCompetition/peak-bloom-prediction\n",
    "\n",
    "# Prunus avium cities: Zurich, Geneva, Bern, Lausanne, Basel, Winterthur, Lucerne, St. Gallen, Thun, and Köniz\n",
    "# Somei Yoshino: Seoul"
   ]
  },
  {
   "cell_type": "code",
   "execution_count": 4,
   "metadata": {
    "vscode": {
     "languageId": "r"
    }
   },
   "outputs": [
    {
     "data": {
      "text/html": [
       "<style>\n",
       ".list-inline {list-style: none; margin:0; padding: 0}\n",
       ".list-inline>li {display: inline-block}\n",
       ".list-inline>li:not(:last-child)::after {content: \"\\00b7\"; padding: 0 .5ex}\n",
       "</style>\n",
       "<ol class=list-inline><li>1066</li><li>8</li></ol>\n"
      ],
      "text/latex": [
       "\\begin{enumerate*}\n",
       "\\item 1066\n",
       "\\item 8\n",
       "\\end{enumerate*}\n"
      ],
      "text/markdown": [
       "1. 1066\n",
       "2. 8\n",
       "\n",
       "\n"
      ],
      "text/plain": [
       "[1] 1066    8"
      ]
     },
     "metadata": {},
     "output_type": "display_data"
    },
    {
     "data": {
      "text/html": [
       "<table class=\"dataframe\">\n",
       "<caption>A data.frame: 6 × 8</caption>\n",
       "<thead>\n",
       "\t<tr><th></th><th scope=col>location</th><th scope=col>lat</th><th scope=col>long</th><th scope=col>alt</th><th scope=col>year</th><th scope=col>bloom_date</th><th scope=col>bloom_doy</th><th scope=col>species</th></tr>\n",
       "\t<tr><th></th><th scope=col>&lt;chr&gt;</th><th scope=col>&lt;dbl&gt;</th><th scope=col>&lt;chr&gt;</th><th scope=col>&lt;int&gt;</th><th scope=col>&lt;int&gt;</th><th scope=col>&lt;chr&gt;</th><th scope=col>&lt;int&gt;</th><th scope=col>&lt;chr&gt;</th></tr>\n",
       "</thead>\n",
       "<tbody>\n",
       "\t<tr><th scope=row>1061</th><td>kyoto    </td><td>35.01198</td><td>135.6761135</td><td>44</td><td>2018</td><td>2018-03-30</td><td>89</td><td>Prunus jamasakura       </td></tr>\n",
       "\t<tr><th scope=row>1062</th><td>kyoto    </td><td>35.01198</td><td>135.6761135</td><td>44</td><td>2019</td><td>2019-04-05</td><td>95</td><td>Prunus jamasakura       </td></tr>\n",
       "\t<tr><th scope=row>1063</th><td>kyoto    </td><td>35.01198</td><td>135.6761135</td><td>44</td><td>2020</td><td>2020-04-01</td><td>92</td><td>Prunus jamasakura       </td></tr>\n",
       "\t<tr><th scope=row>1064</th><td>kyoto    </td><td>35.01198</td><td>135.6761135</td><td>44</td><td>2021</td><td>2021-03-26</td><td>85</td><td>Prunus jamasakura       </td></tr>\n",
       "\t<tr><th scope=row>1065</th><td>kyoto    </td><td>35.01198</td><td>135.6761135</td><td>44</td><td>2022</td><td>2022-04-01</td><td>91</td><td>Prunus jamasakura       </td></tr>\n",
       "\t<tr><th scope=row>1066</th><td>vancouver</td><td>49.22370</td><td>–123.1636  </td><td>24</td><td>2022</td><td>2022-03-27</td><td>86</td><td>Prunus yedoensis Akebono</td></tr>\n",
       "</tbody>\n",
       "</table>\n"
      ],
      "text/latex": [
       "A data.frame: 6 × 8\n",
       "\\begin{tabular}{r|llllllll}\n",
       "  & location & lat & long & alt & year & bloom\\_date & bloom\\_doy & species\\\\\n",
       "  & <chr> & <dbl> & <chr> & <int> & <int> & <chr> & <int> & <chr>\\\\\n",
       "\\hline\n",
       "\t1061 & kyoto     & 35.01198 & 135.6761135 & 44 & 2018 & 2018-03-30 & 89 & Prunus jamasakura       \\\\\n",
       "\t1062 & kyoto     & 35.01198 & 135.6761135 & 44 & 2019 & 2019-04-05 & 95 & Prunus jamasakura       \\\\\n",
       "\t1063 & kyoto     & 35.01198 & 135.6761135 & 44 & 2020 & 2020-04-01 & 92 & Prunus jamasakura       \\\\\n",
       "\t1064 & kyoto     & 35.01198 & 135.6761135 & 44 & 2021 & 2021-03-26 & 85 & Prunus jamasakura       \\\\\n",
       "\t1065 & kyoto     & 35.01198 & 135.6761135 & 44 & 2022 & 2022-04-01 & 91 & Prunus jamasakura       \\\\\n",
       "\t1066 & vancouver & 49.22370 & –123.1636   & 24 & 2022 & 2022-03-27 & 86 & Prunus yedoensis Akebono\\\\\n",
       "\\end{tabular}\n"
      ],
      "text/markdown": [
       "\n",
       "A data.frame: 6 × 8\n",
       "\n",
       "| <!--/--> | location &lt;chr&gt; | lat &lt;dbl&gt; | long &lt;chr&gt; | alt &lt;int&gt; | year &lt;int&gt; | bloom_date &lt;chr&gt; | bloom_doy &lt;int&gt; | species &lt;chr&gt; |\n",
       "|---|---|---|---|---|---|---|---|---|\n",
       "| 1061 | kyoto     | 35.01198 | 135.6761135 | 44 | 2018 | 2018-03-30 | 89 | Prunus jamasakura        |\n",
       "| 1062 | kyoto     | 35.01198 | 135.6761135 | 44 | 2019 | 2019-04-05 | 95 | Prunus jamasakura        |\n",
       "| 1063 | kyoto     | 35.01198 | 135.6761135 | 44 | 2020 | 2020-04-01 | 92 | Prunus jamasakura        |\n",
       "| 1064 | kyoto     | 35.01198 | 135.6761135 | 44 | 2021 | 2021-03-26 | 85 | Prunus jamasakura        |\n",
       "| 1065 | kyoto     | 35.01198 | 135.6761135 | 44 | 2022 | 2022-04-01 | 91 | Prunus jamasakura        |\n",
       "| 1066 | vancouver | 49.22370 | –123.1636   | 24 | 2022 | 2022-03-27 | 86 | Prunus yedoensis Akebono |\n",
       "\n"
      ],
      "text/plain": [
       "     location  lat      long        alt year bloom_date bloom_doy\n",
       "1061 kyoto     35.01198 135.6761135 44  2018 2018-03-30 89       \n",
       "1062 kyoto     35.01198 135.6761135 44  2019 2019-04-05 95       \n",
       "1063 kyoto     35.01198 135.6761135 44  2020 2020-04-01 92       \n",
       "1064 kyoto     35.01198 135.6761135 44  2021 2021-03-26 85       \n",
       "1065 kyoto     35.01198 135.6761135 44  2022 2022-04-01 91       \n",
       "1066 vancouver 49.22370 –123.1636   24  2022 2022-03-27 86       \n",
       "     species                 \n",
       "1061 Prunus jamasakura       \n",
       "1062 Prunus jamasakura       \n",
       "1063 Prunus jamasakura       \n",
       "1064 Prunus jamasakura       \n",
       "1065 Prunus jamasakura       \n",
       "1066 Prunus yedoensis Akebono"
      ]
     },
     "metadata": {},
     "output_type": "display_data"
    }
   ],
   "source": [
    "library(tidyverse)\n",
    "\n",
    "# Load cherry data\n",
    "setwd(\"/home/joosungm/projects/def-lelliott/joosungm/projects/peak-bloom-prediction/code/\")\n",
    "cherry_main <- read.csv(\"../data/washingtondc.csv\") %>% \n",
    "    bind_rows(read.csv(\"../data/liestal.csv\")) %>% \n",
    "    bind_rows(read.csv(\"../data/kyoto.csv\")) %>%\n",
    "    # bind_rows(read.csv(\"../data/vancouver.csv\")) %>%\n",
    "    mutate(species = ifelse(location == \"washingtondc\", \"Prunus yedoensis Somei-yoshino\", \n",
    "                        ifelse(location == \"liestal\", \"Prunus avium\", \n",
    "                            ifelse(location == \"kyoto\", \"Prunus jamasakura\", \"Prunus yedoensis Akebono\"))))\n",
    "van_df <- read.csv(\"../data/vancouver.csv\")\n",
    "van_df$species <- \"Prunus yedoensis Akebono\"\n",
    "cherry_main[nrow(cherry_main)+1, ] <- van_df[1, ]\n",
    "dim(cherry_main)\n",
    "tail(cherry_main)"
   ]
  },
  {
   "cell_type": "code",
   "execution_count": 8,
   "metadata": {
    "vscode": {
     "languageId": "r"
    }
   },
   "outputs": [
    {
     "data": {
      "text/html": [
       "<table class=\"dataframe\">\n",
       "<caption>A data.frame: 6 × 8</caption>\n",
       "<thead>\n",
       "\t<tr><th></th><th scope=col>location</th><th scope=col>lat</th><th scope=col>long</th><th scope=col>alt</th><th scope=col>year</th><th scope=col>bloom_date</th><th scope=col>bloom_doy</th><th scope=col>species</th></tr>\n",
       "\t<tr><th></th><th scope=col>&lt;chr&gt;</th><th scope=col>&lt;dbl&gt;</th><th scope=col>&lt;chr&gt;</th><th scope=col>&lt;int&gt;</th><th scope=col>&lt;int&gt;</th><th scope=col>&lt;chr&gt;</th><th scope=col>&lt;int&gt;</th><th scope=col>&lt;chr&gt;</th></tr>\n",
       "</thead>\n",
       "<tbody>\n",
       "\t<tr><th scope=row>65</th><td>kyoto</td><td>35.01198</td><td>135.6761135</td><td>44</td><td>2017</td><td>2017-04-09</td><td>99</td><td>Prunus jamasakura</td></tr>\n",
       "\t<tr><th scope=row>66</th><td>kyoto</td><td>35.01198</td><td>135.6761135</td><td>44</td><td>2018</td><td>2018-03-30</td><td>89</td><td>Prunus jamasakura</td></tr>\n",
       "\t<tr><th scope=row>67</th><td>kyoto</td><td>35.01198</td><td>135.6761135</td><td>44</td><td>2019</td><td>2019-04-05</td><td>95</td><td>Prunus jamasakura</td></tr>\n",
       "\t<tr><th scope=row>68</th><td>kyoto</td><td>35.01198</td><td>135.6761135</td><td>44</td><td>2020</td><td>2020-04-01</td><td>92</td><td>Prunus jamasakura</td></tr>\n",
       "\t<tr><th scope=row>69</th><td>kyoto</td><td>35.01198</td><td>135.6761135</td><td>44</td><td>2021</td><td>2021-03-26</td><td>85</td><td>Prunus jamasakura</td></tr>\n",
       "\t<tr><th scope=row>70</th><td>kyoto</td><td>35.01198</td><td>135.6761135</td><td>44</td><td>2022</td><td>2022-04-01</td><td>91</td><td>Prunus jamasakura</td></tr>\n",
       "</tbody>\n",
       "</table>\n"
      ],
      "text/latex": [
       "A data.frame: 6 × 8\n",
       "\\begin{tabular}{r|llllllll}\n",
       "  & location & lat & long & alt & year & bloom\\_date & bloom\\_doy & species\\\\\n",
       "  & <chr> & <dbl> & <chr> & <int> & <int> & <chr> & <int> & <chr>\\\\\n",
       "\\hline\n",
       "\t65 & kyoto & 35.01198 & 135.6761135 & 44 & 2017 & 2017-04-09 & 99 & Prunus jamasakura\\\\\n",
       "\t66 & kyoto & 35.01198 & 135.6761135 & 44 & 2018 & 2018-03-30 & 89 & Prunus jamasakura\\\\\n",
       "\t67 & kyoto & 35.01198 & 135.6761135 & 44 & 2019 & 2019-04-05 & 95 & Prunus jamasakura\\\\\n",
       "\t68 & kyoto & 35.01198 & 135.6761135 & 44 & 2020 & 2020-04-01 & 92 & Prunus jamasakura\\\\\n",
       "\t69 & kyoto & 35.01198 & 135.6761135 & 44 & 2021 & 2021-03-26 & 85 & Prunus jamasakura\\\\\n",
       "\t70 & kyoto & 35.01198 & 135.6761135 & 44 & 2022 & 2022-04-01 & 91 & Prunus jamasakura\\\\\n",
       "\\end{tabular}\n"
      ],
      "text/markdown": [
       "\n",
       "A data.frame: 6 × 8\n",
       "\n",
       "| <!--/--> | location &lt;chr&gt; | lat &lt;dbl&gt; | long &lt;chr&gt; | alt &lt;int&gt; | year &lt;int&gt; | bloom_date &lt;chr&gt; | bloom_doy &lt;int&gt; | species &lt;chr&gt; |\n",
       "|---|---|---|---|---|---|---|---|---|\n",
       "| 65 | kyoto | 35.01198 | 135.6761135 | 44 | 2017 | 2017-04-09 | 99 | Prunus jamasakura |\n",
       "| 66 | kyoto | 35.01198 | 135.6761135 | 44 | 2018 | 2018-03-30 | 89 | Prunus jamasakura |\n",
       "| 67 | kyoto | 35.01198 | 135.6761135 | 44 | 2019 | 2019-04-05 | 95 | Prunus jamasakura |\n",
       "| 68 | kyoto | 35.01198 | 135.6761135 | 44 | 2020 | 2020-04-01 | 92 | Prunus jamasakura |\n",
       "| 69 | kyoto | 35.01198 | 135.6761135 | 44 | 2021 | 2021-03-26 | 85 | Prunus jamasakura |\n",
       "| 70 | kyoto | 35.01198 | 135.6761135 | 44 | 2022 | 2022-04-01 | 91 | Prunus jamasakura |\n",
       "\n"
      ],
      "text/plain": [
       "   location lat      long        alt year bloom_date bloom_doy\n",
       "65 kyoto    35.01198 135.6761135 44  2017 2017-04-09 99       \n",
       "66 kyoto    35.01198 135.6761135 44  2018 2018-03-30 89       \n",
       "67 kyoto    35.01198 135.6761135 44  2019 2019-04-05 95       \n",
       "68 kyoto    35.01198 135.6761135 44  2020 2020-04-01 92       \n",
       "69 kyoto    35.01198 135.6761135 44  2021 2021-03-26 85       \n",
       "70 kyoto    35.01198 135.6761135 44  2022 2022-04-01 91       \n",
       "   species          \n",
       "65 Prunus jamasakura\n",
       "66 Prunus jamasakura\n",
       "67 Prunus jamasakura\n",
       "68 Prunus jamasakura\n",
       "69 Prunus jamasakura\n",
       "70 Prunus jamasakura"
      ]
     },
     "metadata": {},
     "output_type": "display_data"
    }
   ],
   "source": [
    "cherry_main_kyoto <- cherry_main %>%\n",
    "    filter(location == \"kyoto\") %>%\n",
    "    filter(year %in% 1953:2022)\n",
    "write.csv(cherry_main_kyoto, \"../outputs/A_outputs/A11_kyoto_out.csv\")\n",
    "tail(cherry_main_kyoto)"
   ]
  },
  {
   "cell_type": "code",
   "execution_count": 5,
   "metadata": {
    "vscode": {
     "languageId": "r"
    }
   },
   "outputs": [
    {
     "data": {
      "text/html": [
       "<table class=\"dataframe\">\n",
       "<caption>A data.frame: 6 × 9</caption>\n",
       "<thead>\n",
       "\t<tr><th></th><th scope=col>location</th><th scope=col>lat</th><th scope=col>long</th><th scope=col>alt</th><th scope=col>year</th><th scope=col>bloom_date</th><th scope=col>bloom_doy</th><th scope=col>country</th><th scope=col>city</th></tr>\n",
       "\t<tr><th></th><th scope=col>&lt;chr&gt;</th><th scope=col>&lt;dbl&gt;</th><th scope=col>&lt;dbl&gt;</th><th scope=col>&lt;dbl&gt;</th><th scope=col>&lt;int&gt;</th><th scope=col>&lt;chr&gt;</th><th scope=col>&lt;int&gt;</th><th scope=col>&lt;chr&gt;</th><th scope=col>&lt;chr&gt;</th></tr>\n",
       "</thead>\n",
       "<tbody>\n",
       "\t<tr><th scope=row>14075</th><td>Japan/Minamidaitojima</td><td>25.82889</td><td>131.2286</td><td>15.3</td><td>2014</td><td>2014-01-22</td><td>22</td><td>Japan</td><td>Minamidaitojima</td></tr>\n",
       "\t<tr><th scope=row>14076</th><td>Japan/Minamidaitojima</td><td>25.82889</td><td>131.2286</td><td>15.3</td><td>2015</td><td>2015-02-13</td><td>44</td><td>Japan</td><td>Minamidaitojima</td></tr>\n",
       "\t<tr><th scope=row>14077</th><td>Japan/Minamidaitojima</td><td>25.82889</td><td>131.2286</td><td>15.3</td><td>2016</td><td>2016-03-01</td><td>61</td><td>Japan</td><td>Minamidaitojima</td></tr>\n",
       "\t<tr><th scope=row>14078</th><td>Japan/Minamidaitojima</td><td>25.82889</td><td>131.2286</td><td>15.3</td><td>2017</td><td>2017-02-14</td><td>45</td><td>Japan</td><td>Minamidaitojima</td></tr>\n",
       "\t<tr><th scope=row>14079</th><td>Japan/Minamidaitojima</td><td>25.82889</td><td>131.2286</td><td>15.3</td><td>2018</td><td>2018-01-29</td><td>29</td><td>Japan</td><td>Minamidaitojima</td></tr>\n",
       "\t<tr><th scope=row>14080</th><td>Japan/Minamidaitojima</td><td>25.82889</td><td>131.2286</td><td>15.3</td><td>2019</td><td>2019-02-12</td><td>43</td><td>Japan</td><td>Minamidaitojima</td></tr>\n",
       "</tbody>\n",
       "</table>\n"
      ],
      "text/latex": [
       "A data.frame: 6 × 9\n",
       "\\begin{tabular}{r|lllllllll}\n",
       "  & location & lat & long & alt & year & bloom\\_date & bloom\\_doy & country & city\\\\\n",
       "  & <chr> & <dbl> & <dbl> & <dbl> & <int> & <chr> & <int> & <chr> & <chr>\\\\\n",
       "\\hline\n",
       "\t14075 & Japan/Minamidaitojima & 25.82889 & 131.2286 & 15.3 & 2014 & 2014-01-22 & 22 & Japan & Minamidaitojima\\\\\n",
       "\t14076 & Japan/Minamidaitojima & 25.82889 & 131.2286 & 15.3 & 2015 & 2015-02-13 & 44 & Japan & Minamidaitojima\\\\\n",
       "\t14077 & Japan/Minamidaitojima & 25.82889 & 131.2286 & 15.3 & 2016 & 2016-03-01 & 61 & Japan & Minamidaitojima\\\\\n",
       "\t14078 & Japan/Minamidaitojima & 25.82889 & 131.2286 & 15.3 & 2017 & 2017-02-14 & 45 & Japan & Minamidaitojima\\\\\n",
       "\t14079 & Japan/Minamidaitojima & 25.82889 & 131.2286 & 15.3 & 2018 & 2018-01-29 & 29 & Japan & Minamidaitojima\\\\\n",
       "\t14080 & Japan/Minamidaitojima & 25.82889 & 131.2286 & 15.3 & 2019 & 2019-02-12 & 43 & Japan & Minamidaitojima\\\\\n",
       "\\end{tabular}\n"
      ],
      "text/markdown": [
       "\n",
       "A data.frame: 6 × 9\n",
       "\n",
       "| <!--/--> | location &lt;chr&gt; | lat &lt;dbl&gt; | long &lt;dbl&gt; | alt &lt;dbl&gt; | year &lt;int&gt; | bloom_date &lt;chr&gt; | bloom_doy &lt;int&gt; | country &lt;chr&gt; | city &lt;chr&gt; |\n",
       "|---|---|---|---|---|---|---|---|---|---|\n",
       "| 14075 | Japan/Minamidaitojima | 25.82889 | 131.2286 | 15.3 | 2014 | 2014-01-22 | 22 | Japan | Minamidaitojima |\n",
       "| 14076 | Japan/Minamidaitojima | 25.82889 | 131.2286 | 15.3 | 2015 | 2015-02-13 | 44 | Japan | Minamidaitojima |\n",
       "| 14077 | Japan/Minamidaitojima | 25.82889 | 131.2286 | 15.3 | 2016 | 2016-03-01 | 61 | Japan | Minamidaitojima |\n",
       "| 14078 | Japan/Minamidaitojima | 25.82889 | 131.2286 | 15.3 | 2017 | 2017-02-14 | 45 | Japan | Minamidaitojima |\n",
       "| 14079 | Japan/Minamidaitojima | 25.82889 | 131.2286 | 15.3 | 2018 | 2018-01-29 | 29 | Japan | Minamidaitojima |\n",
       "| 14080 | Japan/Minamidaitojima | 25.82889 | 131.2286 | 15.3 | 2019 | 2019-02-12 | 43 | Japan | Minamidaitojima |\n",
       "\n"
      ],
      "text/plain": [
       "      location              lat      long     alt  year bloom_date bloom_doy\n",
       "14075 Japan/Minamidaitojima 25.82889 131.2286 15.3 2014 2014-01-22 22       \n",
       "14076 Japan/Minamidaitojima 25.82889 131.2286 15.3 2015 2015-02-13 44       \n",
       "14077 Japan/Minamidaitojima 25.82889 131.2286 15.3 2016 2016-03-01 61       \n",
       "14078 Japan/Minamidaitojima 25.82889 131.2286 15.3 2017 2017-02-14 45       \n",
       "14079 Japan/Minamidaitojima 25.82889 131.2286 15.3 2018 2018-01-29 29       \n",
       "14080 Japan/Minamidaitojima 25.82889 131.2286 15.3 2019 2019-02-12 43       \n",
       "      country city           \n",
       "14075 Japan   Minamidaitojima\n",
       "14076 Japan   Minamidaitojima\n",
       "14077 Japan   Minamidaitojima\n",
       "14078 Japan   Minamidaitojima\n",
       "14079 Japan   Minamidaitojima\n",
       "14080 Japan   Minamidaitojima"
      ]
     },
     "metadata": {},
     "output_type": "display_data"
    },
    {
     "data": {
      "text/html": [
       "<style>\n",
       ".list-inline {list-style: none; margin:0; padding: 0}\n",
       ".list-inline>li {display: inline-block}\n",
       ".list-inline>li:not(:last-child)::after {content: \"\\00b7\"; padding: 0 .5ex}\n",
       "</style>\n",
       "<ol class=list-inline><li>14080</li><li>9</li></ol>\n"
      ],
      "text/latex": [
       "\\begin{enumerate*}\n",
       "\\item 14080\n",
       "\\item 9\n",
       "\\end{enumerate*}\n"
      ],
      "text/markdown": [
       "1. 14080\n",
       "2. 9\n",
       "\n",
       "\n"
      ],
      "text/plain": [
       "[1] 14080     9"
      ]
     },
     "metadata": {},
     "output_type": "display_data"
    }
   ],
   "source": [
    "cherry_sub <- read.csv(\"../data/meteoswiss.csv\") %>%\n",
    "    bind_rows(read.csv(\"../data/south_korea.csv\")) %>%\n",
    "    bind_rows(read.csv(\"../data/japan.csv\"))\n",
    "\n",
    "cherry_sub$country = str_split(cherry_sub$location, pattern = \"/\", simplify = TRUE)[, 1] \n",
    "cherry_sub$city = str_split(cherry_sub$location, pattern = \"/\", simplify = TRUE)[, 2]\n",
    "\n",
    "tail(cherry_sub)\n",
    "dim(cherry_sub)\n",
    "\n",
    "write.csv(cherry_sub, \"../outputs/A_outputs/A11_cherry_sub.csv\", row.names = FALSE)"
   ]
  },
  {
   "cell_type": "code",
   "execution_count": 6,
   "metadata": {
    "vscode": {
     "languageId": "r"
    }
   },
   "outputs": [],
   "source": [
    "# table(cherry_sub[cherry_sub$country == \"South Korea\", \"city\"])"
   ]
  },
  {
   "cell_type": "code",
   "execution_count": 7,
   "metadata": {
    "vscode": {
     "languageId": "r"
    }
   },
   "outputs": [
    {
     "data": {
      "image/png": "[encoded data removed]",
      "text/plain": [
       "plot without title"
      ]
     },
     "metadata": {
      "image/png": {
       "height": 420,
       "width": 420
      }
     },
     "output_type": "display_data"
    }
   ],
   "source": [
    "cherry_sub_kyoto <- cherry_sub[cherry_sub$city == \"Kyoto\", ]\n",
    "plot(x = cherry_sub_kyoto$year, y = cherry_sub_kyoto$bloom_doy, type = \"l\")"
   ]
  },
  {
   "cell_type": "code",
   "execution_count": 107,
   "metadata": {
    "vscode": {
     "languageId": "r"
    }
   },
   "outputs": [
    {
     "data": {
      "text/html": [
       "1953"
      ],
      "text/latex": [
       "1953"
      ],
      "text/markdown": [
       "1953"
      ],
      "text/plain": [
       "[1] 1953"
      ]
     },
     "metadata": {},
     "output_type": "display_data"
    },
    {
     "data": {
      "text/html": [
       "2021"
      ],
      "text/latex": [
       "2021"
      ],
      "text/markdown": [
       "2021"
      ],
      "text/plain": [
       "[1] 2021"
      ]
     },
     "metadata": {},
     "output_type": "display_data"
    }
   ],
   "source": [
    "min(cherry_sub_kyoto$year) \n",
    "max(cherry_sub_kyoto$year)\n",
    "# download Kyoto weather data from 1953 to 2021."
   ]
  },
  {
   "cell_type": "code",
   "execution_count": 88,
   "metadata": {
    "vscode": {
     "languageId": "r"
    }
   },
   "outputs": [
    {
     "data": {
      "text/plain": [
       "\n",
       "                Abashiri                Adelboden                   Aikawa \n",
       "                      60                       55                       55 \n",
       "                   Akita              Alchenflüh                   Altdorf \n",
       "                     138                       10                       41 \n",
       "                  Andeer                   Aomori                Appenzell \n",
       "                      58                       66                       53 \n",
       "               Asahikawa                 Aurigeno                   Azmoos \n",
       "                      69                       55                       43 \n",
       "                 Ballens          Basel-Binningen                    Bauma \n",
       "                       7                       49                       51 \n",
       "                Bellelay                     Biel              Birmensdorf \n",
       "                      25                       45                       39 \n",
       "                  Blonay                    Boeun                 Bondo GR \n",
       "                      29                       15                       53 \n",
       "                Boryeong                   Boudry            Brusio-Piazzo \n",
       "                      15                       19                       57 \n",
       "                    Buan                    Buchs                    Busan \n",
       "                      13                       23                       20 \n",
       "                   Buyeo                 Cartigny                  Cernier \n",
       "                      19                       62                       34 \n",
       "          Cevio-Cavergno                 Changins                Chardonne \n",
       "                      55                       55                       32 \n",
       "                Chaumont                  Cheonan                 Cheongju \n",
       "                      29                       16                       21 \n",
       "                  Choshi                Chuncheon                  Chungju \n",
       "                      69                       20                       16 \n",
       "           Chupungnyeong                     Chur             Comprovasco  \n",
       "                      16                       54                       30 \n",
       "                  Couvet                    Daegu            Daegwallyeong \n",
       "                      66                       22                        7 \n",
       "                 Daejeon               Davos-Dorf             Diessenhofen \n",
       "                      22                        2                       52 \n",
       "                Disentis                   Domat                   Dornach \n",
       "                      59                       53                       22 \n",
       "               Döttingen                Echandens                 Edlibach \n",
       "                      40                        2                       44 \n",
       "              Einsiedeln                      Elm                    Enges \n",
       "                      20                       65                       67 \n",
       "               Entlebuch                   Esashi              Eschen-Boja \n",
       "                      64                       54                       47 \n",
       "             Escholzmatt         Estavayer-le-Lac                    Faido \n",
       "                      66                       29                        2 \n",
       "                   Fanas                   Fiesch                   Flawil \n",
       "                      31                       62                       52 \n",
       "              Frauenfeld                    Fukue                    Fukui \n",
       "                      30                       57                       69 \n",
       "                 Fukuoka                Fukushima                   Gadmen \n",
       "                      68                       69                       48 \n",
       "                 Ganghwa                Gangneung                 Geochang \n",
       "                      15                       15                       15 \n",
       "                   Geoje                  Geumsan                     Gifu \n",
       "                      14                       15                       69 \n",
       "                 Goheung               Grellingen             Grossdietwil \n",
       "                      15                       14                       44 \n",
       "                  Grüsch                    Gryon                   Gstaad \n",
       "                      41                       50                       19 \n",
       "                    Gumi               Gundetswil                   Gunsan \n",
       "                      15                       23                       15 \n",
       "                 Gwangju              Hachijojima                Hachinohe \n",
       "                      21                       56                       55 \n",
       "                  Haenam                 Hakodate                   Hallau \n",
       "                      15                       69                       44 \n",
       "                  Hamada                Hamamatsu                 Hapcheon \n",
       "                      55                       52                       14 \n",
       "      Hard b. Weinfelden                   Heiden          Herzogenbuchsee \n",
       "                      23                       46                       40 \n",
       "                  Hikone                    Hiroo                Hiroshima \n",
       "                      69                       41                       69 \n",
       "                Hochdorf                    Höfen                Hongcheon \n",
       "                      16                       26                       14 \n",
       "                  Horgen                   Icheon                     Iida \n",
       "                      54                       18                       54 \n",
       "                   Imsil                  Incheon                     Inje \n",
       "                      15                       20                       11 \n",
       "            Iriomotejima             Ishigakijima                Iwamizawa \n",
       "                      24                       55                       52 \n",
       "                 Izuhara                Jangheung                  Jecheon \n",
       "                     114                       15                       14 \n",
       "           Jegenstorf II                     Jeju                    Jenaz \n",
       "                      13                       20                       51 \n",
       "                Jeongeup                   Jeonju                    Jinju \n",
       "                      18                       20                       15 \n",
       "               Kagoshima                 Kanazawa                     Kobe \n",
       "                      69                       69                       69 \n",
       "                   Kochi                     Kofu                 Kumagaya \n",
       "                     130                       69                       69 \n",
       "                Kumamoto                 Kumejima                  Kushiro \n",
       "                      69                       31                      134 \n",
       "                 Kutchan                    Kyoto             L'Abergement \n",
       "                      51                       69                       63 \n",
       "              La Brévine             La Valsainte             Langnau i.E. \n",
       "                       9                       38                        7 \n",
       "              Lanterswil               Laufenburg                 Le Locle \n",
       "                      18                       53                       37 \n",
       "                Le Sépey           Les Diablerets        Les Plans-sur-Bex \n",
       "                      12                       22                       42 \n",
       "     Les Ponts-de-Martel             Les Rangiers                   Leysin \n",
       "                      69                       39                       54 \n",
       "                 Leytron                   Liddes                  Liestal \n",
       "                      39                       29                       38 \n",
       "                 Linthal                  Locarno            Locarno-Monti \n",
       "                      51                       56                       32 \n",
       "                Longirod                   Luzern                 Maebashi \n",
       "                      56                       48                       69 \n",
       "                 Maizuru                  Martina                   Matsue \n",
       "                      60                       45                       63 \n",
       "               Matsumoto                Matsuyama              Meiringen I \n",
       "                      55                       69                       21 \n",
       "               Mellingen              Merishausen          Minamidaitojima \n",
       "                       1                       64                       43 \n",
       "                 Miryang                     Mito               Miyakejima \n",
       "                      15                       69                       34 \n",
       "                  Miyako               Miyakojima                 Miyazaki \n",
       "                      55                       46                       69 \n",
       "                  Möhlin                    Mokpo                 Mombetsu \n",
       "                      43                       21                       52 \n",
       "              Morgins VS                  Morioka                   Moudon \n",
       "                      29                       69                       53 \n",
       "                 Moutier                   Mugena                Mungyeong \n",
       "                      57                        3                       10 \n",
       "                    Murg                 Muri, AG                  Muroran \n",
       "                      71                       45                      138 \n",
       "                  Näfels                   Nagano                 Nagasaki \n",
       "                      43                       69                       69 \n",
       "                    Nago                   Nagoya                     Naha \n",
       "                      23                      138                       45 \n",
       "                  Namhae                     Nara                     Naze \n",
       "                      15                       68                      106 \n",
       "                  Nemuro                Neuchâtel                Neuhausen \n",
       "                      50                        8                       48 \n",
       "                 Niigata                  Nobeoka          Oberehrendingen \n",
       "                      69                       33                       48 \n",
       "           Oberlangenegg                  Obihiro                Oeschberg \n",
       "                      36                       69                       43 \n",
       "                    Oita                  Okayama                  Olivone \n",
       "                      69                       69                       10 \n",
       "                 Onahama                    Orbe                     Orvin \n",
       "                      56                       52                       63 \n",
       "                   Osaka                   Oshima                   Osogna \n",
       "                      61                       47                        6 \n",
       "             Osterfingen                    Owase                  Payerne \n",
       "                      45                       55                        4 \n",
       "                  Pohang                  Posieux            Prato-Sornico \n",
       "                      19                       52                       62 \n",
       "                    Rafz                  Rancate          Raperswilen, TG \n",
       "                      69                       13                       25 \n",
       "             Reinach, BL                    Ried                Romanshorn \n",
       "                       5                        3                       30 \n",
       "               Rorschach                    Rumoi                     Saga \n",
       "                      45                       53                       68 \n",
       "                Sagno TI                    Saigo                   Sakata \n",
       "                      35                       56                       57 \n",
       "               Sancheong                  Sapporo               Sargans II \n",
       "                      15                       68                       67 \n",
       "                  Sarnen                  Schiers              Schönenwerd \n",
       "                      68                       50                       52 \n",
       "                   Scuol                   Seewil              Seewis Dorf \n",
       "                      34                       13                       54 \n",
       "                  Sendai                     Sent                 Seogwipo \n",
       "                     138                       40                       19 \n",
       "                    Seon                 Seongsan                   Seosan \n",
       "                      71                       20                       18 \n",
       "                   Seoul              Shimonoseki                   Shinjo \n",
       "                      25                       69                       40 \n",
       "            Shionomisaki                Shirakawa                 Shizuoka \n",
       "                     100                       45                       69 \n",
       "               Sihlbrugg                  Silenen             Simplon-Dorf \n",
       "                      41                       31                       48 \n",
       "                  Sokcho              St. Gallen                   St. Luc \n",
       "                      18                        1                       45 \n",
       "Sta. Maria (Val Mustair)                   Stampa             Stein, AR II \n",
       "                      24                       52                       44 \n",
       "                  Sumoto                    Suwon                   Takada \n",
       "                      49                       22                       55 \n",
       "               Takamatsu                 Takayama              Tanegashima \n",
       "                      69                       53                       39 \n",
       "                Tateyama                  Therwil                   Thusis \n",
       "                      38                       14                       62 \n",
       "               Tokushima                    Tokyo                Tongyeong \n",
       "                      69                       69                       15 \n",
       "                 Tottori                   Toyama                  Toyooka \n",
       "                     138                       69                       55 \n",
       "                  Trient                      Tsu                  Tsuruga \n",
       "                      72                       69                       53 \n",
       "                 Uiseong                    Uljin                Ulleungdo \n",
       "                      15                       16                       21 \n",
       "                   Ulsan                Unterseen                  Urakawa \n",
       "                      20                       16                       57 \n",
       "              Utsunomiya                  Uwajima                 Vallorbe \n",
       "                      69                       39                       43 \n",
       "                    Vals               Vergeletto                  Versoix \n",
       "                      60                       35                       63 \n",
       "             Villnachern                    Vira                      Visp \n",
       "                      53                       43                       18 \n",
       "               Wädenswil                   Wajima                 Wakayama \n",
       "                      57                       58                       67 \n",
       "                Wakkanai                 Wald, ZH                    Wando \n",
       "                      60                       42                       18 \n",
       "             Wattwil, SG                   Wengen                 Wetzikon \n",
       "                      71                       23                       29 \n",
       "                 Wil, SG                 Wildhaus                 Wiliberg \n",
       "                      29                       20                       69 \n",
       "              Winterthur                 Wolhusen                    Wonju \n",
       "                      33                       31                       16 \n",
       "                 Worb BE                    Wynau                Yakushima \n",
       "                      37                       52                        2 \n",
       "                Yamagata               Yangpyeong               Yeongcheon \n",
       "                      69                       14                       16 \n",
       "               Yeongdeok                  Yeongju                    Yeosu \n",
       "                      16                       15                       24 \n",
       "                Yokohama                   Yonago             Yonagunijima \n",
       "                      69                       55                       16 \n",
       "                  Zizers                 Zofingen       Zürich-Albisgüetli \n",
       "                      51                       44                       57 \n",
       "     Zürich-MeteoSchweiz           Zürich-Witikon               Zweisimmen \n",
       "                      66                       55                       54 "
      ]
     },
     "metadata": {},
     "output_type": "display_data"
    }
   ],
   "source": [
    "table(cherry_sub$city)"
   ]
  },
  {
   "cell_type": "code",
   "execution_count": 9,
   "metadata": {
    "vscode": {
     "languageId": "r"
    }
   },
   "outputs": [
    {
     "data": {
      "text/html": [
       "<style>\n",
       ".list-inline {list-style: none; margin:0; padding: 0}\n",
       ".list-inline>li {display: inline-block}\n",
       ".list-inline>li:not(:last-child)::after {content: \"\\00b7\"; padding: 0 .5ex}\n",
       "</style>\n",
       "<ol class=list-inline><li>196</li><li>17</li></ol>\n"
      ],
      "text/latex": [
       "\\begin{enumerate*}\n",
       "\\item 196\n",
       "\\item 17\n",
       "\\end{enumerate*}\n"
      ],
      "text/markdown": [
       "1. 196\n",
       "2. 17\n",
       "\n",
       "\n"
      ],
      "text/plain": [
       "[1] 196  17"
      ]
     },
     "metadata": {},
     "output_type": "display_data"
    },
    {
     "data": {
      "text/html": [
       "<table class=\"dataframe\">\n",
       "<caption>A data.frame: 6 × 17</caption>\n",
       "<thead>\n",
       "\t<tr><th></th><th scope=col>Individual_ID</th><th scope=col>Latitude</th><th scope=col>Longitude</th><th scope=col>Elevation_in_Meters</th><th scope=col>State</th><th scope=col>Genus</th><th scope=col>Species</th><th scope=col>Common_Name</th><th scope=col>NumDays_Since_Prior_No</th><th scope=col>Phenophase_Description</th><th scope=col>First_Yes_Year</th><th scope=col>First_Yes_Month</th><th scope=col>First_Yes_Day</th><th scope=col>Last_Yes_Year</th><th scope=col>Last_Yes_Month</th><th scope=col>Last_Yes_Day</th><th scope=col>AGDD</th></tr>\n",
       "\t<tr><th></th><th scope=col>&lt;int&gt;</th><th scope=col>&lt;dbl&gt;</th><th scope=col>&lt;dbl&gt;</th><th scope=col>&lt;int&gt;</th><th scope=col>&lt;chr&gt;</th><th scope=col>&lt;chr&gt;</th><th scope=col>&lt;chr&gt;</th><th scope=col>&lt;chr&gt;</th><th scope=col>&lt;int&gt;</th><th scope=col>&lt;chr&gt;</th><th scope=col>&lt;int&gt;</th><th scope=col>&lt;int&gt;</th><th scope=col>&lt;int&gt;</th><th scope=col>&lt;int&gt;</th><th scope=col>&lt;int&gt;</th><th scope=col>&lt;int&gt;</th><th scope=col>&lt;dbl&gt;</th></tr>\n",
       "</thead>\n",
       "<tbody>\n",
       "\t<tr><th scope=row>1</th><td> 4931</td><td>35.92618</td><td>-78.69272</td><td>129</td><td>NC</td><td>Prunus</td><td>yedoensis</td><td>Yoshino cherry</td><td>-9999</td><td>Open flowers</td><td>2009</td><td>3</td><td>29</td><td>2009</td><td>3</td><td>29</td><td>583.75</td></tr>\n",
       "\t<tr><th scope=row>2</th><td> 4931</td><td>35.92618</td><td>-78.69272</td><td>129</td><td>NC</td><td>Prunus</td><td>yedoensis</td><td>Yoshino cherry</td><td>    3</td><td>Open flowers</td><td>2010</td><td>3</td><td>24</td><td>2010</td><td>3</td><td>25</td><td>423.50</td></tr>\n",
       "\t<tr><th scope=row>3</th><td> 5076</td><td>35.87523</td><td>-78.73708</td><td>118</td><td>NC</td><td>Prunus</td><td>yedoensis</td><td>Yoshino cherry</td><td>    1</td><td>Open flowers</td><td>2010</td><td>3</td><td>22</td><td>2010</td><td>3</td><td>28</td><td>403.75</td></tr>\n",
       "\t<tr><th scope=row>4</th><td>11222</td><td>38.88676</td><td>-77.04102</td><td>  2</td><td>DC</td><td>Prunus</td><td>yedoensis</td><td>Yoshino cherry</td><td>-9999</td><td>Open flowers</td><td>2011</td><td>4</td><td> 5</td><td>2011</td><td>4</td><td> 5</td><td>436.25</td></tr>\n",
       "\t<tr><th scope=row>5</th><td>11223</td><td>38.88676</td><td>-77.04102</td><td>  2</td><td>DC</td><td>Prunus</td><td>yedoensis</td><td>Yoshino cherry</td><td>-9999</td><td>Open flowers</td><td>2011</td><td>4</td><td> 5</td><td>2011</td><td>4</td><td> 5</td><td>436.25</td></tr>\n",
       "\t<tr><th scope=row>6</th><td>11224</td><td>38.88676</td><td>-77.04102</td><td>  2</td><td>DC</td><td>Prunus</td><td>yedoensis</td><td>Yoshino cherry</td><td>-9999</td><td>Open flowers</td><td>2011</td><td>4</td><td> 5</td><td>2011</td><td>4</td><td> 5</td><td>436.25</td></tr>\n",
       "</tbody>\n",
       "</table>\n"
      ],
      "text/latex": [
       "A data.frame: 6 × 17\n",
       "\\begin{tabular}{r|lllllllllllllllll}\n",
       "  & Individual\\_ID & Latitude & Longitude & Elevation\\_in\\_Meters & State & Genus & Species & Common\\_Name & NumDays\\_Since\\_Prior\\_No & Phenophase\\_Description & First\\_Yes\\_Year & First\\_Yes\\_Month & First\\_Yes\\_Day & Last\\_Yes\\_Year & Last\\_Yes\\_Month & Last\\_Yes\\_Day & AGDD\\\\\n",
       "  & <int> & <dbl> & <dbl> & <int> & <chr> & <chr> & <chr> & <chr> & <int> & <chr> & <int> & <int> & <int> & <int> & <int> & <int> & <dbl>\\\\\n",
       "\\hline\n",
       "\t1 &  4931 & 35.92618 & -78.69272 & 129 & NC & Prunus & yedoensis & Yoshino cherry & -9999 & Open flowers & 2009 & 3 & 29 & 2009 & 3 & 29 & 583.75\\\\\n",
       "\t2 &  4931 & 35.92618 & -78.69272 & 129 & NC & Prunus & yedoensis & Yoshino cherry &     3 & Open flowers & 2010 & 3 & 24 & 2010 & 3 & 25 & 423.50\\\\\n",
       "\t3 &  5076 & 35.87523 & -78.73708 & 118 & NC & Prunus & yedoensis & Yoshino cherry &     1 & Open flowers & 2010 & 3 & 22 & 2010 & 3 & 28 & 403.75\\\\\n",
       "\t4 & 11222 & 38.88676 & -77.04102 &   2 & DC & Prunus & yedoensis & Yoshino cherry & -9999 & Open flowers & 2011 & 4 &  5 & 2011 & 4 &  5 & 436.25\\\\\n",
       "\t5 & 11223 & 38.88676 & -77.04102 &   2 & DC & Prunus & yedoensis & Yoshino cherry & -9999 & Open flowers & 2011 & 4 &  5 & 2011 & 4 &  5 & 436.25\\\\\n",
       "\t6 & 11224 & 38.88676 & -77.04102 &   2 & DC & Prunus & yedoensis & Yoshino cherry & -9999 & Open flowers & 2011 & 4 &  5 & 2011 & 4 &  5 & 436.25\\\\\n",
       "\\end{tabular}\n"
      ],
      "text/markdown": [
       "\n",
       "A data.frame: 6 × 17\n",
       "\n",
       "| <!--/--> | Individual_ID &lt;int&gt; | Latitude &lt;dbl&gt; | Longitude &lt;dbl&gt; | Elevation_in_Meters &lt;int&gt; | State &lt;chr&gt; | Genus &lt;chr&gt; | Species &lt;chr&gt; | Common_Name &lt;chr&gt; | NumDays_Since_Prior_No &lt;int&gt; | Phenophase_Description &lt;chr&gt; | First_Yes_Year &lt;int&gt; | First_Yes_Month &lt;int&gt; | First_Yes_Day &lt;int&gt; | Last_Yes_Year &lt;int&gt; | Last_Yes_Month &lt;int&gt; | Last_Yes_Day &lt;int&gt; | AGDD &lt;dbl&gt; |\n",
       "|---|---|---|---|---|---|---|---|---|---|---|---|---|---|---|---|---|---|\n",
       "| 1 |  4931 | 35.92618 | -78.69272 | 129 | NC | Prunus | yedoensis | Yoshino cherry | -9999 | Open flowers | 2009 | 3 | 29 | 2009 | 3 | 29 | 583.75 |\n",
       "| 2 |  4931 | 35.92618 | -78.69272 | 129 | NC | Prunus | yedoensis | Yoshino cherry |     3 | Open flowers | 2010 | 3 | 24 | 2010 | 3 | 25 | 423.50 |\n",
       "| 3 |  5076 | 35.87523 | -78.73708 | 118 | NC | Prunus | yedoensis | Yoshino cherry |     1 | Open flowers | 2010 | 3 | 22 | 2010 | 3 | 28 | 403.75 |\n",
       "| 4 | 11222 | 38.88676 | -77.04102 |   2 | DC | Prunus | yedoensis | Yoshino cherry | -9999 | Open flowers | 2011 | 4 |  5 | 2011 | 4 |  5 | 436.25 |\n",
       "| 5 | 11223 | 38.88676 | -77.04102 |   2 | DC | Prunus | yedoensis | Yoshino cherry | -9999 | Open flowers | 2011 | 4 |  5 | 2011 | 4 |  5 | 436.25 |\n",
       "| 6 | 11224 | 38.88676 | -77.04102 |   2 | DC | Prunus | yedoensis | Yoshino cherry | -9999 | Open flowers | 2011 | 4 |  5 | 2011 | 4 |  5 | 436.25 |\n",
       "\n"
      ],
      "text/plain": [
       "  Individual_ID Latitude Longitude Elevation_in_Meters State Genus  Species  \n",
       "1  4931         35.92618 -78.69272 129                 NC    Prunus yedoensis\n",
       "2  4931         35.92618 -78.69272 129                 NC    Prunus yedoensis\n",
       "3  5076         35.87523 -78.73708 118                 NC    Prunus yedoensis\n",
       "4 11222         38.88676 -77.04102   2                 DC    Prunus yedoensis\n",
       "5 11223         38.88676 -77.04102   2                 DC    Prunus yedoensis\n",
       "6 11224         38.88676 -77.04102   2                 DC    Prunus yedoensis\n",
       "  Common_Name    NumDays_Since_Prior_No Phenophase_Description First_Yes_Year\n",
       "1 Yoshino cherry -9999                  Open flowers           2009          \n",
       "2 Yoshino cherry     3                  Open flowers           2010          \n",
       "3 Yoshino cherry     1                  Open flowers           2010          \n",
       "4 Yoshino cherry -9999                  Open flowers           2011          \n",
       "5 Yoshino cherry -9999                  Open flowers           2011          \n",
       "6 Yoshino cherry -9999                  Open flowers           2011          \n",
       "  First_Yes_Month First_Yes_Day Last_Yes_Year Last_Yes_Month Last_Yes_Day\n",
       "1 3               29            2009          3              29          \n",
       "2 3               24            2010          3              25          \n",
       "3 3               22            2010          3              28          \n",
       "4 4                5            2011          4               5          \n",
       "5 4                5            2011          4               5          \n",
       "6 4                5            2011          4               5          \n",
       "  AGDD  \n",
       "1 583.75\n",
       "2 423.50\n",
       "3 403.75\n",
       "4 436.25\n",
       "5 436.25\n",
       "6 436.25"
      ]
     },
     "metadata": {},
     "output_type": "display_data"
    }
   ],
   "source": [
    "usa_npn_ind_cols <- c(\"Individual_ID\", \"Latitude\", \"Longitude\", \"Elevation_in_Meters\", \"State\", \"Genus\", \"Species\", \"Common_Name\", \"NumDays_Since_Prior_No\", \"Phenophase_Description\", \n",
    "                        \"First_Yes_Year\", \"First_Yes_Month\", \"First_Yes_Day\", \n",
    "                        \"Last_Yes_Year\", \"Last_Yes_Month\", \"Last_Yes_Day\", \"AGDD\")\n",
    "usa_npn_ind_data <- read.csv(\"../data/USA-NPN_individual_phenometrics_data.csv\") %>%\n",
    "    dplyr::select(all_of(usa_npn_ind_cols))\n",
    "dim(usa_npn_ind_data)\n",
    "head(usa_npn_ind_data)"
   ]
  },
  {
   "cell_type": "code",
   "execution_count": 12,
   "metadata": {
    "vscode": {
     "languageId": "r"
    }
   },
   "outputs": [
    {
     "data": {
      "text/html": [
       "<table class=\"dataframe\">\n",
       "<caption>A data.frame: 6 × 42</caption>\n",
       "<thead>\n",
       "\t<tr><th></th><th scope=col>Observation_ID</th><th scope=col>Update_Datetime</th><th scope=col>Site_ID</th><th scope=col>Latitude</th><th scope=col>Longitude</th><th scope=col>Elevation_in_Meters</th><th scope=col>State</th><th scope=col>Species_ID</th><th scope=col>Genus</th><th scope=col>Species</th><th scope=col>⋯</th><th scope=col>Tmin_Fall</th><th scope=col>Tmin</th><th scope=col>Tmin_in_F</th><th scope=col>Prcp_Winter</th><th scope=col>Prcp_Spring</th><th scope=col>Prcp_Summer</th><th scope=col>Prcp_Fall</th><th scope=col>Prcp</th><th scope=col>Accum_Prcp</th><th scope=col>Daylength</th></tr>\n",
       "\t<tr><th></th><th scope=col>&lt;int&gt;</th><th scope=col>&lt;chr&gt;</th><th scope=col>&lt;int&gt;</th><th scope=col>&lt;dbl&gt;</th><th scope=col>&lt;dbl&gt;</th><th scope=col>&lt;int&gt;</th><th scope=col>&lt;chr&gt;</th><th scope=col>&lt;int&gt;</th><th scope=col>&lt;chr&gt;</th><th scope=col>&lt;chr&gt;</th><th scope=col>⋯</th><th scope=col>&lt;dbl&gt;</th><th scope=col>&lt;dbl&gt;</th><th scope=col>&lt;dbl&gt;</th><th scope=col>&lt;dbl&gt;</th><th scope=col>&lt;dbl&gt;</th><th scope=col>&lt;dbl&gt;</th><th scope=col>&lt;dbl&gt;</th><th scope=col>&lt;dbl&gt;</th><th scope=col>&lt;dbl&gt;</th><th scope=col>&lt;int&gt;</th></tr>\n",
       "</thead>\n",
       "<tbody>\n",
       "\t<tr><th scope=row>1</th><td>164597</td><td>-9999</td><td>2251</td><td>45.4856</td><td>-122.8555</td><td>63</td><td>OR</td><td>87</td><td>Prunus</td><td>emarginata</td><td>⋯</td><td>7.25</td><td>5.0</td><td>41.0</td><td>368</td><td>329</td><td>126</td><td>314</td><td>6</td><td>133</td><td>32486</td></tr>\n",
       "\t<tr><th scope=row>2</th><td>165211</td><td>-9999</td><td>2251</td><td>45.4856</td><td>-122.8555</td><td>63</td><td>OR</td><td>87</td><td>Prunus</td><td>emarginata</td><td>⋯</td><td>7.25</td><td>3.5</td><td>38.3</td><td>368</td><td>329</td><td>126</td><td>314</td><td>4</td><td>144</td><td>32832</td></tr>\n",
       "\t<tr><th scope=row>3</th><td>165201</td><td>-9999</td><td>2251</td><td>45.4856</td><td>-122.8555</td><td>63</td><td>OR</td><td>87</td><td>Prunus</td><td>emarginata</td><td>⋯</td><td>7.25</td><td>6.0</td><td>42.8</td><td>368</td><td>329</td><td>126</td><td>314</td><td>0</td><td>170</td><td>33869</td></tr>\n",
       "\t<tr><th scope=row>4</th><td>165960</td><td>-9999</td><td>2251</td><td>45.4856</td><td>-122.8555</td><td>63</td><td>OR</td><td>87</td><td>Prunus</td><td>emarginata</td><td>⋯</td><td>7.25</td><td>4.5</td><td>40.1</td><td>368</td><td>329</td><td>126</td><td>314</td><td>1</td><td>194</td><td>35251</td></tr>\n",
       "\t<tr><th scope=row>5</th><td>168209</td><td>-9999</td><td>2251</td><td>45.4856</td><td>-122.8555</td><td>63</td><td>OR</td><td>87</td><td>Prunus</td><td>emarginata</td><td>⋯</td><td>7.25</td><td>6.0</td><td>42.8</td><td>368</td><td>329</td><td>126</td><td>314</td><td>5</td><td>233</td><td>36634</td></tr>\n",
       "\t<tr><th scope=row>6</th><td>168861</td><td>-9999</td><td>2251</td><td>45.4856</td><td>-122.8555</td><td>63</td><td>OR</td><td>87</td><td>Prunus</td><td>emarginata</td><td>⋯</td><td>7.25</td><td>1.0</td><td>33.8</td><td>368</td><td>329</td><td>126</td><td>314</td><td>0</td><td>233</td><td>37325</td></tr>\n",
       "</tbody>\n",
       "</table>\n"
      ],
      "text/latex": [
       "A data.frame: 6 × 42\n",
       "\\begin{tabular}{r|lllllllllllllllllllll}\n",
       "  & Observation\\_ID & Update\\_Datetime & Site\\_ID & Latitude & Longitude & Elevation\\_in\\_Meters & State & Species\\_ID & Genus & Species & ⋯ & Tmin\\_Fall & Tmin & Tmin\\_in\\_F & Prcp\\_Winter & Prcp\\_Spring & Prcp\\_Summer & Prcp\\_Fall & Prcp & Accum\\_Prcp & Daylength\\\\\n",
       "  & <int> & <chr> & <int> & <dbl> & <dbl> & <int> & <chr> & <int> & <chr> & <chr> & ⋯ & <dbl> & <dbl> & <dbl> & <dbl> & <dbl> & <dbl> & <dbl> & <dbl> & <dbl> & <int>\\\\\n",
       "\\hline\n",
       "\t1 & 164597 & -9999 & 2251 & 45.4856 & -122.8555 & 63 & OR & 87 & Prunus & emarginata & ⋯ & 7.25 & 5.0 & 41.0 & 368 & 329 & 126 & 314 & 6 & 133 & 32486\\\\\n",
       "\t2 & 165211 & -9999 & 2251 & 45.4856 & -122.8555 & 63 & OR & 87 & Prunus & emarginata & ⋯ & 7.25 & 3.5 & 38.3 & 368 & 329 & 126 & 314 & 4 & 144 & 32832\\\\\n",
       "\t3 & 165201 & -9999 & 2251 & 45.4856 & -122.8555 & 63 & OR & 87 & Prunus & emarginata & ⋯ & 7.25 & 6.0 & 42.8 & 368 & 329 & 126 & 314 & 0 & 170 & 33869\\\\\n",
       "\t4 & 165960 & -9999 & 2251 & 45.4856 & -122.8555 & 63 & OR & 87 & Prunus & emarginata & ⋯ & 7.25 & 4.5 & 40.1 & 368 & 329 & 126 & 314 & 1 & 194 & 35251\\\\\n",
       "\t5 & 168209 & -9999 & 2251 & 45.4856 & -122.8555 & 63 & OR & 87 & Prunus & emarginata & ⋯ & 7.25 & 6.0 & 42.8 & 368 & 329 & 126 & 314 & 5 & 233 & 36634\\\\\n",
       "\t6 & 168861 & -9999 & 2251 & 45.4856 & -122.8555 & 63 & OR & 87 & Prunus & emarginata & ⋯ & 7.25 & 1.0 & 33.8 & 368 & 329 & 126 & 314 & 0 & 233 & 37325\\\\\n",
       "\\end{tabular}\n"
      ],
      "text/markdown": [
       "\n",
       "A data.frame: 6 × 42\n",
       "\n",
       "| <!--/--> | Observation_ID &lt;int&gt; | Update_Datetime &lt;chr&gt; | Site_ID &lt;int&gt; | Latitude &lt;dbl&gt; | Longitude &lt;dbl&gt; | Elevation_in_Meters &lt;int&gt; | State &lt;chr&gt; | Species_ID &lt;int&gt; | Genus &lt;chr&gt; | Species &lt;chr&gt; | ⋯ ⋯ | Tmin_Fall &lt;dbl&gt; | Tmin &lt;dbl&gt; | Tmin_in_F &lt;dbl&gt; | Prcp_Winter &lt;dbl&gt; | Prcp_Spring &lt;dbl&gt; | Prcp_Summer &lt;dbl&gt; | Prcp_Fall &lt;dbl&gt; | Prcp &lt;dbl&gt; | Accum_Prcp &lt;dbl&gt; | Daylength &lt;int&gt; |\n",
       "|---|---|---|---|---|---|---|---|---|---|---|---|---|---|---|---|---|---|---|---|---|---|\n",
       "| 1 | 164597 | -9999 | 2251 | 45.4856 | -122.8555 | 63 | OR | 87 | Prunus | emarginata | ⋯ | 7.25 | 5.0 | 41.0 | 368 | 329 | 126 | 314 | 6 | 133 | 32486 |\n",
       "| 2 | 165211 | -9999 | 2251 | 45.4856 | -122.8555 | 63 | OR | 87 | Prunus | emarginata | ⋯ | 7.25 | 3.5 | 38.3 | 368 | 329 | 126 | 314 | 4 | 144 | 32832 |\n",
       "| 3 | 165201 | -9999 | 2251 | 45.4856 | -122.8555 | 63 | OR | 87 | Prunus | emarginata | ⋯ | 7.25 | 6.0 | 42.8 | 368 | 329 | 126 | 314 | 0 | 170 | 33869 |\n",
       "| 4 | 165960 | -9999 | 2251 | 45.4856 | -122.8555 | 63 | OR | 87 | Prunus | emarginata | ⋯ | 7.25 | 4.5 | 40.1 | 368 | 329 | 126 | 314 | 1 | 194 | 35251 |\n",
       "| 5 | 168209 | -9999 | 2251 | 45.4856 | -122.8555 | 63 | OR | 87 | Prunus | emarginata | ⋯ | 7.25 | 6.0 | 42.8 | 368 | 329 | 126 | 314 | 5 | 233 | 36634 |\n",
       "| 6 | 168861 | -9999 | 2251 | 45.4856 | -122.8555 | 63 | OR | 87 | Prunus | emarginata | ⋯ | 7.25 | 1.0 | 33.8 | 368 | 329 | 126 | 314 | 0 | 233 | 37325 |\n",
       "\n"
      ],
      "text/plain": [
       "  Observation_ID Update_Datetime Site_ID Latitude Longitude Elevation_in_Meters\n",
       "1 164597         -9999           2251    45.4856  -122.8555 63                 \n",
       "2 165211         -9999           2251    45.4856  -122.8555 63                 \n",
       "3 165201         -9999           2251    45.4856  -122.8555 63                 \n",
       "4 165960         -9999           2251    45.4856  -122.8555 63                 \n",
       "5 168209         -9999           2251    45.4856  -122.8555 63                 \n",
       "6 168861         -9999           2251    45.4856  -122.8555 63                 \n",
       "  State Species_ID Genus  Species    ⋯ Tmin_Fall Tmin Tmin_in_F Prcp_Winter\n",
       "1 OR    87         Prunus emarginata ⋯ 7.25      5.0  41.0      368        \n",
       "2 OR    87         Prunus emarginata ⋯ 7.25      3.5  38.3      368        \n",
       "3 OR    87         Prunus emarginata ⋯ 7.25      6.0  42.8      368        \n",
       "4 OR    87         Prunus emarginata ⋯ 7.25      4.5  40.1      368        \n",
       "5 OR    87         Prunus emarginata ⋯ 7.25      6.0  42.8      368        \n",
       "6 OR    87         Prunus emarginata ⋯ 7.25      1.0  33.8      368        \n",
       "  Prcp_Spring Prcp_Summer Prcp_Fall Prcp Accum_Prcp Daylength\n",
       "1 329         126         314       6    133        32486    \n",
       "2 329         126         314       4    144        32832    \n",
       "3 329         126         314       0    170        33869    \n",
       "4 329         126         314       1    194        35251    \n",
       "5 329         126         314       5    233        36634    \n",
       "6 329         126         314       0    233        37325    "
      ]
     },
     "metadata": {},
     "output_type": "display_data"
    }
   ],
   "source": [
    "usa_npn_stat_data <- read.csv(\"../data/USA-NPN_status_intensity_observations_data.csv\") \n",
    "head(usa_npn_stat_data)"
   ]
  },
  {
   "cell_type": "code",
   "execution_count": 13,
   "metadata": {
    "vscode": {
     "languageId": "r"
    }
   },
   "outputs": [
    {
     "data": {
      "text/html": [
       "<style>\n",
       ".list-inline {list-style: none; margin:0; padding: 0}\n",
       ".list-inline>li {display: inline-block}\n",
       ".list-inline>li:not(:last-child)::after {content: \"\\00b7\"; padding: 0 .5ex}\n",
       "</style>\n",
       "<ol class=list-inline><li>'Individual_ID'</li><li>'Latitude'</li><li>'Longitude'</li><li>'Elevation_in_Meters'</li><li>'State'</li><li>'Genus'</li><li>'Species'</li><li>'Common_Name'</li><li>'NumDays_Since_Prior_No'</li><li>'Phenophase_Description'</li><li>'First_Yes_Year'</li><li>'First_Yes_Month'</li><li>'First_Yes_Day'</li><li>'Last_Yes_Year'</li><li>'Last_Yes_Month'</li><li>'Last_Yes_Day'</li><li>'AGDD'</li></ol>\n"
      ],
      "text/latex": [
       "\\begin{enumerate*}\n",
       "\\item 'Individual\\_ID'\n",
       "\\item 'Latitude'\n",
       "\\item 'Longitude'\n",
       "\\item 'Elevation\\_in\\_Meters'\n",
       "\\item 'State'\n",
       "\\item 'Genus'\n",
       "\\item 'Species'\n",
       "\\item 'Common\\_Name'\n",
       "\\item 'NumDays\\_Since\\_Prior\\_No'\n",
       "\\item 'Phenophase\\_Description'\n",
       "\\item 'First\\_Yes\\_Year'\n",
       "\\item 'First\\_Yes\\_Month'\n",
       "\\item 'First\\_Yes\\_Day'\n",
       "\\item 'Last\\_Yes\\_Year'\n",
       "\\item 'Last\\_Yes\\_Month'\n",
       "\\item 'Last\\_Yes\\_Day'\n",
       "\\item 'AGDD'\n",
       "\\end{enumerate*}\n"
      ],
      "text/markdown": [
       "1. 'Individual_ID'\n",
       "2. 'Latitude'\n",
       "3. 'Longitude'\n",
       "4. 'Elevation_in_Meters'\n",
       "5. 'State'\n",
       "6. 'Genus'\n",
       "7. 'Species'\n",
       "8. 'Common_Name'\n",
       "9. 'NumDays_Since_Prior_No'\n",
       "10. 'Phenophase_Description'\n",
       "11. 'First_Yes_Year'\n",
       "12. 'First_Yes_Month'\n",
       "13. 'First_Yes_Day'\n",
       "14. 'Last_Yes_Year'\n",
       "15. 'Last_Yes_Month'\n",
       "16. 'Last_Yes_Day'\n",
       "17. 'AGDD'\n",
       "\n",
       "\n"
      ],
      "text/plain": [
       " [1] \"Individual_ID\"          \"Latitude\"               \"Longitude\"             \n",
       " [4] \"Elevation_in_Meters\"    \"State\"                  \"Genus\"                 \n",
       " [7] \"Species\"                \"Common_Name\"            \"NumDays_Since_Prior_No\"\n",
       "[10] \"Phenophase_Description\" \"First_Yes_Year\"         \"First_Yes_Month\"       \n",
       "[13] \"First_Yes_Day\"          \"Last_Yes_Year\"          \"Last_Yes_Month\"        \n",
       "[16] \"Last_Yes_Day\"           \"AGDD\"                  "
      ]
     },
     "metadata": {},
     "output_type": "display_data"
    }
   ],
   "source": [
    "colnames(usa_npn_ind_data)"
   ]
  },
  {
   "cell_type": "code",
   "execution_count": 14,
   "metadata": {
    "vscode": {
     "languageId": "r"
    }
   },
   "outputs": [
    {
     "data": {
      "text/html": [
       "<style>\n",
       ".list-inline {list-style: none; margin:0; padding: 0}\n",
       ".list-inline>li {display: inline-block}\n",
       ".list-inline>li:not(:last-child)::after {content: \"\\00b7\"; padding: 0 .5ex}\n",
       "</style>\n",
       "<ol class=list-inline><li>'Observation_ID'</li><li>'Update_Datetime'</li><li>'Site_ID'</li><li>'Latitude'</li><li>'Longitude'</li><li>'Elevation_in_Meters'</li><li>'State'</li><li>'Species_ID'</li><li>'Genus'</li><li>'Species'</li><li>'Common_Name'</li><li>'Kingdom'</li><li>'Individual_ID'</li><li>'Phenophase_ID'</li><li>'Phenophase_Description'</li><li>'Observation_Date'</li><li>'Day_of_Year'</li><li>'Phenophase_Status'</li><li>'Intensity_Category_ID'</li><li>'Intensity_Value'</li><li>'Abundance_Value'</li><li>'AGDD'</li><li>'AGDD_in_F'</li><li>'Tmax_Winter'</li><li>'Tmax_Spring'</li><li>'Tmax_Summer'</li><li>'Tmax_Fall'</li><li>'Tmax'</li><li>'Tmax_in_F'</li><li>'Tmin_Winter'</li><li>'Tmin_Spring'</li><li>'Tmin_Summer'</li><li>'Tmin_Fall'</li><li>'Tmin'</li><li>'Tmin_in_F'</li><li>'Prcp_Winter'</li><li>'Prcp_Spring'</li><li>'Prcp_Summer'</li><li>'Prcp_Fall'</li><li>'Prcp'</li><li>'Accum_Prcp'</li><li>'Daylength'</li></ol>\n"
      ],
      "text/latex": [
       "\\begin{enumerate*}\n",
       "\\item 'Observation\\_ID'\n",
       "\\item 'Update\\_Datetime'\n",
       "\\item 'Site\\_ID'\n",
       "\\item 'Latitude'\n",
       "\\item 'Longitude'\n",
       "\\item 'Elevation\\_in\\_Meters'\n",
       "\\item 'State'\n",
       "\\item 'Species\\_ID'\n",
       "\\item 'Genus'\n",
       "\\item 'Species'\n",
       "\\item 'Common\\_Name'\n",
       "\\item 'Kingdom'\n",
       "\\item 'Individual\\_ID'\n",
       "\\item 'Phenophase\\_ID'\n",
       "\\item 'Phenophase\\_Description'\n",
       "\\item 'Observation\\_Date'\n",
       "\\item 'Day\\_of\\_Year'\n",
       "\\item 'Phenophase\\_Status'\n",
       "\\item 'Intensity\\_Category\\_ID'\n",
       "\\item 'Intensity\\_Value'\n",
       "\\item 'Abundance\\_Value'\n",
       "\\item 'AGDD'\n",
       "\\item 'AGDD\\_in\\_F'\n",
       "\\item 'Tmax\\_Winter'\n",
       "\\item 'Tmax\\_Spring'\n",
       "\\item 'Tmax\\_Summer'\n",
       "\\item 'Tmax\\_Fall'\n",
       "\\item 'Tmax'\n",
       "\\item 'Tmax\\_in\\_F'\n",
       "\\item 'Tmin\\_Winter'\n",
       "\\item 'Tmin\\_Spring'\n",
       "\\item 'Tmin\\_Summer'\n",
       "\\item 'Tmin\\_Fall'\n",
       "\\item 'Tmin'\n",
       "\\item 'Tmin\\_in\\_F'\n",
       "\\item 'Prcp\\_Winter'\n",
       "\\item 'Prcp\\_Spring'\n",
       "\\item 'Prcp\\_Summer'\n",
       "\\item 'Prcp\\_Fall'\n",
       "\\item 'Prcp'\n",
       "\\item 'Accum\\_Prcp'\n",
       "\\item 'Daylength'\n",
       "\\end{enumerate*}\n"
      ],
      "text/markdown": [
       "1. 'Observation_ID'\n",
       "2. 'Update_Datetime'\n",
       "3. 'Site_ID'\n",
       "4. 'Latitude'\n",
       "5. 'Longitude'\n",
       "6. 'Elevation_in_Meters'\n",
       "7. 'State'\n",
       "8. 'Species_ID'\n",
       "9. 'Genus'\n",
       "10. 'Species'\n",
       "11. 'Common_Name'\n",
       "12. 'Kingdom'\n",
       "13. 'Individual_ID'\n",
       "14. 'Phenophase_ID'\n",
       "15. 'Phenophase_Description'\n",
       "16. 'Observation_Date'\n",
       "17. 'Day_of_Year'\n",
       "18. 'Phenophase_Status'\n",
       "19. 'Intensity_Category_ID'\n",
       "20. 'Intensity_Value'\n",
       "21. 'Abundance_Value'\n",
       "22. 'AGDD'\n",
       "23. 'AGDD_in_F'\n",
       "24. 'Tmax_Winter'\n",
       "25. 'Tmax_Spring'\n",
       "26. 'Tmax_Summer'\n",
       "27. 'Tmax_Fall'\n",
       "28. 'Tmax'\n",
       "29. 'Tmax_in_F'\n",
       "30. 'Tmin_Winter'\n",
       "31. 'Tmin_Spring'\n",
       "32. 'Tmin_Summer'\n",
       "33. 'Tmin_Fall'\n",
       "34. 'Tmin'\n",
       "35. 'Tmin_in_F'\n",
       "36. 'Prcp_Winter'\n",
       "37. 'Prcp_Spring'\n",
       "38. 'Prcp_Summer'\n",
       "39. 'Prcp_Fall'\n",
       "40. 'Prcp'\n",
       "41. 'Accum_Prcp'\n",
       "42. 'Daylength'\n",
       "\n",
       "\n"
      ],
      "text/plain": [
       " [1] \"Observation_ID\"         \"Update_Datetime\"        \"Site_ID\"               \n",
       " [4] \"Latitude\"               \"Longitude\"              \"Elevation_in_Meters\"   \n",
       " [7] \"State\"                  \"Species_ID\"             \"Genus\"                 \n",
       "[10] \"Species\"                \"Common_Name\"            \"Kingdom\"               \n",
       "[13] \"Individual_ID\"          \"Phenophase_ID\"          \"Phenophase_Description\"\n",
       "[16] \"Observation_Date\"       \"Day_of_Year\"            \"Phenophase_Status\"     \n",
       "[19] \"Intensity_Category_ID\"  \"Intensity_Value\"        \"Abundance_Value\"       \n",
       "[22] \"AGDD\"                   \"AGDD_in_F\"              \"Tmax_Winter\"           \n",
       "[25] \"Tmax_Spring\"            \"Tmax_Summer\"            \"Tmax_Fall\"             \n",
       "[28] \"Tmax\"                   \"Tmax_in_F\"              \"Tmin_Winter\"           \n",
       "[31] \"Tmin_Spring\"            \"Tmin_Summer\"            \"Tmin_Fall\"             \n",
       "[34] \"Tmin\"                   \"Tmin_in_F\"              \"Prcp_Winter\"           \n",
       "[37] \"Prcp_Spring\"            \"Prcp_Summer\"            \"Prcp_Fall\"             \n",
       "[40] \"Prcp\"                   \"Accum_Prcp\"             \"Daylength\"             "
      ]
     },
     "metadata": {},
     "output_type": "display_data"
    }
   ],
   "source": [
    "colnames(usa_npn_stat_data)"
   ]
  },
  {
   "cell_type": "code",
   "execution_count": 19,
   "metadata": {
    "vscode": {
     "languageId": "r"
    }
   },
   "outputs": [
    {
     "data": {
      "text/html": [
       "<style>\n",
       ".list-inline {list-style: none; margin:0; padding: 0}\n",
       ".list-inline>li {display: inline-block}\n",
       ".list-inline>li:not(:last-child)::after {content: \"\\00b7\"; padding: 0 .5ex}\n",
       "</style>\n",
       "<ol class=list-inline><li>'OR'</li><li>'OH'</li><li>'WA'</li><li>'CO'</li><li>'CA'</li><li>'AB'</li><li>'TN'</li><li>'VA'</li><li>'NC'</li><li>'MA'</li><li>'PA'</li><li>'NY'</li><li>'MO'</li><li>'DC'</li><li>'NJ'</li><li>'Okinawa'</li><li>'KY'</li><li>'MD'</li><li>'Liaoning Sheng'</li><li>'Hyogo'</li><li>'RI'</li><li>'IN'</li><li>'UT'</li><li>'Chongqing Shi'</li><li>'MN'</li><li>'ON'</li><li>'BC'</li><li>'IL'</li><li>'VT'</li></ol>\n"
      ],
      "text/latex": [
       "\\begin{enumerate*}\n",
       "\\item 'OR'\n",
       "\\item 'OH'\n",
       "\\item 'WA'\n",
       "\\item 'CO'\n",
       "\\item 'CA'\n",
       "\\item 'AB'\n",
       "\\item 'TN'\n",
       "\\item 'VA'\n",
       "\\item 'NC'\n",
       "\\item 'MA'\n",
       "\\item 'PA'\n",
       "\\item 'NY'\n",
       "\\item 'MO'\n",
       "\\item 'DC'\n",
       "\\item 'NJ'\n",
       "\\item 'Okinawa'\n",
       "\\item 'KY'\n",
       "\\item 'MD'\n",
       "\\item 'Liaoning Sheng'\n",
       "\\item 'Hyogo'\n",
       "\\item 'RI'\n",
       "\\item 'IN'\n",
       "\\item 'UT'\n",
       "\\item 'Chongqing Shi'\n",
       "\\item 'MN'\n",
       "\\item 'ON'\n",
       "\\item 'BC'\n",
       "\\item 'IL'\n",
       "\\item 'VT'\n",
       "\\end{enumerate*}\n"
      ],
      "text/markdown": [
       "1. 'OR'\n",
       "2. 'OH'\n",
       "3. 'WA'\n",
       "4. 'CO'\n",
       "5. 'CA'\n",
       "6. 'AB'\n",
       "7. 'TN'\n",
       "8. 'VA'\n",
       "9. 'NC'\n",
       "10. 'MA'\n",
       "11. 'PA'\n",
       "12. 'NY'\n",
       "13. 'MO'\n",
       "14. 'DC'\n",
       "15. 'NJ'\n",
       "16. 'Okinawa'\n",
       "17. 'KY'\n",
       "18. 'MD'\n",
       "19. 'Liaoning Sheng'\n",
       "20. 'Hyogo'\n",
       "21. 'RI'\n",
       "22. 'IN'\n",
       "23. 'UT'\n",
       "24. 'Chongqing Shi'\n",
       "25. 'MN'\n",
       "26. 'ON'\n",
       "27. 'BC'\n",
       "28. 'IL'\n",
       "29. 'VT'\n",
       "\n",
       "\n"
      ],
      "text/plain": [
       " [1] \"OR\"             \"OH\"             \"WA\"             \"CO\"            \n",
       " [5] \"CA\"             \"AB\"             \"TN\"             \"VA\"            \n",
       " [9] \"NC\"             \"MA\"             \"PA\"             \"NY\"            \n",
       "[13] \"MO\"             \"DC\"             \"NJ\"             \"Okinawa\"       \n",
       "[17] \"KY\"             \"MD\"             \"Liaoning Sheng\" \"Hyogo\"         \n",
       "[21] \"RI\"             \"IN\"             \"UT\"             \"Chongqing Shi\" \n",
       "[25] \"MN\"             \"ON\"             \"BC\"             \"IL\"            \n",
       "[29] \"VT\"            "
      ]
     },
     "metadata": {},
     "output_type": "display_data"
    },
    {
     "data": {
      "text/html": [
       "<style>\n",
       ".list-inline {list-style: none; margin:0; padding: 0}\n",
       ".list-inline>li {display: inline-block}\n",
       ".list-inline>li:not(:last-child)::after {content: \"\\00b7\"; padding: 0 .5ex}\n",
       "</style>\n",
       "<ol class=list-inline><li>256</li><li>42</li></ol>\n"
      ],
      "text/latex": [
       "\\begin{enumerate*}\n",
       "\\item 256\n",
       "\\item 42\n",
       "\\end{enumerate*}\n"
      ],
      "text/markdown": [
       "1. 256\n",
       "2. 42\n",
       "\n",
       "\n"
      ],
      "text/plain": [
       "[1] 256  42"
      ]
     },
     "metadata": {},
     "output_type": "display_data"
    }
   ],
   "source": [
    "unique(usa_npn_stat_data$State)\n",
    "idx <- usa_npn_stat_data$State == \"Hyogo\"\n",
    "dc_npn <- usa_npn_stat_data %>%\n",
    "    filter(State == \"DC\")\n",
    "dim(dc_npn)"
   ]
  },
  {
   "cell_type": "code",
   "execution_count": 44,
   "metadata": {
    "vscode": {
     "languageId": "r"
    }
   },
   "outputs": [
    {
     "data": {
      "text/html": [
       "<style>\n",
       ".list-inline {list-style: none; margin:0; padding: 0}\n",
       ".list-inline>li {display: inline-block}\n",
       ".list-inline>li:not(:last-child)::after {content: \"\\00b7\"; padding: 0 .5ex}\n",
       "</style>\n",
       "<ol class=list-inline><li>'washingtondc'</li><li>'liestal'</li><li>'kyoto'</li></ol>\n"
      ],
      "text/latex": [
       "\\begin{enumerate*}\n",
       "\\item 'washingtondc'\n",
       "\\item 'liestal'\n",
       "\\item 'kyoto'\n",
       "\\end{enumerate*}\n"
      ],
      "text/markdown": [
       "1. 'washingtondc'\n",
       "2. 'liestal'\n",
       "3. 'kyoto'\n",
       "\n",
       "\n"
      ],
      "text/plain": [
       "[1] \"washingtondc\" \"liestal\"      \"kyoto\"       "
      ]
     },
     "metadata": {},
     "output_type": "display_data"
    }
   ],
   "source": [
    "unique(cherry$location)"
   ]
  },
  {
   "cell_type": "code",
   "execution_count": 46,
   "metadata": {
    "vscode": {
     "languageId": "r"
    }
   },
   "outputs": [
    {
     "data": {
      "image/png": "[encoded data removed]",
      "text/plain": [
       "plot without title"
      ]
     },
     "metadata": {
      "image/png": {
       "height": 420,
       "width": 420
      }
     },
     "output_type": "display_data"
    }
   ],
   "source": [
    "cherry %>% \n",
    "  filter(year >= 1880) %>%\n",
    "  ggplot(aes(x = year, y = bloom_doy)) +\n",
    "  geom_point() +\n",
    "  geom_step(linetype = 'dotted', color = 'gray50') +\n",
    "  scale_x_continuous(breaks = seq(1880, 2020, by = 20)) +\n",
    "  facet_grid(cols = vars(str_to_title(location))) +\n",
    "  labs(x = \"Year\", y = \"Peak bloom (days since Jan 1st)\")"
   ]
  },
  {
   "cell_type": "code",
   "execution_count": null,
   "metadata": {
    "vscode": {
     "languageId": "r"
    }
   },
   "outputs": [],
   "source": [
    "# Follow steps from \n",
    "# - Cesaraccio et al. 2004\n",
    "# - Jung et al. 2005\n",
    "\n",
    "# Obtain temperature data and compute:\n",
    "# {Chill days (C_d), Anti-chill days(C_a)}\n",
    "\n"
   ]
  }
 ],
 "metadata": {
  "kernelspec": {
   "display_name": "R 4.1",
   "language": "R",
   "name": "ir41"
  },
  "language_info": {
   "codemirror_mode": "r",
   "file_extension": ".r",
   "mimetype": "text/x-r-source",
   "name": "R",
   "pygments_lexer": "r",
   "version": "4.1.2"
  },
  "orig_nbformat": 4,
  "vscode": {
   "interpreter": {
    "hash": "7ebba22d4926039ff239339cf567af8b303e0a244d82717597cfd7af2af74d26"
   }
  }
 },
 "nbformat": 4,
 "nbformat_minor": 2
}
