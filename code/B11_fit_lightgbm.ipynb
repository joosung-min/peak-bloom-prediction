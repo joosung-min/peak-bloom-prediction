{
 "cells": [
  {
   "attachments": {},
   "cell_type": "markdown",
   "metadata": {},
   "source": [
    "Here, we fit lightgbm"
   ]
  },
  {
   "cell_type": "code",
   "execution_count": 1,
   "metadata": {
    "vscode": {
     "languageId": "r"
    }
   },
   "outputs": [
    {
     "name": "stderr",
     "output_type": "stream",
     "text": [
      "── \u001b[1mAttaching packages\u001b[22m ─────────────────────────────────────── tidyverse 1.3.2 ──\n",
      "\u001b[32m✔\u001b[39m \u001b[34mggplot2\u001b[39m 3.3.6      \u001b[32m✔\u001b[39m \u001b[34mpurrr  \u001b[39m 0.3.4 \n",
      "\u001b[32m✔\u001b[39m \u001b[34mtibble \u001b[39m 3.1.8      \u001b[32m✔\u001b[39m \u001b[34mdplyr  \u001b[39m 1.0.10\n",
      "\u001b[32m✔\u001b[39m \u001b[34mtidyr  \u001b[39m 1.2.1      \u001b[32m✔\u001b[39m \u001b[34mstringr\u001b[39m 1.4.1 \n",
      "\u001b[32m✔\u001b[39m \u001b[34mreadr  \u001b[39m 2.1.2      \u001b[32m✔\u001b[39m \u001b[34mforcats\u001b[39m 0.5.2 \n",
      "── \u001b[1mConflicts\u001b[22m ────────────────────────────────────────── tidyverse_conflicts() ──\n",
      "\u001b[31m✖\u001b[39m \u001b[34mdplyr\u001b[39m::\u001b[32mfilter()\u001b[39m masks \u001b[34mstats\u001b[39m::filter()\n",
      "\u001b[31m✖\u001b[39m \u001b[34mdplyr\u001b[39m::\u001b[32mlag()\u001b[39m    masks \u001b[34mstats\u001b[39m::lag()\n",
      "Loading required package: R6\n",
      "\n",
      "\n",
      "Attaching package: ‘lightgbm’\n",
      "\n",
      "\n",
      "The following object is masked from ‘package:dplyr’:\n",
      "\n",
      "    slice\n",
      "\n",
      "\n"
     ]
    },
    {
     "data": {
      "text/html": [
       "<table class=\"dataframe\">\n",
       "<caption>A data.frame: 6 × 20</caption>\n",
       "<thead>\n",
       "\t<tr><th></th><th scope=col>name</th><th scope=col>date</th><th scope=col>id</th><th scope=col>tmax</th><th scope=col>tmin</th><th scope=col>prcp</th><th scope=col>year</th><th scope=col>month</th><th scope=col>day</th><th scope=col>row_num</th><th scope=col>id_rownum</th><th scope=col>daily_Cd</th><th scope=col>daily_Ca</th><th scope=col>Cd_cumsum</th><th scope=col>Ca_cumsum</th><th scope=col>lat</th><th scope=col>long</th><th scope=col>alt</th><th scope=col>bloom_doy</th><th scope=col>is_bloom</th></tr>\n",
       "\t<tr><th></th><th scope=col>&lt;chr&gt;</th><th scope=col>&lt;chr&gt;</th><th scope=col>&lt;chr&gt;</th><th scope=col>&lt;dbl&gt;</th><th scope=col>&lt;dbl&gt;</th><th scope=col>&lt;dbl&gt;</th><th scope=col>&lt;int&gt;</th><th scope=col>&lt;int&gt;</th><th scope=col>&lt;int&gt;</th><th scope=col>&lt;int&gt;</th><th scope=col>&lt;chr&gt;</th><th scope=col>&lt;dbl&gt;</th><th scope=col>&lt;dbl&gt;</th><th scope=col>&lt;dbl&gt;</th><th scope=col>&lt;dbl&gt;</th><th scope=col>&lt;dbl&gt;</th><th scope=col>&lt;dbl&gt;</th><th scope=col>&lt;dbl&gt;</th><th scope=col>&lt;int&gt;</th><th scope=col>&lt;int&gt;</th></tr>\n",
       "</thead>\n",
       "<tbody>\n",
       "\t<tr><th scope=row>1</th><td>HAMADA</td><td>1951-03-01</td><td>JA000047755</td><td>11.3</td><td> 5.4</td><td>16.3</td><td>1951</td><td>3</td><td>1</td><td>60</td><td>JA000047755-60</td><td>-0.800000</td><td>2.15</td><td>-113.3216</td><td>45.20</td><td>34.89667</td><td>132.0706</td><td>19</td><td>NA</td><td>0</td></tr>\n",
       "\t<tr><th scope=row>2</th><td>HAMADA</td><td>1951-03-02</td><td>JA000047755</td><td> 5.5</td><td>-0.3</td><td> 0.5</td><td>1951</td><td>3</td><td>2</td><td>61</td><td>JA000047755-61</td><td>-2.607759</td><td>0.00</td><td>-115.9293</td><td>45.20</td><td>34.89667</td><td>132.0706</td><td>19</td><td>NA</td><td>0</td></tr>\n",
       "\t<tr><th scope=row>3</th><td>HAMADA</td><td>1951-03-03</td><td>JA000047755</td><td> 1.8</td><td>-2.3</td><td> 1.3</td><td>1951</td><td>3</td><td>3</td><td>62</td><td>JA000047755-62</td><td>-0.395122</td><td>0.00</td><td>-116.3244</td><td>45.20</td><td>34.89667</td><td>132.0706</td><td>19</td><td>NA</td><td>0</td></tr>\n",
       "\t<tr><th scope=row>4</th><td>HAMADA</td><td>1951-03-04</td><td>JA000047755</td><td> 5.5</td><td> 0.6</td><td> 0.4</td><td>1951</td><td>3</td><td>4</td><td>63</td><td>JA000047755-63</td><td>-2.450000</td><td>0.00</td><td>-118.7744</td><td>45.20</td><td>34.89667</td><td>132.0706</td><td>19</td><td>NA</td><td>0</td></tr>\n",
       "\t<tr><th scope=row>5</th><td>HAMADA</td><td>1951-03-05</td><td>JA000047755</td><td>10.9</td><td> 1.1</td><td> 0.0</td><td>1951</td><td>3</td><td>5</td><td>64</td><td>JA000047755-64</td><td>-2.950000</td><td>1.95</td><td>-121.7244</td><td>47.15</td><td>34.89667</td><td>132.0706</td><td>19</td><td>NA</td><td>0</td></tr>\n",
       "\t<tr><th scope=row>6</th><td>HAMADA</td><td>1951-03-06</td><td>JA000047755</td><td>18.0</td><td> 5.5</td><td>28.8</td><td>1951</td><td>3</td><td>6</td><td>65</td><td>JA000047755-65</td><td>-0.750000</td><td>5.50</td><td>-122.4744</td><td>52.65</td><td>34.89667</td><td>132.0706</td><td>19</td><td>NA</td><td>0</td></tr>\n",
       "</tbody>\n",
       "</table>\n"
      ],
      "text/latex": [
       "A data.frame: 6 × 20\n",
       "\\begin{tabular}{r|llllllllllllllllllll}\n",
       "  & name & date & id & tmax & tmin & prcp & year & month & day & row\\_num & id\\_rownum & daily\\_Cd & daily\\_Ca & Cd\\_cumsum & Ca\\_cumsum & lat & long & alt & bloom\\_doy & is\\_bloom\\\\\n",
       "  & <chr> & <chr> & <chr> & <dbl> & <dbl> & <dbl> & <int> & <int> & <int> & <int> & <chr> & <dbl> & <dbl> & <dbl> & <dbl> & <dbl> & <dbl> & <dbl> & <int> & <int>\\\\\n",
       "\\hline\n",
       "\t1 & HAMADA & 1951-03-01 & JA000047755 & 11.3 &  5.4 & 16.3 & 1951 & 3 & 1 & 60 & JA000047755-60 & -0.800000 & 2.15 & -113.3216 & 45.20 & 34.89667 & 132.0706 & 19 & NA & 0\\\\\n",
       "\t2 & HAMADA & 1951-03-02 & JA000047755 &  5.5 & -0.3 &  0.5 & 1951 & 3 & 2 & 61 & JA000047755-61 & -2.607759 & 0.00 & -115.9293 & 45.20 & 34.89667 & 132.0706 & 19 & NA & 0\\\\\n",
       "\t3 & HAMADA & 1951-03-03 & JA000047755 &  1.8 & -2.3 &  1.3 & 1951 & 3 & 3 & 62 & JA000047755-62 & -0.395122 & 0.00 & -116.3244 & 45.20 & 34.89667 & 132.0706 & 19 & NA & 0\\\\\n",
       "\t4 & HAMADA & 1951-03-04 & JA000047755 &  5.5 &  0.6 &  0.4 & 1951 & 3 & 4 & 63 & JA000047755-63 & -2.450000 & 0.00 & -118.7744 & 45.20 & 34.89667 & 132.0706 & 19 & NA & 0\\\\\n",
       "\t5 & HAMADA & 1951-03-05 & JA000047755 & 10.9 &  1.1 &  0.0 & 1951 & 3 & 5 & 64 & JA000047755-64 & -2.950000 & 1.95 & -121.7244 & 47.15 & 34.89667 & 132.0706 & 19 & NA & 0\\\\\n",
       "\t6 & HAMADA & 1951-03-06 & JA000047755 & 18.0 &  5.5 & 28.8 & 1951 & 3 & 6 & 65 & JA000047755-65 & -0.750000 & 5.50 & -122.4744 & 52.65 & 34.89667 & 132.0706 & 19 & NA & 0\\\\\n",
       "\\end{tabular}\n"
      ],
      "text/markdown": [
       "\n",
       "A data.frame: 6 × 20\n",
       "\n",
       "| <!--/--> | name &lt;chr&gt; | date &lt;chr&gt; | id &lt;chr&gt; | tmax &lt;dbl&gt; | tmin &lt;dbl&gt; | prcp &lt;dbl&gt; | year &lt;int&gt; | month &lt;int&gt; | day &lt;int&gt; | row_num &lt;int&gt; | id_rownum &lt;chr&gt; | daily_Cd &lt;dbl&gt; | daily_Ca &lt;dbl&gt; | Cd_cumsum &lt;dbl&gt; | Ca_cumsum &lt;dbl&gt; | lat &lt;dbl&gt; | long &lt;dbl&gt; | alt &lt;dbl&gt; | bloom_doy &lt;int&gt; | is_bloom &lt;int&gt; |\n",
       "|---|---|---|---|---|---|---|---|---|---|---|---|---|---|---|---|---|---|---|---|---|\n",
       "| 1 | HAMADA | 1951-03-01 | JA000047755 | 11.3 |  5.4 | 16.3 | 1951 | 3 | 1 | 60 | JA000047755-60 | -0.800000 | 2.15 | -113.3216 | 45.20 | 34.89667 | 132.0706 | 19 | NA | 0 |\n",
       "| 2 | HAMADA | 1951-03-02 | JA000047755 |  5.5 | -0.3 |  0.5 | 1951 | 3 | 2 | 61 | JA000047755-61 | -2.607759 | 0.00 | -115.9293 | 45.20 | 34.89667 | 132.0706 | 19 | NA | 0 |\n",
       "| 3 | HAMADA | 1951-03-03 | JA000047755 |  1.8 | -2.3 |  1.3 | 1951 | 3 | 3 | 62 | JA000047755-62 | -0.395122 | 0.00 | -116.3244 | 45.20 | 34.89667 | 132.0706 | 19 | NA | 0 |\n",
       "| 4 | HAMADA | 1951-03-04 | JA000047755 |  5.5 |  0.6 |  0.4 | 1951 | 3 | 4 | 63 | JA000047755-63 | -2.450000 | 0.00 | -118.7744 | 45.20 | 34.89667 | 132.0706 | 19 | NA | 0 |\n",
       "| 5 | HAMADA | 1951-03-05 | JA000047755 | 10.9 |  1.1 |  0.0 | 1951 | 3 | 5 | 64 | JA000047755-64 | -2.950000 | 1.95 | -121.7244 | 47.15 | 34.89667 | 132.0706 | 19 | NA | 0 |\n",
       "| 6 | HAMADA | 1951-03-06 | JA000047755 | 18.0 |  5.5 | 28.8 | 1951 | 3 | 6 | 65 | JA000047755-65 | -0.750000 | 5.50 | -122.4744 | 52.65 | 34.89667 | 132.0706 | 19 | NA | 0 |\n",
       "\n"
      ],
      "text/plain": [
       "  name   date       id          tmax tmin prcp year month day row_num\n",
       "1 HAMADA 1951-03-01 JA000047755 11.3  5.4 16.3 1951 3     1   60     \n",
       "2 HAMADA 1951-03-02 JA000047755  5.5 -0.3  0.5 1951 3     2   61     \n",
       "3 HAMADA 1951-03-03 JA000047755  1.8 -2.3  1.3 1951 3     3   62     \n",
       "4 HAMADA 1951-03-04 JA000047755  5.5  0.6  0.4 1951 3     4   63     \n",
       "5 HAMADA 1951-03-05 JA000047755 10.9  1.1  0.0 1951 3     5   64     \n",
       "6 HAMADA 1951-03-06 JA000047755 18.0  5.5 28.8 1951 3     6   65     \n",
       "  id_rownum      daily_Cd  daily_Ca Cd_cumsum Ca_cumsum lat      long     alt\n",
       "1 JA000047755-60 -0.800000 2.15     -113.3216 45.20     34.89667 132.0706 19 \n",
       "2 JA000047755-61 -2.607759 0.00     -115.9293 45.20     34.89667 132.0706 19 \n",
       "3 JA000047755-62 -0.395122 0.00     -116.3244 45.20     34.89667 132.0706 19 \n",
       "4 JA000047755-63 -2.450000 0.00     -118.7744 45.20     34.89667 132.0706 19 \n",
       "5 JA000047755-64 -2.950000 1.95     -121.7244 47.15     34.89667 132.0706 19 \n",
       "6 JA000047755-65 -0.750000 5.50     -122.4744 52.65     34.89667 132.0706 19 \n",
       "  bloom_doy is_bloom\n",
       "1 NA        0       \n",
       "2 NA        0       \n",
       "3 NA        0       \n",
       "4 NA        0       \n",
       "5 NA        0       \n",
       "6 NA        0       "
      ]
     },
     "metadata": {},
     "output_type": "display_data"
    },
    {
     "data": {
      "text/html": [
       "<style>\n",
       ".list-inline {list-style: none; margin:0; padding: 0}\n",
       ".list-inline>li {display: inline-block}\n",
       ".list-inline>li:not(:last-child)::after {content: \"\\00b7\"; padding: 0 .5ex}\n",
       "</style>\n",
       "<ol class=list-inline><li>44918</li><li>20</li></ol>\n"
      ],
      "text/latex": [
       "\\begin{enumerate*}\n",
       "\\item 44918\n",
       "\\item 20\n",
       "\\end{enumerate*}\n"
      ],
      "text/markdown": [
       "1. 44918\n",
       "2. 20\n",
       "\n",
       "\n"
      ],
      "text/plain": [
       "[1] 44918    20"
      ]
     },
     "metadata": {},
     "output_type": "display_data"
    }
   ],
   "source": [
    "library(tidyverse)\n",
    "library(lightgbm)\n",
    "\n",
    "# load gdd data\n",
    "gdd_data <- read.csv(\"../outputs/A_outputs/A41_gdd_kyoto.csv\")\n",
    "\n",
    "head(gdd_data)\n",
    "dim(gdd_data)"
   ]
  },
  {
   "cell_type": "code",
   "execution_count": 2,
   "metadata": {
    "vscode": {
     "languageId": "r"
    }
   },
   "outputs": [
    {
     "data": {
      "text/html": [
       "292"
      ],
      "text/latex": [
       "292"
      ],
      "text/markdown": [
       "292"
      ],
      "text/plain": [
       "[1] 292"
      ]
     },
     "metadata": {},
     "output_type": "display_data"
    }
   ],
   "source": [
    "nrow(gdd_data[gdd_data$is_bloom == 1, ])"
   ]
  },
  {
   "cell_type": "code",
   "execution_count": 5,
   "metadata": {
    "vscode": {
     "languageId": "r"
    }
   },
   "outputs": [
    {
     "data": {
      "text/html": [
       "<style>\n",
       ".list-inline {list-style: none; margin:0; padding: 0}\n",
       ".list-inline>li {display: inline-block}\n",
       ".list-inline>li:not(:last-child)::after {content: \"\\00b7\"; padding: 0 .5ex}\n",
       "</style>\n",
       "<ol class=list-inline><li>730</li><li>14</li></ol>\n"
      ],
      "text/latex": [
       "\\begin{enumerate*}\n",
       "\\item 730\n",
       "\\item 14\n",
       "\\end{enumerate*}\n"
      ],
      "text/markdown": [
       "1. 730\n",
       "2. 14\n",
       "\n",
       "\n"
      ],
      "text/plain": [
       "[1] 730  14"
      ]
     },
     "metadata": {},
     "output_type": "display_data"
    },
    {
     "data": {
      "text/plain": [
       "\n",
       "  0   1 \n",
       "438 292 "
      ]
     },
     "metadata": {},
     "output_type": "display_data"
    }
   ],
   "source": [
    "# number of samples with is_bloom == 1\n",
    "# table(gdd_data$is_bloom)\n",
    "\n",
    "# The data is highly unbalanced. Therefore, we try to balance it by randomly sampling rows with is_bloom == 0 to match the size to the is_bloom == 1.\n",
    "is_bloom_df <- gdd_data[gdd_data$is_bloom == 1, ]\n",
    "no_bloom_df <- gdd_data[gdd_data$is_bloom == 0, ]\n",
    "\n",
    "set.seed(42)\n",
    "idx <- sample(1:nrow(no_bloom_df), size = ceiling(1.5 * nrow(is_bloom_df)), replace = FALSE)\n",
    "no_bloom_sample <- no_bloom_df[idx, ]\n",
    "\n",
    "new_bloom_df <- rbind(is_bloom_df, no_bloom_sample)\n",
    "shuffle_new <- new_bloom_df[sample(1:nrow(new_bloom_df), size = nrow(new_bloom_df), replace = FALSE), ] %>%\n",
    "    'rownames<-'(NULL) %>%\n",
    "    dplyr::select(year, tmax, tmin, prcp, month, day, daily_Cd, daily_Ca, Cd_cumsum, Ca_cumsum, lat, long, alt, is_bloom)\n",
    "\n",
    "# head(shuffle_new)\n",
    "dim(shuffle_new)\n",
    "table(shuffle_new$is_bloom)"
   ]
  },
  {
   "cell_type": "code",
   "execution_count": 6,
   "metadata": {
    "vscode": {
     "languageId": "r"
    }
   },
   "outputs": [
    {
     "data": {
      "text/html": [
       "<style>\n",
       ".list-inline {list-style: none; margin:0; padding: 0}\n",
       ".list-inline>li {display: inline-block}\n",
       ".list-inline>li:not(:last-child)::after {content: \"\\00b7\"; padding: 0 .5ex}\n",
       "</style>\n",
       "<ol class=list-inline><li>90</li><li>13</li></ol>\n"
      ],
      "text/latex": [
       "\\begin{enumerate*}\n",
       "\\item 90\n",
       "\\item 13\n",
       "\\end{enumerate*}\n"
      ],
      "text/markdown": [
       "1. 90\n",
       "2. 13\n",
       "\n",
       "\n"
      ],
      "text/plain": [
       "[1] 90 13"
      ]
     },
     "metadata": {},
     "output_type": "display_data"
    },
    {
     "data": {
      "text/html": [
       "<style>\n",
       ".list-inline {list-style: none; margin:0; padding: 0}\n",
       ".list-inline>li {display: inline-block}\n",
       ".list-inline>li:not(:last-child)::after {content: \"\\00b7\"; padding: 0 .5ex}\n",
       "</style>\n",
       "<ol class=list-inline><li>640</li><li>13</li></ol>\n"
      ],
      "text/latex": [
       "\\begin{enumerate*}\n",
       "\\item 640\n",
       "\\item 13\n",
       "\\end{enumerate*}\n"
      ],
      "text/markdown": [
       "1. 640\n",
       "2. 13\n",
       "\n",
       "\n"
      ],
      "text/plain": [
       "[1] 640  13"
      ]
     },
     "metadata": {},
     "output_type": "display_data"
    }
   ],
   "source": [
    "# split a test set\n",
    "test_set <- shuffle_new %>% filter(year %in% 2012:2023) %>% dplyr::select(-year) \n",
    "dim(test_set)\n",
    "train_val_set <- shuffle_new %>% filter(year < 2012) %>% dplyr::select(-year)\n",
    "dim(train_val_set)\n",
    "\n",
    "write.csv(train_val_set, \"../outputs/B_outputs/B11_japan_train_val.csv\", row.names = FALSE, quote = FALSE)\n",
    "write.csv(test_set, \"../outputs/B_outputs/B11_japan_test.csv\", row.names = FALSE, quote = FALSE)"
   ]
  },
  {
   "cell_type": "code",
   "execution_count": 9,
   "metadata": {
    "vscode": {
     "languageId": "r"
    }
   },
   "outputs": [
    {
     "name": "stderr",
     "output_type": "stream",
     "text": [
      "\n",
      "Attaching package: ‘Matrix’\n",
      "\n",
      "\n",
      "The following objects are masked from ‘package:tidyr’:\n",
      "\n",
      "    expand, pack, unpack\n",
      "\n",
      "\n"
     ]
    }
   ],
   "source": [
    "# Fit lightgbm\n",
    "\n",
    "# 1. split dataset into train and test set.\n",
    "# - Here, we leave out the last 10 years data (2013-2022) as our test set.\n",
    "# - We're using 5-fold cross-validation. Therefore, split the groups into 5.\n",
    "# - First, split the response variable data for a semi-stratified sampling.\n",
    "\n",
    "# library(tidyverse)\n",
    "# library(lightgbm)\n",
    "\n",
    "# train_val_set <- read.csv(\"../outputs/B_outputs/B11_japan_train_val.csv\")\n",
    "\n",
    "# lgb_df <- train_val_set\n",
    "\n",
    "# set.seed(1)\n",
    "# gdd_bloom <- lgb_df[lgb_df$is_bloom == 1, ]\n",
    "# cv_group_bloom <- sample(1:5, size = nrow(gdd_bloom), replace = TRUE)\n",
    "# gdd_bloom$cv_group <- cv_group_bloom\n",
    "\n",
    "# gdd_nobloom <- lgb_df[lgb_df$is_bloom == 0, ]\n",
    "# cv_group_nobloom <- sample(1:5, size = nrow(gdd_nobloom), replace = TRUE)\n",
    "# gdd_nobloom$cv_group <- cv_group_nobloom\n",
    "\n",
    "# lgb_df2 <- rbind(gdd_bloom, gdd_nobloom)\n",
    "\n",
    "# # - train, test split\n",
    "# gdd_train <- lgb_df2[lgb_df2$cv_group != 1, ] %>% dplyr::select(-cv_group)\n",
    "# gdd_val <- lgb_df2[lgb_df2$cv_group == 1, ] %>% dplyr::select(-cv_group)\n",
    "\n",
    "# # - split X and y\n",
    "# library(Matrix)\n",
    "# # gdd_train_X <- gdd_train %>% dplyr::select(-is_bloom)\n",
    "# gdd_train_X <- sparse.model.matrix(is_bloom ~., data = gdd_train)\n",
    "# gdd_train_y <- gdd_train[, \"is_bloom\"]\n",
    "\n",
    "# # gdd_val_X <- gdd_val %>% dplyr::select(-is_bloom)\n",
    "# gdd_val_X <- sparse.model.matrix(is_bloom ~., data = gdd_val)\n",
    "# gdd_val_y <- gdd_val[, \"is_bloom\"]\n",
    "\n",
    "# # 2. Create lgb.Dataset objects\n",
    "# dtrain <- lgb.Dataset(data = as.matrix(gdd_train_X), label = gdd_train_y)\n",
    "# dval <- lgb.Dataset(data = as.matrix(gdd_val_X), label = gdd_val_y)\n",
    "\n",
    "# # 3. Build model\n",
    "# # https://lightgbm.readthedocs.io/en/latest/Parameters.html\n",
    "# # Use focal loss? - https://towardsdatascience.com/lightgbm-with-the-focal-loss-for-imbalanced-datasets-9836a9ae00ca\n",
    "# # Use doy as the reponse? - make it a regression problem.\n",
    "# # Pull info from other Japanese cities with similar latitude, and then randomly sample 2*positive cases.\n",
    "# neg_pos_ratio <- sum(gdd_train$is_bloom == 0) / sum(gdd_train$is_bloom == 1)\n",
    "\n",
    "# params <- list(\n",
    "#     # metric = \"binary_logloss\",\n",
    "#     metric = \"cross_entropy_lambda\",\n",
    "#     # feature_pre_filter = FALSE, # only necessary when reducing min_data_in_leaf\n",
    "#     # min_data_in_leaf = 20, # default: 20\n",
    "#     # max_depth = -1,\n",
    "#     # scale_pos_weight = neg_pos_ratio,\n",
    "#     # data_sampling_strategy = \"bagging\", # options: \"bagging\", \"goss\"\n",
    "#     # pos_bagging_fraction = 0.5,\n",
    "#     # neg_bagging_fraction = 0.01,\n",
    "#     # monotone_constraints_method = \"intermediate\", # options: \"basic\", \"intermediate\", \"advanced\"\n",
    "#     # max_bin = 10, # default: 255\n",
    "#     is_enable_sparse = TRUE,\n",
    "#     # n_estimators = 1000,\n",
    "#     # num_leaves = 2000\n",
    "#     learning_rate = 0.001,\n",
    "#     objective = \"binary\"\n",
    "# )\n",
    "\n",
    "# valids <- list(test = dval)\n",
    "\n",
    "# print(\"fitting the model\")\n",
    "# lgb_model <- lgb.train(params = params, data = dtrain, nrounds = 1000, valids, verbose = -1)\n",
    "\n",
    "# # 4. Accuracy checking\n",
    "# print(\"accuracy checking\")\n",
    "# library(caret)\n",
    "# p <- predict(lgb_model, gdd_val_X)\n",
    "# gdd_val <- gdd_val\n",
    "# gdd_val$predicted <- ifelse(p > 0.5, 1, 0)\n",
    "# dim(gdd_val_X)\n",
    "# confusionMatrix(factor(gdd_val$predicted), factor(gdd_val$is_bloom))\n"
   ]
  },
  {
   "cell_type": "code",
   "execution_count": null,
   "metadata": {
    "vscode": {
     "languageId": "r"
    }
   },
   "outputs": [],
   "source": [
    "# cross-validation using lgb.cv\n",
    "# https://github.com/microsoft/LightGBM/issues/5571\n",
    "# https://lightgbm.readthedocs.io/en/latest/Parameters.html\n",
    "# https://lightgbm.readthedocs.io/en/latest/Parameters-Tuning.html#for-better-accuracy\n",
    "library(tidyverse)\n",
    "library(lightgbm)\n",
    "\n",
    "train_val_set <- read.csv(\"../outputs/B_outputs/B11_japan_train_val.csv\")\n",
    "feature_names <- c(\"tmax\", \"tmin\", \"prcp\", \"month\", \"day\", \"daily_Cd\", \"daily_Ca\", \"Cd_cumsum\", \"Ca_cumsum\", \"lat\", \"long\", \"alt\")\n",
    "target_col <- \"is_bloom\"\n",
    "\n",
    "lgb_df <- train_val_set\n",
    "\n",
    "# prest\n",
    "\n",
    "\n",
    "\n",
    "# param grid\n",
    "grid_search <- expand.grid(boostings = c(\"dart\", \"gbdt\")\n",
    "                           , learning_rates = c(1, 0.1, 0.01) # \n",
    "                           , max_bins = c(255, 25, 15, 20) \n",
    "                           , num_leaves = c(10, 15, 20)\n",
    "                           , max_depth = c(-1, 10)\n",
    ") %>%\n",
    "    mutate(iteration = NA) %>%\n",
    "    mutate(binary_logloss = NA) %>%\n",
    "    mutate(auc = NA) %>%\n",
    "    mutate(binary_error = NA)\n",
    "    \n",
    "\n",
    "best_auc_yet <- 0\n",
    "\n",
    "for (i in seq_len(nrow(grid_search))){\n",
    "    \n",
    "    # i = 1\n",
    "    \n",
    "    grid_r <- grid_search[i, ]\n",
    "    print(grid_r)\n",
    "    \n",
    "    boosting <- as.character(grid_r[[\"boostings\"]])\n",
    "    learning_rate <- as.numeric(grid_r[[\"learning_rates\"]])\n",
    "    max_bin <- as.numeric(grid_r[[\"max_bins\"]])\n",
    "    num_leaves <- as.numeric(grid_r[[\"num_leaves\"]])\n",
    "    max_depth <- as.numeric(grid_r[[\"max_depth\"]])\n",
    "\n",
    "    num_boosting_rounds <- 1000L\n",
    "\n",
    "    dtrain <- lgb.Dataset(\n",
    "        data = data.matrix(lgb_df[, feature_names])\n",
    "        , label = lgb_df[[target_col]]\n",
    "        , params = list(\n",
    "            min_data_in_bin = 1L\n",
    "            , max_bin = max_bin\n",
    "            )\n",
    "    )\n",
    "\n",
    "\n",
    "    params <- list(\n",
    "            objective = \"binary\"\n",
    "            , metric = c(\"binary_logloss\", \"auc\", \"binary_error\")\n",
    "            , is_enable_sparse = TRUE\n",
    "            , min_data_in_leaf = 2L\n",
    "            , learning_rate = learning_rate\n",
    "            , boosting = boosting\n",
    "            , num_leaves = num_leaves\n",
    "            , max_depth = max_depth\n",
    "            , is_enable_sparse = TRUE\n",
    "            \n",
    "    )\n",
    "\n",
    "    cv_bst <- lgb.cv(\n",
    "        data = dtrain\n",
    "        , nrounds = num_boosting_rounds\n",
    "        , nfold = 5\n",
    "        , params = params\n",
    "        , stratified = TRUE\n",
    "        , early_stopping_rounds = 5\n",
    "        , seed = 42\n",
    "        , verbose = -1\n",
    "    )\n",
    "    \n",
    "    save(cv_bst, file = \"../outputs/B_outputs/B11_cv_bst.RData\")\n",
    "    \n",
    "    # create metric table\n",
    "    best_iter <- cv_bst[[\"best_iter\"]]\n",
    "\n",
    "    cv_metrics <- cv_bst[[\"record_evals\"]][[\"valid\"]]\n",
    "    metricDF <- data.frame(\n",
    "        iteration = seq_len(length(cv_metrics$binary_logloss$eval))\n",
    "        , binary_logloss = round(unlist(cv_metrics[[\"binary_logloss\"]][[\"eval\"]]), 3)\n",
    "        , auc = round(unlist(cv_metrics[[\"auc\"]][[\"eval\"]]), 3)\n",
    "        , binary_error = round(unlist(cv_metrics[[\"binary_error\"]][[\"eval\"]]), 3)\n",
    "    )\n",
    "\n",
    "    # obtain the average performance\n",
    "    # best_idx <- which(metricDF$auc == max(metricDF$auc))[1]\n",
    "    best_idx <- best_iter\n",
    "    # best_iter <- metricDF[best_idx, \"iteration\"][1]\n",
    "    # metricDF_avg <- data.frame(lapply(metricDF, MARGIN = 2, FUN = mean))\n",
    "    # metricDF_avg$iteration <- best_iter\n",
    "\n",
    "    # insert the result on the grid table\n",
    "    grid_search[i, 6:ncol(grid_search)] <- c(metricDF[best_idx, ])\n",
    "\n",
    "    if (as.numeric(grid_search[i, \"binary_logloss\"]) > best_auc_yet) {\n",
    "        \n",
    "        best_auc_yet <- as.numeric(grid_search[i, \"binary_logloss\"])\n",
    "        best_param_set <- grid_search[i, ]\n",
    "\n",
    "    }\n",
    "    \n",
    "    write.csv(grid_search, \"../outputs/B_outputs/B11_lgb_grid_kyoto3.csv\", row.names = FALSE)\n",
    "\n",
    "}\n",
    "\n",
    "print(best_param_set)"
   ]
  },
  {
   "cell_type": "code",
   "execution_count": 135,
   "metadata": {
    "vscode": {
     "languageId": "r"
    }
   },
   "outputs": [],
   "source": [
    "# cross-validation using lgb.cv\n",
    "# https://github.com/microsoft/LightGBM/issues/5571\n",
    "# https://lightgbm.readthedocs.io/en/latest/Parameters.html\n",
    "# https://lightgbm.readthedocs.io/en/latest/Parameters-Tuning.html#for-better-accuracy\n",
    "\n",
    "# library(tidyverse)\n",
    "# # library(lightgbm)\n",
    "\n",
    "# train_val_set <- read.csv(\"../outputs/B_outputs/B11_japan_train_val.csv\")\n",
    "# feature_names <- c(\"tmax\", \"tmin\", \"prcp\", \"month\", \"day\", \"daily_Cd\", \"daily_Ca\", \"Cd_cumsum\", \"Ca_cumsum\", \"lat\", \"long\", \"alt\")\n",
    "# target_col <- \"is_bloom\"\n",
    "\n",
    "# lgb_df <- train_val_set\n",
    "\n",
    "# # param grid\n",
    "# grid_search <- expand.grid(\n",
    "#     boostings = c(\"dart\", \"gbdt\")\n",
    "#     , learning_rates = c(1, 0.1, 0.01, 0.001)\n",
    "#     , max_bins = c(255, 300, 125, 75, 25)\n",
    "#     , num_leaves = c(31, 51, 71)\n",
    "#     , max_depth = c(-1, 20, 15, 10)\n",
    "#     ) %>% mutate(iteration = NA) %>%\n",
    "#         mutate(binary_logloss = NA) %>%\n",
    "#         mutate(auc = NA) %>%\n",
    "#         mutate(binary_error = NA\n",
    "#     )\n",
    "                            \n",
    "\n",
    "# best_auc_yet <- 0\n",
    "\n",
    "# library(doParallel)\n",
    "# n_clusters <- detectCores() - 1\n",
    "# # n_clusters <- 5\n",
    "# myCluster <- makeCluster(n_clusters, type = \"FORK\")\n",
    "# registerDoParallel(myCluster)\n",
    "\n",
    "\n",
    "# grid_search_result <- foreach (i = seq_len(nrow(grid_search))\n",
    "# # grid_search_result <- foreach (i = 1:4\n",
    "\n",
    "#     , boosting = grid_search$boostings\n",
    "#     , learning_rate = grid_search$learning_rates\n",
    "#     , max_bin = grid_search$max_bins\n",
    "#     , num_leaves = grid_search$num_leaves\n",
    "#     , max_depth = grid_search$max_depth\n",
    "#     , .packages = \"lightgbm\"\n",
    "#     , .combine = rbind\n",
    "\n",
    "# ) %dopar% {\n",
    "\n",
    "#     num_boosting_rounds <- 1000L\n",
    "\n",
    "#     dtrain <- lgb.Dataset(\n",
    "#         data = data.matrix(lgb_df[, feature_names])\n",
    "#         , label = lgb_df[[target_col]]\n",
    "#         , params = list(\n",
    "#             min_data_in_bin = 1L\n",
    "#             , max_bin = max_bin\n",
    "#             )\n",
    "#     )\n",
    "\n",
    "\n",
    "#     params <- list(\n",
    "\n",
    "#         objective = \"binary\"\n",
    "#         , metric = c(\"binary_logloss\", \"auc\", \"binary_error\")\n",
    "#         , is_enable_sparse = TRUE\n",
    "#         , min_data_in_leaf = 2L\n",
    "#         , learning_rate = learning_rate\n",
    "#         , boosting = boosting\n",
    "#         , num_leaves = num_leaves\n",
    "#         , max_depth = max_depth\n",
    "#         , is_enable_sparse = TRUE\n",
    "#     )\n",
    "\n",
    "#     cv_bst <- lgb.cv(\n",
    "#         data = dtrain\n",
    "#         , nrounds = num_boosting_rounds\n",
    "#         , nfold = 5\n",
    "#         , params = params\n",
    "#         , stratified = TRUE\n",
    "#         , early_stopping_rounds = 5\n",
    "#         , verbose = -1\n",
    "#     )\n",
    "    \n",
    "#     save(cv_bst, file = \"../outputs/B_outputs/B11_cv_bst.RData\")\n",
    "    \n",
    "#     # create metric table\n",
    "#     best_iter <- cv_bst[[\"best_iter\"]]\n",
    "\n",
    "#     cv_metrics <- cv_bst[[\"record_evals\"]][[\"valid\"]]\n",
    "#     metricDF <- data.frame(\n",
    "#         iteration = seq_len(length(cv_metrics$binary_logloss$eval))\n",
    "#         , binary_logloss = round(unlist(cv_metrics[[\"binary_logloss\"]][[\"eval\"]]), 3)\n",
    "#         , auc = round(unlist(cv_metrics[[\"auc\"]][[\"eval\"]]), 3)\n",
    "#         , binary_error = round(unlist(cv_metrics[[\"binary_error\"]][[\"eval\"]]), 3)\n",
    "#     )\n",
    "\n",
    "#     # insert the result on the grid table\n",
    "#     best_idx <- best_iter\n",
    "#     grid_search[i, 6:ncol(grid_search)] <- c(metricDF[best_idx, ])\n",
    "    \n",
    "#     out <- grid_search[i, ]\n",
    "\n",
    "#     return(out)\n",
    "    \n",
    "# }\n",
    "\n",
    "# stopCluster(myCluster)\n",
    "\n",
    "# save(grid_search_result, file = \"../outputs/B_outputs/B11_lgb_grid_kyoto_par.RData\")\n",
    "# write.csv(data.frame(grid_search_result), \"../outputs/B_outputs/B11_lgb_grid_kyoto_par.csv\")\n"
   ]
  },
  {
   "cell_type": "code",
   "execution_count": 6,
   "metadata": {
    "vscode": {
     "languageId": "r"
    }
   },
   "outputs": [
    {
     "data": {
      "text/html": [
       "<table class=\"dataframe\">\n",
       "<caption>A data.frame: 1 × 9</caption>\n",
       "<thead>\n",
       "\t<tr><th></th><th scope=col>boostings</th><th scope=col>learning_rates</th><th scope=col>max_bins</th><th scope=col>num_leaves</th><th scope=col>max_depth</th><th scope=col>iteration</th><th scope=col>binary_logloss</th><th scope=col>auc</th><th scope=col>binary_error</th></tr>\n",
       "\t<tr><th></th><th scope=col>&lt;chr&gt;</th><th scope=col>&lt;dbl&gt;</th><th scope=col>&lt;int&gt;</th><th scope=col>&lt;int&gt;</th><th scope=col>&lt;int&gt;</th><th scope=col>&lt;int&gt;</th><th scope=col>&lt;dbl&gt;</th><th scope=col>&lt;dbl&gt;</th><th scope=col>&lt;dbl&gt;</th></tr>\n",
       "</thead>\n",
       "<tbody>\n",
       "\t<tr><th scope=row>105</th><td>dart</td><td>0.1</td><td>25</td><td>15</td><td>10</td><td>187</td><td>0.347</td><td>0.917</td><td>0.153</td></tr>\n",
       "</tbody>\n",
       "</table>\n"
      ],
      "text/latex": [
       "A data.frame: 1 × 9\n",
       "\\begin{tabular}{r|lllllllll}\n",
       "  & boostings & learning\\_rates & max\\_bins & num\\_leaves & max\\_depth & iteration & binary\\_logloss & auc & binary\\_error\\\\\n",
       "  & <chr> & <dbl> & <int> & <int> & <int> & <int> & <dbl> & <dbl> & <dbl>\\\\\n",
       "\\hline\n",
       "\t105 & dart & 0.1 & 25 & 15 & 10 & 187 & 0.347 & 0.917 & 0.153\\\\\n",
       "\\end{tabular}\n"
      ],
      "text/markdown": [
       "\n",
       "A data.frame: 1 × 9\n",
       "\n",
       "| <!--/--> | boostings &lt;chr&gt; | learning_rates &lt;dbl&gt; | max_bins &lt;int&gt; | num_leaves &lt;int&gt; | max_depth &lt;int&gt; | iteration &lt;int&gt; | binary_logloss &lt;dbl&gt; | auc &lt;dbl&gt; | binary_error &lt;dbl&gt; |\n",
       "|---|---|---|---|---|---|---|---|---|---|\n",
       "| 105 | dart | 0.1 | 25 | 15 | 10 | 187 | 0.347 | 0.917 | 0.153 |\n",
       "\n"
      ],
      "text/plain": [
       "    boostings learning_rates max_bins num_leaves max_depth iteration\n",
       "105 dart      0.1            25       15         10        187      \n",
       "    binary_logloss auc   binary_error\n",
       "105 0.347          0.917 0.153       "
      ]
     },
     "metadata": {},
     "output_type": "display_data"
    },
    {
     "data": {
      "text/html": [
       "<table class=\"dataframe\">\n",
       "<caption>A data.frame: 1 × 9</caption>\n",
       "<thead>\n",
       "\t<tr><th></th><th scope=col>boostings</th><th scope=col>learning_rates</th><th scope=col>max_bins</th><th scope=col>num_leaves</th><th scope=col>max_depth</th><th scope=col>iteration</th><th scope=col>binary_logloss</th><th scope=col>auc</th><th scope=col>binary_error</th></tr>\n",
       "\t<tr><th></th><th scope=col>&lt;chr&gt;</th><th scope=col>&lt;dbl&gt;</th><th scope=col>&lt;int&gt;</th><th scope=col>&lt;int&gt;</th><th scope=col>&lt;int&gt;</th><th scope=col>&lt;int&gt;</th><th scope=col>&lt;dbl&gt;</th><th scope=col>&lt;dbl&gt;</th><th scope=col>&lt;dbl&gt;</th></tr>\n",
       "</thead>\n",
       "<tbody>\n",
       "\t<tr><th scope=row>35</th><td>dart</td><td>0.01</td><td>25</td><td>15</td><td>-1</td><td>996</td><td>0.351</td><td>0.922</td><td>0.152</td></tr>\n",
       "</tbody>\n",
       "</table>\n"
      ],
      "text/latex": [
       "A data.frame: 1 × 9\n",
       "\\begin{tabular}{r|lllllllll}\n",
       "  & boostings & learning\\_rates & max\\_bins & num\\_leaves & max\\_depth & iteration & binary\\_logloss & auc & binary\\_error\\\\\n",
       "  & <chr> & <dbl> & <int> & <int> & <int> & <int> & <dbl> & <dbl> & <dbl>\\\\\n",
       "\\hline\n",
       "\t35 & dart & 0.01 & 25 & 15 & -1 & 996 & 0.351 & 0.922 & 0.152\\\\\n",
       "\\end{tabular}\n"
      ],
      "text/markdown": [
       "\n",
       "A data.frame: 1 × 9\n",
       "\n",
       "| <!--/--> | boostings &lt;chr&gt; | learning_rates &lt;dbl&gt; | max_bins &lt;int&gt; | num_leaves &lt;int&gt; | max_depth &lt;int&gt; | iteration &lt;int&gt; | binary_logloss &lt;dbl&gt; | auc &lt;dbl&gt; | binary_error &lt;dbl&gt; |\n",
       "|---|---|---|---|---|---|---|---|---|---|\n",
       "| 35 | dart | 0.01 | 25 | 15 | -1 | 996 | 0.351 | 0.922 | 0.152 |\n",
       "\n"
      ],
      "text/plain": [
       "   boostings learning_rates max_bins num_leaves max_depth iteration\n",
       "35 dart      0.01           25       15         -1        996      \n",
       "   binary_logloss auc   binary_error\n",
       "35 0.351          0.922 0.152       "
      ]
     },
     "metadata": {},
     "output_type": "display_data"
    },
    {
     "data": {
      "text/html": [
       "<table class=\"dataframe\">\n",
       "<caption>A data.frame: 1 × 9</caption>\n",
       "<thead>\n",
       "\t<tr><th></th><th scope=col>boostings</th><th scope=col>learning_rates</th><th scope=col>max_bins</th><th scope=col>num_leaves</th><th scope=col>max_depth</th><th scope=col>iteration</th><th scope=col>binary_logloss</th><th scope=col>auc</th><th scope=col>binary_error</th></tr>\n",
       "\t<tr><th></th><th scope=col>&lt;chr&gt;</th><th scope=col>&lt;dbl&gt;</th><th scope=col>&lt;int&gt;</th><th scope=col>&lt;int&gt;</th><th scope=col>&lt;int&gt;</th><th scope=col>&lt;int&gt;</th><th scope=col>&lt;dbl&gt;</th><th scope=col>&lt;dbl&gt;</th><th scope=col>&lt;dbl&gt;</th></tr>\n",
       "</thead>\n",
       "<tbody>\n",
       "\t<tr><th scope=row>63</th><td>dart</td><td>0.1</td><td>15</td><td>20</td><td>-1</td><td>57</td><td>0.367</td><td>0.905</td><td>0.151</td></tr>\n",
       "</tbody>\n",
       "</table>\n"
      ],
      "text/latex": [
       "A data.frame: 1 × 9\n",
       "\\begin{tabular}{r|lllllllll}\n",
       "  & boostings & learning\\_rates & max\\_bins & num\\_leaves & max\\_depth & iteration & binary\\_logloss & auc & binary\\_error\\\\\n",
       "  & <chr> & <dbl> & <int> & <int> & <int> & <int> & <dbl> & <dbl> & <dbl>\\\\\n",
       "\\hline\n",
       "\t63 & dart & 0.1 & 15 & 20 & -1 & 57 & 0.367 & 0.905 & 0.151\\\\\n",
       "\\end{tabular}\n"
      ],
      "text/markdown": [
       "\n",
       "A data.frame: 1 × 9\n",
       "\n",
       "| <!--/--> | boostings &lt;chr&gt; | learning_rates &lt;dbl&gt; | max_bins &lt;int&gt; | num_leaves &lt;int&gt; | max_depth &lt;int&gt; | iteration &lt;int&gt; | binary_logloss &lt;dbl&gt; | auc &lt;dbl&gt; | binary_error &lt;dbl&gt; |\n",
       "|---|---|---|---|---|---|---|---|---|---|\n",
       "| 63 | dart | 0.1 | 15 | 20 | -1 | 57 | 0.367 | 0.905 | 0.151 |\n",
       "\n"
      ],
      "text/plain": [
       "   boostings learning_rates max_bins num_leaves max_depth iteration\n",
       "63 dart      0.1            15       20         -1        57       \n",
       "   binary_logloss auc   binary_error\n",
       "63 0.367          0.905 0.151       "
      ]
     },
     "metadata": {},
     "output_type": "display_data"
    }
   ],
   "source": [
    "# grid_search_result <- read.csv(\"../outputs/B_outputs/B11_lgb_grid_kyoto_par.csv\")\n",
    "grid_search_result <- read.csv(\"../outputs/B_outputs/B11_lgb_grid_kyoto3.csv\")\n",
    "grid_search_result[which(grid_search_result$binary_logloss == min(grid_search_result$binary_logloss)), ]\n",
    "grid_search_result[which(grid_search_result$auc == max(grid_search_result$auc)), ]\n",
    "grid_search_result[which(grid_search_result$binary_error == min(grid_search_result$binary_error)), ]\n"
   ]
  },
  {
   "cell_type": "code",
   "execution_count": 7,
   "metadata": {
    "vscode": {
     "languageId": "r"
    }
   },
   "outputs": [
    {
     "data": {
      "text/html": [
       "<table class=\"dataframe\">\n",
       "<caption>A data.frame: 1 × 9</caption>\n",
       "<thead>\n",
       "\t<tr><th></th><th scope=col>X</th><th scope=col>V1</th><th scope=col>V2</th><th scope=col>V3</th><th scope=col>V4</th><th scope=col>iteration</th><th scope=col>binary_logloss</th><th scope=col>auc</th><th scope=col>binary_error</th></tr>\n",
       "\t<tr><th></th><th scope=col>&lt;chr&gt;</th><th scope=col>&lt;int&gt;</th><th scope=col>&lt;dbl&gt;</th><th scope=col>&lt;int&gt;</th><th scope=col>&lt;int&gt;</th><th scope=col>&lt;int&gt;</th><th scope=col>&lt;dbl&gt;</th><th scope=col>&lt;dbl&gt;</th><th scope=col>&lt;dbl&gt;</th></tr>\n",
       "</thead>\n",
       "<tbody>\n",
       "\t<tr><th scope=row>40</th><td>result.40</td><td>2</td><td>0.1</td><td>15</td><td>15</td><td>23</td><td>0.36</td><td>0.918</td><td>0.158</td></tr>\n",
       "</tbody>\n",
       "</table>\n"
      ],
      "text/latex": [
       "A data.frame: 1 × 9\n",
       "\\begin{tabular}{r|lllllllll}\n",
       "  & X & V1 & V2 & V3 & V4 & iteration & binary\\_logloss & auc & binary\\_error\\\\\n",
       "  & <chr> & <int> & <dbl> & <int> & <int> & <int> & <dbl> & <dbl> & <dbl>\\\\\n",
       "\\hline\n",
       "\t40 & result.40 & 2 & 0.1 & 15 & 15 & 23 & 0.36 & 0.918 & 0.158\\\\\n",
       "\\end{tabular}\n"
      ],
      "text/markdown": [
       "\n",
       "A data.frame: 1 × 9\n",
       "\n",
       "| <!--/--> | X &lt;chr&gt; | V1 &lt;int&gt; | V2 &lt;dbl&gt; | V3 &lt;int&gt; | V4 &lt;int&gt; | iteration &lt;int&gt; | binary_logloss &lt;dbl&gt; | auc &lt;dbl&gt; | binary_error &lt;dbl&gt; |\n",
       "|---|---|---|---|---|---|---|---|---|---|\n",
       "| 40 | result.40 | 2 | 0.1 | 15 | 15 | 23 | 0.36 | 0.918 | 0.158 |\n",
       "\n"
      ],
      "text/plain": [
       "   X         V1 V2  V3 V4 iteration binary_logloss auc   binary_error\n",
       "40 result.40 2  0.1 15 15 23        0.36           0.918 0.158       "
      ]
     },
     "metadata": {},
     "output_type": "display_data"
    },
    {
     "data": {
      "text/html": [
       "<table class=\"dataframe\">\n",
       "<caption>A data.frame: 1 × 9</caption>\n",
       "<thead>\n",
       "\t<tr><th></th><th scope=col>X</th><th scope=col>V1</th><th scope=col>V2</th><th scope=col>V3</th><th scope=col>V4</th><th scope=col>iteration</th><th scope=col>binary_logloss</th><th scope=col>auc</th><th scope=col>binary_error</th></tr>\n",
       "\t<tr><th></th><th scope=col>&lt;chr&gt;</th><th scope=col>&lt;int&gt;</th><th scope=col>&lt;dbl&gt;</th><th scope=col>&lt;int&gt;</th><th scope=col>&lt;int&gt;</th><th scope=col>&lt;int&gt;</th><th scope=col>&lt;dbl&gt;</th><th scope=col>&lt;dbl&gt;</th><th scope=col>&lt;dbl&gt;</th></tr>\n",
       "</thead>\n",
       "<tbody>\n",
       "\t<tr><th scope=row>40</th><td>result.40</td><td>2</td><td>0.1</td><td>15</td><td>15</td><td>23</td><td>0.36</td><td>0.918</td><td>0.158</td></tr>\n",
       "</tbody>\n",
       "</table>\n"
      ],
      "text/latex": [
       "A data.frame: 1 × 9\n",
       "\\begin{tabular}{r|lllllllll}\n",
       "  & X & V1 & V2 & V3 & V4 & iteration & binary\\_logloss & auc & binary\\_error\\\\\n",
       "  & <chr> & <int> & <dbl> & <int> & <int> & <int> & <dbl> & <dbl> & <dbl>\\\\\n",
       "\\hline\n",
       "\t40 & result.40 & 2 & 0.1 & 15 & 15 & 23 & 0.36 & 0.918 & 0.158\\\\\n",
       "\\end{tabular}\n"
      ],
      "text/markdown": [
       "\n",
       "A data.frame: 1 × 9\n",
       "\n",
       "| <!--/--> | X &lt;chr&gt; | V1 &lt;int&gt; | V2 &lt;dbl&gt; | V3 &lt;int&gt; | V4 &lt;int&gt; | iteration &lt;int&gt; | binary_logloss &lt;dbl&gt; | auc &lt;dbl&gt; | binary_error &lt;dbl&gt; |\n",
       "|---|---|---|---|---|---|---|---|---|---|\n",
       "| 40 | result.40 | 2 | 0.1 | 15 | 15 | 23 | 0.36 | 0.918 | 0.158 |\n",
       "\n"
      ],
      "text/plain": [
       "   X         V1 V2  V3 V4 iteration binary_logloss auc   binary_error\n",
       "40 result.40 2  0.1 15 15 23        0.36           0.918 0.158       "
      ]
     },
     "metadata": {},
     "output_type": "display_data"
    },
    {
     "data": {
      "text/html": [
       "<table class=\"dataframe\">\n",
       "<caption>A data.frame: 1 × 9</caption>\n",
       "<thead>\n",
       "\t<tr><th></th><th scope=col>X</th><th scope=col>V1</th><th scope=col>V2</th><th scope=col>V3</th><th scope=col>V4</th><th scope=col>iteration</th><th scope=col>binary_logloss</th><th scope=col>auc</th><th scope=col>binary_error</th></tr>\n",
       "\t<tr><th></th><th scope=col>&lt;chr&gt;</th><th scope=col>&lt;int&gt;</th><th scope=col>&lt;dbl&gt;</th><th scope=col>&lt;int&gt;</th><th scope=col>&lt;int&gt;</th><th scope=col>&lt;int&gt;</th><th scope=col>&lt;dbl&gt;</th><th scope=col>&lt;dbl&gt;</th><th scope=col>&lt;dbl&gt;</th></tr>\n",
       "</thead>\n",
       "<tbody>\n",
       "\t<tr><th scope=row>44</th><td>result.44</td><td>2</td><td>1</td><td>20</td><td>15</td><td>1</td><td>0.38</td><td>0.903</td><td>0.147</td></tr>\n",
       "</tbody>\n",
       "</table>\n"
      ],
      "text/latex": [
       "A data.frame: 1 × 9\n",
       "\\begin{tabular}{r|lllllllll}\n",
       "  & X & V1 & V2 & V3 & V4 & iteration & binary\\_logloss & auc & binary\\_error\\\\\n",
       "  & <chr> & <int> & <dbl> & <int> & <int> & <int> & <dbl> & <dbl> & <dbl>\\\\\n",
       "\\hline\n",
       "\t44 & result.44 & 2 & 1 & 20 & 15 & 1 & 0.38 & 0.903 & 0.147\\\\\n",
       "\\end{tabular}\n"
      ],
      "text/markdown": [
       "\n",
       "A data.frame: 1 × 9\n",
       "\n",
       "| <!--/--> | X &lt;chr&gt; | V1 &lt;int&gt; | V2 &lt;dbl&gt; | V3 &lt;int&gt; | V4 &lt;int&gt; | iteration &lt;int&gt; | binary_logloss &lt;dbl&gt; | auc &lt;dbl&gt; | binary_error &lt;dbl&gt; |\n",
       "|---|---|---|---|---|---|---|---|---|---|\n",
       "| 44 | result.44 | 2 | 1 | 20 | 15 | 1 | 0.38 | 0.903 | 0.147 |\n",
       "\n"
      ],
      "text/plain": [
       "   X         V1 V2 V3 V4 iteration binary_logloss auc   binary_error\n",
       "44 result.44 2  1  20 15 1         0.38           0.903 0.147       "
      ]
     },
     "metadata": {},
     "output_type": "display_data"
    }
   ],
   "source": [
    "grid_search_result <- read.csv(\"../outputs/B_outputs/B11_lgb_grid_kyoto_par.csv\")\n",
    "grid_search_result[which(grid_search_result$binary_logloss == min(grid_search_result$binary_logloss)), ]\n",
    "grid_search_result[which(grid_search_result$auc == max(grid_search_result$auc)), ]\n",
    "grid_search_result[which(grid_search_result$binary_error == min(grid_search_result$binary_error)), ]"
   ]
  },
  {
   "cell_type": "code",
   "execution_count": 8,
   "metadata": {
    "vscode": {
     "languageId": "r"
    }
   },
   "outputs": [],
   "source": [
    "load(file = \"../outputs/B_outputs/B11_lgb_grid_kyoto_par.RData\")"
   ]
  },
  {
   "cell_type": "code",
   "execution_count": 9,
   "metadata": {
    "vscode": {
     "languageId": "r"
    }
   },
   "outputs": [
    {
     "data": {
      "text/html": [
       "<table class=\"dataframe\">\n",
       "<caption>A data.frame: 144 × 8</caption>\n",
       "<thead>\n",
       "\t<tr><th></th><th scope=col>V1</th><th scope=col>V2</th><th scope=col>V3</th><th scope=col>V4</th><th scope=col>iteration</th><th scope=col>binary_logloss</th><th scope=col>auc</th><th scope=col>binary_error</th></tr>\n",
       "\t<tr><th></th><th scope=col>&lt;dbl&gt;</th><th scope=col>&lt;dbl&gt;</th><th scope=col>&lt;dbl&gt;</th><th scope=col>&lt;dbl&gt;</th><th scope=col>&lt;dbl&gt;</th><th scope=col>&lt;dbl&gt;</th><th scope=col>&lt;dbl&gt;</th><th scope=col>&lt;dbl&gt;</th></tr>\n",
       "</thead>\n",
       "<tbody>\n",
       "\t<tr><th scope=row>result.1</th><td>1</td><td>1.00</td><td>255</td><td>10</td><td> 1</td><td>0.412</td><td>0.882</td><td>0.177</td></tr>\n",
       "\t<tr><th scope=row>result.2</th><td>2</td><td>1.00</td><td>255</td><td>10</td><td> 3</td><td>0.411</td><td>0.892</td><td>0.186</td></tr>\n",
       "\t<tr><th scope=row>result.3</th><td>1</td><td>0.10</td><td>255</td><td>10</td><td>14</td><td>0.431</td><td>0.902</td><td>0.200</td></tr>\n",
       "\t<tr><th scope=row>result.4</th><td>2</td><td>0.10</td><td>255</td><td>10</td><td>12</td><td>0.422</td><td>0.904</td><td>0.189</td></tr>\n",
       "\t<tr><th scope=row>result.5</th><td>1</td><td>0.01</td><td>255</td><td>10</td><td> 6</td><td>0.649</td><td>0.873</td><td>0.408</td></tr>\n",
       "\t<tr><th scope=row>result.6</th><td>2</td><td>0.01</td><td>255</td><td>10</td><td> 6</td><td>0.650</td><td>0.853</td><td>0.408</td></tr>\n",
       "\t<tr><th scope=row>result.7</th><td>1</td><td>1.00</td><td> 25</td><td>10</td><td> 2</td><td>0.385</td><td>0.896</td><td>0.175</td></tr>\n",
       "\t<tr><th scope=row>result.8</th><td>2</td><td>1.00</td><td> 25</td><td>10</td><td> 2</td><td>0.424</td><td>0.882</td><td>0.181</td></tr>\n",
       "\t<tr><th scope=row>result.9</th><td>1</td><td>0.10</td><td> 25</td><td>10</td><td>22</td><td>0.382</td><td>0.913</td><td>0.169</td></tr>\n",
       "\t<tr><th scope=row>result.10</th><td>2</td><td>0.10</td><td> 25</td><td>10</td><td>24</td><td>0.366</td><td>0.910</td><td>0.162</td></tr>\n",
       "\t<tr><th scope=row>result.11</th><td>1</td><td>0.01</td><td> 25</td><td>10</td><td> 6</td><td>0.648</td><td>0.885</td><td>0.408</td></tr>\n",
       "\t<tr><th scope=row>result.12</th><td>2</td><td>0.01</td><td> 25</td><td>10</td><td> 6</td><td>0.648</td><td>0.886</td><td>0.408</td></tr>\n",
       "\t<tr><th scope=row>result.13</th><td>1</td><td>1.00</td><td> 15</td><td>10</td><td> 2</td><td>0.420</td><td>0.886</td><td>0.194</td></tr>\n",
       "\t<tr><th scope=row>result.14</th><td>2</td><td>1.00</td><td> 15</td><td>10</td><td> 2</td><td>0.395</td><td>0.895</td><td>0.190</td></tr>\n",
       "\t<tr><th scope=row>result.15</th><td>1</td><td>0.10</td><td> 15</td><td>10</td><td>19</td><td>0.398</td><td>0.908</td><td>0.178</td></tr>\n",
       "\t<tr><th scope=row>result.16</th><td>2</td><td>0.10</td><td> 15</td><td>10</td><td>17</td><td>0.401</td><td>0.906</td><td>0.189</td></tr>\n",
       "\t<tr><th scope=row>result.17</th><td>1</td><td>0.01</td><td> 15</td><td>10</td><td> 6</td><td>0.648</td><td>0.879</td><td>0.408</td></tr>\n",
       "\t<tr><th scope=row>result.18</th><td>2</td><td>0.01</td><td> 15</td><td>10</td><td> 6</td><td>0.648</td><td>0.875</td><td>0.408</td></tr>\n",
       "\t<tr><th scope=row>result.19</th><td>1</td><td>1.00</td><td> 20</td><td>10</td><td> 3</td><td>0.421</td><td>0.884</td><td>0.191</td></tr>\n",
       "\t<tr><th scope=row>result.20</th><td>2</td><td>1.00</td><td> 20</td><td>10</td><td> 2</td><td>0.402</td><td>0.890</td><td>0.178</td></tr>\n",
       "\t<tr><th scope=row>result.21</th><td>1</td><td>0.10</td><td> 20</td><td>10</td><td>19</td><td>0.397</td><td>0.906</td><td>0.188</td></tr>\n",
       "\t<tr><th scope=row>result.22</th><td>2</td><td>0.10</td><td> 20</td><td>10</td><td>11</td><td>0.419</td><td>0.914</td><td>0.178</td></tr>\n",
       "\t<tr><th scope=row>result.23</th><td>1</td><td>0.01</td><td> 20</td><td>10</td><td> 6</td><td>0.648</td><td>0.893</td><td>0.408</td></tr>\n",
       "\t<tr><th scope=row>result.24</th><td>2</td><td>0.01</td><td> 20</td><td>10</td><td> 6</td><td>0.649</td><td>0.870</td><td>0.408</td></tr>\n",
       "\t<tr><th scope=row>result.25</th><td>1</td><td>1.00</td><td>255</td><td>15</td><td> 1</td><td>0.439</td><td>0.870</td><td>0.191</td></tr>\n",
       "\t<tr><th scope=row>result.26</th><td>2</td><td>1.00</td><td>255</td><td>15</td><td> 1</td><td>0.432</td><td>0.859</td><td>0.177</td></tr>\n",
       "\t<tr><th scope=row>result.27</th><td>1</td><td>0.10</td><td>255</td><td>15</td><td>11</td><td>0.438</td><td>0.894</td><td>0.169</td></tr>\n",
       "\t<tr><th scope=row>result.28</th><td>2</td><td>0.10</td><td>255</td><td>15</td><td>24</td><td>0.362</td><td>0.912</td><td>0.152</td></tr>\n",
       "\t<tr><th scope=row>result.29</th><td>1</td><td>0.01</td><td>255</td><td>15</td><td> 6</td><td>0.649</td><td>0.867</td><td>0.408</td></tr>\n",
       "\t<tr><th scope=row>result.30</th><td>2</td><td>0.01</td><td>255</td><td>15</td><td> 6</td><td>0.644</td><td>0.897</td><td>0.408</td></tr>\n",
       "\t<tr><th scope=row>⋮</th><td>⋮</td><td>⋮</td><td>⋮</td><td>⋮</td><td>⋮</td><td>⋮</td><td>⋮</td><td>⋮</td></tr>\n",
       "\t<tr><th scope=row>result.115</th><td>1</td><td>1.00</td><td> 20</td><td>15</td><td> 1</td><td>0.403</td><td>0.896</td><td>0.169</td></tr>\n",
       "\t<tr><th scope=row>result.116</th><td>2</td><td>1.00</td><td> 20</td><td>15</td><td> 1</td><td>0.415</td><td>0.882</td><td>0.174</td></tr>\n",
       "\t<tr><th scope=row>result.117</th><td>1</td><td>0.10</td><td> 20</td><td>15</td><td>11</td><td>0.433</td><td>0.898</td><td>0.175</td></tr>\n",
       "\t<tr><th scope=row>result.118</th><td>2</td><td>0.10</td><td> 20</td><td>15</td><td>14</td><td>0.389</td><td>0.914</td><td>0.164</td></tr>\n",
       "\t<tr><th scope=row>result.119</th><td>1</td><td>0.01</td><td> 20</td><td>15</td><td> 6</td><td>0.646</td><td>0.876</td><td>0.408</td></tr>\n",
       "\t<tr><th scope=row>result.120</th><td>2</td><td>0.01</td><td> 20</td><td>15</td><td> 6</td><td>0.646</td><td>0.875</td><td>0.408</td></tr>\n",
       "\t<tr><th scope=row>result.121</th><td>1</td><td>1.00</td><td>255</td><td>20</td><td> 1</td><td>0.437</td><td>0.869</td><td>0.178</td></tr>\n",
       "\t<tr><th scope=row>result.122</th><td>2</td><td>1.00</td><td>255</td><td>20</td><td> 1</td><td>0.459</td><td>0.862</td><td>0.197</td></tr>\n",
       "\t<tr><th scope=row>result.123</th><td>1</td><td>0.10</td><td>255</td><td>20</td><td> 9</td><td>0.455</td><td>0.900</td><td>0.191</td></tr>\n",
       "\t<tr><th scope=row>result.124</th><td>2</td><td>0.10</td><td>255</td><td>20</td><td>17</td><td>0.396</td><td>0.897</td><td>0.186</td></tr>\n",
       "\t<tr><th scope=row>result.125</th><td>1</td><td>0.01</td><td>255</td><td>20</td><td> 6</td><td>0.650</td><td>0.842</td><td>0.408</td></tr>\n",
       "\t<tr><th scope=row>result.126</th><td>2</td><td>0.01</td><td>255</td><td>20</td><td> 6</td><td>0.648</td><td>0.854</td><td>0.408</td></tr>\n",
       "\t<tr><th scope=row>result.127</th><td>1</td><td>1.00</td><td> 25</td><td>20</td><td> 1</td><td>0.452</td><td>0.840</td><td>0.180</td></tr>\n",
       "\t<tr><th scope=row>result.128</th><td>2</td><td>1.00</td><td> 25</td><td>20</td><td> 1</td><td>0.429</td><td>0.864</td><td>0.169</td></tr>\n",
       "\t<tr><th scope=row>result.129</th><td>1</td><td>0.10</td><td> 25</td><td>20</td><td>22</td><td>0.388</td><td>0.902</td><td>0.172</td></tr>\n",
       "\t<tr><th scope=row>result.130</th><td>2</td><td>0.10</td><td> 25</td><td>20</td><td>17</td><td>0.388</td><td>0.900</td><td>0.181</td></tr>\n",
       "\t<tr><th scope=row>result.131</th><td>1</td><td>0.01</td><td> 25</td><td>20</td><td> 6</td><td>0.645</td><td>0.867</td><td>0.408</td></tr>\n",
       "\t<tr><th scope=row>result.132</th><td>2</td><td>0.01</td><td> 25</td><td>20</td><td> 6</td><td>0.644</td><td>0.897</td><td>0.408</td></tr>\n",
       "\t<tr><th scope=row>result.133</th><td>1</td><td>1.00</td><td> 15</td><td>20</td><td> 1</td><td>0.432</td><td>0.881</td><td>0.177</td></tr>\n",
       "\t<tr><th scope=row>result.134</th><td>2</td><td>1.00</td><td> 15</td><td>20</td><td> 1</td><td>0.443</td><td>0.875</td><td>0.184</td></tr>\n",
       "\t<tr><th scope=row>result.135</th><td>1</td><td>0.10</td><td> 15</td><td>20</td><td>19</td><td>0.395</td><td>0.910</td><td>0.184</td></tr>\n",
       "\t<tr><th scope=row>result.136</th><td>2</td><td>0.10</td><td> 15</td><td>20</td><td>14</td><td>0.399</td><td>0.905</td><td>0.180</td></tr>\n",
       "\t<tr><th scope=row>result.137</th><td>1</td><td>0.01</td><td> 15</td><td>20</td><td> 6</td><td>0.647</td><td>0.865</td><td>0.408</td></tr>\n",
       "\t<tr><th scope=row>result.138</th><td>2</td><td>0.01</td><td> 15</td><td>20</td><td> 6</td><td>0.647</td><td>0.881</td><td>0.408</td></tr>\n",
       "\t<tr><th scope=row>result.139</th><td>1</td><td>1.00</td><td> 20</td><td>20</td><td> 1</td><td>0.420</td><td>0.871</td><td>0.167</td></tr>\n",
       "\t<tr><th scope=row>result.140</th><td>2</td><td>1.00</td><td> 20</td><td>20</td><td> 1</td><td>0.441</td><td>0.844</td><td>0.175</td></tr>\n",
       "\t<tr><th scope=row>result.141</th><td>1</td><td>0.10</td><td> 20</td><td>20</td><td>20</td><td>0.381</td><td>0.908</td><td>0.172</td></tr>\n",
       "\t<tr><th scope=row>result.142</th><td>2</td><td>0.10</td><td> 20</td><td>20</td><td>15</td><td>0.397</td><td>0.906</td><td>0.189</td></tr>\n",
       "\t<tr><th scope=row>result.143</th><td>1</td><td>0.01</td><td> 20</td><td>20</td><td> 6</td><td>0.646</td><td>0.851</td><td>0.408</td></tr>\n",
       "\t<tr><th scope=row>result.144</th><td>2</td><td>0.01</td><td> 20</td><td>20</td><td> 6</td><td>0.648</td><td>0.866</td><td>0.408</td></tr>\n",
       "</tbody>\n",
       "</table>\n"
      ],
      "text/latex": [
       "A data.frame: 144 × 8\n",
       "\\begin{tabular}{r|llllllll}\n",
       "  & V1 & V2 & V3 & V4 & iteration & binary\\_logloss & auc & binary\\_error\\\\\n",
       "  & <dbl> & <dbl> & <dbl> & <dbl> & <dbl> & <dbl> & <dbl> & <dbl>\\\\\n",
       "\\hline\n",
       "\tresult.1 & 1 & 1.00 & 255 & 10 &  1 & 0.412 & 0.882 & 0.177\\\\\n",
       "\tresult.2 & 2 & 1.00 & 255 & 10 &  3 & 0.411 & 0.892 & 0.186\\\\\n",
       "\tresult.3 & 1 & 0.10 & 255 & 10 & 14 & 0.431 & 0.902 & 0.200\\\\\n",
       "\tresult.4 & 2 & 0.10 & 255 & 10 & 12 & 0.422 & 0.904 & 0.189\\\\\n",
       "\tresult.5 & 1 & 0.01 & 255 & 10 &  6 & 0.649 & 0.873 & 0.408\\\\\n",
       "\tresult.6 & 2 & 0.01 & 255 & 10 &  6 & 0.650 & 0.853 & 0.408\\\\\n",
       "\tresult.7 & 1 & 1.00 &  25 & 10 &  2 & 0.385 & 0.896 & 0.175\\\\\n",
       "\tresult.8 & 2 & 1.00 &  25 & 10 &  2 & 0.424 & 0.882 & 0.181\\\\\n",
       "\tresult.9 & 1 & 0.10 &  25 & 10 & 22 & 0.382 & 0.913 & 0.169\\\\\n",
       "\tresult.10 & 2 & 0.10 &  25 & 10 & 24 & 0.366 & 0.910 & 0.162\\\\\n",
       "\tresult.11 & 1 & 0.01 &  25 & 10 &  6 & 0.648 & 0.885 & 0.408\\\\\n",
       "\tresult.12 & 2 & 0.01 &  25 & 10 &  6 & 0.648 & 0.886 & 0.408\\\\\n",
       "\tresult.13 & 1 & 1.00 &  15 & 10 &  2 & 0.420 & 0.886 & 0.194\\\\\n",
       "\tresult.14 & 2 & 1.00 &  15 & 10 &  2 & 0.395 & 0.895 & 0.190\\\\\n",
       "\tresult.15 & 1 & 0.10 &  15 & 10 & 19 & 0.398 & 0.908 & 0.178\\\\\n",
       "\tresult.16 & 2 & 0.10 &  15 & 10 & 17 & 0.401 & 0.906 & 0.189\\\\\n",
       "\tresult.17 & 1 & 0.01 &  15 & 10 &  6 & 0.648 & 0.879 & 0.408\\\\\n",
       "\tresult.18 & 2 & 0.01 &  15 & 10 &  6 & 0.648 & 0.875 & 0.408\\\\\n",
       "\tresult.19 & 1 & 1.00 &  20 & 10 &  3 & 0.421 & 0.884 & 0.191\\\\\n",
       "\tresult.20 & 2 & 1.00 &  20 & 10 &  2 & 0.402 & 0.890 & 0.178\\\\\n",
       "\tresult.21 & 1 & 0.10 &  20 & 10 & 19 & 0.397 & 0.906 & 0.188\\\\\n",
       "\tresult.22 & 2 & 0.10 &  20 & 10 & 11 & 0.419 & 0.914 & 0.178\\\\\n",
       "\tresult.23 & 1 & 0.01 &  20 & 10 &  6 & 0.648 & 0.893 & 0.408\\\\\n",
       "\tresult.24 & 2 & 0.01 &  20 & 10 &  6 & 0.649 & 0.870 & 0.408\\\\\n",
       "\tresult.25 & 1 & 1.00 & 255 & 15 &  1 & 0.439 & 0.870 & 0.191\\\\\n",
       "\tresult.26 & 2 & 1.00 & 255 & 15 &  1 & 0.432 & 0.859 & 0.177\\\\\n",
       "\tresult.27 & 1 & 0.10 & 255 & 15 & 11 & 0.438 & 0.894 & 0.169\\\\\n",
       "\tresult.28 & 2 & 0.10 & 255 & 15 & 24 & 0.362 & 0.912 & 0.152\\\\\n",
       "\tresult.29 & 1 & 0.01 & 255 & 15 &  6 & 0.649 & 0.867 & 0.408\\\\\n",
       "\tresult.30 & 2 & 0.01 & 255 & 15 &  6 & 0.644 & 0.897 & 0.408\\\\\n",
       "\t⋮ & ⋮ & ⋮ & ⋮ & ⋮ & ⋮ & ⋮ & ⋮ & ⋮\\\\\n",
       "\tresult.115 & 1 & 1.00 &  20 & 15 &  1 & 0.403 & 0.896 & 0.169\\\\\n",
       "\tresult.116 & 2 & 1.00 &  20 & 15 &  1 & 0.415 & 0.882 & 0.174\\\\\n",
       "\tresult.117 & 1 & 0.10 &  20 & 15 & 11 & 0.433 & 0.898 & 0.175\\\\\n",
       "\tresult.118 & 2 & 0.10 &  20 & 15 & 14 & 0.389 & 0.914 & 0.164\\\\\n",
       "\tresult.119 & 1 & 0.01 &  20 & 15 &  6 & 0.646 & 0.876 & 0.408\\\\\n",
       "\tresult.120 & 2 & 0.01 &  20 & 15 &  6 & 0.646 & 0.875 & 0.408\\\\\n",
       "\tresult.121 & 1 & 1.00 & 255 & 20 &  1 & 0.437 & 0.869 & 0.178\\\\\n",
       "\tresult.122 & 2 & 1.00 & 255 & 20 &  1 & 0.459 & 0.862 & 0.197\\\\\n",
       "\tresult.123 & 1 & 0.10 & 255 & 20 &  9 & 0.455 & 0.900 & 0.191\\\\\n",
       "\tresult.124 & 2 & 0.10 & 255 & 20 & 17 & 0.396 & 0.897 & 0.186\\\\\n",
       "\tresult.125 & 1 & 0.01 & 255 & 20 &  6 & 0.650 & 0.842 & 0.408\\\\\n",
       "\tresult.126 & 2 & 0.01 & 255 & 20 &  6 & 0.648 & 0.854 & 0.408\\\\\n",
       "\tresult.127 & 1 & 1.00 &  25 & 20 &  1 & 0.452 & 0.840 & 0.180\\\\\n",
       "\tresult.128 & 2 & 1.00 &  25 & 20 &  1 & 0.429 & 0.864 & 0.169\\\\\n",
       "\tresult.129 & 1 & 0.10 &  25 & 20 & 22 & 0.388 & 0.902 & 0.172\\\\\n",
       "\tresult.130 & 2 & 0.10 &  25 & 20 & 17 & 0.388 & 0.900 & 0.181\\\\\n",
       "\tresult.131 & 1 & 0.01 &  25 & 20 &  6 & 0.645 & 0.867 & 0.408\\\\\n",
       "\tresult.132 & 2 & 0.01 &  25 & 20 &  6 & 0.644 & 0.897 & 0.408\\\\\n",
       "\tresult.133 & 1 & 1.00 &  15 & 20 &  1 & 0.432 & 0.881 & 0.177\\\\\n",
       "\tresult.134 & 2 & 1.00 &  15 & 20 &  1 & 0.443 & 0.875 & 0.184\\\\\n",
       "\tresult.135 & 1 & 0.10 &  15 & 20 & 19 & 0.395 & 0.910 & 0.184\\\\\n",
       "\tresult.136 & 2 & 0.10 &  15 & 20 & 14 & 0.399 & 0.905 & 0.180\\\\\n",
       "\tresult.137 & 1 & 0.01 &  15 & 20 &  6 & 0.647 & 0.865 & 0.408\\\\\n",
       "\tresult.138 & 2 & 0.01 &  15 & 20 &  6 & 0.647 & 0.881 & 0.408\\\\\n",
       "\tresult.139 & 1 & 1.00 &  20 & 20 &  1 & 0.420 & 0.871 & 0.167\\\\\n",
       "\tresult.140 & 2 & 1.00 &  20 & 20 &  1 & 0.441 & 0.844 & 0.175\\\\\n",
       "\tresult.141 & 1 & 0.10 &  20 & 20 & 20 & 0.381 & 0.908 & 0.172\\\\\n",
       "\tresult.142 & 2 & 0.10 &  20 & 20 & 15 & 0.397 & 0.906 & 0.189\\\\\n",
       "\tresult.143 & 1 & 0.01 &  20 & 20 &  6 & 0.646 & 0.851 & 0.408\\\\\n",
       "\tresult.144 & 2 & 0.01 &  20 & 20 &  6 & 0.648 & 0.866 & 0.408\\\\\n",
       "\\end{tabular}\n"
      ],
      "text/markdown": [
       "\n",
       "A data.frame: 144 × 8\n",
       "\n",
       "| <!--/--> | V1 &lt;dbl&gt; | V2 &lt;dbl&gt; | V3 &lt;dbl&gt; | V4 &lt;dbl&gt; | iteration &lt;dbl&gt; | binary_logloss &lt;dbl&gt; | auc &lt;dbl&gt; | binary_error &lt;dbl&gt; |\n",
       "|---|---|---|---|---|---|---|---|---|\n",
       "| result.1 | 1 | 1.00 | 255 | 10 |  1 | 0.412 | 0.882 | 0.177 |\n",
       "| result.2 | 2 | 1.00 | 255 | 10 |  3 | 0.411 | 0.892 | 0.186 |\n",
       "| result.3 | 1 | 0.10 | 255 | 10 | 14 | 0.431 | 0.902 | 0.200 |\n",
       "| result.4 | 2 | 0.10 | 255 | 10 | 12 | 0.422 | 0.904 | 0.189 |\n",
       "| result.5 | 1 | 0.01 | 255 | 10 |  6 | 0.649 | 0.873 | 0.408 |\n",
       "| result.6 | 2 | 0.01 | 255 | 10 |  6 | 0.650 | 0.853 | 0.408 |\n",
       "| result.7 | 1 | 1.00 |  25 | 10 |  2 | 0.385 | 0.896 | 0.175 |\n",
       "| result.8 | 2 | 1.00 |  25 | 10 |  2 | 0.424 | 0.882 | 0.181 |\n",
       "| result.9 | 1 | 0.10 |  25 | 10 | 22 | 0.382 | 0.913 | 0.169 |\n",
       "| result.10 | 2 | 0.10 |  25 | 10 | 24 | 0.366 | 0.910 | 0.162 |\n",
       "| result.11 | 1 | 0.01 |  25 | 10 |  6 | 0.648 | 0.885 | 0.408 |\n",
       "| result.12 | 2 | 0.01 |  25 | 10 |  6 | 0.648 | 0.886 | 0.408 |\n",
       "| result.13 | 1 | 1.00 |  15 | 10 |  2 | 0.420 | 0.886 | 0.194 |\n",
       "| result.14 | 2 | 1.00 |  15 | 10 |  2 | 0.395 | 0.895 | 0.190 |\n",
       "| result.15 | 1 | 0.10 |  15 | 10 | 19 | 0.398 | 0.908 | 0.178 |\n",
       "| result.16 | 2 | 0.10 |  15 | 10 | 17 | 0.401 | 0.906 | 0.189 |\n",
       "| result.17 | 1 | 0.01 |  15 | 10 |  6 | 0.648 | 0.879 | 0.408 |\n",
       "| result.18 | 2 | 0.01 |  15 | 10 |  6 | 0.648 | 0.875 | 0.408 |\n",
       "| result.19 | 1 | 1.00 |  20 | 10 |  3 | 0.421 | 0.884 | 0.191 |\n",
       "| result.20 | 2 | 1.00 |  20 | 10 |  2 | 0.402 | 0.890 | 0.178 |\n",
       "| result.21 | 1 | 0.10 |  20 | 10 | 19 | 0.397 | 0.906 | 0.188 |\n",
       "| result.22 | 2 | 0.10 |  20 | 10 | 11 | 0.419 | 0.914 | 0.178 |\n",
       "| result.23 | 1 | 0.01 |  20 | 10 |  6 | 0.648 | 0.893 | 0.408 |\n",
       "| result.24 | 2 | 0.01 |  20 | 10 |  6 | 0.649 | 0.870 | 0.408 |\n",
       "| result.25 | 1 | 1.00 | 255 | 15 |  1 | 0.439 | 0.870 | 0.191 |\n",
       "| result.26 | 2 | 1.00 | 255 | 15 |  1 | 0.432 | 0.859 | 0.177 |\n",
       "| result.27 | 1 | 0.10 | 255 | 15 | 11 | 0.438 | 0.894 | 0.169 |\n",
       "| result.28 | 2 | 0.10 | 255 | 15 | 24 | 0.362 | 0.912 | 0.152 |\n",
       "| result.29 | 1 | 0.01 | 255 | 15 |  6 | 0.649 | 0.867 | 0.408 |\n",
       "| result.30 | 2 | 0.01 | 255 | 15 |  6 | 0.644 | 0.897 | 0.408 |\n",
       "| ⋮ | ⋮ | ⋮ | ⋮ | ⋮ | ⋮ | ⋮ | ⋮ | ⋮ |\n",
       "| result.115 | 1 | 1.00 |  20 | 15 |  1 | 0.403 | 0.896 | 0.169 |\n",
       "| result.116 | 2 | 1.00 |  20 | 15 |  1 | 0.415 | 0.882 | 0.174 |\n",
       "| result.117 | 1 | 0.10 |  20 | 15 | 11 | 0.433 | 0.898 | 0.175 |\n",
       "| result.118 | 2 | 0.10 |  20 | 15 | 14 | 0.389 | 0.914 | 0.164 |\n",
       "| result.119 | 1 | 0.01 |  20 | 15 |  6 | 0.646 | 0.876 | 0.408 |\n",
       "| result.120 | 2 | 0.01 |  20 | 15 |  6 | 0.646 | 0.875 | 0.408 |\n",
       "| result.121 | 1 | 1.00 | 255 | 20 |  1 | 0.437 | 0.869 | 0.178 |\n",
       "| result.122 | 2 | 1.00 | 255 | 20 |  1 | 0.459 | 0.862 | 0.197 |\n",
       "| result.123 | 1 | 0.10 | 255 | 20 |  9 | 0.455 | 0.900 | 0.191 |\n",
       "| result.124 | 2 | 0.10 | 255 | 20 | 17 | 0.396 | 0.897 | 0.186 |\n",
       "| result.125 | 1 | 0.01 | 255 | 20 |  6 | 0.650 | 0.842 | 0.408 |\n",
       "| result.126 | 2 | 0.01 | 255 | 20 |  6 | 0.648 | 0.854 | 0.408 |\n",
       "| result.127 | 1 | 1.00 |  25 | 20 |  1 | 0.452 | 0.840 | 0.180 |\n",
       "| result.128 | 2 | 1.00 |  25 | 20 |  1 | 0.429 | 0.864 | 0.169 |\n",
       "| result.129 | 1 | 0.10 |  25 | 20 | 22 | 0.388 | 0.902 | 0.172 |\n",
       "| result.130 | 2 | 0.10 |  25 | 20 | 17 | 0.388 | 0.900 | 0.181 |\n",
       "| result.131 | 1 | 0.01 |  25 | 20 |  6 | 0.645 | 0.867 | 0.408 |\n",
       "| result.132 | 2 | 0.01 |  25 | 20 |  6 | 0.644 | 0.897 | 0.408 |\n",
       "| result.133 | 1 | 1.00 |  15 | 20 |  1 | 0.432 | 0.881 | 0.177 |\n",
       "| result.134 | 2 | 1.00 |  15 | 20 |  1 | 0.443 | 0.875 | 0.184 |\n",
       "| result.135 | 1 | 0.10 |  15 | 20 | 19 | 0.395 | 0.910 | 0.184 |\n",
       "| result.136 | 2 | 0.10 |  15 | 20 | 14 | 0.399 | 0.905 | 0.180 |\n",
       "| result.137 | 1 | 0.01 |  15 | 20 |  6 | 0.647 | 0.865 | 0.408 |\n",
       "| result.138 | 2 | 0.01 |  15 | 20 |  6 | 0.647 | 0.881 | 0.408 |\n",
       "| result.139 | 1 | 1.00 |  20 | 20 |  1 | 0.420 | 0.871 | 0.167 |\n",
       "| result.140 | 2 | 1.00 |  20 | 20 |  1 | 0.441 | 0.844 | 0.175 |\n",
       "| result.141 | 1 | 0.10 |  20 | 20 | 20 | 0.381 | 0.908 | 0.172 |\n",
       "| result.142 | 2 | 0.10 |  20 | 20 | 15 | 0.397 | 0.906 | 0.189 |\n",
       "| result.143 | 1 | 0.01 |  20 | 20 |  6 | 0.646 | 0.851 | 0.408 |\n",
       "| result.144 | 2 | 0.01 |  20 | 20 |  6 | 0.648 | 0.866 | 0.408 |\n",
       "\n"
      ],
      "text/plain": [
       "           V1 V2   V3  V4 iteration binary_logloss auc   binary_error\n",
       "result.1   1  1.00 255 10  1        0.412          0.882 0.177       \n",
       "result.2   2  1.00 255 10  3        0.411          0.892 0.186       \n",
       "result.3   1  0.10 255 10 14        0.431          0.902 0.200       \n",
       "result.4   2  0.10 255 10 12        0.422          0.904 0.189       \n",
       "result.5   1  0.01 255 10  6        0.649          0.873 0.408       \n",
       "result.6   2  0.01 255 10  6        0.650          0.853 0.408       \n",
       "result.7   1  1.00  25 10  2        0.385          0.896 0.175       \n",
       "result.8   2  1.00  25 10  2        0.424          0.882 0.181       \n",
       "result.9   1  0.10  25 10 22        0.382          0.913 0.169       \n",
       "result.10  2  0.10  25 10 24        0.366          0.910 0.162       \n",
       "result.11  1  0.01  25 10  6        0.648          0.885 0.408       \n",
       "result.12  2  0.01  25 10  6        0.648          0.886 0.408       \n",
       "result.13  1  1.00  15 10  2        0.420          0.886 0.194       \n",
       "result.14  2  1.00  15 10  2        0.395          0.895 0.190       \n",
       "result.15  1  0.10  15 10 19        0.398          0.908 0.178       \n",
       "result.16  2  0.10  15 10 17        0.401          0.906 0.189       \n",
       "result.17  1  0.01  15 10  6        0.648          0.879 0.408       \n",
       "result.18  2  0.01  15 10  6        0.648          0.875 0.408       \n",
       "result.19  1  1.00  20 10  3        0.421          0.884 0.191       \n",
       "result.20  2  1.00  20 10  2        0.402          0.890 0.178       \n",
       "result.21  1  0.10  20 10 19        0.397          0.906 0.188       \n",
       "result.22  2  0.10  20 10 11        0.419          0.914 0.178       \n",
       "result.23  1  0.01  20 10  6        0.648          0.893 0.408       \n",
       "result.24  2  0.01  20 10  6        0.649          0.870 0.408       \n",
       "result.25  1  1.00 255 15  1        0.439          0.870 0.191       \n",
       "result.26  2  1.00 255 15  1        0.432          0.859 0.177       \n",
       "result.27  1  0.10 255 15 11        0.438          0.894 0.169       \n",
       "result.28  2  0.10 255 15 24        0.362          0.912 0.152       \n",
       "result.29  1  0.01 255 15  6        0.649          0.867 0.408       \n",
       "result.30  2  0.01 255 15  6        0.644          0.897 0.408       \n",
       "⋮          ⋮  ⋮    ⋮   ⋮  ⋮         ⋮              ⋮     ⋮           \n",
       "result.115 1  1.00  20 15  1        0.403          0.896 0.169       \n",
       "result.116 2  1.00  20 15  1        0.415          0.882 0.174       \n",
       "result.117 1  0.10  20 15 11        0.433          0.898 0.175       \n",
       "result.118 2  0.10  20 15 14        0.389          0.914 0.164       \n",
       "result.119 1  0.01  20 15  6        0.646          0.876 0.408       \n",
       "result.120 2  0.01  20 15  6        0.646          0.875 0.408       \n",
       "result.121 1  1.00 255 20  1        0.437          0.869 0.178       \n",
       "result.122 2  1.00 255 20  1        0.459          0.862 0.197       \n",
       "result.123 1  0.10 255 20  9        0.455          0.900 0.191       \n",
       "result.124 2  0.10 255 20 17        0.396          0.897 0.186       \n",
       "result.125 1  0.01 255 20  6        0.650          0.842 0.408       \n",
       "result.126 2  0.01 255 20  6        0.648          0.854 0.408       \n",
       "result.127 1  1.00  25 20  1        0.452          0.840 0.180       \n",
       "result.128 2  1.00  25 20  1        0.429          0.864 0.169       \n",
       "result.129 1  0.10  25 20 22        0.388          0.902 0.172       \n",
       "result.130 2  0.10  25 20 17        0.388          0.900 0.181       \n",
       "result.131 1  0.01  25 20  6        0.645          0.867 0.408       \n",
       "result.132 2  0.01  25 20  6        0.644          0.897 0.408       \n",
       "result.133 1  1.00  15 20  1        0.432          0.881 0.177       \n",
       "result.134 2  1.00  15 20  1        0.443          0.875 0.184       \n",
       "result.135 1  0.10  15 20 19        0.395          0.910 0.184       \n",
       "result.136 2  0.10  15 20 14        0.399          0.905 0.180       \n",
       "result.137 1  0.01  15 20  6        0.647          0.865 0.408       \n",
       "result.138 2  0.01  15 20  6        0.647          0.881 0.408       \n",
       "result.139 1  1.00  20 20  1        0.420          0.871 0.167       \n",
       "result.140 2  1.00  20 20  1        0.441          0.844 0.175       \n",
       "result.141 1  0.10  20 20 20        0.381          0.908 0.172       \n",
       "result.142 2  0.10  20 20 15        0.397          0.906 0.189       \n",
       "result.143 1  0.01  20 20  6        0.646          0.851 0.408       \n",
       "result.144 2  0.01  20 20  6        0.648          0.866 0.408       "
      ]
     },
     "metadata": {},
     "output_type": "display_data"
    }
   ],
   "source": [
    "data.frame(grid_search_result)"
   ]
  },
  {
   "cell_type": "code",
   "execution_count": null,
   "metadata": {
    "vscode": {
     "languageId": "r"
    }
   },
   "outputs": [],
   "source": [
    "# Evaluation curve\n",
    "# pred <- prediction(p, gdd_val$is_bloom)\n",
    "# eval <- performance(pred, \"acc\")\n",
    "# plot(eval)\n",
    "\n",
    "# #ROC\n",
    "# roc = performance(pred, \"tpr\", \"fpr\")\n",
    "# plot(roc, main = \"ROC curve\")\n",
    "# abline(a = 0, b = 1)"
   ]
  }
 ],
 "metadata": {
  "kernelspec": {
   "display_name": "R 4.1",
   "language": "R",
   "name": "ir41"
  },
  "language_info": {
   "codemirror_mode": "r",
   "file_extension": ".r",
   "mimetype": "text/x-r-source",
   "name": "R",
   "pygments_lexer": "r",
   "version": "4.1.2"
  },
  "orig_nbformat": 4
 },
 "nbformat": 4,
 "nbformat_minor": 2
}
