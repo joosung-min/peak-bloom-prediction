{
 "cells": [
  {
   "cell_type": "code",
   "execution_count": 1,
   "metadata": {
    "vscode": {
     "languageId": "r"
    }
   },
   "outputs": [
    {
     "name": "stderr",
     "output_type": "stream",
     "text": [
      "── \u001b[1mAttaching packages\u001b[22m ─────────────────────────────────────── tidyverse 1.3.2 ──\n",
      "\u001b[32m✔\u001b[39m \u001b[34mggplot2\u001b[39m 3.3.6      \u001b[32m✔\u001b[39m \u001b[34mpurrr  \u001b[39m 0.3.4 \n",
      "\u001b[32m✔\u001b[39m \u001b[34mtibble \u001b[39m 3.1.8      \u001b[32m✔\u001b[39m \u001b[34mdplyr  \u001b[39m 1.0.10\n",
      "\u001b[32m✔\u001b[39m \u001b[34mtidyr  \u001b[39m 1.2.1      \u001b[32m✔\u001b[39m \u001b[34mstringr\u001b[39m 1.4.1 \n",
      "\u001b[32m✔\u001b[39m \u001b[34mreadr  \u001b[39m 2.1.2      \u001b[32m✔\u001b[39m \u001b[34mforcats\u001b[39m 0.5.2 \n",
      "── \u001b[1mConflicts\u001b[22m ────────────────────────────────────────── tidyverse_conflicts() ──\n",
      "\u001b[31m✖\u001b[39m \u001b[34mdplyr\u001b[39m::\u001b[32mfilter()\u001b[39m masks \u001b[34mstats\u001b[39m::filter()\n",
      "\u001b[31m✖\u001b[39m \u001b[34mdplyr\u001b[39m::\u001b[32mlag()\u001b[39m    masks \u001b[34mstats\u001b[39m::lag()\n"
     ]
    },
    {
     "data": {
      "text/html": [
       "<table class=\"dataframe\">\n",
       "<caption>A data.frame: 3 × 9</caption>\n",
       "<thead>\n",
       "\t<tr><th></th><th scope=col>boostings</th><th scope=col>learning_rates</th><th scope=col>max_bins</th><th scope=col>num_leaves</th><th scope=col>max_depth</th><th scope=col>iteration</th><th scope=col>binary_logloss</th><th scope=col>auc</th><th scope=col>binary_error</th></tr>\n",
       "\t<tr><th></th><th scope=col>&lt;chr&gt;</th><th scope=col>&lt;dbl&gt;</th><th scope=col>&lt;int&gt;</th><th scope=col>&lt;int&gt;</th><th scope=col>&lt;int&gt;</th><th scope=col>&lt;int&gt;</th><th scope=col>&lt;dbl&gt;</th><th scope=col>&lt;dbl&gt;</th><th scope=col>&lt;dbl&gt;</th></tr>\n",
       "</thead>\n",
       "<tbody>\n",
       "\t<tr><th scope=row>105</th><td>dart</td><td>0.10</td><td>25</td><td>15</td><td>10</td><td>187</td><td>0.347</td><td>0.917</td><td>0.153</td></tr>\n",
       "\t<tr><th scope=row>35</th><td>dart</td><td>0.01</td><td>25</td><td>15</td><td>-1</td><td>996</td><td>0.351</td><td>0.922</td><td>0.152</td></tr>\n",
       "\t<tr><th scope=row>63</th><td>dart</td><td>0.10</td><td>15</td><td>20</td><td>-1</td><td> 57</td><td>0.367</td><td>0.905</td><td>0.151</td></tr>\n",
       "</tbody>\n",
       "</table>\n"
      ],
      "text/latex": [
       "A data.frame: 3 × 9\n",
       "\\begin{tabular}{r|lllllllll}\n",
       "  & boostings & learning\\_rates & max\\_bins & num\\_leaves & max\\_depth & iteration & binary\\_logloss & auc & binary\\_error\\\\\n",
       "  & <chr> & <dbl> & <int> & <int> & <int> & <int> & <dbl> & <dbl> & <dbl>\\\\\n",
       "\\hline\n",
       "\t105 & dart & 0.10 & 25 & 15 & 10 & 187 & 0.347 & 0.917 & 0.153\\\\\n",
       "\t35 & dart & 0.01 & 25 & 15 & -1 & 996 & 0.351 & 0.922 & 0.152\\\\\n",
       "\t63 & dart & 0.10 & 15 & 20 & -1 &  57 & 0.367 & 0.905 & 0.151\\\\\n",
       "\\end{tabular}\n"
      ],
      "text/markdown": [
       "\n",
       "A data.frame: 3 × 9\n",
       "\n",
       "| <!--/--> | boostings &lt;chr&gt; | learning_rates &lt;dbl&gt; | max_bins &lt;int&gt; | num_leaves &lt;int&gt; | max_depth &lt;int&gt; | iteration &lt;int&gt; | binary_logloss &lt;dbl&gt; | auc &lt;dbl&gt; | binary_error &lt;dbl&gt; |\n",
       "|---|---|---|---|---|---|---|---|---|---|\n",
       "| 105 | dart | 0.10 | 25 | 15 | 10 | 187 | 0.347 | 0.917 | 0.153 |\n",
       "| 35 | dart | 0.01 | 25 | 15 | -1 | 996 | 0.351 | 0.922 | 0.152 |\n",
       "| 63 | dart | 0.10 | 15 | 20 | -1 |  57 | 0.367 | 0.905 | 0.151 |\n",
       "\n"
      ],
      "text/plain": [
       "    boostings learning_rates max_bins num_leaves max_depth iteration\n",
       "105 dart      0.10           25       15         10        187      \n",
       "35  dart      0.01           25       15         -1        996      \n",
       "63  dart      0.10           15       20         -1         57      \n",
       "    binary_logloss auc   binary_error\n",
       "105 0.347          0.917 0.153       \n",
       "35  0.351          0.922 0.152       \n",
       "63  0.367          0.905 0.151       "
      ]
     },
     "metadata": {},
     "output_type": "display_data"
    }
   ],
   "source": [
    "library(tidyverse)\n",
    "\n",
    "# Here we train our final model using the parameters from before.\n",
    "grid_search_result <- read.csv(\"../outputs/B_outputs/B11_lgb_grid_kyoto3.csv\")\n",
    "\n",
    "best_logloss <- grid_search_result[which(grid_search_result$binary_logloss == min(grid_search_result$binary_logloss)), ]\n",
    "\n",
    "best_auc <- grid_search_result[which(grid_search_result$auc == max(grid_search_result$auc)), ]\n",
    "\n",
    "best_berror <- grid_search_result[which(grid_search_result$binary_error == min(grid_search_result$binary_error)), ]\n",
    "\n",
    "best_params <- rbind(best_logloss, best_auc, best_berror)\n",
    "best_params\n"
   ]
  },
  {
   "cell_type": "code",
   "execution_count": 2,
   "metadata": {
    "vscode": {
     "languageId": "r"
    }
   },
   "outputs": [],
   "source": [
    "# params\n",
    "param_idx <- 1\n",
    "boosting <- as.character(best_params[param_idx, \"boostings\"])\n",
    "learning_rate <- as.numeric(best_params[param_idx, \"learning_rate\"])\n",
    "max_bin <- as.numeric(best_params[param_idx, \"max_bins\"])\n",
    "num_leaves <- as.numeric(best_params[param_idx, \"num_leaves\"])\n",
    "max_depth <- as.numeric(best_params[param_idx, \"max_depth\"])\n",
    "\n",
    "seed <- 42\n",
    "\n",
    "# load data\n",
    "train_val_set <- read.csv(\"../outputs/B_outputs/B11_japan_train_val.csv\")\n",
    "test_set <- read.csv(\"../outputs/B_outputs/B11_japan_test.csv\")\n",
    "\n",
    "feature_names <- c(\"tmax\", \"tmin\", \"prcp\", \"month\", \"day\", \"daily_Cd\", \"daily_Ca\", \"Cd_cumsum\", \"Ca_cumsum\", \"lat\", \"long\", \"alt\")\n",
    "target_col <- \"is_bloom\""
   ]
  },
  {
   "cell_type": "code",
   "execution_count": null,
   "metadata": {
    "vscode": {
     "languageId": "r"
    }
   },
   "outputs": [],
   "source": [
    "library(lightgbm)\n",
    "\n",
    "# num_boosting_rounds <- 2000L\n",
    "\n",
    "    dtrain <- lgb.Dataset(\n",
    "        data = data.matrix(train_val_set[, feature_names])\n",
    "        , label = train_val_set[[target_col]]\n",
    "        , params = list(\n",
    "            min_data_in_bin = 1L\n",
    "            , max_bin = max_bin\n",
    "            )\n",
    "    )\n",
    "\n",
    "    dtest <- lgb.Dataset(\n",
    "        data = data.matrix(test_set[, feature_names])\n",
    "        , label = test_set[[target_col]]\n",
    "        \n",
    "    )\n",
    "    \n",
    "\n",
    "params <- list(\n",
    "            objective = \"binary\"\n",
    "            , metric = c(\"binary_logloss\")\n",
    "            , is_enable_sparse = TRUE\n",
    "            , min_data_in_leaf = 2L\n",
    "            , learning_rate = learning_rate\n",
    "            , boosting = boosting\n",
    "            , num_leaves = num_leaves\n",
    "            , max_depth = max_depth\n",
    "            \n",
    "    )\n",
    "valids <- list(test = dtest)\n",
    "lgb_final <- lgb.train(params = params, data = dtrain, valids = valids, nrounds = 100L, verbose = 1)\n",
    "\n",
    "saveRDS.lgb.Booster(lgb_final, file = \"../outputs/B_outputs/B21_lgb_final.rds\")"
   ]
  },
  {
   "cell_type": "code",
   "execution_count": 87,
   "metadata": {
    "vscode": {
     "languageId": "r"
    }
   },
   "outputs": [
    {
     "data": {
      "text/plain": [
       "<lgb.Booster>\n",
       "  Public:\n",
       "    add_valid: function (data, name) \n",
       "    best_iter: 39\n",
       "    best_score: NA\n",
       "    current_iter: function () \n",
       "    dump_model: function (num_iteration = NULL, feature_importance_type = 0L) \n",
       "    eval: function (data, name, feval = NULL) \n",
       "    eval_train: function (feval = NULL) \n",
       "    eval_valid: function (feval = NULL) \n",
       "    finalize: function () \n",
       "    initialize: function (params = list(), train_set = NULL, modelfile = NULL, \n",
       "    lower_bound: function () \n",
       "    params: list\n",
       "    predict: function (data, start_iteration = NULL, num_iteration = NULL, \n",
       "    raw: NA\n",
       "    record_evals: list\n",
       "    reset_parameter: function (params, ...) \n",
       "    rollback_one_iter: function () \n",
       "    save: function () \n",
       "    save_model: function (filename, num_iteration = NULL, feature_importance_type = 0L) \n",
       "    save_model_to_string: function (num_iteration = NULL, feature_importance_type = 0L) \n",
       "    set_train_data_name: function (name) \n",
       "    to_predictor: function () \n",
       "    update: function (train_set = NULL, fobj = NULL) \n",
       "    upper_bound: function () \n",
       "  Private:\n",
       "    eval_names: NULL\n",
       "    get_eval_info: function () \n",
       "    handle: lgb.Booster.handle\n",
       "    higher_better_inner_eval: NULL\n",
       "    init_predictor: NULL\n",
       "    inner_eval: function (data_name, data_idx, feval = NULL) \n",
       "    inner_predict: function (idx) \n",
       "    is_predicted_cur_iter: list\n",
       "    name_train_set: training\n",
       "    name_valid_sets: list\n",
       "    num_class: 1\n",
       "    num_dataset: 0\n",
       "    predict_buffer: list\n",
       "    set_objective_to_none: FALSE\n",
       "    train_set: NULL\n",
       "    train_set_version: 0\n",
       "    valid_sets: list"
      ]
     },
     "metadata": {},
     "output_type": "display_data"
    }
   ],
   "source": [
    "print(lgb_final$best_iter)\n",
    "print(lgb_final$best_score)\n"
   ]
  },
  {
   "cell_type": "code",
   "execution_count": 13,
   "metadata": {
    "vscode": {
     "languageId": "r"
    }
   },
   "outputs": [
    {
     "name": "stderr",
     "output_type": "stream",
     "text": [
      "Loading required package: R6\n",
      "\n",
      "\n",
      "Attaching package: ‘lightgbm’\n",
      "\n",
      "\n",
      "The following object is masked from ‘package:dplyr’:\n",
      "\n",
      "    slice\n",
      "\n",
      "\n",
      "Loading required package: lattice\n",
      "\n",
      "\n",
      "Attaching package: ‘caret’\n",
      "\n",
      "\n",
      "The following object is masked from ‘package:purrr’:\n",
      "\n",
      "    lift\n",
      "\n",
      "\n"
     ]
    },
    {
     "data": {
      "text/plain": [
       "Confusion Matrix and Statistics\n",
       "\n",
       "          Reference\n",
       "Prediction  0  1\n",
       "         0 51  7\n",
       "         1  8 24\n",
       "                                        \n",
       "               Accuracy : 0.8333        \n",
       "                 95% CI : (0.74, 0.9036)\n",
       "    No Information Rate : 0.6556        \n",
       "    P-Value [Acc > NIR] : 0.0001436     \n",
       "                                        \n",
       "                  Kappa : 0.6337        \n",
       "                                        \n",
       " Mcnemar's Test P-Value : 1.0000000     \n",
       "                                        \n",
       "            Sensitivity : 0.8644        \n",
       "            Specificity : 0.7742        \n",
       "         Pos Pred Value : 0.8793        \n",
       "         Neg Pred Value : 0.7500        \n",
       "             Prevalence : 0.6556        \n",
       "         Detection Rate : 0.5667        \n",
       "   Detection Prevalence : 0.6444        \n",
       "      Balanced Accuracy : 0.8193        \n",
       "                                        \n",
       "       'Positive' Class : 0             \n",
       "                                        "
      ]
     },
     "metadata": {},
     "output_type": "display_data"
    }
   ],
   "source": [
    "# Run below codes after running the above\n",
    "library(tidyverse)\n",
    "library(lightgbm)\n",
    "lgb_load <- readRDS.lgb.Booster('../outputs/B_outputs/B21_lgb_final.rds')\n",
    "\n",
    "pred <- predict(lgb_load, as.matrix(test_set[, feature_names]))\n",
    "test_set$predicted <- ifelse(pred > 0.5, 1, 0)\n",
    "\n",
    "library(caret)\n",
    "confusionMatrix(factor(test_set$predicted), factor(test_set$is_bloom))"
   ]
  },
  {
   "cell_type": "code",
   "execution_count": 84,
   "metadata": {
    "vscode": {
     "languageId": "r"
    }
   },
   "outputs": [
    {
     "data": {
      "image/png": "[encoded data removed]",
      "text/plain": [
       "Plot with title “ROC curve”"
      ]
     },
     "metadata": {
      "image/png": {
       "height": 420,
       "width": 420
      }
     },
     "output_type": "display_data"
    }
   ],
   "source": [
    "library(ROCR)\n",
    "roc_pred <- prediction(pred, test_set$is_bloom)\n",
    "roc <- performance(roc_pred, \"sens\", \"spec\")\n",
    "plot(roc, main=\"ROC curve\")\n",
    "abline(a=0, b=1)"
   ]
  },
  {
   "cell_type": "code",
   "execution_count": 85,
   "metadata": {
    "vscode": {
     "languageId": "r"
    }
   },
   "outputs": [
    {
     "data": {
      "image/png": "[encoded data removed]",
      "text/plain": [
       "Plot with title “Feature Importance”"
      ]
     },
     "metadata": {
      "image/png": {
       "height": 420,
       "width": 420
      }
     },
     "output_type": "display_data"
    }
   ],
   "source": [
    "lgb_imp <- lgb.importance(lgb_load, percentage = TRUE)\n",
    "lgb.plot.importance(lgb_imp, top_n = 10L, measure = \"Gain\")"
   ]
  },
  {
   "cell_type": "code",
   "execution_count": 86,
   "metadata": {
    "vscode": {
     "languageId": "r"
    }
   },
   "outputs": [],
   "source": [
    "# lgb.save(booster = lgb_final, filename = \"../B_outputs/B21_lgb_final2.txt\", num_iteration = NULL)\n",
    "# aa <- lgb.load(filename = \"../B_outputs/B21_lgb_final2.rds\")\n",
    "# pred2 <- predict(aa, as.matrix(test_set[, feature_names]))\n",
    "# pred2"
   ]
  },
  {
   "cell_type": "code",
   "execution_count": 6,
   "metadata": {
    "vscode": {
     "languageId": "r"
    }
   },
   "outputs": [
    {
     "data": {
      "text/html": [
       "<style>\n",
       ".list-inline {list-style: none; margin:0; padding: 0}\n",
       ".list-inline>li {display: inline-block}\n",
       ".list-inline>li:not(:last-child)::after {content: \"\\00b7\"; padding: 0 .5ex}\n",
       "</style>\n",
       "<ol class=list-inline><li>6002</li><li>20</li></ol>\n"
      ],
      "text/latex": [
       "\\begin{enumerate*}\n",
       "\\item 6002\n",
       "\\item 20\n",
       "\\end{enumerate*}\n"
      ],
      "text/markdown": [
       "1. 6002\n",
       "2. 20\n",
       "\n",
       "\n"
      ],
      "text/plain": [
       "[1] 6002   20"
      ]
     },
     "metadata": {},
     "output_type": "display_data"
    }
   ],
   "source": [
    "gdd_data <- read.csv(\"../outputs/A_outputs/A41_gdd_kyoto.csv\") %>%\n",
    "    filter(year %in% 2012:2023)\n",
    "dim(gdd_data)\n",
    "\n"
   ]
  },
  {
   "cell_type": "code",
   "execution_count": 20,
   "metadata": {
    "vscode": {
     "languageId": "r"
    }
   },
   "outputs": [
    {
     "data": {
      "text/html": [
       "'HAMADA'"
      ],
      "text/latex": [
       "'HAMADA'"
      ],
      "text/markdown": [
       "'HAMADA'"
      ],
      "text/plain": [
       "[1] \"HAMADA\""
      ]
     },
     "metadata": {},
     "output_type": "display_data"
    }
   ],
   "source": [
    "aa <- gdd_data[gdd_data$is_bloom, ]\n",
    "unique(aa$name)"
   ]
  },
  {
   "cell_type": "code",
   "execution_count": 19,
   "metadata": {
    "vscode": {
     "languageId": "r"
    }
   },
   "outputs": [
    {
     "data": {
      "text/html": [
       "<table class=\"dataframe\">\n",
       "<caption>A data.frame: 0 × 20</caption>\n",
       "<thead>\n",
       "\t<tr><th scope=col>name</th><th scope=col>date</th><th scope=col>id</th><th scope=col>tmax</th><th scope=col>tmin</th><th scope=col>prcp</th><th scope=col>year</th><th scope=col>month</th><th scope=col>day</th><th scope=col>row_num</th><th scope=col>id_rownum</th><th scope=col>daily_Cd</th><th scope=col>daily_Ca</th><th scope=col>Cd_cumsum</th><th scope=col>Ca_cumsum</th><th scope=col>lat</th><th scope=col>long</th><th scope=col>alt</th><th scope=col>bloom_doy</th><th scope=col>is_bloom</th></tr>\n",
       "\t<tr><th scope=col>&lt;chr&gt;</th><th scope=col>&lt;chr&gt;</th><th scope=col>&lt;chr&gt;</th><th scope=col>&lt;dbl&gt;</th><th scope=col>&lt;dbl&gt;</th><th scope=col>&lt;dbl&gt;</th><th scope=col>&lt;int&gt;</th><th scope=col>&lt;int&gt;</th><th scope=col>&lt;int&gt;</th><th scope=col>&lt;int&gt;</th><th scope=col>&lt;chr&gt;</th><th scope=col>&lt;dbl&gt;</th><th scope=col>&lt;dbl&gt;</th><th scope=col>&lt;dbl&gt;</th><th scope=col>&lt;dbl&gt;</th><th scope=col>&lt;dbl&gt;</th><th scope=col>&lt;dbl&gt;</th><th scope=col>&lt;dbl&gt;</th><th scope=col>&lt;int&gt;</th><th scope=col>&lt;int&gt;</th></tr>\n",
       "</thead>\n",
       "<tbody>\n",
       "</tbody>\n",
       "</table>\n"
      ],
      "text/latex": [
       "A data.frame: 0 × 20\n",
       "\\begin{tabular}{llllllllllllllllllll}\n",
       " name & date & id & tmax & tmin & prcp & year & month & day & row\\_num & id\\_rownum & daily\\_Cd & daily\\_Ca & Cd\\_cumsum & Ca\\_cumsum & lat & long & alt & bloom\\_doy & is\\_bloom\\\\\n",
       " <chr> & <chr> & <chr> & <dbl> & <dbl> & <dbl> & <int> & <int> & <int> & <int> & <chr> & <dbl> & <dbl> & <dbl> & <dbl> & <dbl> & <dbl> & <dbl> & <int> & <int>\\\\\n",
       "\\hline\n",
       "\\end{tabular}\n"
      ],
      "text/markdown": [
       "\n",
       "A data.frame: 0 × 20\n",
       "\n",
       "| name &lt;chr&gt; | date &lt;chr&gt; | id &lt;chr&gt; | tmax &lt;dbl&gt; | tmin &lt;dbl&gt; | prcp &lt;dbl&gt; | year &lt;int&gt; | month &lt;int&gt; | day &lt;int&gt; | row_num &lt;int&gt; | id_rownum &lt;chr&gt; | daily_Cd &lt;dbl&gt; | daily_Ca &lt;dbl&gt; | Cd_cumsum &lt;dbl&gt; | Ca_cumsum &lt;dbl&gt; | lat &lt;dbl&gt; | long &lt;dbl&gt; | alt &lt;dbl&gt; | bloom_doy &lt;int&gt; | is_bloom &lt;int&gt; |\n",
       "|---|---|---|---|---|---|---|---|---|---|---|---|---|---|---|---|---|---|---|---|\n",
       "\n"
      ],
      "text/plain": [
       "     name date id tmax tmin prcp year month day row_num id_rownum daily_Cd\n",
       "     daily_Ca Cd_cumsum Ca_cumsum lat long alt bloom_doy is_bloom"
      ]
     },
     "metadata": {},
     "output_type": "display_data"
    },
    {
     "data": {
      "text/html": [
       "<style>\n",
       ".list-inline {list-style: none; margin:0; padding: 0}\n",
       ".list-inline>li {display: inline-block}\n",
       ".list-inline>li:not(:last-child)::after {content: \"\\00b7\"; padding: 0 .5ex}\n",
       "</style>\n",
       "<ol class=list-inline><li>43</li><li>20</li></ol>\n"
      ],
      "text/latex": [
       "\\begin{enumerate*}\n",
       "\\item 43\n",
       "\\item 20\n",
       "\\end{enumerate*}\n"
      ],
      "text/markdown": [
       "1. 43\n",
       "2. 20\n",
       "\n",
       "\n"
      ],
      "text/plain": [
       "[1] 43 20"
      ]
     },
     "metadata": {},
     "output_type": "display_data"
    }
   ],
   "source": [
    "# for one year\n",
    "\n",
    "yr = 2020\n",
    "year_data <- gdd_data %>% filter(year == yr & name == \"KYOTO\")\n",
    "head(year_data[year_data$is_bloom == 1, ])\n",
    "dim(year_data)\n",
    "\n",
    "# Make prediction on this data\n",
    "# feature_names <- c(\"tmax\", \"tmin\", \"prcp\", \"month\", \"day\", \"daily_Cd\", \"daily_Ca\", \"Cd_cumsum\", \"Ca_cumsum\", \"lat\", \"long\", \"alt\")\n",
    "# target_col <- \"is_bloom\"\n",
    "\n",
    "# pred <- predict(lgb_load, as.matrix(year_data[, feature_names]))\n",
    "# year_data$predicted <- ifelse(pred > 0.5, 1, 0)\n",
    "# year_data[year_data$is_bloom == 1, ]\n"
   ]
  },
  {
   "cell_type": "code",
   "execution_count": null,
   "metadata": {
    "vscode": {
     "languageId": "r"
    }
   },
   "outputs": [],
   "source": []
  }
 ],
 "metadata": {
  "kernelspec": {
   "display_name": "R 4.1",
   "language": "R",
   "name": "ir41"
  },
  "language_info": {
   "codemirror_mode": "r",
   "file_extension": ".r",
   "mimetype": "text/x-r-source",
   "name": "R",
   "pygments_lexer": "r",
   "version": "4.1.2"
  },
  "orig_nbformat": 4
 },
 "nbformat": 4,
 "nbformat_minor": 2
}
