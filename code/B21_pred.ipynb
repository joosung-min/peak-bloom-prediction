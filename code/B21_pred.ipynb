{
 "cells": [
  {
   "cell_type": "code",
   "execution_count": 4,
   "metadata": {
    "vscode": {
     "languageId": "r"
    }
   },
   "outputs": [
    {
     "name": "stderr",
     "output_type": "stream",
     "text": [
      "── \u001b[1mAttaching packages\u001b[22m ─────────────────────────────────────── tidyverse 1.3.2 ──\n",
      "\u001b[32m✔\u001b[39m \u001b[34mggplot2\u001b[39m 3.3.6      \u001b[32m✔\u001b[39m \u001b[34mpurrr  \u001b[39m 0.3.4 \n",
      "\u001b[32m✔\u001b[39m \u001b[34mtibble \u001b[39m 3.1.8      \u001b[32m✔\u001b[39m \u001b[34mdplyr  \u001b[39m 1.0.10\n",
      "\u001b[32m✔\u001b[39m \u001b[34mtidyr  \u001b[39m 1.2.1      \u001b[32m✔\u001b[39m \u001b[34mstringr\u001b[39m 1.4.1 \n",
      "\u001b[32m✔\u001b[39m \u001b[34mreadr  \u001b[39m 2.1.2      \u001b[32m✔\u001b[39m \u001b[34mforcats\u001b[39m 0.5.2 \n",
      "── \u001b[1mConflicts\u001b[22m ────────────────────────────────────────── tidyverse_conflicts() ──\n",
      "\u001b[31m✖\u001b[39m \u001b[34mdplyr\u001b[39m::\u001b[32mfilter()\u001b[39m masks \u001b[34mstats\u001b[39m::filter()\n",
      "\u001b[31m✖\u001b[39m \u001b[34mdplyr\u001b[39m::\u001b[32mlag()\u001b[39m    masks \u001b[34mstats\u001b[39m::lag()\n"
     ]
    },
    {
     "data": {
      "text/html": [
       "<table class=\"dataframe\">\n",
       "<caption>A data.frame: 3 × 9</caption>\n",
       "<thead>\n",
       "\t<tr><th></th><th scope=col>boostings</th><th scope=col>learning_rates</th><th scope=col>max_bins</th><th scope=col>num_leaves</th><th scope=col>max_depth</th><th scope=col>iteration</th><th scope=col>binary_logloss</th><th scope=col>auc</th><th scope=col>binary_error</th></tr>\n",
       "\t<tr><th></th><th scope=col>&lt;chr&gt;</th><th scope=col>&lt;dbl&gt;</th><th scope=col>&lt;int&gt;</th><th scope=col>&lt;int&gt;</th><th scope=col>&lt;int&gt;</th><th scope=col>&lt;int&gt;</th><th scope=col>&lt;dbl&gt;</th><th scope=col>&lt;dbl&gt;</th><th scope=col>&lt;dbl&gt;</th></tr>\n",
       "</thead>\n",
       "<tbody>\n",
       "\t<tr><th scope=row>105</th><td>dart</td><td>0.10</td><td>25</td><td>15</td><td>10</td><td>187</td><td>0.347</td><td>0.917</td><td>0.153</td></tr>\n",
       "\t<tr><th scope=row>35</th><td>dart</td><td>0.01</td><td>25</td><td>15</td><td>-1</td><td>996</td><td>0.351</td><td>0.922</td><td>0.152</td></tr>\n",
       "\t<tr><th scope=row>63</th><td>dart</td><td>0.10</td><td>15</td><td>20</td><td>-1</td><td> 57</td><td>0.367</td><td>0.905</td><td>0.151</td></tr>\n",
       "</tbody>\n",
       "</table>\n"
      ],
      "text/latex": [
       "A data.frame: 3 × 9\n",
       "\\begin{tabular}{r|lllllllll}\n",
       "  & boostings & learning\\_rates & max\\_bins & num\\_leaves & max\\_depth & iteration & binary\\_logloss & auc & binary\\_error\\\\\n",
       "  & <chr> & <dbl> & <int> & <int> & <int> & <int> & <dbl> & <dbl> & <dbl>\\\\\n",
       "\\hline\n",
       "\t105 & dart & 0.10 & 25 & 15 & 10 & 187 & 0.347 & 0.917 & 0.153\\\\\n",
       "\t35 & dart & 0.01 & 25 & 15 & -1 & 996 & 0.351 & 0.922 & 0.152\\\\\n",
       "\t63 & dart & 0.10 & 15 & 20 & -1 &  57 & 0.367 & 0.905 & 0.151\\\\\n",
       "\\end{tabular}\n"
      ],
      "text/markdown": [
       "\n",
       "A data.frame: 3 × 9\n",
       "\n",
       "| <!--/--> | boostings &lt;chr&gt; | learning_rates &lt;dbl&gt; | max_bins &lt;int&gt; | num_leaves &lt;int&gt; | max_depth &lt;int&gt; | iteration &lt;int&gt; | binary_logloss &lt;dbl&gt; | auc &lt;dbl&gt; | binary_error &lt;dbl&gt; |\n",
       "|---|---|---|---|---|---|---|---|---|---|\n",
       "| 105 | dart | 0.10 | 25 | 15 | 10 | 187 | 0.347 | 0.917 | 0.153 |\n",
       "| 35 | dart | 0.01 | 25 | 15 | -1 | 996 | 0.351 | 0.922 | 0.152 |\n",
       "| 63 | dart | 0.10 | 15 | 20 | -1 |  57 | 0.367 | 0.905 | 0.151 |\n",
       "\n"
      ],
      "text/plain": [
       "    boostings learning_rates max_bins num_leaves max_depth iteration\n",
       "105 dart      0.10           25       15         10        187      \n",
       "35  dart      0.01           25       15         -1        996      \n",
       "63  dart      0.10           15       20         -1         57      \n",
       "    binary_logloss auc   binary_error\n",
       "105 0.347          0.917 0.153       \n",
       "35  0.351          0.922 0.152       \n",
       "63  0.367          0.905 0.151       "
      ]
     },
     "metadata": {},
     "output_type": "display_data"
    }
   ],
   "source": [
    "library(tidyverse)\n",
    "\n",
    "# Here we train our final model using the parameters from before.\n",
    "grid_search_result <- read.csv(\"../outputs/B_outputs/B11_lgb_grid_kyoto3.csv\")\n",
    "\n",
    "best_logloss <- grid_search_result[which(grid_search_result$binary_logloss == min(grid_search_result$binary_logloss)), ]\n",
    "\n",
    "best_auc <- grid_search_result[which(grid_search_result$auc == max(grid_search_result$auc)), ]\n",
    "\n",
    "best_berror <- grid_search_result[which(grid_search_result$binary_error == min(grid_search_result$binary_error)), ]\n",
    "\n",
    "best_params <- rbind(best_logloss, best_auc, best_berror)\n",
    "best_params\n"
   ]
  },
  {
   "cell_type": "code",
   "execution_count": 5,
   "metadata": {
    "vscode": {
     "languageId": "r"
    }
   },
   "outputs": [],
   "source": [
    "# params\n",
    "\n",
    "boosting <- as.character(best_params[2, \"boostings\"])\n",
    "learning_rate <- as.numeric(best_params[2, \"learning_rate\"])\n",
    "max_bin <- as.numeric(best_params[2, \"max_bins\"])\n",
    "num_leaves <- as.numeric(best_params[2, \"num_leaves\"])\n",
    "max_depth <- as.numeric(best_params[2, \"max_depth\"])\n",
    "\n",
    "seed <- 42\n",
    "\n",
    "# load data\n",
    "train_val_set <- read.csv(\"../outputs/B_outputs/B11_japan_train_val.csv\")\n",
    "test_set <- read.csv(\"../outputs/B_outputs/B11_japan_test.csv\")\n",
    "\n",
    "feature_names <- c(\"tmax\", \"tmin\", \"prcp\", \"month\", \"day\", \"daily_Cd\", \"daily_Ca\", \"Cd_cumsum\", \"Ca_cumsum\", \"lat\", \"long\", \"alt\")\n",
    "target_col <- \"is_bloom\""
   ]
  },
  {
   "cell_type": "code",
   "execution_count": 29,
   "metadata": {
    "vscode": {
     "languageId": "r"
    }
   },
   "outputs": [
    {
     "name": "stdout",
     "output_type": "stream",
     "text": [
      "[LightGBM] [Info] Number of positive: 261, number of negative: 379\n",
      "[LightGBM] [Warning] Auto-choosing col-wise multi-threading, the overhead of testing was 0.806479 seconds.\n",
      "You can set `force_col_wise=true` to remove the overhead.\n",
      "[LightGBM] [Info] Total Bins 238\n",
      "[LightGBM] [Info] Number of data points in the train set: 640, number of used features: 12\n",
      "[LightGBM] [Info] [binary:BoostFromScore]: pavg=0.407813 -> initscore=-0.373016\n",
      "[LightGBM] [Info] Start training from score -0.373016\n",
      "[1] \"[1]:  test's binary_logloss:0.61532  test's auc:0.835429  test's binary_error:0.344444\"\n",
      "[1] \"[2]:  test's binary_logloss:0.586297  test's auc:0.833516  test's binary_error:0.344444\"\n",
      "[1] \"[3]:  test's binary_logloss:0.558999  test's auc:0.84199  test's binary_error:0.266667\"\n",
      "[1] \"[4]:  test's binary_logloss:0.540583  test's auc:0.843084  test's binary_error:0.244444\"\n",
      "[1] \"[5]:  test's binary_logloss:0.52904  test's auc:0.835429  test's binary_error:0.266667\"\n"
     ]
    }
   ],
   "source": [
    "library(lightgbm)\n",
    "\n",
    "# num_boosting_rounds <- 2000L\n",
    "\n",
    "    dtrain <- lgb.Dataset(\n",
    "        data = data.matrix(train_val_set[, feature_names])\n",
    "        , label = train_val_set[[target_col]]\n",
    "        , params = list(\n",
    "            min_data_in_bin = 1L\n",
    "            , max_bin = max_bin\n",
    "            )\n",
    "    )\n",
    "\n",
    "    dtest <- lgb.Dataset(\n",
    "        data = data.matrix(test_set[, feature_names])\n",
    "        , label = test_set[[target_col]]\n",
    "        \n",
    "    )\n",
    "    \n",
    "\n",
    "params <- list(\n",
    "            objective = \"binary\"\n",
    "            , metric = c(\"binary_logloss\", \"auc\", \"binary_error\")\n",
    "            , is_enable_sparse = TRUE\n",
    "            , min_data_in_leaf = 2L\n",
    "            , learning_rate = learning_rate\n",
    "            , boosting = boosting\n",
    "            , num_leaves = num_leaves\n",
    "            , max_depth = max_depth\n",
    "            \n",
    "    )\n",
    "valids <- list(test = dtest)\n",
    "lgb_final <- lgb.train(params = params, data = dtrain, valids = valids, nrounds = 1000L, verbose = -1)\n",
    "\n",
    "saveRDS.lgb.Booster(lgb_final, file = \"../outputs/B_outputs/B21_lgb_final.rds\")"
   ]
  },
  {
   "cell_type": "code",
   "execution_count": 50,
   "metadata": {
    "vscode": {
     "languageId": "r"
    }
   },
   "outputs": [
    {
     "name": "stderr",
     "output_type": "stream",
     "text": [
      "Loading required package: lattice\n",
      "\n",
      "\n",
      "Attaching package: ‘caret’\n",
      "\n",
      "\n",
      "The following object is masked from ‘package:purrr’:\n",
      "\n",
      "    lift\n",
      "\n",
      "\n"
     ]
    },
    {
     "data": {
      "text/plain": [
       "Confusion Matrix and Statistics\n",
       "\n",
       "          Reference\n",
       "Prediction  0  1\n",
       "         0 48 13\n",
       "         1 11 18\n",
       "                                          \n",
       "               Accuracy : 0.7333          \n",
       "                 95% CI : (0.6297, 0.8211)\n",
       "    No Information Rate : 0.6556          \n",
       "    P-Value [Acc > NIR] : 0.0726          \n",
       "                                          \n",
       "                  Kappa : 0.4003          \n",
       "                                          \n",
       " Mcnemar's Test P-Value : 0.8383          \n",
       "                                          \n",
       "            Sensitivity : 0.8136          \n",
       "            Specificity : 0.5806          \n",
       "         Pos Pred Value : 0.7869          \n",
       "         Neg Pred Value : 0.6207          \n",
       "             Prevalence : 0.6556          \n",
       "         Detection Rate : 0.5333          \n",
       "   Detection Prevalence : 0.6778          \n",
       "      Balanced Accuracy : 0.6971          \n",
       "                                          \n",
       "       'Positive' Class : 0               \n",
       "                                          "
      ]
     },
     "metadata": {},
     "output_type": "display_data"
    }
   ],
   "source": [
    "lgb_load <- readRDS.lgb.Booster('../outputs/B_outputs/B21_lgb_final.rds')\n",
    "\n",
    "pred <- predict(lgb_load, as.matrix(test_set[, feature_names]))\n",
    "test_set$predicted <- ifelse(pred > 0.5, 1, 0)\n",
    "\n",
    "library(caret)\n",
    "confusionMatrix(factor(test_set$predicted), factor(test_set$is_bloom))"
   ]
  },
  {
   "cell_type": "code",
   "execution_count": 57,
   "metadata": {
    "vscode": {
     "languageId": "r"
    }
   },
   "outputs": [
    {
     "ename": "ERROR",
     "evalue": "Error in booster$save_model(filename = filename, num_iteration = num_iteration): Model file ../B_outputs/B21_lgb_final2.txt is not available for writes\n\n",
     "output_type": "error",
     "traceback": [
      "Error in booster$save_model(filename = filename, num_iteration = num_iteration): Model file ../B_outputs/B21_lgb_final2.txt is not available for writes\n\nTraceback:\n",
      "1. lgb.save(booster = lgb_final, filename = \"../B_outputs/B21_lgb_final2.txt\", \n .     num_iteration = NULL)",
      "2. booster$save_model(filename = filename, num_iteration = num_iteration)"
     ]
    }
   ],
   "source": [
    "# lgb.save(booster = lgb_final, filename = \"../B_outputs/B21_lgb_final2.txt\", num_iteration = NULL)\n",
    "# aa <- lgb.load(filename = \"../B_outputs/B21_lgb_final2.rds\")\n",
    "# pred2 <- predict(aa, as.matrix(test_set[, feature_names]))\n",
    "# pred2"
   ]
  },
  {
   "cell_type": "code",
   "execution_count": null,
   "metadata": {
    "vscode": {
     "languageId": "r"
    }
   },
   "outputs": [],
   "source": []
  }
 ],
 "metadata": {
  "kernelspec": {
   "display_name": "R 4.1",
   "language": "R",
   "name": "ir41"
  },
  "language_info": {
   "codemirror_mode": "r",
   "file_extension": ".r",
   "mimetype": "text/x-r-source",
   "name": "R",
   "pygments_lexer": "r",
   "version": "4.1.2"
  },
  "orig_nbformat": 4
 },
 "nbformat": 4,
 "nbformat_minor": 2
}
