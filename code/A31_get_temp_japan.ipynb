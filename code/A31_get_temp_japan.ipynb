{
 "cells": [
  {
   "cell_type": "code",
   "execution_count": 5,
   "metadata": {
    "vscode": {
     "languageId": "r"
    }
   },
   "outputs": [
    {
     "name": "stderr",
     "output_type": "stream",
     "text": [
      "Warning message in scan(file = file, what = what, sep = sep, quote = quote, dec = dec, :\n",
      "“EOF within quoted string”\n"
     ]
    },
    {
     "data": {
      "text/html": [
       "<style>\n",
       ".list-inline {list-style: none; margin:0; padding: 0}\n",
       ".list-inline>li {display: inline-block}\n",
       ".list-inline>li:not(:last-child)::after {content: \"\\00b7\"; padding: 0 .5ex}\n",
       "</style>\n",
       "<ol class=list-inline><li>'JA000047636'</li><li>'JA000047651'</li><li>'JA000047654'</li><li>'JA000047656'</li><li>'JA000047672'</li><li>'JA000047675'</li><li>'JA000047755'</li><li>'JA000047759'</li><li>'JA000047761'</li></ol>\n"
      ],
      "text/latex": [
       "\\begin{enumerate*}\n",
       "\\item 'JA000047636'\n",
       "\\item 'JA000047651'\n",
       "\\item 'JA000047654'\n",
       "\\item 'JA000047656'\n",
       "\\item 'JA000047672'\n",
       "\\item 'JA000047675'\n",
       "\\item 'JA000047755'\n",
       "\\item 'JA000047759'\n",
       "\\item 'JA000047761'\n",
       "\\end{enumerate*}\n"
      ],
      "text/markdown": [
       "1. 'JA000047636'\n",
       "2. 'JA000047651'\n",
       "3. 'JA000047654'\n",
       "4. 'JA000047656'\n",
       "5. 'JA000047672'\n",
       "6. 'JA000047675'\n",
       "7. 'JA000047755'\n",
       "8. 'JA000047759'\n",
       "9. 'JA000047761'\n",
       "\n",
       "\n"
      ],
      "text/plain": [
       "[1] \"JA000047636\" \"JA000047651\" \"JA000047654\" \"JA000047656\" \"JA000047672\"\n",
       "[6] \"JA000047675\" \"JA000047755\" \"JA000047759\" \"JA000047761\""
      ]
     },
     "metadata": {},
     "output_type": "display_data"
    }
   ],
   "source": [
    "library(tidyverse)\n",
    "library(rnoaa)\n",
    "\n",
    "# pull stations that are located in similar latitude to Kyoto (35.01)\n",
    "station_df <- read.csv(\"../A_outputs/A31_stations.csv\") %>%\n",
    "    filter(str_sub(id, start = 1, end = 2) == \"JA\") %>%\n",
    "    filter(34.7 <latitude & latitude < 35.3) %>%\n",
    "    filter(2021 < last_year)\n",
    "station_cities <- station_df$name\n",
    "# dim(station_df)\n",
    "# station_df\n",
    "\n",
    "# pull cherry_sub.csv\n",
    "cherry_sub <- read.csv(\"../A_outputs/A11_cherry_sub.csv\") %>%\n",
    "    filter(country == \"Japan\") %>%\n",
    "    filter(toupper(city) %in% station_cities)\n",
    "\n",
    "cities <- unique(cherry_sub$city)\n",
    "station_ids <- station_df[station_df$name %in% toupper(cherry_sub$city), \"id\"]\n",
    "station_ids # 9 station ids\n",
    "\n",
    "id_city <- station_df[station_df$name %in% toupper(cherry_sub$city), c(\"id\", \"name\", \"latitude\", \"longitude\", \"elevation\")]\n",
    "write.csv(id_city, \"../A_outputs/A31_japan_station_city.csv\")"
   ]
  },
  {
   "cell_type": "code",
   "execution_count": 7,
   "metadata": {
    "vscode": {
     "languageId": "r"
    }
   },
   "outputs": [
    {
     "data": {
      "text/html": [
       "<table class=\"dataframe\">\n",
       "<caption>A data.frame: 6 × 9</caption>\n",
       "<thead>\n",
       "\t<tr><th></th><th scope=col>location</th><th scope=col>lat</th><th scope=col>long</th><th scope=col>alt</th><th scope=col>year</th><th scope=col>bloom_date</th><th scope=col>bloom_doy</th><th scope=col>country</th><th scope=col>city</th></tr>\n",
       "\t<tr><th></th><th scope=col>&lt;chr&gt;</th><th scope=col>&lt;dbl&gt;</th><th scope=col>&lt;dbl&gt;</th><th scope=col>&lt;dbl&gt;</th><th scope=col>&lt;int&gt;</th><th scope=col>&lt;chr&gt;</th><th scope=col>&lt;int&gt;</th><th scope=col>&lt;chr&gt;</th><th scope=col>&lt;chr&gt;</th></tr>\n",
       "</thead>\n",
       "<tbody>\n",
       "\t<tr><th scope=row>1</th><td>Japan/Nagoya</td><td>35.16778</td><td>136.9656</td><td>51.1</td><td>1953</td><td>1953-04-12</td><td>102</td><td>Japan</td><td>Nagoya</td></tr>\n",
       "\t<tr><th scope=row>2</th><td>Japan/Nagoya</td><td>35.16833</td><td>136.9647</td><td>51.1</td><td>1953</td><td>1953-04-12</td><td>102</td><td>Japan</td><td>Nagoya</td></tr>\n",
       "\t<tr><th scope=row>3</th><td>Japan/Nagoya</td><td>35.16778</td><td>136.9656</td><td>51.1</td><td>1954</td><td>1954-04-04</td><td> 94</td><td>Japan</td><td>Nagoya</td></tr>\n",
       "\t<tr><th scope=row>4</th><td>Japan/Nagoya</td><td>35.16833</td><td>136.9647</td><td>51.1</td><td>1954</td><td>1954-04-04</td><td> 94</td><td>Japan</td><td>Nagoya</td></tr>\n",
       "\t<tr><th scope=row>5</th><td>Japan/Nagoya</td><td>35.16778</td><td>136.9656</td><td>51.1</td><td>1955</td><td>1955-04-03</td><td> 93</td><td>Japan</td><td>Nagoya</td></tr>\n",
       "\t<tr><th scope=row>6</th><td>Japan/Nagoya</td><td>35.16833</td><td>136.9647</td><td>51.1</td><td>1955</td><td>1955-04-03</td><td> 93</td><td>Japan</td><td>Nagoya</td></tr>\n",
       "</tbody>\n",
       "</table>\n"
      ],
      "text/latex": [
       "A data.frame: 6 × 9\n",
       "\\begin{tabular}{r|lllllllll}\n",
       "  & location & lat & long & alt & year & bloom\\_date & bloom\\_doy & country & city\\\\\n",
       "  & <chr> & <dbl> & <dbl> & <dbl> & <int> & <chr> & <int> & <chr> & <chr>\\\\\n",
       "\\hline\n",
       "\t1 & Japan/Nagoya & 35.16778 & 136.9656 & 51.1 & 1953 & 1953-04-12 & 102 & Japan & Nagoya\\\\\n",
       "\t2 & Japan/Nagoya & 35.16833 & 136.9647 & 51.1 & 1953 & 1953-04-12 & 102 & Japan & Nagoya\\\\\n",
       "\t3 & Japan/Nagoya & 35.16778 & 136.9656 & 51.1 & 1954 & 1954-04-04 &  94 & Japan & Nagoya\\\\\n",
       "\t4 & Japan/Nagoya & 35.16833 & 136.9647 & 51.1 & 1954 & 1954-04-04 &  94 & Japan & Nagoya\\\\\n",
       "\t5 & Japan/Nagoya & 35.16778 & 136.9656 & 51.1 & 1955 & 1955-04-03 &  93 & Japan & Nagoya\\\\\n",
       "\t6 & Japan/Nagoya & 35.16833 & 136.9647 & 51.1 & 1955 & 1955-04-03 &  93 & Japan & Nagoya\\\\\n",
       "\\end{tabular}\n"
      ],
      "text/markdown": [
       "\n",
       "A data.frame: 6 × 9\n",
       "\n",
       "| <!--/--> | location &lt;chr&gt; | lat &lt;dbl&gt; | long &lt;dbl&gt; | alt &lt;dbl&gt; | year &lt;int&gt; | bloom_date &lt;chr&gt; | bloom_doy &lt;int&gt; | country &lt;chr&gt; | city &lt;chr&gt; |\n",
       "|---|---|---|---|---|---|---|---|---|---|\n",
       "| 1 | Japan/Nagoya | 35.16778 | 136.9656 | 51.1 | 1953 | 1953-04-12 | 102 | Japan | Nagoya |\n",
       "| 2 | Japan/Nagoya | 35.16833 | 136.9647 | 51.1 | 1953 | 1953-04-12 | 102 | Japan | Nagoya |\n",
       "| 3 | Japan/Nagoya | 35.16778 | 136.9656 | 51.1 | 1954 | 1954-04-04 |  94 | Japan | Nagoya |\n",
       "| 4 | Japan/Nagoya | 35.16833 | 136.9647 | 51.1 | 1954 | 1954-04-04 |  94 | Japan | Nagoya |\n",
       "| 5 | Japan/Nagoya | 35.16778 | 136.9656 | 51.1 | 1955 | 1955-04-03 |  93 | Japan | Nagoya |\n",
       "| 6 | Japan/Nagoya | 35.16833 | 136.9647 | 51.1 | 1955 | 1955-04-03 |  93 | Japan | Nagoya |\n",
       "\n"
      ],
      "text/plain": [
       "  location     lat      long     alt  year bloom_date bloom_doy country city  \n",
       "1 Japan/Nagoya 35.16778 136.9656 51.1 1953 1953-04-12 102       Japan   Nagoya\n",
       "2 Japan/Nagoya 35.16833 136.9647 51.1 1953 1953-04-12 102       Japan   Nagoya\n",
       "3 Japan/Nagoya 35.16778 136.9656 51.1 1954 1954-04-04  94       Japan   Nagoya\n",
       "4 Japan/Nagoya 35.16833 136.9647 51.1 1954 1954-04-04  94       Japan   Nagoya\n",
       "5 Japan/Nagoya 35.16778 136.9656 51.1 1955 1955-04-03  93       Japan   Nagoya\n",
       "6 Japan/Nagoya 35.16833 136.9647 51.1 1955 1955-04-03  93       Japan   Nagoya"
      ]
     },
     "metadata": {},
     "output_type": "display_data"
    }
   ],
   "source": [
    "head(cherry_sub)"
   ]
  },
  {
   "cell_type": "code",
   "execution_count": 6,
   "metadata": {
    "vscode": {
     "languageId": "r"
    }
   },
   "outputs": [
    {
     "data": {
      "text/html": [
       "<table class=\"dataframe\">\n",
       "<caption>A data.frame: 9 × 5</caption>\n",
       "<thead>\n",
       "\t<tr><th></th><th scope=col>id</th><th scope=col>name</th><th scope=col>latitude</th><th scope=col>longitude</th><th scope=col>elevation</th></tr>\n",
       "\t<tr><th></th><th scope=col>&lt;chr&gt;</th><th scope=col>&lt;chr&gt;</th><th scope=col>&lt;dbl&gt;</th><th scope=col>&lt;dbl&gt;</th><th scope=col>&lt;dbl&gt;</th></tr>\n",
       "</thead>\n",
       "<tbody>\n",
       "\t<tr><th scope=row>1</th><td>JA000047636</td><td>NAGOYA   </td><td>35.167</td><td>136.967</td><td>56</td></tr>\n",
       "\t<tr><th scope=row>3</th><td>JA000047651</td><td>TSU      </td><td>34.733</td><td>136.517</td><td>18</td></tr>\n",
       "\t<tr><th scope=row>4</th><td>JA000047654</td><td>HAMAMATSU</td><td>34.717</td><td>137.717</td><td>33</td></tr>\n",
       "\t<tr><th scope=row>5</th><td>JA000047656</td><td>SHIZUOKA </td><td>34.983</td><td>138.400</td><td>15</td></tr>\n",
       "\t<tr><th scope=row>8</th><td>JA000047672</td><td>TATEYAMA </td><td>34.983</td><td>139.867</td><td> 7</td></tr>\n",
       "\t<tr><th scope=row>10</th><td>JA000047675</td><td>OSHIMA   </td><td>34.750</td><td>139.383</td><td>79</td></tr>\n",
       "\t<tr><th scope=row>12</th><td>JA000047755</td><td>HAMADA   </td><td>34.900</td><td>132.067</td><td>20</td></tr>\n",
       "\t<tr><th scope=row>14</th><td>JA000047759</td><td>KYOTO    </td><td>35.017</td><td>135.733</td><td>46</td></tr>\n",
       "\t<tr><th scope=row>15</th><td>JA000047761</td><td>HIKONE   </td><td>35.283</td><td>136.250</td><td>89</td></tr>\n",
       "</tbody>\n",
       "</table>\n"
      ],
      "text/latex": [
       "A data.frame: 9 × 5\n",
       "\\begin{tabular}{r|lllll}\n",
       "  & id & name & latitude & longitude & elevation\\\\\n",
       "  & <chr> & <chr> & <dbl> & <dbl> & <dbl>\\\\\n",
       "\\hline\n",
       "\t1 & JA000047636 & NAGOYA    & 35.167 & 136.967 & 56\\\\\n",
       "\t3 & JA000047651 & TSU       & 34.733 & 136.517 & 18\\\\\n",
       "\t4 & JA000047654 & HAMAMATSU & 34.717 & 137.717 & 33\\\\\n",
       "\t5 & JA000047656 & SHIZUOKA  & 34.983 & 138.400 & 15\\\\\n",
       "\t8 & JA000047672 & TATEYAMA  & 34.983 & 139.867 &  7\\\\\n",
       "\t10 & JA000047675 & OSHIMA    & 34.750 & 139.383 & 79\\\\\n",
       "\t12 & JA000047755 & HAMADA    & 34.900 & 132.067 & 20\\\\\n",
       "\t14 & JA000047759 & KYOTO     & 35.017 & 135.733 & 46\\\\\n",
       "\t15 & JA000047761 & HIKONE    & 35.283 & 136.250 & 89\\\\\n",
       "\\end{tabular}\n"
      ],
      "text/markdown": [
       "\n",
       "A data.frame: 9 × 5\n",
       "\n",
       "| <!--/--> | id &lt;chr&gt; | name &lt;chr&gt; | latitude &lt;dbl&gt; | longitude &lt;dbl&gt; | elevation &lt;dbl&gt; |\n",
       "|---|---|---|---|---|---|\n",
       "| 1 | JA000047636 | NAGOYA    | 35.167 | 136.967 | 56 |\n",
       "| 3 | JA000047651 | TSU       | 34.733 | 136.517 | 18 |\n",
       "| 4 | JA000047654 | HAMAMATSU | 34.717 | 137.717 | 33 |\n",
       "| 5 | JA000047656 | SHIZUOKA  | 34.983 | 138.400 | 15 |\n",
       "| 8 | JA000047672 | TATEYAMA  | 34.983 | 139.867 |  7 |\n",
       "| 10 | JA000047675 | OSHIMA    | 34.750 | 139.383 | 79 |\n",
       "| 12 | JA000047755 | HAMADA    | 34.900 | 132.067 | 20 |\n",
       "| 14 | JA000047759 | KYOTO     | 35.017 | 135.733 | 46 |\n",
       "| 15 | JA000047761 | HIKONE    | 35.283 | 136.250 | 89 |\n",
       "\n"
      ],
      "text/plain": [
       "   id          name      latitude longitude elevation\n",
       "1  JA000047636 NAGOYA    35.167   136.967   56       \n",
       "3  JA000047651 TSU       34.733   136.517   18       \n",
       "4  JA000047654 HAMAMATSU 34.717   137.717   33       \n",
       "5  JA000047656 SHIZUOKA  34.983   138.400   15       \n",
       "8  JA000047672 TATEYAMA  34.983   139.867    7       \n",
       "10 JA000047675 OSHIMA    34.750   139.383   79       \n",
       "12 JA000047755 HAMADA    34.900   132.067   20       \n",
       "14 JA000047759 KYOTO     35.017   135.733   46       \n",
       "15 JA000047761 HIKONE    35.283   136.250   89       "
      ]
     },
     "metadata": {},
     "output_type": "display_data"
    }
   ],
   "source": [
    "id_city"
   ]
  },
  {
   "cell_type": "code",
   "execution_count": 37,
   "metadata": {
    "vscode": {
     "languageId": "r"
    }
   },
   "outputs": [
    {
     "name": "stderr",
     "output_type": "stream",
     "text": [
      "using cached file: /home/jovyan/.cache//R/noaa_ghcnd/JA000047636.dly\n",
      "\n",
      "date created (size, mb): 2023-02-09 03:08:07 (1.721)\n",
      "\n",
      "file min/max dates: 1951-01-01 / 2022-10-31\n",
      "\n"
     ]
    },
    {
     "name": "stdout",
     "output_type": "stream",
     "text": [
      "\n",
      " iter imp variable\n",
      "  1   1  tmax  tmin  prcp\n",
      "  1   2  tmax  tmin  prcp\n",
      "  1   3  tmax  tmin  prcp\n",
      "  1   4  tmax  tmin  prcp\n",
      "  1   5  tmax  tmin  prcp\n",
      "  2   1  tmax  tmin  prcp\n",
      "  2   2  tmax  tmin  prcp\n",
      "  2   3  tmax  tmin  prcp\n",
      "  2   4  tmax  tmin  prcp\n",
      "  2   5  tmax  tmin  prcp\n",
      "  3   1  tmax  tmin  prcp\n",
      "  3   2  tmax  tmin  prcp\n",
      "  3   3  tmax  tmin  prcp\n",
      "  3   4  tmax  tmin  prcp\n",
      "  3   5  tmax  tmin  prcp\n",
      "  4   1  tmax  tmin  prcp\n",
      "  4   2  tmax  tmin  prcp\n",
      "  4   3  tmax  tmin  prcp\n",
      "  4   4  tmax  tmin  prcp\n",
      "  4   5  tmax  tmin  prcp\n",
      "  5   1  tmax  tmin  prcp\n",
      "  5   2  tmax  tmin  prcp\n",
      "  5   3  tmax  tmin  prcp\n",
      "  5   4  tmax  tmin  prcp\n",
      "  5   5  tmax  tmin  prcp\n"
     ]
    },
    {
     "name": "stderr",
     "output_type": "stream",
     "text": [
      "Warning message:\n",
      "“Number of logged events: 2”\n",
      "using cached file: /home/jovyan/.cache//R/noaa_ghcnd/JA000047651.dly\n",
      "\n",
      "date created (size, mb): 2023-02-09 03:09:19 (1.536)\n",
      "\n",
      "file min/max dates: 1951-01-01 / 2022-10-31\n",
      "\n"
     ]
    },
    {
     "name": "stdout",
     "output_type": "stream",
     "text": [
      "\n",
      " iter imp variable\n",
      "  1   1  tmax  tmin  prcp\n",
      "  1   2  tmax  tmin  prcp\n",
      "  1   3  tmax  tmin  prcp\n",
      "  1   4  tmax  tmin  prcp\n",
      "  1   5  tmax  tmin  prcp\n",
      "  2   1  tmax  tmin  prcp\n",
      "  2   2  tmax  tmin  prcp\n",
      "  2   3  tmax  tmin  prcp\n",
      "  2   4  tmax  tmin  prcp\n",
      "  2   5  tmax  tmin  prcp\n",
      "  3   1  tmax  tmin  prcp\n",
      "  3   2  tmax  tmin  prcp\n",
      "  3   3  tmax  tmin  prcp\n",
      "  3   4  tmax  tmin  prcp\n",
      "  3   5  tmax  tmin  prcp\n",
      "  4   1  tmax  tmin  prcp\n",
      "  4   2  tmax  tmin  prcp\n",
      "  4   3  tmax  tmin  prcp\n",
      "  4   4  tmax  tmin  prcp\n",
      "  4   5  tmax  tmin  prcp\n",
      "  5   1  tmax  tmin  prcp\n",
      "  5   2  tmax  tmin  prcp\n",
      "  5   3  tmax  tmin  prcp\n",
      "  5   4  tmax  tmin  prcp\n",
      "  5   5  tmax  tmin  prcp\n"
     ]
    },
    {
     "name": "stderr",
     "output_type": "stream",
     "text": [
      "Warning message:\n",
      "“Number of logged events: 2”\n",
      "using cached file: /home/jovyan/.cache//R/noaa_ghcnd/JA000047654.dly\n",
      "\n",
      "date created (size, mb): 2023-02-09 03:09:26 (1.574)\n",
      "\n",
      "file min/max dates: 1951-01-01 / 2023-02-28\n",
      "\n"
     ]
    },
    {
     "name": "stdout",
     "output_type": "stream",
     "text": [
      "\n",
      " iter imp variable\n",
      "  1   1  tmax  tmin  prcp\n",
      "  1   2  tmax  tmin  prcp\n",
      "  1   3  tmax  tmin  prcp\n",
      "  1   4  tmax  tmin  prcp\n",
      "  1   5  tmax  tmin  prcp\n",
      "  2   1  tmax  tmin  prcp\n",
      "  2   2  tmax  tmin  prcp\n",
      "  2   3  tmax  tmin  prcp\n",
      "  2   4  tmax  tmin  prcp\n",
      "  2   5  tmax  tmin  prcp\n",
      "  3   1  tmax  tmin  prcp\n",
      "  3   2  tmax  tmin  prcp\n",
      "  3   3  tmax  tmin  prcp\n",
      "  3   4  tmax  tmin  prcp\n",
      "  3   5  tmax  tmin  prcp\n",
      "  4   1  tmax  tmin  prcp\n",
      "  4   2  tmax  tmin  prcp\n",
      "  4   3  tmax  tmin  prcp\n",
      "  4   4  tmax  tmin  prcp\n",
      "  4   5  tmax  tmin  prcp\n",
      "  5   1  tmax  tmin  prcp\n",
      "  5   2  tmax  tmin  prcp\n",
      "  5   3  tmax  tmin  prcp\n",
      "  5   4  tmax  tmin  prcp\n",
      "  5   5  tmax  tmin  prcp\n"
     ]
    },
    {
     "name": "stderr",
     "output_type": "stream",
     "text": [
      "Warning message:\n",
      "“Number of logged events: 2”\n",
      "using cached file: /home/jovyan/.cache//R/noaa_ghcnd/JA000047656.dly\n",
      "\n",
      "date created (size, mb): 2023-02-09 03:09:33 (1.583)\n",
      "\n",
      "file min/max dates: 1951-01-01 / 2023-02-28\n",
      "\n"
     ]
    },
    {
     "name": "stdout",
     "output_type": "stream",
     "text": [
      "\n",
      " iter imp variable\n",
      "  1   1  tmax  tmin  prcp\n",
      "  1   2  tmax  tmin  prcp\n",
      "  1   3  tmax  tmin  prcp\n",
      "  1   4  tmax  tmin  prcp\n",
      "  1   5  tmax  tmin  prcp\n",
      "  2   1  tmax  tmin  prcp\n",
      "  2   2  tmax  tmin  prcp\n",
      "  2   3  tmax  tmin  prcp\n",
      "  2   4  tmax  tmin  prcp\n",
      "  2   5  tmax  tmin  prcp\n",
      "  3   1  tmax  tmin  prcp\n",
      "  3   2  tmax  tmin  prcp\n",
      "  3   3  tmax  tmin  prcp\n",
      "  3   4  tmax  tmin  prcp\n",
      "  3   5  tmax  tmin  prcp\n",
      "  4   1  tmax  tmin  prcp\n",
      "  4   2  tmax  tmin  prcp\n",
      "  4   3  tmax  tmin  prcp\n",
      "  4   4  tmax  tmin  prcp\n",
      "  4   5  tmax  tmin  prcp\n",
      "  5   1  tmax  tmin  prcp\n",
      "  5   2  tmax  tmin  prcp\n",
      "  5   3  tmax  tmin  prcp\n",
      "  5   4  tmax  tmin  prcp\n",
      "  5   5  tmax  tmin  prcp\n"
     ]
    },
    {
     "name": "stderr",
     "output_type": "stream",
     "text": [
      "Warning message:\n",
      "“Number of logged events: 2”\n",
      "using cached file: /home/jovyan/.cache//R/noaa_ghcnd/JA000047672.dly\n",
      "\n",
      "date created (size, mb): 2023-02-09 03:09:39 (1.291)\n",
      "\n",
      "file min/max dates: 1969-01-01 / 2023-02-28\n",
      "\n"
     ]
    },
    {
     "name": "stdout",
     "output_type": "stream",
     "text": [
      "\n",
      " iter imp variable\n",
      "  1   1  tmax  tmin  prcp\n",
      "  1   2  tmax  tmin  prcp\n",
      "  1   3  tmax  tmin  prcp\n",
      "  1   4  tmax  tmin  prcp\n",
      "  1   5  tmax  tmin  prcp\n",
      "  2   1  tmax  tmin  prcp\n",
      "  2   2  tmax  tmin  prcp\n",
      "  2   3  tmax  tmin  prcp\n",
      "  2   4  tmax  tmin  prcp\n",
      "  2   5  tmax  tmin  prcp\n",
      "  3   1  tmax  tmin  prcp\n",
      "  3   2  tmax  tmin  prcp\n",
      "  3   3  tmax  tmin  prcp\n",
      "  3   4  tmax  tmin  prcp\n",
      "  3   5  tmax  tmin  prcp\n",
      "  4   1  tmax  tmin  prcp\n",
      "  4   2  tmax  tmin  prcp\n",
      "  4   3  tmax  tmin  prcp\n",
      "  4   4  tmax  tmin  prcp\n",
      "  4   5  tmax  tmin  prcp\n",
      "  5   1  tmax  tmin  prcp\n",
      "  5   2  tmax  tmin  prcp\n",
      "  5   3  tmax  tmin  prcp\n",
      "  5   4  tmax  tmin  prcp\n",
      "  5   5  tmax  tmin  prcp\n"
     ]
    },
    {
     "name": "stderr",
     "output_type": "stream",
     "text": [
      "Warning message:\n",
      "“Number of logged events: 2”\n",
      "using cached file: /home/jovyan/.cache//R/noaa_ghcnd/JA000047675.dly\n",
      "\n",
      "date created (size, mb): 2023-02-09 03:09:46 (1.678)\n",
      "\n",
      "file min/max dates: 1951-01-01 / 2022-10-31\n",
      "\n"
     ]
    },
    {
     "name": "stdout",
     "output_type": "stream",
     "text": [
      "\n",
      " iter imp variable\n",
      "  1   1  tmax  tmin  prcp\n",
      "  1   2  tmax  tmin  prcp\n",
      "  1   3  tmax  tmin  prcp\n",
      "  1   4  tmax  tmin  prcp\n",
      "  1   5  tmax  tmin  prcp\n",
      "  2   1  tmax  tmin  prcp\n",
      "  2   2  tmax  tmin  prcp\n",
      "  2   3  tmax  tmin  prcp\n",
      "  2   4  tmax  tmin  prcp\n",
      "  2   5  tmax  tmin  prcp\n",
      "  3   1  tmax  tmin  prcp\n",
      "  3   2  tmax  tmin  prcp\n",
      "  3   3  tmax  tmin  prcp\n",
      "  3   4  tmax  tmin  prcp\n",
      "  3   5  tmax  tmin  prcp\n",
      "  4   1  tmax  tmin  prcp\n",
      "  4   2  tmax  tmin  prcp\n",
      "  4   3  tmax  tmin  prcp\n",
      "  4   4  tmax  tmin  prcp\n",
      "  4   5  tmax  tmin  prcp\n",
      "  5   1  tmax  tmin  prcp\n",
      "  5   2  tmax  tmin  prcp\n",
      "  5   3  tmax  tmin  prcp\n",
      "  5   4  tmax  tmin  prcp\n",
      "  5   5  tmax  tmin  prcp\n"
     ]
    },
    {
     "name": "stderr",
     "output_type": "stream",
     "text": [
      "Warning message:\n",
      "“Number of logged events: 2”\n",
      "using cached file: /home/jovyan/.cache//R/noaa_ghcnd/JA000047755.dly\n",
      "\n",
      "date created (size, mb): 2023-02-09 03:09:53 (1.685)\n",
      "\n",
      "file min/max dates: 1951-01-01 / 2023-02-28\n",
      "\n"
     ]
    },
    {
     "name": "stdout",
     "output_type": "stream",
     "text": [
      "\n",
      " iter imp variable\n",
      "  1   1  tmax  tmin  prcp\n",
      "  1   2  tmax  tmin  prcp\n",
      "  1   3  tmax  tmin  prcp\n",
      "  1   4  tmax  tmin  prcp\n",
      "  1   5  tmax  tmin  prcp\n",
      "  2   1  tmax  tmin  prcp\n",
      "  2   2  tmax  tmin  prcp\n",
      "  2   3  tmax  tmin  prcp\n",
      "  2   4  tmax  tmin  prcp\n",
      "  2   5  tmax  tmin  prcp\n",
      "  3   1  tmax  tmin  prcp\n",
      "  3   2  tmax  tmin  prcp\n",
      "  3   3  tmax  tmin  prcp\n",
      "  3   4  tmax  tmin  prcp\n",
      "  3   5  tmax  tmin  prcp\n",
      "  4   1  tmax  tmin  prcp\n",
      "  4   2  tmax  tmin  prcp\n",
      "  4   3  tmax  tmin  prcp\n",
      "  4   4  tmax  tmin  prcp\n",
      "  4   5  tmax  tmin  prcp\n",
      "  5   1  tmax  tmin  prcp\n",
      "  5   2  tmax  tmin  prcp\n",
      "  5   3  tmax  tmin  prcp\n",
      "  5   4  tmax  tmin  prcp\n",
      "  5   5  tmax  tmin  prcp\n"
     ]
    },
    {
     "name": "stderr",
     "output_type": "stream",
     "text": [
      "Warning message:\n",
      "“Number of logged events: 2”\n",
      "using cached file: /home/jovyan/.cache//R/noaa_ghcnd/JA000047759.dly\n",
      "\n",
      "date created (size, mb): 2023-02-09 03:10:00 (1.687)\n",
      "\n",
      "file min/max dates: 1945-10-01 / 2023-02-28\n",
      "\n"
     ]
    },
    {
     "name": "stdout",
     "output_type": "stream",
     "text": [
      "\n",
      " iter imp variable\n",
      "  1   1  tmax  tmin  prcp\n",
      "  1   2  tmax  tmin  prcp\n",
      "  1   3  tmax  tmin  prcp\n",
      "  1   4  tmax  tmin  prcp\n",
      "  1   5  tmax  tmin  prcp\n",
      "  2   1  tmax  tmin  prcp\n",
      "  2   2  tmax  tmin  prcp\n",
      "  2   3  tmax  tmin  prcp\n",
      "  2   4  tmax  tmin  prcp\n",
      "  2   5  tmax  tmin  prcp\n",
      "  3   1  tmax  tmin  prcp\n",
      "  3   2  tmax  tmin  prcp\n",
      "  3   3  tmax  tmin  prcp\n",
      "  3   4  tmax  tmin  prcp\n",
      "  3   5  tmax  tmin  prcp\n",
      "  4   1  tmax  tmin  prcp\n",
      "  4   2  tmax  tmin  prcp\n",
      "  4   3  tmax  tmin  prcp\n",
      "  4   4  tmax  tmin  prcp\n",
      "  4   5  tmax  tmin  prcp\n",
      "  5   1  tmax  tmin  prcp\n",
      "  5   2  tmax  tmin  prcp\n",
      "  5   3  tmax  tmin  prcp\n",
      "  5   4  tmax  tmin  prcp\n",
      "  5   5  tmax  tmin  prcp\n"
     ]
    },
    {
     "name": "stderr",
     "output_type": "stream",
     "text": [
      "Warning message:\n",
      "“Number of logged events: 2”\n",
      "using cached file: /home/jovyan/.cache//R/noaa_ghcnd/JA000047761.dly\n",
      "\n",
      "date created (size, mb): 2023-02-09 03:10:07 (1.536)\n",
      "\n",
      "file min/max dates: 1951-01-01 / 2023-02-28\n",
      "\n"
     ]
    },
    {
     "name": "stdout",
     "output_type": "stream",
     "text": [
      "\n",
      " iter imp variable\n",
      "  1   1  tmax  tmin  prcp\n",
      "  1   2  tmax  tmin  prcp\n",
      "  1   3  tmax  tmin  prcp\n",
      "  1   4  tmax  tmin  prcp\n",
      "  1   5  tmax  tmin  prcp\n",
      "  2   1  tmax  tmin  prcp\n",
      "  2   2  tmax  tmin  prcp\n",
      "  2   3  tmax  tmin  prcp\n",
      "  2   4  tmax  tmin  prcp\n",
      "  2   5  tmax  tmin  prcp\n",
      "  3   1  tmax  tmin  prcp\n",
      "  3   2  tmax  tmin  prcp\n",
      "  3   3  tmax  tmin  prcp\n",
      "  3   4  tmax  tmin  prcp\n",
      "  3   5  tmax  tmin  prcp\n",
      "  4   1  tmax  tmin  prcp\n",
      "  4   2  tmax  tmin  prcp\n",
      "  4   3  tmax  tmin  prcp\n",
      "  4   4  tmax  tmin  prcp\n",
      "  4   5  tmax  tmin  prcp\n",
      "  5   1  tmax  tmin  prcp\n",
      "  5   2  tmax  tmin  prcp\n",
      "  5   3  tmax  tmin  prcp\n",
      "  5   4  tmax  tmin  prcp\n",
      "  5   5  tmax  tmin  prcp\n"
     ]
    },
    {
     "name": "stderr",
     "output_type": "stream",
     "text": [
      "Warning message:\n",
      "“Number of logged events: 2”\n"
     ]
    },
    {
     "data": {
      "text/html": [
       "<table class=\"dataframe\">\n",
       "<caption>A data.frame: 6 × 8</caption>\n",
       "<thead>\n",
       "\t<tr><th></th><th scope=col>id</th><th scope=col>date</th><th scope=col>tmax</th><th scope=col>tmin</th><th scope=col>prcp</th><th scope=col>year</th><th scope=col>month</th><th scope=col>day</th></tr>\n",
       "\t<tr><th></th><th scope=col>&lt;chr&gt;</th><th scope=col>&lt;date&gt;</th><th scope=col>&lt;dbl&gt;</th><th scope=col>&lt;dbl&gt;</th><th scope=col>&lt;dbl&gt;</th><th scope=col>&lt;chr&gt;</th><th scope=col>&lt;int&gt;</th><th scope=col>&lt;int&gt;</th></tr>\n",
       "</thead>\n",
       "<tbody>\n",
       "\t<tr><th scope=row>1</th><td>JA000047761</td><td>1951-01-01</td><td>4.5</td><td> 1.4</td><td>10.4</td><td>1951</td><td>1</td><td>1</td></tr>\n",
       "\t<tr><th scope=row>2</th><td>JA000047761</td><td>1951-01-02</td><td>4.1</td><td> 0.1</td><td> 1.8</td><td>1951</td><td>1</td><td>2</td></tr>\n",
       "\t<tr><th scope=row>3</th><td>JA000047761</td><td>1951-01-03</td><td>6.4</td><td>-1.8</td><td> 0.0</td><td>1951</td><td>1</td><td>3</td></tr>\n",
       "\t<tr><th scope=row>4</th><td>JA000047761</td><td>1951-01-04</td><td>5.0</td><td> 3.3</td><td> 0.9</td><td>1951</td><td>1</td><td>4</td></tr>\n",
       "\t<tr><th scope=row>5</th><td>JA000047761</td><td>1951-01-05</td><td>5.7</td><td> 3.4</td><td> 1.2</td><td>1951</td><td>1</td><td>5</td></tr>\n",
       "\t<tr><th scope=row>6</th><td>JA000047761</td><td>1951-01-06</td><td>6.3</td><td> 1.1</td><td> 0.0</td><td>1951</td><td>1</td><td>6</td></tr>\n",
       "</tbody>\n",
       "</table>\n"
      ],
      "text/latex": [
       "A data.frame: 6 × 8\n",
       "\\begin{tabular}{r|llllllll}\n",
       "  & id & date & tmax & tmin & prcp & year & month & day\\\\\n",
       "  & <chr> & <date> & <dbl> & <dbl> & <dbl> & <chr> & <int> & <int>\\\\\n",
       "\\hline\n",
       "\t1 & JA000047761 & 1951-01-01 & 4.5 &  1.4 & 10.4 & 1951 & 1 & 1\\\\\n",
       "\t2 & JA000047761 & 1951-01-02 & 4.1 &  0.1 &  1.8 & 1951 & 1 & 2\\\\\n",
       "\t3 & JA000047761 & 1951-01-03 & 6.4 & -1.8 &  0.0 & 1951 & 1 & 3\\\\\n",
       "\t4 & JA000047761 & 1951-01-04 & 5.0 &  3.3 &  0.9 & 1951 & 1 & 4\\\\\n",
       "\t5 & JA000047761 & 1951-01-05 & 5.7 &  3.4 &  1.2 & 1951 & 1 & 5\\\\\n",
       "\t6 & JA000047761 & 1951-01-06 & 6.3 &  1.1 &  0.0 & 1951 & 1 & 6\\\\\n",
       "\\end{tabular}\n"
      ],
      "text/markdown": [
       "\n",
       "A data.frame: 6 × 8\n",
       "\n",
       "| <!--/--> | id &lt;chr&gt; | date &lt;date&gt; | tmax &lt;dbl&gt; | tmin &lt;dbl&gt; | prcp &lt;dbl&gt; | year &lt;chr&gt; | month &lt;int&gt; | day &lt;int&gt; |\n",
       "|---|---|---|---|---|---|---|---|---|\n",
       "| 1 | JA000047761 | 1951-01-01 | 4.5 |  1.4 | 10.4 | 1951 | 1 | 1 |\n",
       "| 2 | JA000047761 | 1951-01-02 | 4.1 |  0.1 |  1.8 | 1951 | 1 | 2 |\n",
       "| 3 | JA000047761 | 1951-01-03 | 6.4 | -1.8 |  0.0 | 1951 | 1 | 3 |\n",
       "| 4 | JA000047761 | 1951-01-04 | 5.0 |  3.3 |  0.9 | 1951 | 1 | 4 |\n",
       "| 5 | JA000047761 | 1951-01-05 | 5.7 |  3.4 |  1.2 | 1951 | 1 | 5 |\n",
       "| 6 | JA000047761 | 1951-01-06 | 6.3 |  1.1 |  0.0 | 1951 | 1 | 6 |\n",
       "\n"
      ],
      "text/plain": [
       "  id          date       tmax tmin prcp year month day\n",
       "1 JA000047761 1951-01-01 4.5   1.4 10.4 1951 1     1  \n",
       "2 JA000047761 1951-01-02 4.1   0.1  1.8 1951 1     2  \n",
       "3 JA000047761 1951-01-03 6.4  -1.8  0.0 1951 1     3  \n",
       "4 JA000047761 1951-01-04 5.0   3.3  0.9 1951 1     4  \n",
       "5 JA000047761 1951-01-05 5.7   3.4  1.2 1951 1     5  \n",
       "6 JA000047761 1951-01-06 6.3   1.1  0.0 1951 1     6  "
      ]
     },
     "metadata": {},
     "output_type": "display_data"
    }
   ],
   "source": [
    "# Obtain Historic daily temperature\n",
    "library(tidyverse)\n",
    "library(rnoaa)\n",
    "\n",
    "get_temperature <- function (stationid) {\n",
    "    dat <- ghcnd_search(stationid = stationid, var = c(\"TMAX\", \"TMIN\", \"PRCP\"), \n",
    "               date_min = \"1950-01-01\", date_max = \"2023-01-31\") %>%\n",
    "               purrr::reduce(left_join, by = \"date\") %>%\n",
    "               select(id.x, date, tmax, tmin, prcp) %>%\n",
    "               rename_with(~ \"id\", id.x) %>%\n",
    "               mutate(tmax = tmax/10) %>%      # in C\n",
    "               mutate(tmin = tmin/10) %>%      # in C\n",
    "               mutate(prcp = prcp/10) %>%      # in mm\n",
    "               mutate(year = format(date, \"%Y\")) %>%\n",
    "               mutate(month = as.integer(strftime(date, '%m'))) %>%\n",
    "               mutate(day = as.integer(strftime(date, '%d')))\n",
    "    \n",
    "    return(dat)\n",
    "}\n",
    "\n",
    "\n",
    "city_temp_list <- list()\n",
    "\n",
    "for (c in seq_len(length(cities))) {\n",
    "\n",
    "    temp_df <- get_temperature(station_ids[c])\n",
    "\n",
    "    # Impute missing data\n",
    "    library(mice)\n",
    "\n",
    "    # check missing data\n",
    "    # md.pattern(temp_df)\n",
    "\n",
    "    tempData <- mice(temp_df, m = 5, method = \"pmm\", seed = 1)\n",
    "    # summary(tempData)\n",
    "\n",
    "    imputed_temp <- complete(tempData, 5)\n",
    "    # imputed_file_name <- paste0(\"/home/joosungm/projects/def-lelliott/joosungm/projects/peak-bloom-prediction/A_outputs/A21_\", cities[c], \"_temperature.csv\")\n",
    "    # print(imputed_file_name)\n",
    "    # write.csv(imputed_temp, imputed_file_name)\n",
    "\n",
    "    city_temp_list[[c]] <- imputed_temp\n",
    "\n",
    "}\n",
    "\n",
    "head(city_temp_list[[9]])"
   ]
  },
  {
   "cell_type": "code",
   "execution_count": 35,
   "metadata": {
    "vscode": {
     "languageId": "r"
    }
   },
   "outputs": [
    {
     "data": {
      "text/html": [
       "<table class=\"dataframe\">\n",
       "<caption>A data.frame: 6 × 8</caption>\n",
       "<thead>\n",
       "\t<tr><th></th><th scope=col>id</th><th scope=col>date</th><th scope=col>tmax</th><th scope=col>tmin</th><th scope=col>prcp</th><th scope=col>year</th><th scope=col>month</th><th scope=col>day</th></tr>\n",
       "\t<tr><th></th><th scope=col>&lt;chr&gt;</th><th scope=col>&lt;date&gt;</th><th scope=col>&lt;dbl&gt;</th><th scope=col>&lt;dbl&gt;</th><th scope=col>&lt;dbl&gt;</th><th scope=col>&lt;chr&gt;</th><th scope=col>&lt;int&gt;</th><th scope=col>&lt;int&gt;</th></tr>\n",
       "</thead>\n",
       "<tbody>\n",
       "\t<tr><th scope=row>19719</th><td>JA000047672</td><td>2023-01-26</td><td> 9.1</td><td>-5.0</td><td>0.0</td><td>2023</td><td>1</td><td>26</td></tr>\n",
       "\t<tr><th scope=row>19720</th><td>JA000047672</td><td>2023-01-27</td><td>10.7</td><td>-2.5</td><td>7.1</td><td>2023</td><td>1</td><td>27</td></tr>\n",
       "\t<tr><th scope=row>19721</th><td>JA000047672</td><td>2023-01-28</td><td> 8.5</td><td> 2.5</td><td>0.0</td><td>2023</td><td>1</td><td>28</td></tr>\n",
       "\t<tr><th scope=row>19722</th><td>JA000047672</td><td>2023-01-29</td><td> 8.3</td><td>-2.6</td><td>0.0</td><td>2023</td><td>1</td><td>29</td></tr>\n",
       "\t<tr><th scope=row>19723</th><td>JA000047672</td><td>2023-01-30</td><td>11.8</td><td> 0.8</td><td>0.0</td><td>2023</td><td>1</td><td>30</td></tr>\n",
       "\t<tr><th scope=row>19724</th><td>JA000047672</td><td>2023-01-31</td><td> 9.3</td><td>-2.9</td><td>0.0</td><td>2023</td><td>1</td><td>31</td></tr>\n",
       "</tbody>\n",
       "</table>\n"
      ],
      "text/latex": [
       "A data.frame: 6 × 8\n",
       "\\begin{tabular}{r|llllllll}\n",
       "  & id & date & tmax & tmin & prcp & year & month & day\\\\\n",
       "  & <chr> & <date> & <dbl> & <dbl> & <dbl> & <chr> & <int> & <int>\\\\\n",
       "\\hline\n",
       "\t19719 & JA000047672 & 2023-01-26 &  9.1 & -5.0 & 0.0 & 2023 & 1 & 26\\\\\n",
       "\t19720 & JA000047672 & 2023-01-27 & 10.7 & -2.5 & 7.1 & 2023 & 1 & 27\\\\\n",
       "\t19721 & JA000047672 & 2023-01-28 &  8.5 &  2.5 & 0.0 & 2023 & 1 & 28\\\\\n",
       "\t19722 & JA000047672 & 2023-01-29 &  8.3 & -2.6 & 0.0 & 2023 & 1 & 29\\\\\n",
       "\t19723 & JA000047672 & 2023-01-30 & 11.8 &  0.8 & 0.0 & 2023 & 1 & 30\\\\\n",
       "\t19724 & JA000047672 & 2023-01-31 &  9.3 & -2.9 & 0.0 & 2023 & 1 & 31\\\\\n",
       "\\end{tabular}\n"
      ],
      "text/markdown": [
       "\n",
       "A data.frame: 6 × 8\n",
       "\n",
       "| <!--/--> | id &lt;chr&gt; | date &lt;date&gt; | tmax &lt;dbl&gt; | tmin &lt;dbl&gt; | prcp &lt;dbl&gt; | year &lt;chr&gt; | month &lt;int&gt; | day &lt;int&gt; |\n",
       "|---|---|---|---|---|---|---|---|---|\n",
       "| 19719 | JA000047672 | 2023-01-26 |  9.1 | -5.0 | 0.0 | 2023 | 1 | 26 |\n",
       "| 19720 | JA000047672 | 2023-01-27 | 10.7 | -2.5 | 7.1 | 2023 | 1 | 27 |\n",
       "| 19721 | JA000047672 | 2023-01-28 |  8.5 |  2.5 | 0.0 | 2023 | 1 | 28 |\n",
       "| 19722 | JA000047672 | 2023-01-29 |  8.3 | -2.6 | 0.0 | 2023 | 1 | 29 |\n",
       "| 19723 | JA000047672 | 2023-01-30 | 11.8 |  0.8 | 0.0 | 2023 | 1 | 30 |\n",
       "| 19724 | JA000047672 | 2023-01-31 |  9.3 | -2.9 | 0.0 | 2023 | 1 | 31 |\n",
       "\n"
      ],
      "text/plain": [
       "      id          date       tmax tmin prcp year month day\n",
       "19719 JA000047672 2023-01-26  9.1 -5.0 0.0  2023 1     26 \n",
       "19720 JA000047672 2023-01-27 10.7 -2.5 7.1  2023 1     27 \n",
       "19721 JA000047672 2023-01-28  8.5  2.5 0.0  2023 1     28 \n",
       "19722 JA000047672 2023-01-29  8.3 -2.6 0.0  2023 1     29 \n",
       "19723 JA000047672 2023-01-30 11.8  0.8 0.0  2023 1     30 \n",
       "19724 JA000047672 2023-01-31  9.3 -2.9 0.0  2023 1     31 "
      ]
     },
     "metadata": {},
     "output_type": "display_data"
    }
   ],
   "source": [
    "tail(city_temp_list[[5]])"
   ]
  },
  {
   "cell_type": "code",
   "execution_count": 39,
   "metadata": {
    "vscode": {
     "languageId": "r"
    }
   },
   "outputs": [
    {
     "data": {
      "text/html": [
       "<style>\n",
       ".list-inline {list-style: none; margin:0; padding: 0}\n",
       ".list-inline>li {display: inline-block}\n",
       ".list-inline>li:not(:last-child)::after {content: \"\\00b7\"; padding: 0 .5ex}\n",
       "</style>\n",
       "<ol class=list-inline><li>223177</li><li>8</li></ol>\n"
      ],
      "text/latex": [
       "\\begin{enumerate*}\n",
       "\\item 223177\n",
       "\\item 8\n",
       "\\end{enumerate*}\n"
      ],
      "text/markdown": [
       "1. 223177\n",
       "2. 8\n",
       "\n",
       "\n"
      ],
      "text/plain": [
       "[1] 223177      8"
      ]
     },
     "metadata": {},
     "output_type": "display_data"
    }
   ],
   "source": [
    "temperature_df <- city_temp_list %>% bind_rows()\n",
    "dim(temperature_df)\n",
    "data.table::fwrite(temperature_df, file = \"../A_outputs/A31_japan_temperature.csv\", row.names = FALSE, quote = FALSE)"
   ]
  },
  {
   "cell_type": "code",
   "execution_count": null,
   "metadata": {
    "vscode": {
     "languageId": "r"
    }
   },
   "outputs": [],
   "source": []
  }
 ],
 "metadata": {
  "kernelspec": {
   "display_name": "R",
   "language": "R",
   "name": "ir"
  },
  "language_info": {
   "codemirror_mode": "r",
   "file_extension": ".r",
   "mimetype": "text/x-r-source",
   "name": "R",
   "pygments_lexer": "r",
   "version": "4.2.2"
  },
  "orig_nbformat": 4
 },
 "nbformat": 4,
 "nbformat_minor": 2
}
