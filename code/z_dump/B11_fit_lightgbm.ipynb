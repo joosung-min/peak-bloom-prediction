{
 "cells": [
  {
   "attachments": {},
   "cell_type": "markdown",
   "metadata": {},
   "source": [
    "Here, we fit lightgbm"
   ]
  },
  {
   "cell_type": "code",
   "execution_count": 1,
   "metadata": {
    "vscode": {
     "languageId": "r"
    }
   },
   "outputs": [
    {
     "name": "stderr",
     "output_type": "stream",
     "text": [
      "── \u001b[1mAttaching packages\u001b[22m ─────────────────────────────────────── tidyverse 1.3.2 ──\n",
      "\u001b[32m✔\u001b[39m \u001b[34mggplot2\u001b[39m 3.3.6      \u001b[32m✔\u001b[39m \u001b[34mpurrr  \u001b[39m 0.3.4 \n",
      "\u001b[32m✔\u001b[39m \u001b[34mtibble \u001b[39m 3.1.8      \u001b[32m✔\u001b[39m \u001b[34mdplyr  \u001b[39m 1.0.10\n",
      "\u001b[32m✔\u001b[39m \u001b[34mtidyr  \u001b[39m 1.2.1      \u001b[32m✔\u001b[39m \u001b[34mstringr\u001b[39m 1.4.1 \n",
      "\u001b[32m✔\u001b[39m \u001b[34mreadr  \u001b[39m 2.1.2      \u001b[32m✔\u001b[39m \u001b[34mforcats\u001b[39m 0.5.2 \n",
      "── \u001b[1mConflicts\u001b[22m ────────────────────────────────────────── tidyverse_conflicts() ──\n",
      "\u001b[31m✖\u001b[39m \u001b[34mdplyr\u001b[39m::\u001b[32mfilter()\u001b[39m masks \u001b[34mstats\u001b[39m::filter()\n",
      "\u001b[31m✖\u001b[39m \u001b[34mdplyr\u001b[39m::\u001b[32mlag()\u001b[39m    masks \u001b[34mstats\u001b[39m::lag()\n",
      "Loading required package: R6\n",
      "\n",
      "\n",
      "Attaching package: ‘lightgbm’\n",
      "\n",
      "\n",
      "The following object is masked from ‘package:dplyr’:\n",
      "\n",
      "    slice\n",
      "\n",
      "\n"
     ]
    },
    {
     "data": {
      "text/html": [
       "<table class=\"dataframe\">\n",
       "<caption>A data.frame: 6 × 22</caption>\n",
       "<thead>\n",
       "\t<tr><th></th><th scope=col>name</th><th scope=col>date</th><th scope=col>id</th><th scope=col>tmax</th><th scope=col>tmin</th><th scope=col>prcp</th><th scope=col>year</th><th scope=col>month</th><th scope=col>day</th><th scope=col>row_num</th><th scope=col>⋯</th><th scope=col>daily_Ca</th><th scope=col>Cd_cumsum</th><th scope=col>Ca_cumsum</th><th scope=col>diff_Ca_Cd</th><th scope=col>diff_Ca_Cd_cumsum</th><th scope=col>lat</th><th scope=col>long</th><th scope=col>alt</th><th scope=col>bloom_doy</th><th scope=col>is_bloom</th></tr>\n",
       "\t<tr><th></th><th scope=col>&lt;chr&gt;</th><th scope=col>&lt;chr&gt;</th><th scope=col>&lt;chr&gt;</th><th scope=col>&lt;dbl&gt;</th><th scope=col>&lt;dbl&gt;</th><th scope=col>&lt;dbl&gt;</th><th scope=col>&lt;int&gt;</th><th scope=col>&lt;int&gt;</th><th scope=col>&lt;int&gt;</th><th scope=col>&lt;int&gt;</th><th scope=col>⋯</th><th scope=col>&lt;dbl&gt;</th><th scope=col>&lt;dbl&gt;</th><th scope=col>&lt;dbl&gt;</th><th scope=col>&lt;dbl&gt;</th><th scope=col>&lt;dbl&gt;</th><th scope=col>&lt;dbl&gt;</th><th scope=col>&lt;dbl&gt;</th><th scope=col>&lt;dbl&gt;</th><th scope=col>&lt;int&gt;</th><th scope=col>&lt;int&gt;</th></tr>\n",
       "</thead>\n",
       "<tbody>\n",
       "\t<tr><th scope=row>1</th><td>GIFU</td><td>1951-03-01</td><td>JA000047632</td><td>16.5</td><td> 6.6</td><td>36.8</td><td>1951</td><td>3</td><td>1</td><td>60</td><td>⋯</td><td>4.75</td><td>-133.5983</td><td>48.8</td><td> 4.550000</td><td>-58.79827</td><td>35.40028</td><td>136.7625</td><td>12.7</td><td>NA</td><td>0</td></tr>\n",
       "\t<tr><th scope=row>2</th><td>GIFU</td><td>1951-03-02</td><td>JA000047632</td><td> 8.6</td><td> 1.7</td><td> 0.0</td><td>1951</td><td>3</td><td>2</td><td>61</td><td>⋯</td><td>0.80</td><td>-136.2483</td><td>49.6</td><td>-1.850000</td><td>-60.64827</td><td>35.40028</td><td>136.7625</td><td>12.7</td><td>NA</td><td>0</td></tr>\n",
       "\t<tr><th scope=row>3</th><td>GIFU</td><td>1951-03-03</td><td>JA000047632</td><td> 5.1</td><td>-1.3</td><td> 0.5</td><td>1951</td><td>3</td><td>3</td><td>62</td><td>⋯</td><td>0.00</td><td>-138.2803</td><td>49.6</td><td>-2.032031</td><td>-62.68030</td><td>35.40028</td><td>136.7625</td><td>12.7</td><td>NA</td><td>0</td></tr>\n",
       "\t<tr><th scope=row>4</th><td>GIFU</td><td>1951-03-04</td><td>JA000047632</td><td> 5.9</td><td>-2.3</td><td> 0.3</td><td>1951</td><td>3</td><td>4</td><td>63</td><td>⋯</td><td>0.00</td><td>-140.4029</td><td>49.6</td><td>-2.122561</td><td>-64.80286</td><td>35.40028</td><td>136.7625</td><td>12.7</td><td>NA</td><td>0</td></tr>\n",
       "\t<tr><th scope=row>5</th><td>GIFU</td><td>1951-03-05</td><td>JA000047632</td><td> 7.8</td><td>-2.0</td><td> 0.0</td><td>1951</td><td>3</td><td>5</td><td>64</td><td>⋯</td><td>0.40</td><td>-143.1069</td><td>50.0</td><td>-2.304082</td><td>-67.10694</td><td>35.40028</td><td>136.7625</td><td>12.7</td><td>NA</td><td>0</td></tr>\n",
       "\t<tr><th scope=row>6</th><td>GIFU</td><td>1951-03-06</td><td>JA000047632</td><td>10.2</td><td> 1.2</td><td>31.6</td><td>1951</td><td>3</td><td>6</td><td>65</td><td>⋯</td><td>1.60</td><td>-146.0069</td><td>51.6</td><td>-1.300000</td><td>-68.40694</td><td>35.40028</td><td>136.7625</td><td>12.7</td><td>NA</td><td>0</td></tr>\n",
       "</tbody>\n",
       "</table>\n"
      ],
      "text/latex": [
       "A data.frame: 6 × 22\n",
       "\\begin{tabular}{r|lllllllllllllllllllll}\n",
       "  & name & date & id & tmax & tmin & prcp & year & month & day & row\\_num & ⋯ & daily\\_Ca & Cd\\_cumsum & Ca\\_cumsum & diff\\_Ca\\_Cd & diff\\_Ca\\_Cd\\_cumsum & lat & long & alt & bloom\\_doy & is\\_bloom\\\\\n",
       "  & <chr> & <chr> & <chr> & <dbl> & <dbl> & <dbl> & <int> & <int> & <int> & <int> & ⋯ & <dbl> & <dbl> & <dbl> & <dbl> & <dbl> & <dbl> & <dbl> & <dbl> & <int> & <int>\\\\\n",
       "\\hline\n",
       "\t1 & GIFU & 1951-03-01 & JA000047632 & 16.5 &  6.6 & 36.8 & 1951 & 3 & 1 & 60 & ⋯ & 4.75 & -133.5983 & 48.8 &  4.550000 & -58.79827 & 35.40028 & 136.7625 & 12.7 & NA & 0\\\\\n",
       "\t2 & GIFU & 1951-03-02 & JA000047632 &  8.6 &  1.7 &  0.0 & 1951 & 3 & 2 & 61 & ⋯ & 0.80 & -136.2483 & 49.6 & -1.850000 & -60.64827 & 35.40028 & 136.7625 & 12.7 & NA & 0\\\\\n",
       "\t3 & GIFU & 1951-03-03 & JA000047632 &  5.1 & -1.3 &  0.5 & 1951 & 3 & 3 & 62 & ⋯ & 0.00 & -138.2803 & 49.6 & -2.032031 & -62.68030 & 35.40028 & 136.7625 & 12.7 & NA & 0\\\\\n",
       "\t4 & GIFU & 1951-03-04 & JA000047632 &  5.9 & -2.3 &  0.3 & 1951 & 3 & 4 & 63 & ⋯ & 0.00 & -140.4029 & 49.6 & -2.122561 & -64.80286 & 35.40028 & 136.7625 & 12.7 & NA & 0\\\\\n",
       "\t5 & GIFU & 1951-03-05 & JA000047632 &  7.8 & -2.0 &  0.0 & 1951 & 3 & 5 & 64 & ⋯ & 0.40 & -143.1069 & 50.0 & -2.304082 & -67.10694 & 35.40028 & 136.7625 & 12.7 & NA & 0\\\\\n",
       "\t6 & GIFU & 1951-03-06 & JA000047632 & 10.2 &  1.2 & 31.6 & 1951 & 3 & 6 & 65 & ⋯ & 1.60 & -146.0069 & 51.6 & -1.300000 & -68.40694 & 35.40028 & 136.7625 & 12.7 & NA & 0\\\\\n",
       "\\end{tabular}\n"
      ],
      "text/markdown": [
       "\n",
       "A data.frame: 6 × 22\n",
       "\n",
       "| <!--/--> | name &lt;chr&gt; | date &lt;chr&gt; | id &lt;chr&gt; | tmax &lt;dbl&gt; | tmin &lt;dbl&gt; | prcp &lt;dbl&gt; | year &lt;int&gt; | month &lt;int&gt; | day &lt;int&gt; | row_num &lt;int&gt; | ⋯ ⋯ | daily_Ca &lt;dbl&gt; | Cd_cumsum &lt;dbl&gt; | Ca_cumsum &lt;dbl&gt; | diff_Ca_Cd &lt;dbl&gt; | diff_Ca_Cd_cumsum &lt;dbl&gt; | lat &lt;dbl&gt; | long &lt;dbl&gt; | alt &lt;dbl&gt; | bloom_doy &lt;int&gt; | is_bloom &lt;int&gt; |\n",
       "|---|---|---|---|---|---|---|---|---|---|---|---|---|---|---|---|---|---|---|---|---|---|\n",
       "| 1 | GIFU | 1951-03-01 | JA000047632 | 16.5 |  6.6 | 36.8 | 1951 | 3 | 1 | 60 | ⋯ | 4.75 | -133.5983 | 48.8 |  4.550000 | -58.79827 | 35.40028 | 136.7625 | 12.7 | NA | 0 |\n",
       "| 2 | GIFU | 1951-03-02 | JA000047632 |  8.6 |  1.7 |  0.0 | 1951 | 3 | 2 | 61 | ⋯ | 0.80 | -136.2483 | 49.6 | -1.850000 | -60.64827 | 35.40028 | 136.7625 | 12.7 | NA | 0 |\n",
       "| 3 | GIFU | 1951-03-03 | JA000047632 |  5.1 | -1.3 |  0.5 | 1951 | 3 | 3 | 62 | ⋯ | 0.00 | -138.2803 | 49.6 | -2.032031 | -62.68030 | 35.40028 | 136.7625 | 12.7 | NA | 0 |\n",
       "| 4 | GIFU | 1951-03-04 | JA000047632 |  5.9 | -2.3 |  0.3 | 1951 | 3 | 4 | 63 | ⋯ | 0.00 | -140.4029 | 49.6 | -2.122561 | -64.80286 | 35.40028 | 136.7625 | 12.7 | NA | 0 |\n",
       "| 5 | GIFU | 1951-03-05 | JA000047632 |  7.8 | -2.0 |  0.0 | 1951 | 3 | 5 | 64 | ⋯ | 0.40 | -143.1069 | 50.0 | -2.304082 | -67.10694 | 35.40028 | 136.7625 | 12.7 | NA | 0 |\n",
       "| 6 | GIFU | 1951-03-06 | JA000047632 | 10.2 |  1.2 | 31.6 | 1951 | 3 | 6 | 65 | ⋯ | 1.60 | -146.0069 | 51.6 | -1.300000 | -68.40694 | 35.40028 | 136.7625 | 12.7 | NA | 0 |\n",
       "\n"
      ],
      "text/plain": [
       "  name date       id          tmax tmin prcp year month day row_num ⋯ daily_Ca\n",
       "1 GIFU 1951-03-01 JA000047632 16.5  6.6 36.8 1951 3     1   60      ⋯ 4.75    \n",
       "2 GIFU 1951-03-02 JA000047632  8.6  1.7  0.0 1951 3     2   61      ⋯ 0.80    \n",
       "3 GIFU 1951-03-03 JA000047632  5.1 -1.3  0.5 1951 3     3   62      ⋯ 0.00    \n",
       "4 GIFU 1951-03-04 JA000047632  5.9 -2.3  0.3 1951 3     4   63      ⋯ 0.00    \n",
       "5 GIFU 1951-03-05 JA000047632  7.8 -2.0  0.0 1951 3     5   64      ⋯ 0.40    \n",
       "6 GIFU 1951-03-06 JA000047632 10.2  1.2 31.6 1951 3     6   65      ⋯ 1.60    \n",
       "  Cd_cumsum Ca_cumsum diff_Ca_Cd diff_Ca_Cd_cumsum lat      long     alt \n",
       "1 -133.5983 48.8       4.550000  -58.79827         35.40028 136.7625 12.7\n",
       "2 -136.2483 49.6      -1.850000  -60.64827         35.40028 136.7625 12.7\n",
       "3 -138.2803 49.6      -2.032031  -62.68030         35.40028 136.7625 12.7\n",
       "4 -140.4029 49.6      -2.122561  -64.80286         35.40028 136.7625 12.7\n",
       "5 -143.1069 50.0      -2.304082  -67.10694         35.40028 136.7625 12.7\n",
       "6 -146.0069 51.6      -1.300000  -68.40694         35.40028 136.7625 12.7\n",
       "  bloom_doy is_bloom\n",
       "1 NA        0       \n",
       "2 NA        0       \n",
       "3 NA        0       \n",
       "4 NA        0       \n",
       "5 NA        0       \n",
       "6 NA        0       "
      ]
     },
     "metadata": {},
     "output_type": "display_data"
    },
    {
     "data": {
      "text/html": [
       "<style>\n",
       ".list-inline {list-style: none; margin:0; padding: 0}\n",
       ".list-inline>li {display: inline-block}\n",
       ".list-inline>li:not(:last-child)::after {content: \"\\00b7\"; padding: 0 .5ex}\n",
       "</style>\n",
       "<ol class=list-inline><li>54920</li><li>22</li></ol>\n"
      ],
      "text/latex": [
       "\\begin{enumerate*}\n",
       "\\item 54920\n",
       "\\item 22\n",
       "\\end{enumerate*}\n"
      ],
      "text/markdown": [
       "1. 54920\n",
       "2. 22\n",
       "\n",
       "\n"
      ],
      "text/plain": [
       "[1] 54920    22"
      ]
     },
     "metadata": {},
     "output_type": "display_data"
    }
   ],
   "source": [
    "library(tidyverse)\n",
    "library(lightgbm)\n",
    "\n",
    "# load gdd data\n",
    "gdd_data <- read.csv(\"../outputs/A_outputs/A41_gdd_kyoto.csv\")\n",
    "\n",
    "head(gdd_data)\n",
    "dim(gdd_data)"
   ]
  },
  {
   "cell_type": "code",
   "execution_count": 2,
   "metadata": {
    "vscode": {
     "languageId": "r"
    }
   },
   "outputs": [
    {
     "data": {
      "text/html": [
       "<style>\n",
       ".list-inline {list-style: none; margin:0; padding: 0}\n",
       ".list-inline>li {display: inline-block}\n",
       ".list-inline>li:not(:last-child)::after {content: \"\\00b7\"; padding: 0 .5ex}\n",
       "</style>\n",
       "<ol class=list-inline><li>3630</li><li>22</li></ol>\n"
      ],
      "text/latex": [
       "\\begin{enumerate*}\n",
       "\\item 3630\n",
       "\\item 22\n",
       "\\end{enumerate*}\n"
      ],
      "text/markdown": [
       "1. 3630\n",
       "2. 22\n",
       "\n",
       "\n"
      ],
      "text/plain": [
       "[1] 3630   22"
      ]
     },
     "metadata": {},
     "output_type": "display_data"
    }
   ],
   "source": [
    "aa <- gdd_data %>%filter(name == \"KYOTO\")\n",
    "dim(aa)"
   ]
  },
  {
   "cell_type": "code",
   "execution_count": 3,
   "metadata": {
    "vscode": {
     "languageId": "r"
    }
   },
   "outputs": [
    {
     "data": {
      "text/html": [
       "1056"
      ],
      "text/latex": [
       "1056"
      ],
      "text/markdown": [
       "1056"
      ],
      "text/plain": [
       "[1] 1056"
      ]
     },
     "metadata": {},
     "output_type": "display_data"
    }
   ],
   "source": [
    "nrow(gdd_data[gdd_data$is_bloom == 1, ])"
   ]
  },
  {
   "cell_type": "code",
   "execution_count": 4,
   "metadata": {
    "vscode": {
     "languageId": "r"
    }
   },
   "outputs": [
    {
     "data": {
      "text/html": [
       "<style>\n",
       ".list-inline {list-style: none; margin:0; padding: 0}\n",
       ".list-inline>li {display: inline-block}\n",
       ".list-inline>li:not(:last-child)::after {content: \"\\00b7\"; padding: 0 .5ex}\n",
       "</style>\n",
       "<ol class=list-inline><li>2640</li><li>16</li></ol>\n"
      ],
      "text/latex": [
       "\\begin{enumerate*}\n",
       "\\item 2640\n",
       "\\item 16\n",
       "\\end{enumerate*}\n"
      ],
      "text/markdown": [
       "1. 2640\n",
       "2. 16\n",
       "\n",
       "\n"
      ],
      "text/plain": [
       "[1] 2640   16"
      ]
     },
     "metadata": {},
     "output_type": "display_data"
    },
    {
     "data": {
      "text/plain": [
       "\n",
       "   0    1 \n",
       "1584 1056 "
      ]
     },
     "metadata": {},
     "output_type": "display_data"
    }
   ],
   "source": [
    "# number of samples with is_bloom == 1\n",
    "# table(gdd_data$is_bloom)\n",
    "\n",
    "# The data is highly unbalanced. Therefore, we try to balance it by randomly sampling rows with is_bloom == 0 to match the size to the is_bloom == 1.\n",
    "is_bloom_df <- gdd_data[gdd_data$is_bloom == 1, ]\n",
    "no_bloom_df <- gdd_data[gdd_data$is_bloom == 0, ]\n",
    "\n",
    "set.seed(42)\n",
    "idx <- sample(1:nrow(no_bloom_df), size = ceiling(1.5 * nrow(is_bloom_df)), replace = FALSE)\n",
    "no_bloom_sample <- no_bloom_df[idx, ]\n",
    "\n",
    "feature_names <- c(\"tmax\", \"tmin\", \"prcp\", \"month\", \"day\", \"daily_Cd\", \"daily_Ca\", \"Cd_cumsum\", \"Ca_cumsum\", \"lat\", \"long\", \"alt\", \"diff_Ca_Cd\", \"diff_Ca_Cd_cumsum\")\n",
    "target_col <- \"is_bloom\"\n",
    "\n",
    "new_bloom_df <- rbind(is_bloom_df, no_bloom_sample)\n",
    "shuffle_new <- new_bloom_df[sample(1:nrow(new_bloom_df), size = nrow(new_bloom_df), replace = FALSE), ] %>%\n",
    "    'rownames<-'(NULL) %>%\n",
    "    dplyr::select(all_of(c(\"year\", feature_names, target_col)))\n",
    "\n",
    "# head(shuffle_new)\n",
    "dim(shuffle_new)\n",
    "table(shuffle_new$is_bloom)"
   ]
  },
  {
   "cell_type": "code",
   "execution_count": 5,
   "metadata": {
    "vscode": {
     "languageId": "r"
    }
   },
   "outputs": [
    {
     "data": {
      "text/html": [
       "<style>\n",
       ".list-inline {list-style: none; margin:0; padding: 0}\n",
       ".list-inline>li {display: inline-block}\n",
       ".list-inline>li:not(:last-child)::after {content: \"\\00b7\"; padding: 0 .5ex}\n",
       "</style>\n",
       "<ol class=list-inline><li>305</li><li>15</li></ol>\n"
      ],
      "text/latex": [
       "\\begin{enumerate*}\n",
       "\\item 305\n",
       "\\item 15\n",
       "\\end{enumerate*}\n"
      ],
      "text/markdown": [
       "1. 305\n",
       "2. 15\n",
       "\n",
       "\n"
      ],
      "text/plain": [
       "[1] 305  15"
      ]
     },
     "metadata": {},
     "output_type": "display_data"
    },
    {
     "data": {
      "text/html": [
       "<style>\n",
       ".list-inline {list-style: none; margin:0; padding: 0}\n",
       ".list-inline>li {display: inline-block}\n",
       ".list-inline>li:not(:last-child)::after {content: \"\\00b7\"; padding: 0 .5ex}\n",
       "</style>\n",
       "<ol class=list-inline><li>2335</li><li>15</li></ol>\n"
      ],
      "text/latex": [
       "\\begin{enumerate*}\n",
       "\\item 2335\n",
       "\\item 15\n",
       "\\end{enumerate*}\n"
      ],
      "text/markdown": [
       "1. 2335\n",
       "2. 15\n",
       "\n",
       "\n"
      ],
      "text/plain": [
       "[1] 2335   15"
      ]
     },
     "metadata": {},
     "output_type": "display_data"
    }
   ],
   "source": [
    "# split a test set\n",
    "test_set <- shuffle_new %>% filter(year %in% 2012:2023) %>% dplyr::select(-year) \n",
    "dim(test_set)\n",
    "train_val_set <- shuffle_new %>% filter(year < 2012) %>% dplyr::select(-year)\n",
    "dim(train_val_set)\n",
    "\n",
    "write.csv(train_val_set, \"../outputs/B_outputs/B11_japan_train_val.csv\", row.names = FALSE, quote = FALSE)\n",
    "write.csv(test_set, \"../outputs/B_outputs/B11_japan_test.csv\", row.names = FALSE, quote = FALSE)"
   ]
  },
  {
   "cell_type": "code",
   "execution_count": 9,
   "metadata": {
    "vscode": {
     "languageId": "r"
    }
   },
   "outputs": [
    {
     "name": "stderr",
     "output_type": "stream",
     "text": [
      "\n",
      "Attaching package: ‘Matrix’\n",
      "\n",
      "\n",
      "The following objects are masked from ‘package:tidyr’:\n",
      "\n",
      "    expand, pack, unpack\n",
      "\n",
      "\n"
     ]
    }
   ],
   "source": [
    "# Fit lightgbm\n",
    "\n",
    "# 1. split dataset into train and test set.\n",
    "# - Here, we leave out the last 10 years data (2013-2022) as our test set.\n",
    "# - We're using 5-fold cross-validation. Therefore, split the groups into 5.\n",
    "# - First, split the response variable data for a semi-stratified sampling.\n",
    "\n",
    "# library(tidyverse)\n",
    "# library(lightgbm)\n",
    "\n",
    "# train_val_set <- read.csv(\"../outputs/B_outputs/B11_japan_train_val.csv\")\n",
    "\n",
    "# lgb_df <- train_val_set\n",
    "\n",
    "# set.seed(1)\n",
    "# gdd_bloom <- lgb_df[lgb_df$is_bloom == 1, ]\n",
    "# cv_group_bloom <- sample(1:5, size = nrow(gdd_bloom), replace = TRUE)\n",
    "# gdd_bloom$cv_group <- cv_group_bloom\n",
    "\n",
    "# gdd_nobloom <- lgb_df[lgb_df$is_bloom == 0, ]\n",
    "# cv_group_nobloom <- sample(1:5, size = nrow(gdd_nobloom), replace = TRUE)\n",
    "# gdd_nobloom$cv_group <- cv_group_nobloom\n",
    "\n",
    "# lgb_df2 <- rbind(gdd_bloom, gdd_nobloom)\n",
    "\n",
    "# # - train, test split\n",
    "# gdd_train <- lgb_df2[lgb_df2$cv_group != 1, ] %>% dplyr::select(-cv_group)\n",
    "# gdd_val <- lgb_df2[lgb_df2$cv_group == 1, ] %>% dplyr::select(-cv_group)\n",
    "\n",
    "# # - split X and y\n",
    "# library(Matrix)\n",
    "# # gdd_train_X <- gdd_train %>% dplyr::select(-is_bloom)\n",
    "# gdd_train_X <- sparse.model.matrix(is_bloom ~., data = gdd_train)\n",
    "# gdd_train_y <- gdd_train[, \"is_bloom\"]\n",
    "\n",
    "# # gdd_val_X <- gdd_val %>% dplyr::select(-is_bloom)\n",
    "# gdd_val_X <- sparse.model.matrix(is_bloom ~., data = gdd_val)\n",
    "# gdd_val_y <- gdd_val[, \"is_bloom\"]\n",
    "\n",
    "# # 2. Create lgb.Dataset objects\n",
    "# dtrain <- lgb.Dataset(data = as.matrix(gdd_train_X), label = gdd_train_y)\n",
    "# dval <- lgb.Dataset(data = as.matrix(gdd_val_X), label = gdd_val_y)\n",
    "\n",
    "# # 3. Build model\n",
    "# # https://lightgbm.readthedocs.io/en/latest/Parameters.html\n",
    "# # Use focal loss? - https://towardsdatascience.com/lightgbm-with-the-focal-loss-for-imbalanced-datasets-9836a9ae00ca\n",
    "# # Use doy as the reponse? - make it a regression problem.\n",
    "# # Pull info from other Japanese cities with similar latitude, and then randomly sample 2*positive cases.\n",
    "# neg_pos_ratio <- sum(gdd_train$is_bloom == 0) / sum(gdd_train$is_bloom == 1)\n",
    "\n",
    "# params <- list(\n",
    "#     # metric = \"binary_logloss\",\n",
    "#     metric = \"cross_entropy_lambda\",\n",
    "#     # feature_pre_filter = FALSE, # only necessary when reducing min_data_in_leaf\n",
    "#     # min_data_in_leaf = 20, # default: 20\n",
    "#     # max_depth = -1,\n",
    "#     # scale_pos_weight = neg_pos_ratio,\n",
    "#     # data_sampling_strategy = \"bagging\", # options: \"bagging\", \"goss\"\n",
    "#     # pos_bagging_fraction = 0.5,\n",
    "#     # neg_bagging_fraction = 0.01,\n",
    "#     # monotone_constraints_method = \"intermediate\", # options: \"basic\", \"intermediate\", \"advanced\"\n",
    "#     # max_bin = 10, # default: 255\n",
    "#     is_enable_sparse = TRUE,\n",
    "#     # n_estimators = 1000,\n",
    "#     # num_leaves = 2000\n",
    "#     learning_rate = 0.001,\n",
    "#     objective = \"binary\"\n",
    "# )\n",
    "\n",
    "# valids <- list(test = dval)\n",
    "\n",
    "# print(\"fitting the model\")\n",
    "# lgb_model <- lgb.train(params = params, data = dtrain, nrounds = 1000, valids, verbose = -1)\n",
    "\n",
    "# # 4. Accuracy checking\n",
    "# print(\"accuracy checking\")\n",
    "# library(caret)\n",
    "# p <- predict(lgb_model, gdd_val_X)\n",
    "# gdd_val <- gdd_val\n",
    "# gdd_val$predicted <- ifelse(p > 0.5, 1, 0)\n",
    "# dim(gdd_val_X)\n",
    "# confusionMatrix(factor(gdd_val$predicted), factor(gdd_val$is_bloom))\n"
   ]
  },
  {
   "cell_type": "code",
   "execution_count": null,
   "metadata": {
    "vscode": {
     "languageId": "r"
    }
   },
   "outputs": [],
   "source": [
    "# cross-validation using lgb.cv\n",
    "# https://github.com/microsoft/LightGBM/issues/5571\n",
    "# https://lightgbm.readthedocs.io/en/latest/Parameters.html\n",
    "# https://lightgbm.readthedocs.io/en/latest/Parameters-Tuning.html#for-better-accuracy\n",
    "library(tidyverse)\n",
    "library(lightgbm)\n",
    "\n",
    "train_val_set <- read.csv(\"../outputs/B_outputs/B11_japan_train_val.csv\")\n",
    "feature_names <- c(\"tmax\", \"tmin\", \"prcp\", \"month\", \"day\", \"daily_Cd\", \"daily_Ca\", \"Cd_cumsum\", \"Ca_cumsum\", \"lat\", \"long\", \"alt\")\n",
    "target_col <- \"is_bloom\"\n",
    "\n",
    "lgb_df <- train_val_set\n",
    "\n",
    "# prest\n",
    "\n",
    "\n",
    "\n",
    "# param grid\n",
    "grid_search <- expand.grid(boostings = c(\"dart\", \"gbdt\")\n",
    "                           , learning_rates = c(1, 0.1, 0.01) # \n",
    "                           , max_bins = c(255, 25, 15, 20) \n",
    "                           , num_leaves = c(10, 15, 20)\n",
    "                           , max_depth = c(-1, 10)\n",
    ") %>%\n",
    "    mutate(iteration = NA) %>%\n",
    "    mutate(binary_logloss = NA) %>%\n",
    "    mutate(auc = NA) %>%\n",
    "    mutate(binary_error = NA)\n",
    "    \n",
    "\n",
    "best_auc_yet <- 0\n",
    "\n",
    "for (i in seq_len(nrow(grid_search))){\n",
    "    \n",
    "    # i = 1\n",
    "    \n",
    "    grid_r <- grid_search[i, ]\n",
    "    print(grid_r)\n",
    "    \n",
    "    boosting <- as.character(grid_r[[\"boostings\"]])\n",
    "    learning_rate <- as.numeric(grid_r[[\"learning_rates\"]])\n",
    "    max_bin <- as.numeric(grid_r[[\"max_bins\"]])\n",
    "    num_leaves <- as.numeric(grid_r[[\"num_leaves\"]])\n",
    "    max_depth <- as.numeric(grid_r[[\"max_depth\"]])\n",
    "\n",
    "    num_boosting_rounds <- 1000L\n",
    "\n",
    "    dtrain <- lgb.Dataset(\n",
    "        data = data.matrix(lgb_df[, feature_names])\n",
    "        , label = lgb_df[[target_col]]\n",
    "        , params = list(\n",
    "            min_data_in_bin = 1L\n",
    "            , max_bin = max_bin\n",
    "            )\n",
    "    )\n",
    "\n",
    "\n",
    "    params <- list(\n",
    "            objective = \"binary\"\n",
    "            , metric = c(\"binary_logloss\", \"auc\", \"binary_error\")\n",
    "            , is_enable_sparse = TRUE\n",
    "            , min_data_in_leaf = 2L\n",
    "            , learning_rate = learning_rate\n",
    "            , boosting = boosting\n",
    "            , num_leaves = num_leaves\n",
    "            , max_depth = max_depth\n",
    "            , is_enable_sparse = TRUE\n",
    "            \n",
    "    )\n",
    "\n",
    "    cv_bst <- lgb.cv(\n",
    "        data = dtrain\n",
    "        , nrounds = num_boosting_rounds\n",
    "        , nfold = 5\n",
    "        , params = params\n",
    "        , stratified = TRUE\n",
    "        , early_stopping_rounds = 5\n",
    "        , seed = 42\n",
    "        , verbose = -1\n",
    "    )\n",
    "    \n",
    "    save(cv_bst, file = \"../outputs/B_outputs/B11_cv_bst.RData\")\n",
    "    \n",
    "    # create metric table\n",
    "    best_iter <- cv_bst[[\"best_iter\"]]\n",
    "\n",
    "    cv_metrics <- cv_bst[[\"record_evals\"]][[\"valid\"]]\n",
    "    metricDF <- data.frame(\n",
    "        iteration = seq_len(length(cv_metrics$binary_logloss$eval))\n",
    "        , binary_logloss = round(unlist(cv_metrics[[\"binary_logloss\"]][[\"eval\"]]), 3)\n",
    "        , auc = round(unlist(cv_metrics[[\"auc\"]][[\"eval\"]]), 3)\n",
    "        , binary_error = round(unlist(cv_metrics[[\"binary_error\"]][[\"eval\"]]), 3)\n",
    "    )\n",
    "\n",
    "    # obtain the average performance\n",
    "    # best_idx <- which(metricDF$auc == max(metricDF$auc))[1]\n",
    "    best_idx <- best_iter\n",
    "    # best_iter <- metricDF[best_idx, \"iteration\"][1]\n",
    "    # metricDF_avg <- data.frame(lapply(metricDF, MARGIN = 2, FUN = mean))\n",
    "    # metricDF_avg$iteration <- best_iter\n",
    "\n",
    "    # insert the result on the grid table\n",
    "    grid_search[i, 6:ncol(grid_search)] <- c(metricDF[best_idx, ])\n",
    "\n",
    "    if (as.numeric(grid_search[i, \"binary_logloss\"]) > best_auc_yet) {\n",
    "        \n",
    "        best_auc_yet <- as.numeric(grid_search[i, \"binary_logloss\"])\n",
    "        best_param_set <- grid_search[i, ]\n",
    "\n",
    "    }\n",
    "    \n",
    "    write.csv(grid_search, \"../outputs/B_outputs/B11_lgb_grid_kyoto3.csv\", row.names = FALSE)\n",
    "\n",
    "}\n",
    "\n",
    "print(best_param_set)"
   ]
  },
  {
   "cell_type": "code",
   "execution_count": 135,
   "metadata": {
    "vscode": {
     "languageId": "r"
    }
   },
   "outputs": [],
   "source": [
    "# cross-validation using lgb.cv\n",
    "# https://github.com/microsoft/LightGBM/issues/5571\n",
    "# https://lightgbm.readthedocs.io/en/latest/Parameters.html\n",
    "# https://lightgbm.readthedocs.io/en/latest/Parameters-Tuning.html#for-better-accuracy\n",
    "\n",
    "# library(tidyverse)\n",
    "# # library(lightgbm)\n",
    "\n",
    "# train_val_set <- read.csv(\"../outputs/B_outputs/B11_japan_train_val.csv\")\n",
    "# feature_names <- c(\"tmax\", \"tmin\", \"prcp\", \"month\", \"day\", \"daily_Cd\", \"daily_Ca\", \"Cd_cumsum\", \"Ca_cumsum\", \"lat\", \"long\", \"alt\")\n",
    "# target_col <- \"is_bloom\"\n",
    "\n",
    "# lgb_df <- train_val_set\n",
    "\n",
    "# # param grid\n",
    "# grid_search <- expand.grid(\n",
    "#     boostings = c(\"dart\", \"gbdt\")\n",
    "#     , learning_rates = c(1, 0.1, 0.01, 0.001)\n",
    "#     , max_bins = c(255, 300, 125, 75, 25)\n",
    "#     , num_leaves = c(31, 51, 71)\n",
    "#     , max_depth = c(-1, 20, 15, 10)\n",
    "#     ) %>% mutate(iteration = NA) %>%\n",
    "#         mutate(binary_logloss = NA) %>%\n",
    "#         mutate(auc = NA) %>%\n",
    "#         mutate(binary_error = NA\n",
    "#     )\n",
    "                            \n",
    "\n",
    "# best_auc_yet <- 0\n",
    "\n",
    "# library(doParallel)\n",
    "# n_clusters <- detectCores() - 1\n",
    "# # n_clusters <- 5\n",
    "# myCluster <- makeCluster(n_clusters, type = \"FORK\")\n",
    "# registerDoParallel(myCluster)\n",
    "\n",
    "\n",
    "# grid_search_result <- foreach (i = seq_len(nrow(grid_search))\n",
    "# # grid_search_result <- foreach (i = 1:4\n",
    "\n",
    "#     , boosting = grid_search$boostings\n",
    "#     , learning_rate = grid_search$learning_rates\n",
    "#     , max_bin = grid_search$max_bins\n",
    "#     , num_leaves = grid_search$num_leaves\n",
    "#     , max_depth = grid_search$max_depth\n",
    "#     , .packages = \"lightgbm\"\n",
    "#     , .combine = rbind\n",
    "\n",
    "# ) %dopar% {\n",
    "\n",
    "#     num_boosting_rounds <- 1000L\n",
    "\n",
    "#     dtrain <- lgb.Dataset(\n",
    "#         data = data.matrix(lgb_df[, feature_names])\n",
    "#         , label = lgb_df[[target_col]]\n",
    "#         , params = list(\n",
    "#             min_data_in_bin = 1L\n",
    "#             , max_bin = max_bin\n",
    "#             )\n",
    "#     )\n",
    "\n",
    "\n",
    "#     params <- list(\n",
    "\n",
    "#         objective = \"binary\"\n",
    "#         , metric = c(\"binary_logloss\", \"auc\", \"binary_error\")\n",
    "#         , is_enable_sparse = TRUE\n",
    "#         , min_data_in_leaf = 2L\n",
    "#         , learning_rate = learning_rate\n",
    "#         , boosting = boosting\n",
    "#         , num_leaves = num_leaves\n",
    "#         , max_depth = max_depth\n",
    "#         , is_enable_sparse = TRUE\n",
    "#     )\n",
    "\n",
    "#     cv_bst <- lgb.cv(\n",
    "#         data = dtrain\n",
    "#         , nrounds = num_boosting_rounds\n",
    "#         , nfold = 5\n",
    "#         , params = params\n",
    "#         , stratified = TRUE\n",
    "#         , early_stopping_rounds = 5\n",
    "#         , verbose = -1\n",
    "#     )\n",
    "    \n",
    "#     save(cv_bst, file = \"../outputs/B_outputs/B11_cv_bst.RData\")\n",
    "    \n",
    "#     # create metric table\n",
    "#     best_iter <- cv_bst[[\"best_iter\"]]\n",
    "\n",
    "#     cv_metrics <- cv_bst[[\"record_evals\"]][[\"valid\"]]\n",
    "#     metricDF <- data.frame(\n",
    "#         iteration = seq_len(length(cv_metrics$binary_logloss$eval))\n",
    "#         , binary_logloss = round(unlist(cv_metrics[[\"binary_logloss\"]][[\"eval\"]]), 3)\n",
    "#         , auc = round(unlist(cv_metrics[[\"auc\"]][[\"eval\"]]), 3)\n",
    "#         , binary_error = round(unlist(cv_metrics[[\"binary_error\"]][[\"eval\"]]), 3)\n",
    "#     )\n",
    "\n",
    "#     # insert the result on the grid table\n",
    "#     best_idx <- best_iter\n",
    "#     grid_search[i, 6:ncol(grid_search)] <- c(metricDF[best_idx, ])\n",
    "    \n",
    "#     out <- grid_search[i, ]\n",
    "\n",
    "#     return(out)\n",
    "    \n",
    "# }\n",
    "\n",
    "# stopCluster(myCluster)\n",
    "\n",
    "# save(grid_search_result, file = \"../outputs/B_outputs/B11_lgb_grid_kyoto_par.RData\")\n",
    "# write.csv(data.frame(grid_search_result), \"../outputs/B_outputs/B11_lgb_grid_kyoto_par.csv\")\n"
   ]
  },
  {
   "cell_type": "code",
   "execution_count": 6,
   "metadata": {
    "vscode": {
     "languageId": "r"
    }
   },
   "outputs": [
    {
     "data": {
      "text/html": [
       "<table class=\"dataframe\">\n",
       "<caption>A data.frame: 1 × 9</caption>\n",
       "<thead>\n",
       "\t<tr><th></th><th scope=col>boostings</th><th scope=col>learning_rates</th><th scope=col>max_bins</th><th scope=col>num_leaves</th><th scope=col>max_depth</th><th scope=col>iteration</th><th scope=col>binary_logloss</th><th scope=col>auc</th><th scope=col>binary_error</th></tr>\n",
       "\t<tr><th></th><th scope=col>&lt;chr&gt;</th><th scope=col>&lt;dbl&gt;</th><th scope=col>&lt;int&gt;</th><th scope=col>&lt;int&gt;</th><th scope=col>&lt;int&gt;</th><th scope=col>&lt;int&gt;</th><th scope=col>&lt;dbl&gt;</th><th scope=col>&lt;dbl&gt;</th><th scope=col>&lt;dbl&gt;</th></tr>\n",
       "</thead>\n",
       "<tbody>\n",
       "\t<tr><th scope=row>105</th><td>dart</td><td>0.1</td><td>25</td><td>15</td><td>10</td><td>187</td><td>0.347</td><td>0.917</td><td>0.153</td></tr>\n",
       "</tbody>\n",
       "</table>\n"
      ],
      "text/latex": [
       "A data.frame: 1 × 9\n",
       "\\begin{tabular}{r|lllllllll}\n",
       "  & boostings & learning\\_rates & max\\_bins & num\\_leaves & max\\_depth & iteration & binary\\_logloss & auc & binary\\_error\\\\\n",
       "  & <chr> & <dbl> & <int> & <int> & <int> & <int> & <dbl> & <dbl> & <dbl>\\\\\n",
       "\\hline\n",
       "\t105 & dart & 0.1 & 25 & 15 & 10 & 187 & 0.347 & 0.917 & 0.153\\\\\n",
       "\\end{tabular}\n"
      ],
      "text/markdown": [
       "\n",
       "A data.frame: 1 × 9\n",
       "\n",
       "| <!--/--> | boostings &lt;chr&gt; | learning_rates &lt;dbl&gt; | max_bins &lt;int&gt; | num_leaves &lt;int&gt; | max_depth &lt;int&gt; | iteration &lt;int&gt; | binary_logloss &lt;dbl&gt; | auc &lt;dbl&gt; | binary_error &lt;dbl&gt; |\n",
       "|---|---|---|---|---|---|---|---|---|---|\n",
       "| 105 | dart | 0.1 | 25 | 15 | 10 | 187 | 0.347 | 0.917 | 0.153 |\n",
       "\n"
      ],
      "text/plain": [
       "    boostings learning_rates max_bins num_leaves max_depth iteration\n",
       "105 dart      0.1            25       15         10        187      \n",
       "    binary_logloss auc   binary_error\n",
       "105 0.347          0.917 0.153       "
      ]
     },
     "metadata": {},
     "output_type": "display_data"
    },
    {
     "data": {
      "text/html": [
       "<table class=\"dataframe\">\n",
       "<caption>A data.frame: 1 × 9</caption>\n",
       "<thead>\n",
       "\t<tr><th></th><th scope=col>boostings</th><th scope=col>learning_rates</th><th scope=col>max_bins</th><th scope=col>num_leaves</th><th scope=col>max_depth</th><th scope=col>iteration</th><th scope=col>binary_logloss</th><th scope=col>auc</th><th scope=col>binary_error</th></tr>\n",
       "\t<tr><th></th><th scope=col>&lt;chr&gt;</th><th scope=col>&lt;dbl&gt;</th><th scope=col>&lt;int&gt;</th><th scope=col>&lt;int&gt;</th><th scope=col>&lt;int&gt;</th><th scope=col>&lt;int&gt;</th><th scope=col>&lt;dbl&gt;</th><th scope=col>&lt;dbl&gt;</th><th scope=col>&lt;dbl&gt;</th></tr>\n",
       "</thead>\n",
       "<tbody>\n",
       "\t<tr><th scope=row>35</th><td>dart</td><td>0.01</td><td>25</td><td>15</td><td>-1</td><td>996</td><td>0.351</td><td>0.922</td><td>0.152</td></tr>\n",
       "</tbody>\n",
       "</table>\n"
      ],
      "text/latex": [
       "A data.frame: 1 × 9\n",
       "\\begin{tabular}{r|lllllllll}\n",
       "  & boostings & learning\\_rates & max\\_bins & num\\_leaves & max\\_depth & iteration & binary\\_logloss & auc & binary\\_error\\\\\n",
       "  & <chr> & <dbl> & <int> & <int> & <int> & <int> & <dbl> & <dbl> & <dbl>\\\\\n",
       "\\hline\n",
       "\t35 & dart & 0.01 & 25 & 15 & -1 & 996 & 0.351 & 0.922 & 0.152\\\\\n",
       "\\end{tabular}\n"
      ],
      "text/markdown": [
       "\n",
       "A data.frame: 1 × 9\n",
       "\n",
       "| <!--/--> | boostings &lt;chr&gt; | learning_rates &lt;dbl&gt; | max_bins &lt;int&gt; | num_leaves &lt;int&gt; | max_depth &lt;int&gt; | iteration &lt;int&gt; | binary_logloss &lt;dbl&gt; | auc &lt;dbl&gt; | binary_error &lt;dbl&gt; |\n",
       "|---|---|---|---|---|---|---|---|---|---|\n",
       "| 35 | dart | 0.01 | 25 | 15 | -1 | 996 | 0.351 | 0.922 | 0.152 |\n",
       "\n"
      ],
      "text/plain": [
       "   boostings learning_rates max_bins num_leaves max_depth iteration\n",
       "35 dart      0.01           25       15         -1        996      \n",
       "   binary_logloss auc   binary_error\n",
       "35 0.351          0.922 0.152       "
      ]
     },
     "metadata": {},
     "output_type": "display_data"
    },
    {
     "data": {
      "text/html": [
       "<table class=\"dataframe\">\n",
       "<caption>A data.frame: 1 × 9</caption>\n",
       "<thead>\n",
       "\t<tr><th></th><th scope=col>boostings</th><th scope=col>learning_rates</th><th scope=col>max_bins</th><th scope=col>num_leaves</th><th scope=col>max_depth</th><th scope=col>iteration</th><th scope=col>binary_logloss</th><th scope=col>auc</th><th scope=col>binary_error</th></tr>\n",
       "\t<tr><th></th><th scope=col>&lt;chr&gt;</th><th scope=col>&lt;dbl&gt;</th><th scope=col>&lt;int&gt;</th><th scope=col>&lt;int&gt;</th><th scope=col>&lt;int&gt;</th><th scope=col>&lt;int&gt;</th><th scope=col>&lt;dbl&gt;</th><th scope=col>&lt;dbl&gt;</th><th scope=col>&lt;dbl&gt;</th></tr>\n",
       "</thead>\n",
       "<tbody>\n",
       "\t<tr><th scope=row>63</th><td>dart</td><td>0.1</td><td>15</td><td>20</td><td>-1</td><td>57</td><td>0.367</td><td>0.905</td><td>0.151</td></tr>\n",
       "</tbody>\n",
       "</table>\n"
      ],
      "text/latex": [
       "A data.frame: 1 × 9\n",
       "\\begin{tabular}{r|lllllllll}\n",
       "  & boostings & learning\\_rates & max\\_bins & num\\_leaves & max\\_depth & iteration & binary\\_logloss & auc & binary\\_error\\\\\n",
       "  & <chr> & <dbl> & <int> & <int> & <int> & <int> & <dbl> & <dbl> & <dbl>\\\\\n",
       "\\hline\n",
       "\t63 & dart & 0.1 & 15 & 20 & -1 & 57 & 0.367 & 0.905 & 0.151\\\\\n",
       "\\end{tabular}\n"
      ],
      "text/markdown": [
       "\n",
       "A data.frame: 1 × 9\n",
       "\n",
       "| <!--/--> | boostings &lt;chr&gt; | learning_rates &lt;dbl&gt; | max_bins &lt;int&gt; | num_leaves &lt;int&gt; | max_depth &lt;int&gt; | iteration &lt;int&gt; | binary_logloss &lt;dbl&gt; | auc &lt;dbl&gt; | binary_error &lt;dbl&gt; |\n",
       "|---|---|---|---|---|---|---|---|---|---|\n",
       "| 63 | dart | 0.1 | 15 | 20 | -1 | 57 | 0.367 | 0.905 | 0.151 |\n",
       "\n"
      ],
      "text/plain": [
       "   boostings learning_rates max_bins num_leaves max_depth iteration\n",
       "63 dart      0.1            15       20         -1        57       \n",
       "   binary_logloss auc   binary_error\n",
       "63 0.367          0.905 0.151       "
      ]
     },
     "metadata": {},
     "output_type": "display_data"
    }
   ],
   "source": [
    "# grid_search_result <- read.csv(\"../outputs/B_outputs/B11_lgb_grid_kyoto_par.csv\")\n",
    "grid_search_result <- read.csv(\"../outputs/B_outputs/B11_lgb_grid_kyoto3.csv\")\n",
    "grid_search_result[which(grid_search_result$binary_logloss == min(grid_search_result$binary_logloss)), ]\n",
    "grid_search_result[which(grid_search_result$auc == max(grid_search_result$auc)), ]\n",
    "grid_search_result[which(grid_search_result$binary_error == min(grid_search_result$binary_error)), ]\n"
   ]
  },
  {
   "cell_type": "code",
   "execution_count": 7,
   "metadata": {
    "vscode": {
     "languageId": "r"
    }
   },
   "outputs": [
    {
     "data": {
      "text/html": [
       "<table class=\"dataframe\">\n",
       "<caption>A data.frame: 1 × 9</caption>\n",
       "<thead>\n",
       "\t<tr><th></th><th scope=col>X</th><th scope=col>V1</th><th scope=col>V2</th><th scope=col>V3</th><th scope=col>V4</th><th scope=col>iteration</th><th scope=col>binary_logloss</th><th scope=col>auc</th><th scope=col>binary_error</th></tr>\n",
       "\t<tr><th></th><th scope=col>&lt;chr&gt;</th><th scope=col>&lt;int&gt;</th><th scope=col>&lt;dbl&gt;</th><th scope=col>&lt;int&gt;</th><th scope=col>&lt;int&gt;</th><th scope=col>&lt;int&gt;</th><th scope=col>&lt;dbl&gt;</th><th scope=col>&lt;dbl&gt;</th><th scope=col>&lt;dbl&gt;</th></tr>\n",
       "</thead>\n",
       "<tbody>\n",
       "\t<tr><th scope=row>40</th><td>result.40</td><td>2</td><td>0.1</td><td>15</td><td>15</td><td>23</td><td>0.36</td><td>0.918</td><td>0.158</td></tr>\n",
       "</tbody>\n",
       "</table>\n"
      ],
      "text/latex": [
       "A data.frame: 1 × 9\n",
       "\\begin{tabular}{r|lllllllll}\n",
       "  & X & V1 & V2 & V3 & V4 & iteration & binary\\_logloss & auc & binary\\_error\\\\\n",
       "  & <chr> & <int> & <dbl> & <int> & <int> & <int> & <dbl> & <dbl> & <dbl>\\\\\n",
       "\\hline\n",
       "\t40 & result.40 & 2 & 0.1 & 15 & 15 & 23 & 0.36 & 0.918 & 0.158\\\\\n",
       "\\end{tabular}\n"
      ],
      "text/markdown": [
       "\n",
       "A data.frame: 1 × 9\n",
       "\n",
       "| <!--/--> | X &lt;chr&gt; | V1 &lt;int&gt; | V2 &lt;dbl&gt; | V3 &lt;int&gt; | V4 &lt;int&gt; | iteration &lt;int&gt; | binary_logloss &lt;dbl&gt; | auc &lt;dbl&gt; | binary_error &lt;dbl&gt; |\n",
       "|---|---|---|---|---|---|---|---|---|---|\n",
       "| 40 | result.40 | 2 | 0.1 | 15 | 15 | 23 | 0.36 | 0.918 | 0.158 |\n",
       "\n"
      ],
      "text/plain": [
       "   X         V1 V2  V3 V4 iteration binary_logloss auc   binary_error\n",
       "40 result.40 2  0.1 15 15 23        0.36           0.918 0.158       "
      ]
     },
     "metadata": {},
     "output_type": "display_data"
    },
    {
     "data": {
      "text/html": [
       "<table class=\"dataframe\">\n",
       "<caption>A data.frame: 1 × 9</caption>\n",
       "<thead>\n",
       "\t<tr><th></th><th scope=col>X</th><th scope=col>V1</th><th scope=col>V2</th><th scope=col>V3</th><th scope=col>V4</th><th scope=col>iteration</th><th scope=col>binary_logloss</th><th scope=col>auc</th><th scope=col>binary_error</th></tr>\n",
       "\t<tr><th></th><th scope=col>&lt;chr&gt;</th><th scope=col>&lt;int&gt;</th><th scope=col>&lt;dbl&gt;</th><th scope=col>&lt;int&gt;</th><th scope=col>&lt;int&gt;</th><th scope=col>&lt;int&gt;</th><th scope=col>&lt;dbl&gt;</th><th scope=col>&lt;dbl&gt;</th><th scope=col>&lt;dbl&gt;</th></tr>\n",
       "</thead>\n",
       "<tbody>\n",
       "\t<tr><th scope=row>40</th><td>result.40</td><td>2</td><td>0.1</td><td>15</td><td>15</td><td>23</td><td>0.36</td><td>0.918</td><td>0.158</td></tr>\n",
       "</tbody>\n",
       "</table>\n"
      ],
      "text/latex": [
       "A data.frame: 1 × 9\n",
       "\\begin{tabular}{r|lllllllll}\n",
       "  & X & V1 & V2 & V3 & V4 & iteration & binary\\_logloss & auc & binary\\_error\\\\\n",
       "  & <chr> & <int> & <dbl> & <int> & <int> & <int> & <dbl> & <dbl> & <dbl>\\\\\n",
       "\\hline\n",
       "\t40 & result.40 & 2 & 0.1 & 15 & 15 & 23 & 0.36 & 0.918 & 0.158\\\\\n",
       "\\end{tabular}\n"
      ],
      "text/markdown": [
       "\n",
       "A data.frame: 1 × 9\n",
       "\n",
       "| <!--/--> | X &lt;chr&gt; | V1 &lt;int&gt; | V2 &lt;dbl&gt; | V3 &lt;int&gt; | V4 &lt;int&gt; | iteration &lt;int&gt; | binary_logloss &lt;dbl&gt; | auc &lt;dbl&gt; | binary_error &lt;dbl&gt; |\n",
       "|---|---|---|---|---|---|---|---|---|---|\n",
       "| 40 | result.40 | 2 | 0.1 | 15 | 15 | 23 | 0.36 | 0.918 | 0.158 |\n",
       "\n"
      ],
      "text/plain": [
       "   X         V1 V2  V3 V4 iteration binary_logloss auc   binary_error\n",
       "40 result.40 2  0.1 15 15 23        0.36           0.918 0.158       "
      ]
     },
     "metadata": {},
     "output_type": "display_data"
    },
    {
     "data": {
      "text/html": [
       "<table class=\"dataframe\">\n",
       "<caption>A data.frame: 1 × 9</caption>\n",
       "<thead>\n",
       "\t<tr><th></th><th scope=col>X</th><th scope=col>V1</th><th scope=col>V2</th><th scope=col>V3</th><th scope=col>V4</th><th scope=col>iteration</th><th scope=col>binary_logloss</th><th scope=col>auc</th><th scope=col>binary_error</th></tr>\n",
       "\t<tr><th></th><th scope=col>&lt;chr&gt;</th><th scope=col>&lt;int&gt;</th><th scope=col>&lt;dbl&gt;</th><th scope=col>&lt;int&gt;</th><th scope=col>&lt;int&gt;</th><th scope=col>&lt;int&gt;</th><th scope=col>&lt;dbl&gt;</th><th scope=col>&lt;dbl&gt;</th><th scope=col>&lt;dbl&gt;</th></tr>\n",
       "</thead>\n",
       "<tbody>\n",
       "\t<tr><th scope=row>44</th><td>result.44</td><td>2</td><td>1</td><td>20</td><td>15</td><td>1</td><td>0.38</td><td>0.903</td><td>0.147</td></tr>\n",
       "</tbody>\n",
       "</table>\n"
      ],
      "text/latex": [
       "A data.frame: 1 × 9\n",
       "\\begin{tabular}{r|lllllllll}\n",
       "  & X & V1 & V2 & V3 & V4 & iteration & binary\\_logloss & auc & binary\\_error\\\\\n",
       "  & <chr> & <int> & <dbl> & <int> & <int> & <int> & <dbl> & <dbl> & <dbl>\\\\\n",
       "\\hline\n",
       "\t44 & result.44 & 2 & 1 & 20 & 15 & 1 & 0.38 & 0.903 & 0.147\\\\\n",
       "\\end{tabular}\n"
      ],
      "text/markdown": [
       "\n",
       "A data.frame: 1 × 9\n",
       "\n",
       "| <!--/--> | X &lt;chr&gt; | V1 &lt;int&gt; | V2 &lt;dbl&gt; | V3 &lt;int&gt; | V4 &lt;int&gt; | iteration &lt;int&gt; | binary_logloss &lt;dbl&gt; | auc &lt;dbl&gt; | binary_error &lt;dbl&gt; |\n",
       "|---|---|---|---|---|---|---|---|---|---|\n",
       "| 44 | result.44 | 2 | 1 | 20 | 15 | 1 | 0.38 | 0.903 | 0.147 |\n",
       "\n"
      ],
      "text/plain": [
       "   X         V1 V2 V3 V4 iteration binary_logloss auc   binary_error\n",
       "44 result.44 2  1  20 15 1         0.38           0.903 0.147       "
      ]
     },
     "metadata": {},
     "output_type": "display_data"
    }
   ],
   "source": [
    "grid_search_result <- read.csv(\"../outputs/B_outputs/B11_lgb_grid_kyoto_par.csv\")\n",
    "grid_search_result[which(grid_search_result$binary_logloss == min(grid_search_result$binary_logloss)), ]\n",
    "grid_search_result[which(grid_search_result$auc == max(grid_search_result$auc)), ]\n",
    "grid_search_result[which(grid_search_result$binary_error == min(grid_search_result$binary_error)), ]"
   ]
  },
  {
   "cell_type": "code",
   "execution_count": 8,
   "metadata": {
    "vscode": {
     "languageId": "r"
    }
   },
   "outputs": [],
   "source": [
    "load(file = \"../outputs/B_outputs/B11_lgb_grid_kyoto_par.RData\")"
   ]
  },
  {
   "cell_type": "code",
   "execution_count": null,
   "metadata": {
    "vscode": {
     "languageId": "r"
    }
   },
   "outputs": [],
   "source": [
    "data.frame(grid_search_result)"
   ]
  },
  {
   "cell_type": "code",
   "execution_count": null,
   "metadata": {
    "vscode": {
     "languageId": "r"
    }
   },
   "outputs": [],
   "source": [
    "# Evaluation curve\n",
    "# pred <- prediction(p, gdd_val$is_bloom)\n",
    "# eval <- performance(pred, \"acc\")\n",
    "# plot(eval)\n",
    "\n",
    "# #ROC\n",
    "# roc = performance(pred, \"tpr\", \"fpr\")\n",
    "# plot(roc, main = \"ROC curve\")\n",
    "# abline(a = 0, b = 1)"
   ]
  }
 ],
 "metadata": {
  "kernelspec": {
   "display_name": "R 4.1",
   "language": "R",
   "name": "ir41"
  },
  "language_info": {
   "codemirror_mode": "r",
   "file_extension": ".r",
   "mimetype": "text/x-r-source",
   "name": "R",
   "pygments_lexer": "r",
   "version": "4.1.2"
  },
  "orig_nbformat": 4
 },
 "nbformat": 4,
 "nbformat_minor": 2
}
