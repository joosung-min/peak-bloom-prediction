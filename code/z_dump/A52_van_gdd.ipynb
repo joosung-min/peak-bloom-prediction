{
 "cells": [
  {
   "cell_type": "code",
   "execution_count": 23,
   "metadata": {
    "vscode": {
     "languageId": "r"
    }
   },
   "outputs": [
    {
     "data": {
      "text/html": [
       "'Möhlin'"
      ],
      "text/latex": [
       "'Möhlin'"
      ],
      "text/markdown": [
       "'Möhlin'"
      ],
      "text/plain": [
       "[1] \"Möhlin\""
      ]
     },
     "metadata": {},
     "output_type": "display_data"
    },
    {
     "data": {
      "text/html": [
       "<style>\n",
       ".list-inline {list-style: none; margin:0; padding: 0}\n",
       ".list-inline>li {display: inline-block}\n",
       ".list-inline>li:not(:last-child)::after {content: \"\\00b7\"; padding: 0 .5ex}\n",
       "</style>\n",
       "<ol class=list-inline><li>43</li><li>9</li></ol>\n"
      ],
      "text/latex": [
       "\\begin{enumerate*}\n",
       "\\item 43\n",
       "\\item 9\n",
       "\\end{enumerate*}\n"
      ],
      "text/markdown": [
       "1. 43\n",
       "2. 9\n",
       "\n",
       "\n"
      ],
      "text/plain": [
       "[1] 43  9"
      ]
     },
     "metadata": {},
     "output_type": "display_data"
    },
    {
     "data": {
      "text/html": [
       "<table class=\"dataframe\">\n",
       "<caption>A data.frame: 6 × 9</caption>\n",
       "<thead>\n",
       "\t<tr><th></th><th scope=col>country</th><th scope=col>city</th><th scope=col>location</th><th scope=col>lat</th><th scope=col>long</th><th scope=col>alt</th><th scope=col>year</th><th scope=col>bloom_date</th><th scope=col>bloom_doy</th></tr>\n",
       "\t<tr><th></th><th scope=col>&lt;chr&gt;</th><th scope=col>&lt;chr&gt;</th><th scope=col>&lt;chr&gt;</th><th scope=col>&lt;dbl&gt;</th><th scope=col>&lt;dbl&gt;</th><th scope=col>&lt;dbl&gt;</th><th scope=col>&lt;int&gt;</th><th scope=col>&lt;chr&gt;</th><th scope=col>&lt;int&gt;</th></tr>\n",
       "</thead>\n",
       "<tbody>\n",
       "\t<tr><th scope=row>1</th><td>Switzerland</td><td>Möhlin</td><td>Switzerland/Möhlin</td><td>47.56198</td><td>7.850547</td><td>305</td><td>1956</td><td>1956-04-23</td><td>114</td></tr>\n",
       "\t<tr><th scope=row>2</th><td>Switzerland</td><td>Möhlin</td><td>Switzerland/Möhlin</td><td>47.56198</td><td>7.850547</td><td>305</td><td>1957</td><td>1957-04-14</td><td>104</td></tr>\n",
       "\t<tr><th scope=row>3</th><td>Switzerland</td><td>Möhlin</td><td>Switzerland/Möhlin</td><td>47.56198</td><td>7.850547</td><td>305</td><td>1958</td><td>1958-05-01</td><td>121</td></tr>\n",
       "\t<tr><th scope=row>4</th><td>Switzerland</td><td>Möhlin</td><td>Switzerland/Möhlin</td><td>47.56198</td><td>7.850547</td><td>305</td><td>1962</td><td>1962-04-22</td><td>112</td></tr>\n",
       "\t<tr><th scope=row>5</th><td>Switzerland</td><td>Möhlin</td><td>Switzerland/Möhlin</td><td>47.56198</td><td>7.850547</td><td>305</td><td>1963</td><td>1963-04-20</td><td>110</td></tr>\n",
       "\t<tr><th scope=row>6</th><td>Switzerland</td><td>Möhlin</td><td>Switzerland/Möhlin</td><td>47.56198</td><td>7.850547</td><td>305</td><td>1967</td><td>1967-04-10</td><td>100</td></tr>\n",
       "</tbody>\n",
       "</table>\n"
      ],
      "text/latex": [
       "A data.frame: 6 × 9\n",
       "\\begin{tabular}{r|lllllllll}\n",
       "  & country & city & location & lat & long & alt & year & bloom\\_date & bloom\\_doy\\\\\n",
       "  & <chr> & <chr> & <chr> & <dbl> & <dbl> & <dbl> & <int> & <chr> & <int>\\\\\n",
       "\\hline\n",
       "\t1 & Switzerland & Möhlin & Switzerland/Möhlin & 47.56198 & 7.850547 & 305 & 1956 & 1956-04-23 & 114\\\\\n",
       "\t2 & Switzerland & Möhlin & Switzerland/Möhlin & 47.56198 & 7.850547 & 305 & 1957 & 1957-04-14 & 104\\\\\n",
       "\t3 & Switzerland & Möhlin & Switzerland/Möhlin & 47.56198 & 7.850547 & 305 & 1958 & 1958-05-01 & 121\\\\\n",
       "\t4 & Switzerland & Möhlin & Switzerland/Möhlin & 47.56198 & 7.850547 & 305 & 1962 & 1962-04-22 & 112\\\\\n",
       "\t5 & Switzerland & Möhlin & Switzerland/Möhlin & 47.56198 & 7.850547 & 305 & 1963 & 1963-04-20 & 110\\\\\n",
       "\t6 & Switzerland & Möhlin & Switzerland/Möhlin & 47.56198 & 7.850547 & 305 & 1967 & 1967-04-10 & 100\\\\\n",
       "\\end{tabular}\n"
      ],
      "text/markdown": [
       "\n",
       "A data.frame: 6 × 9\n",
       "\n",
       "| <!--/--> | country &lt;chr&gt; | city &lt;chr&gt; | location &lt;chr&gt; | lat &lt;dbl&gt; | long &lt;dbl&gt; | alt &lt;dbl&gt; | year &lt;int&gt; | bloom_date &lt;chr&gt; | bloom_doy &lt;int&gt; |\n",
       "|---|---|---|---|---|---|---|---|---|---|\n",
       "| 1 | Switzerland | Möhlin | Switzerland/Möhlin | 47.56198 | 7.850547 | 305 | 1956 | 1956-04-23 | 114 |\n",
       "| 2 | Switzerland | Möhlin | Switzerland/Möhlin | 47.56198 | 7.850547 | 305 | 1957 | 1957-04-14 | 104 |\n",
       "| 3 | Switzerland | Möhlin | Switzerland/Möhlin | 47.56198 | 7.850547 | 305 | 1958 | 1958-05-01 | 121 |\n",
       "| 4 | Switzerland | Möhlin | Switzerland/Möhlin | 47.56198 | 7.850547 | 305 | 1962 | 1962-04-22 | 112 |\n",
       "| 5 | Switzerland | Möhlin | Switzerland/Möhlin | 47.56198 | 7.850547 | 305 | 1963 | 1963-04-20 | 110 |\n",
       "| 6 | Switzerland | Möhlin | Switzerland/Möhlin | 47.56198 | 7.850547 | 305 | 1967 | 1967-04-10 | 100 |\n",
       "\n"
      ],
      "text/plain": [
       "  country     city   location           lat      long     alt year bloom_date\n",
       "1 Switzerland Möhlin Switzerland/Möhlin 47.56198 7.850547 305 1956 1956-04-23\n",
       "2 Switzerland Möhlin Switzerland/Möhlin 47.56198 7.850547 305 1957 1957-04-14\n",
       "3 Switzerland Möhlin Switzerland/Möhlin 47.56198 7.850547 305 1958 1958-05-01\n",
       "4 Switzerland Möhlin Switzerland/Möhlin 47.56198 7.850547 305 1962 1962-04-22\n",
       "5 Switzerland Möhlin Switzerland/Möhlin 47.56198 7.850547 305 1963 1963-04-20\n",
       "6 Switzerland Möhlin Switzerland/Möhlin 47.56198 7.850547 305 1967 1967-04-10\n",
       "  bloom_doy\n",
       "1 114      \n",
       "2 104      \n",
       "3 121      \n",
       "4 112      \n",
       "5 110      \n",
       "6 100      "
      ]
     },
     "metadata": {},
     "output_type": "display_data"
    },
    {
     "data": {
      "text/html": [
       "47.561983"
      ],
      "text/latex": [
       "47.561983"
      ],
      "text/markdown": [
       "47.561983"
      ],
      "text/plain": [
       "[1] 47.56198"
      ]
     },
     "metadata": {},
     "output_type": "display_data"
    },
    {
     "data": {
      "text/html": [
       "305"
      ],
      "text/latex": [
       "305"
      ],
      "text/markdown": [
       "305"
      ],
      "text/plain": [
       "[1] 305"
      ]
     },
     "metadata": {},
     "output_type": "display_data"
    }
   ],
   "source": [
    "library(tidyverse)\n",
    "\n",
    "cherry_sub <- read.csv(\"/home/joosungm/projects/def-lelliott/joosungm/projects/peak-bloom-prediction/A_outputs/A11_cherry_sub.csv\")\n",
    "\n",
    "# Vancouver latitude and longitude: 49.2827° N, 123.1207° W\n",
    "cherry_sub2 <- cherry_sub %>%\n",
    "    filter(alt < 306) %>%\n",
    "    filter(47.5 < lat) # Merishausen\n",
    "\n",
    "sort(unique(cherry_sub2$city))\n",
    "dim(cherry_sub2)\n",
    "head(cherry_sub2)\n",
    "sort(unique(cherry_sub2$lat))\n",
    "sort(unique(cherry_sub2$alt))"
   ]
  },
  {
   "cell_type": "code",
   "execution_count": 26,
   "metadata": {
    "vscode": {
     "languageId": "r"
    }
   },
   "outputs": [
    {
     "data": {
      "text/html": [
       "<style>\n",
       ".list-inline {list-style: none; margin:0; padding: 0}\n",
       ".list-inline>li {display: inline-block}\n",
       ".list-inline>li:not(:last-child)::after {content: \"\\00b7\"; padding: 0 .5ex}\n",
       "</style>\n",
       "<ol class=list-inline><li>466</li><li>9</li></ol>\n"
      ],
      "text/latex": [
       "\\begin{enumerate*}\n",
       "\\item 466\n",
       "\\item 9\n",
       "\\end{enumerate*}\n"
      ],
      "text/markdown": [
       "1. 466\n",
       "2. 9\n",
       "\n",
       "\n"
      ],
      "text/plain": [
       "[1] 466   9"
      ]
     },
     "metadata": {},
     "output_type": "display_data"
    }
   ],
   "source": [
    "jp_cities <- c(\"Aomori\", \"Fukushima\", \"Sendai\", \"Morioka\", \"Hachinohe\", \"Hakodate\")\n",
    "\n",
    "cherry_sub <- read.csv(\"/home/joosungm/projects/def-lelliott/joosungm/projects/peak-bloom-prediction/A_outputs/A11_cherry_sub.csv\") %>%\n",
    "    filter(country == \"Japan\") %>%\n",
    "    filter(city %in% jp_cities)\n",
    "dim(cherry_sub)"
   ]
  },
  {
   "cell_type": "code",
   "execution_count": 25,
   "metadata": {
    "vscode": {
     "languageId": "r"
    }
   },
   "outputs": [],
   "source": []
  },
  {
   "cell_type": "code",
   "execution_count": null,
   "metadata": {
    "vscode": {
     "languageId": "r"
    }
   },
   "outputs": [],
   "source": []
  }
 ],
 "metadata": {
  "kernelspec": {
   "display_name": "R 4.1",
   "language": "R",
   "name": "ir41"
  },
  "language_info": {
   "codemirror_mode": "r",
   "file_extension": ".r",
   "mimetype": "text/x-r-source",
   "name": "R",
   "pygments_lexer": "r",
   "version": "4.1.2"
  },
  "orig_nbformat": 4,
  "vscode": {
   "interpreter": {
    "hash": "7ebba22d4926039ff239339cf567af8b303e0a244d82717597cfd7af2af74d26"
   }
  }
 },
 "nbformat": 4,
 "nbformat_minor": 2
}
