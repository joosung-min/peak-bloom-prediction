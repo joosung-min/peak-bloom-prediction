{
 "cells": [
  {
   "cell_type": "code",
   "execution_count": 1,
   "metadata": {
    "vscode": {
     "languageId": "r"
    }
   },
   "outputs": [
    {
     "name": "stderr",
     "output_type": "stream",
     "text": [
      "── \u001b[1mAttaching packages\u001b[22m ─────────────────────────────────────── tidyverse 1.3.2 ──\n",
      "\u001b[32m✔\u001b[39m \u001b[34mggplot2\u001b[39m 3.3.6      \u001b[32m✔\u001b[39m \u001b[34mpurrr  \u001b[39m 0.3.4 \n",
      "\u001b[32m✔\u001b[39m \u001b[34mtibble \u001b[39m 3.1.8      \u001b[32m✔\u001b[39m \u001b[34mdplyr  \u001b[39m 1.0.10\n",
      "\u001b[32m✔\u001b[39m \u001b[34mtidyr  \u001b[39m 1.2.1      \u001b[32m✔\u001b[39m \u001b[34mstringr\u001b[39m 1.4.1 \n",
      "\u001b[32m✔\u001b[39m \u001b[34mreadr  \u001b[39m 2.1.2      \u001b[32m✔\u001b[39m \u001b[34mforcats\u001b[39m 0.5.2 \n",
      "── \u001b[1mConflicts\u001b[22m ────────────────────────────────────────── tidyverse_conflicts() ──\n",
      "\u001b[31m✖\u001b[39m \u001b[34mdplyr\u001b[39m::\u001b[32mfilter()\u001b[39m masks \u001b[34mstats\u001b[39m::filter()\n",
      "\u001b[31m✖\u001b[39m \u001b[34mdplyr\u001b[39m::\u001b[32mlag()\u001b[39m    masks \u001b[34mstats\u001b[39m::lag()\n"
     ]
    }
   ],
   "source": [
    "library(tidyverse)"
   ]
  },
  {
   "cell_type": "code",
   "execution_count": 35,
   "metadata": {
    "vscode": {
     "languageId": "r"
    }
   },
   "outputs": [
    {
     "data": {
      "text/html": [
       "<style>\n",
       ".list-inline {list-style: none; margin:0; padding: 0}\n",
       ".list-inline>li {display: inline-block}\n",
       ".list-inline>li:not(:last-child)::after {content: \"\\00b7\"; padding: 0 .5ex}\n",
       "</style>\n",
       "<ol class=list-inline><li>'Iriomotejima'</li><li>'Ishigakijima'</li><li>'Yonagunijima'</li></ol>\n"
      ],
      "text/latex": [
       "\\begin{enumerate*}\n",
       "\\item 'Iriomotejima'\n",
       "\\item 'Ishigakijima'\n",
       "\\item 'Yonagunijima'\n",
       "\\end{enumerate*}\n"
      ],
      "text/markdown": [
       "1. 'Iriomotejima'\n",
       "2. 'Ishigakijima'\n",
       "3. 'Yonagunijima'\n",
       "\n",
       "\n"
      ],
      "text/plain": [
       "[1] \"Iriomotejima\" \"Ishigakijima\" \"Yonagunijima\""
      ]
     },
     "metadata": {},
     "output_type": "display_data"
    },
    {
     "data": {
      "text/html": [
       "<style>\n",
       ".list-inline {list-style: none; margin:0; padding: 0}\n",
       ".list-inline>li {display: inline-block}\n",
       ".list-inline>li:not(:last-child)::after {content: \"\\00b7\"; padding: 0 .5ex}\n",
       "</style>\n",
       "<ol class=list-inline><li>95</li><li>9</li></ol>\n"
      ],
      "text/latex": [
       "\\begin{enumerate*}\n",
       "\\item 95\n",
       "\\item 9\n",
       "\\end{enumerate*}\n"
      ],
      "text/markdown": [
       "1. 95\n",
       "2. 9\n",
       "\n",
       "\n"
      ],
      "text/plain": [
       "[1] 95  9"
      ]
     },
     "metadata": {},
     "output_type": "display_data"
    },
    {
     "data": {
      "text/html": [
       "<table class=\"dataframe\">\n",
       "<caption>A data.frame: 6 × 9</caption>\n",
       "<thead>\n",
       "\t<tr><th></th><th scope=col>country</th><th scope=col>city</th><th scope=col>location</th><th scope=col>lat</th><th scope=col>long</th><th scope=col>alt</th><th scope=col>year</th><th scope=col>bloom_date</th><th scope=col>bloom_doy</th></tr>\n",
       "\t<tr><th></th><th scope=col>&lt;chr&gt;</th><th scope=col>&lt;chr&gt;</th><th scope=col>&lt;chr&gt;</th><th scope=col>&lt;dbl&gt;</th><th scope=col>&lt;dbl&gt;</th><th scope=col>&lt;dbl&gt;</th><th scope=col>&lt;int&gt;</th><th scope=col>&lt;chr&gt;</th><th scope=col>&lt;int&gt;</th></tr>\n",
       "</thead>\n",
       "<tbody>\n",
       "\t<tr><th scope=row>1</th><td>Japan</td><td>Yonagunijima</td><td>Japan/Yonagunijima</td><td>24.46667</td><td>123.0106</td><td>30</td><td>1992</td><td>1992-02-10</td><td>41</td></tr>\n",
       "\t<tr><th scope=row>2</th><td>Japan</td><td>Yonagunijima</td><td>Japan/Yonagunijima</td><td>24.46667</td><td>123.0106</td><td>30</td><td>1993</td><td>1993-02-17</td><td>48</td></tr>\n",
       "\t<tr><th scope=row>3</th><td>Japan</td><td>Yonagunijima</td><td>Japan/Yonagunijima</td><td>24.46667</td><td>123.0106</td><td>30</td><td>1994</td><td>1994-02-07</td><td>38</td></tr>\n",
       "\t<tr><th scope=row>4</th><td>Japan</td><td>Yonagunijima</td><td>Japan/Yonagunijima</td><td>24.46667</td><td>123.0106</td><td>30</td><td>1995</td><td>1995-03-02</td><td>61</td></tr>\n",
       "\t<tr><th scope=row>5</th><td>Japan</td><td>Yonagunijima</td><td>Japan/Yonagunijima</td><td>24.46667</td><td>123.0106</td><td>30</td><td>1996</td><td>1996-02-17</td><td>48</td></tr>\n",
       "\t<tr><th scope=row>6</th><td>Japan</td><td>Yonagunijima</td><td>Japan/Yonagunijima</td><td>24.46667</td><td>123.0106</td><td>30</td><td>1997</td><td>1997-02-12</td><td>43</td></tr>\n",
       "</tbody>\n",
       "</table>\n"
      ],
      "text/latex": [
       "A data.frame: 6 × 9\n",
       "\\begin{tabular}{r|lllllllll}\n",
       "  & country & city & location & lat & long & alt & year & bloom\\_date & bloom\\_doy\\\\\n",
       "  & <chr> & <chr> & <chr> & <dbl> & <dbl> & <dbl> & <int> & <chr> & <int>\\\\\n",
       "\\hline\n",
       "\t1 & Japan & Yonagunijima & Japan/Yonagunijima & 24.46667 & 123.0106 & 30 & 1992 & 1992-02-10 & 41\\\\\n",
       "\t2 & Japan & Yonagunijima & Japan/Yonagunijima & 24.46667 & 123.0106 & 30 & 1993 & 1993-02-17 & 48\\\\\n",
       "\t3 & Japan & Yonagunijima & Japan/Yonagunijima & 24.46667 & 123.0106 & 30 & 1994 & 1994-02-07 & 38\\\\\n",
       "\t4 & Japan & Yonagunijima & Japan/Yonagunijima & 24.46667 & 123.0106 & 30 & 1995 & 1995-03-02 & 61\\\\\n",
       "\t5 & Japan & Yonagunijima & Japan/Yonagunijima & 24.46667 & 123.0106 & 30 & 1996 & 1996-02-17 & 48\\\\\n",
       "\t6 & Japan & Yonagunijima & Japan/Yonagunijima & 24.46667 & 123.0106 & 30 & 1997 & 1997-02-12 & 43\\\\\n",
       "\\end{tabular}\n"
      ],
      "text/markdown": [
       "\n",
       "A data.frame: 6 × 9\n",
       "\n",
       "| <!--/--> | country &lt;chr&gt; | city &lt;chr&gt; | location &lt;chr&gt; | lat &lt;dbl&gt; | long &lt;dbl&gt; | alt &lt;dbl&gt; | year &lt;int&gt; | bloom_date &lt;chr&gt; | bloom_doy &lt;int&gt; |\n",
       "|---|---|---|---|---|---|---|---|---|---|\n",
       "| 1 | Japan | Yonagunijima | Japan/Yonagunijima | 24.46667 | 123.0106 | 30 | 1992 | 1992-02-10 | 41 |\n",
       "| 2 | Japan | Yonagunijima | Japan/Yonagunijima | 24.46667 | 123.0106 | 30 | 1993 | 1993-02-17 | 48 |\n",
       "| 3 | Japan | Yonagunijima | Japan/Yonagunijima | 24.46667 | 123.0106 | 30 | 1994 | 1994-02-07 | 38 |\n",
       "| 4 | Japan | Yonagunijima | Japan/Yonagunijima | 24.46667 | 123.0106 | 30 | 1995 | 1995-03-02 | 61 |\n",
       "| 5 | Japan | Yonagunijima | Japan/Yonagunijima | 24.46667 | 123.0106 | 30 | 1996 | 1996-02-17 | 48 |\n",
       "| 6 | Japan | Yonagunijima | Japan/Yonagunijima | 24.46667 | 123.0106 | 30 | 1997 | 1997-02-12 | 43 |\n",
       "\n"
      ],
      "text/plain": [
       "  country city         location           lat      long     alt year bloom_date\n",
       "1 Japan   Yonagunijima Japan/Yonagunijima 24.46667 123.0106 30  1992 1992-02-10\n",
       "2 Japan   Yonagunijima Japan/Yonagunijima 24.46667 123.0106 30  1993 1993-02-17\n",
       "3 Japan   Yonagunijima Japan/Yonagunijima 24.46667 123.0106 30  1994 1994-02-07\n",
       "4 Japan   Yonagunijima Japan/Yonagunijima 24.46667 123.0106 30  1995 1995-03-02\n",
       "5 Japan   Yonagunijima Japan/Yonagunijima 24.46667 123.0106 30  1996 1996-02-17\n",
       "6 Japan   Yonagunijima Japan/Yonagunijima 24.46667 123.0106 30  1997 1997-02-12\n",
       "  bloom_doy\n",
       "1 41       \n",
       "2 48       \n",
       "3 38       \n",
       "4 61       \n",
       "5 48       \n",
       "6 43       "
      ]
     },
     "metadata": {},
     "output_type": "display_data"
    },
    {
     "data": {
      "text/html": [
       "<style>\n",
       ".list-inline {list-style: none; margin:0; padding: 0}\n",
       ".list-inline>li {display: inline-block}\n",
       ".list-inline>li:not(:last-child)::after {content: \"\\00b7\"; padding: 0 .5ex}\n",
       "</style>\n",
       "<ol class=list-inline><li>30</li><li>9.9</li><li>5.7</li></ol>\n"
      ],
      "text/latex": [
       "\\begin{enumerate*}\n",
       "\\item 30\n",
       "\\item 9.9\n",
       "\\item 5.7\n",
       "\\end{enumerate*}\n"
      ],
      "text/markdown": [
       "1. 30\n",
       "2. 9.9\n",
       "3. 5.7\n",
       "\n",
       "\n"
      ],
      "text/plain": [
       "[1] 30.0  9.9  5.7"
      ]
     },
     "metadata": {},
     "output_type": "display_data"
    }
   ],
   "source": [
    "# Vancouver latitude and longitude: 49.2827° N, 123.1207° W\n",
    "cherry_sub2 <- cherry_sub %>%\n",
    "    filter(123 < lat & lat < 125)\n",
    "sort(unique(cherry_sub2$city)) # Iriomotejima, Ishigakijima, Yonagunijima\n",
    "dim(cherry_sub2)\n",
    "head(cherry_sub2)\n",
    "unique(cherry_sub2$alt)\n"
   ]
  },
  {
   "cell_type": "code",
   "execution_count": 26,
   "metadata": {
    "vscode": {
     "languageId": "r"
    }
   },
   "outputs": [
    {
     "data": {
      "text/html": [
       "<style>\n",
       ".list-inline {list-style: none; margin:0; padding: 0}\n",
       ".list-inline>li {display: inline-block}\n",
       ".list-inline>li:not(:last-child)::after {content: \"\\00b7\"; padding: 0 .5ex}\n",
       "</style>\n",
       "<ol class=list-inline><li>14080</li><li>9</li></ol>\n"
      ],
      "text/latex": [
       "\\begin{enumerate*}\n",
       "\\item 14080\n",
       "\\item 9\n",
       "\\end{enumerate*}\n"
      ],
      "text/markdown": [
       "1. 14080\n",
       "2. 9\n",
       "\n",
       "\n"
      ],
      "text/plain": [
       "[1] 14080     9"
      ]
     },
     "metadata": {},
     "output_type": "display_data"
    },
    {
     "data": {
      "text/html": [
       "<table class=\"dataframe\">\n",
       "<caption>A data.frame: 6 × 9</caption>\n",
       "<thead>\n",
       "\t<tr><th></th><th scope=col>country</th><th scope=col>city</th><th scope=col>location</th><th scope=col>lat</th><th scope=col>long</th><th scope=col>alt</th><th scope=col>year</th><th scope=col>bloom_date</th><th scope=col>bloom_doy</th></tr>\n",
       "\t<tr><th></th><th scope=col>&lt;chr&gt;</th><th scope=col>&lt;chr&gt;</th><th scope=col>&lt;chr&gt;</th><th scope=col>&lt;dbl&gt;</th><th scope=col>&lt;dbl&gt;</th><th scope=col>&lt;dbl&gt;</th><th scope=col>&lt;int&gt;</th><th scope=col>&lt;chr&gt;</th><th scope=col>&lt;int&gt;</th></tr>\n",
       "</thead>\n",
       "<tbody>\n",
       "\t<tr><th scope=row>1</th><td>Switzerland</td><td>Enges              </td><td>Switzerland/Enges              </td><td>47.05644</td><td>7.012192</td><td> 820</td><td>1951</td><td>1951-05-05</td><td>125</td></tr>\n",
       "\t<tr><th scope=row>2</th><td>Switzerland</td><td>Fiesch             </td><td>Switzerland/Fiesch             </td><td>46.40026</td><td>8.127792</td><td>1100</td><td>1951</td><td>1951-04-25</td><td>115</td></tr>\n",
       "\t<tr><th scope=row>3</th><td>Switzerland</td><td>Liddes             </td><td>Switzerland/Liddes             </td><td>45.98827</td><td>7.180528</td><td>1350</td><td>1951</td><td>1951-05-22</td><td>142</td></tr>\n",
       "\t<tr><th scope=row>4</th><td>Switzerland</td><td>Les Ponts-de-Martel</td><td>Switzerland/Les Ponts-de-Martel</td><td>47.00286</td><td>6.728592</td><td>1120</td><td>1951</td><td>1951-05-29</td><td>149</td></tr>\n",
       "\t<tr><th scope=row>5</th><td>Switzerland</td><td>Orvin              </td><td>Switzerland/Orvin              </td><td>47.15775</td><td>7.214464</td><td> 700</td><td>1951</td><td>1951-04-27</td><td>117</td></tr>\n",
       "\t<tr><th scope=row>6</th><td>Switzerland</td><td>Posieux            </td><td>Switzerland/Posieux            </td><td>46.76167</td><td>7.098294</td><td> 680</td><td>1951</td><td>1951-04-26</td><td>116</td></tr>\n",
       "</tbody>\n",
       "</table>\n"
      ],
      "text/latex": [
       "A data.frame: 6 × 9\n",
       "\\begin{tabular}{r|lllllllll}\n",
       "  & country & city & location & lat & long & alt & year & bloom\\_date & bloom\\_doy\\\\\n",
       "  & <chr> & <chr> & <chr> & <dbl> & <dbl> & <dbl> & <int> & <chr> & <int>\\\\\n",
       "\\hline\n",
       "\t1 & Switzerland & Enges               & Switzerland/Enges               & 47.05644 & 7.012192 &  820 & 1951 & 1951-05-05 & 125\\\\\n",
       "\t2 & Switzerland & Fiesch              & Switzerland/Fiesch              & 46.40026 & 8.127792 & 1100 & 1951 & 1951-04-25 & 115\\\\\n",
       "\t3 & Switzerland & Liddes              & Switzerland/Liddes              & 45.98827 & 7.180528 & 1350 & 1951 & 1951-05-22 & 142\\\\\n",
       "\t4 & Switzerland & Les Ponts-de-Martel & Switzerland/Les Ponts-de-Martel & 47.00286 & 6.728592 & 1120 & 1951 & 1951-05-29 & 149\\\\\n",
       "\t5 & Switzerland & Orvin               & Switzerland/Orvin               & 47.15775 & 7.214464 &  700 & 1951 & 1951-04-27 & 117\\\\\n",
       "\t6 & Switzerland & Posieux             & Switzerland/Posieux             & 46.76167 & 7.098294 &  680 & 1951 & 1951-04-26 & 116\\\\\n",
       "\\end{tabular}\n"
      ],
      "text/markdown": [
       "\n",
       "A data.frame: 6 × 9\n",
       "\n",
       "| <!--/--> | country &lt;chr&gt; | city &lt;chr&gt; | location &lt;chr&gt; | lat &lt;dbl&gt; | long &lt;dbl&gt; | alt &lt;dbl&gt; | year &lt;int&gt; | bloom_date &lt;chr&gt; | bloom_doy &lt;int&gt; |\n",
       "|---|---|---|---|---|---|---|---|---|---|\n",
       "| 1 | Switzerland | Enges               | Switzerland/Enges               | 47.05644 | 7.012192 |  820 | 1951 | 1951-05-05 | 125 |\n",
       "| 2 | Switzerland | Fiesch              | Switzerland/Fiesch              | 46.40026 | 8.127792 | 1100 | 1951 | 1951-04-25 | 115 |\n",
       "| 3 | Switzerland | Liddes              | Switzerland/Liddes              | 45.98827 | 7.180528 | 1350 | 1951 | 1951-05-22 | 142 |\n",
       "| 4 | Switzerland | Les Ponts-de-Martel | Switzerland/Les Ponts-de-Martel | 47.00286 | 6.728592 | 1120 | 1951 | 1951-05-29 | 149 |\n",
       "| 5 | Switzerland | Orvin               | Switzerland/Orvin               | 47.15775 | 7.214464 |  700 | 1951 | 1951-04-27 | 117 |\n",
       "| 6 | Switzerland | Posieux             | Switzerland/Posieux             | 46.76167 | 7.098294 |  680 | 1951 | 1951-04-26 | 116 |\n",
       "\n"
      ],
      "text/plain": [
       "  country     city                location                        lat     \n",
       "1 Switzerland Enges               Switzerland/Enges               47.05644\n",
       "2 Switzerland Fiesch              Switzerland/Fiesch              46.40026\n",
       "3 Switzerland Liddes              Switzerland/Liddes              45.98827\n",
       "4 Switzerland Les Ponts-de-Martel Switzerland/Les Ponts-de-Martel 47.00286\n",
       "5 Switzerland Orvin               Switzerland/Orvin               47.15775\n",
       "6 Switzerland Posieux             Switzerland/Posieux             46.76167\n",
       "  long     alt  year bloom_date bloom_doy\n",
       "1 7.012192  820 1951 1951-05-05 125      \n",
       "2 8.127792 1100 1951 1951-04-25 115      \n",
       "3 7.180528 1350 1951 1951-05-22 142      \n",
       "4 6.728592 1120 1951 1951-05-29 149      \n",
       "5 7.214464  700 1951 1951-04-27 117      \n",
       "6 7.098294  680 1951 1951-04-26 116      "
      ]
     },
     "metadata": {},
     "output_type": "display_data"
    }
   ],
   "source": [
    "cherry_sub <- read.csv(\"/home/joosungm/projects/def-lelliott/joosungm/projects/peak-bloom-prediction/A_outputs/A11_cherry_sub.csv\") %>%\n",
    "    filter(city == \"Liestal\")\n",
    "dim(cherry_sub)\n",
    "head(cherry_sub)"
   ]
  },
  {
   "cell_type": "code",
   "execution_count": 16,
   "metadata": {
    "vscode": {
     "languageId": "r"
    }
   },
   "outputs": [
    {
     "data": {
      "text/html": [
       "<style>\n",
       ".list-inline {list-style: none; margin:0; padding: 0}\n",
       ".list-inline>li {display: inline-block}\n",
       ".list-inline>li:not(:last-child)::after {content: \"\\00b7\"; padding: 0 .5ex}\n",
       "</style>\n",
       "<ol class=list-inline><li>1952</li><li>1986</li><li>1987</li><li>1988</li><li>1989</li><li>1990</li><li>1991</li><li>1992</li><li>1993</li><li>1994</li><li>1995</li><li>1996</li><li>1997</li><li>1998</li><li>1999</li><li>2000</li><li>2001</li><li>2002</li><li>2003</li><li>2004</li><li>2005</li><li>2006</li><li>2007</li><li>2008</li><li>2009</li><li>2010</li><li>2011</li><li>2012</li><li>2013</li><li>2014</li><li>2015</li><li>2016</li><li>2017</li><li>2018</li><li>2019</li><li>2020</li><li>2021</li><li>2022</li></ol>\n"
      ],
      "text/latex": [
       "\\begin{enumerate*}\n",
       "\\item 1952\n",
       "\\item 1986\n",
       "\\item 1987\n",
       "\\item 1988\n",
       "\\item 1989\n",
       "\\item 1990\n",
       "\\item 1991\n",
       "\\item 1992\n",
       "\\item 1993\n",
       "\\item 1994\n",
       "\\item 1995\n",
       "\\item 1996\n",
       "\\item 1997\n",
       "\\item 1998\n",
       "\\item 1999\n",
       "\\item 2000\n",
       "\\item 2001\n",
       "\\item 2002\n",
       "\\item 2003\n",
       "\\item 2004\n",
       "\\item 2005\n",
       "\\item 2006\n",
       "\\item 2007\n",
       "\\item 2008\n",
       "\\item 2009\n",
       "\\item 2010\n",
       "\\item 2011\n",
       "\\item 2012\n",
       "\\item 2013\n",
       "\\item 2014\n",
       "\\item 2015\n",
       "\\item 2016\n",
       "\\item 2017\n",
       "\\item 2018\n",
       "\\item 2019\n",
       "\\item 2020\n",
       "\\item 2021\n",
       "\\item 2022\n",
       "\\end{enumerate*}\n"
      ],
      "text/markdown": [
       "1. 1952\n",
       "2. 1986\n",
       "3. 1987\n",
       "4. 1988\n",
       "5. 1989\n",
       "6. 1990\n",
       "7. 1991\n",
       "8. 1992\n",
       "9. 1993\n",
       "10. 1994\n",
       "11. 1995\n",
       "12. 1996\n",
       "13. 1997\n",
       "14. 1998\n",
       "15. 1999\n",
       "16. 2000\n",
       "17. 2001\n",
       "18. 2002\n",
       "19. 2003\n",
       "20. 2004\n",
       "21. 2005\n",
       "22. 2006\n",
       "23. 2007\n",
       "24. 2008\n",
       "25. 2009\n",
       "26. 2010\n",
       "27. 2011\n",
       "28. 2012\n",
       "29. 2013\n",
       "30. 2014\n",
       "31. 2015\n",
       "32. 2016\n",
       "33. 2017\n",
       "34. 2018\n",
       "35. 2019\n",
       "36. 2020\n",
       "37. 2021\n",
       "38. 2022\n",
       "\n",
       "\n"
      ],
      "text/plain": [
       " [1] 1952 1986 1987 1988 1989 1990 1991 1992 1993 1994 1995 1996 1997 1998 1999\n",
       "[16] 2000 2001 2002 2003 2004 2005 2006 2007 2008 2009 2010 2011 2012 2013 2014\n",
       "[31] 2015 2016 2017 2018 2019 2020 2021 2022"
      ]
     },
     "metadata": {},
     "output_type": "display_data"
    }
   ],
   "source": [
    "target_years <- sort(unique(cherry_sub$year))\n",
    "target_years"
   ]
  },
  {
   "cell_type": "code",
   "execution_count": 18,
   "metadata": {
    "vscode": {
     "languageId": "r"
    }
   },
   "outputs": [
    {
     "data": {
      "text/html": [
       "<style>\n",
       ".list-inline {list-style: none; margin:0; padding: 0}\n",
       ".list-inline>li {display: inline-block}\n",
       ".list-inline>li:not(:last-child)::after {content: \"\\00b7\"; padding: 0 .5ex}\n",
       "</style>\n",
       "<ol class=list-inline><li>12906</li><li>9</li></ol>\n"
      ],
      "text/latex": [
       "\\begin{enumerate*}\n",
       "\\item 12906\n",
       "\\item 9\n",
       "\\end{enumerate*}\n"
      ],
      "text/markdown": [
       "1. 12906\n",
       "2. 9\n",
       "\n",
       "\n"
      ],
      "text/plain": [
       "[1] 12906     9"
      ]
     },
     "metadata": {},
     "output_type": "display_data"
    },
    {
     "data": {
      "text/html": [
       "<table class=\"dataframe\">\n",
       "<caption>A data.frame: 6 × 9</caption>\n",
       "<thead>\n",
       "\t<tr><th></th><th scope=col>X</th><th scope=col>id</th><th scope=col>date</th><th scope=col>tmax</th><th scope=col>tmin</th><th scope=col>prcp</th><th scope=col>year</th><th scope=col>month</th><th scope=col>day</th></tr>\n",
       "\t<tr><th></th><th scope=col>&lt;int&gt;</th><th scope=col>&lt;chr&gt;</th><th scope=col>&lt;chr&gt;</th><th scope=col>&lt;dbl&gt;</th><th scope=col>&lt;dbl&gt;</th><th scope=col>&lt;dbl&gt;</th><th scope=col>&lt;int&gt;</th><th scope=col>&lt;int&gt;</th><th scope=col>&lt;int&gt;</th></tr>\n",
       "</thead>\n",
       "<tbody>\n",
       "\t<tr><th scope=row>1</th><td>11811</td><td>GME00127786</td><td>1986-01-01</td><td>-0.5</td><td>-5.5</td><td>2.6</td><td>1986</td><td>1</td><td>1</td></tr>\n",
       "\t<tr><th scope=row>2</th><td>11812</td><td>GME00127786</td><td>1986-01-02</td><td> 6.0</td><td>-1.0</td><td>0.7</td><td>1986</td><td>1</td><td>2</td></tr>\n",
       "\t<tr><th scope=row>3</th><td>11813</td><td>GME00127786</td><td>1986-01-03</td><td> 9.6</td><td> 2.3</td><td>2.3</td><td>1986</td><td>1</td><td>3</td></tr>\n",
       "\t<tr><th scope=row>4</th><td>11814</td><td>GME00127786</td><td>1986-01-04</td><td> 5.4</td><td>-0.8</td><td>0.0</td><td>1986</td><td>1</td><td>4</td></tr>\n",
       "\t<tr><th scope=row>5</th><td>11815</td><td>GME00127786</td><td>1986-01-05</td><td> 2.6</td><td>-3.8</td><td>0.3</td><td>1986</td><td>1</td><td>5</td></tr>\n",
       "\t<tr><th scope=row>6</th><td>11816</td><td>GME00127786</td><td>1986-01-06</td><td> 3.1</td><td> 0.8</td><td>1.0</td><td>1986</td><td>1</td><td>6</td></tr>\n",
       "</tbody>\n",
       "</table>\n"
      ],
      "text/latex": [
       "A data.frame: 6 × 9\n",
       "\\begin{tabular}{r|lllllllll}\n",
       "  & X & id & date & tmax & tmin & prcp & year & month & day\\\\\n",
       "  & <int> & <chr> & <chr> & <dbl> & <dbl> & <dbl> & <int> & <int> & <int>\\\\\n",
       "\\hline\n",
       "\t1 & 11811 & GME00127786 & 1986-01-01 & -0.5 & -5.5 & 2.6 & 1986 & 1 & 1\\\\\n",
       "\t2 & 11812 & GME00127786 & 1986-01-02 &  6.0 & -1.0 & 0.7 & 1986 & 1 & 2\\\\\n",
       "\t3 & 11813 & GME00127786 & 1986-01-03 &  9.6 &  2.3 & 2.3 & 1986 & 1 & 3\\\\\n",
       "\t4 & 11814 & GME00127786 & 1986-01-04 &  5.4 & -0.8 & 0.0 & 1986 & 1 & 4\\\\\n",
       "\t5 & 11815 & GME00127786 & 1986-01-05 &  2.6 & -3.8 & 0.3 & 1986 & 1 & 5\\\\\n",
       "\t6 & 11816 & GME00127786 & 1986-01-06 &  3.1 &  0.8 & 1.0 & 1986 & 1 & 6\\\\\n",
       "\\end{tabular}\n"
      ],
      "text/markdown": [
       "\n",
       "A data.frame: 6 × 9\n",
       "\n",
       "| <!--/--> | X &lt;int&gt; | id &lt;chr&gt; | date &lt;chr&gt; | tmax &lt;dbl&gt; | tmin &lt;dbl&gt; | prcp &lt;dbl&gt; | year &lt;int&gt; | month &lt;int&gt; | day &lt;int&gt; |\n",
       "|---|---|---|---|---|---|---|---|---|---|\n",
       "| 1 | 11811 | GME00127786 | 1986-01-01 | -0.5 | -5.5 | 2.6 | 1986 | 1 | 1 |\n",
       "| 2 | 11812 | GME00127786 | 1986-01-02 |  6.0 | -1.0 | 0.7 | 1986 | 1 | 2 |\n",
       "| 3 | 11813 | GME00127786 | 1986-01-03 |  9.6 |  2.3 | 2.3 | 1986 | 1 | 3 |\n",
       "| 4 | 11814 | GME00127786 | 1986-01-04 |  5.4 | -0.8 | 0.0 | 1986 | 1 | 4 |\n",
       "| 5 | 11815 | GME00127786 | 1986-01-05 |  2.6 | -3.8 | 0.3 | 1986 | 1 | 5 |\n",
       "| 6 | 11816 | GME00127786 | 1986-01-06 |  3.1 |  0.8 | 1.0 | 1986 | 1 | 6 |\n",
       "\n"
      ],
      "text/plain": [
       "  X     id          date       tmax tmin prcp year month day\n",
       "1 11811 GME00127786 1986-01-01 -0.5 -5.5 2.6  1986 1     1  \n",
       "2 11812 GME00127786 1986-01-02  6.0 -1.0 0.7  1986 1     2  \n",
       "3 11813 GME00127786 1986-01-03  9.6  2.3 2.3  1986 1     3  \n",
       "4 11814 GME00127786 1986-01-04  5.4 -0.8 0.0  1986 1     4  \n",
       "5 11815 GME00127786 1986-01-05  2.6 -3.8 0.3  1986 1     5  \n",
       "6 11816 GME00127786 1986-01-06  3.1  0.8 1.0  1986 1     6  "
      ]
     },
     "metadata": {},
     "output_type": "display_data"
    }
   ],
   "source": [
    "temp_data <- read.csv(\"/home/joosungm/projects/def-lelliott/joosungm/projects/peak-bloom-prediction/A_outputs/A21_liestal_temperature.csv\") %>%\n",
    "    filter(year %in% target_years)\n",
    "dim(temp_data)\n",
    "head(temp_data)"
   ]
  },
  {
   "cell_type": "code",
   "execution_count": 19,
   "metadata": {
    "vscode": {
     "languageId": "r"
    }
   },
   "outputs": [
    {
     "data": {
      "text/html": [
       "<table class=\"dataframe\">\n",
       "<caption>A data.frame: 6 × 11</caption>\n",
       "<thead>\n",
       "\t<tr><th></th><th scope=col>X</th><th scope=col>id</th><th scope=col>date</th><th scope=col>tmax</th><th scope=col>tmin</th><th scope=col>prcp</th><th scope=col>year</th><th scope=col>month</th><th scope=col>day</th><th scope=col>daily_Cd</th><th scope=col>daily_Ca</th></tr>\n",
       "\t<tr><th></th><th scope=col>&lt;int&gt;</th><th scope=col>&lt;chr&gt;</th><th scope=col>&lt;chr&gt;</th><th scope=col>&lt;dbl&gt;</th><th scope=col>&lt;dbl&gt;</th><th scope=col>&lt;dbl&gt;</th><th scope=col>&lt;int&gt;</th><th scope=col>&lt;int&gt;</th><th scope=col>&lt;int&gt;</th><th scope=col>&lt;dbl&gt;</th><th scope=col>&lt;dbl&gt;</th></tr>\n",
       "</thead>\n",
       "<tbody>\n",
       "\t<tr><th scope=row>1</th><td>11811</td><td>GME00127786</td><td>1986-01-01</td><td>-0.5</td><td>-5.5</td><td>2.6</td><td>1986</td><td>1</td><td>1</td><td> 0.000000</td><td>0.0</td></tr>\n",
       "\t<tr><th scope=row>2</th><td>11812</td><td>GME00127786</td><td>1986-01-02</td><td> 6.0</td><td>-1.0</td><td>0.7</td><td>1986</td><td>1</td><td>2</td><td>-2.571429</td><td>0.0</td></tr>\n",
       "\t<tr><th scope=row>3</th><td>11813</td><td>GME00127786</td><td>1986-01-03</td><td> 9.6</td><td> 2.3</td><td>2.3</td><td>1986</td><td>1</td><td>3</td><td>-2.350000</td><td>1.3</td></tr>\n",
       "\t<tr><th scope=row>4</th><td>11814</td><td>GME00127786</td><td>1986-01-04</td><td> 5.4</td><td>-0.8</td><td>0.0</td><td>1986</td><td>1</td><td>4</td><td>-2.351613</td><td>0.0</td></tr>\n",
       "\t<tr><th scope=row>5</th><td>11815</td><td>GME00127786</td><td>1986-01-05</td><td> 2.6</td><td>-3.8</td><td>0.3</td><td>1986</td><td>1</td><td>5</td><td>-0.528125</td><td>0.0</td></tr>\n",
       "\t<tr><th scope=row>6</th><td>11816</td><td>GME00127786</td><td>1986-01-06</td><td> 3.1</td><td> 0.8</td><td>1.0</td><td>1986</td><td>1</td><td>6</td><td>-1.150000</td><td>0.0</td></tr>\n",
       "</tbody>\n",
       "</table>\n"
      ],
      "text/latex": [
       "A data.frame: 6 × 11\n",
       "\\begin{tabular}{r|lllllllllll}\n",
       "  & X & id & date & tmax & tmin & prcp & year & month & day & daily\\_Cd & daily\\_Ca\\\\\n",
       "  & <int> & <chr> & <chr> & <dbl> & <dbl> & <dbl> & <int> & <int> & <int> & <dbl> & <dbl>\\\\\n",
       "\\hline\n",
       "\t1 & 11811 & GME00127786 & 1986-01-01 & -0.5 & -5.5 & 2.6 & 1986 & 1 & 1 &  0.000000 & 0.0\\\\\n",
       "\t2 & 11812 & GME00127786 & 1986-01-02 &  6.0 & -1.0 & 0.7 & 1986 & 1 & 2 & -2.571429 & 0.0\\\\\n",
       "\t3 & 11813 & GME00127786 & 1986-01-03 &  9.6 &  2.3 & 2.3 & 1986 & 1 & 3 & -2.350000 & 1.3\\\\\n",
       "\t4 & 11814 & GME00127786 & 1986-01-04 &  5.4 & -0.8 & 0.0 & 1986 & 1 & 4 & -2.351613 & 0.0\\\\\n",
       "\t5 & 11815 & GME00127786 & 1986-01-05 &  2.6 & -3.8 & 0.3 & 1986 & 1 & 5 & -0.528125 & 0.0\\\\\n",
       "\t6 & 11816 & GME00127786 & 1986-01-06 &  3.1 &  0.8 & 1.0 & 1986 & 1 & 6 & -1.150000 & 0.0\\\\\n",
       "\\end{tabular}\n"
      ],
      "text/markdown": [
       "\n",
       "A data.frame: 6 × 11\n",
       "\n",
       "| <!--/--> | X &lt;int&gt; | id &lt;chr&gt; | date &lt;chr&gt; | tmax &lt;dbl&gt; | tmin &lt;dbl&gt; | prcp &lt;dbl&gt; | year &lt;int&gt; | month &lt;int&gt; | day &lt;int&gt; | daily_Cd &lt;dbl&gt; | daily_Ca &lt;dbl&gt; |\n",
       "|---|---|---|---|---|---|---|---|---|---|---|---|\n",
       "| 1 | 11811 | GME00127786 | 1986-01-01 | -0.5 | -5.5 | 2.6 | 1986 | 1 | 1 |  0.000000 | 0.0 |\n",
       "| 2 | 11812 | GME00127786 | 1986-01-02 |  6.0 | -1.0 | 0.7 | 1986 | 1 | 2 | -2.571429 | 0.0 |\n",
       "| 3 | 11813 | GME00127786 | 1986-01-03 |  9.6 |  2.3 | 2.3 | 1986 | 1 | 3 | -2.350000 | 1.3 |\n",
       "| 4 | 11814 | GME00127786 | 1986-01-04 |  5.4 | -0.8 | 0.0 | 1986 | 1 | 4 | -2.351613 | 0.0 |\n",
       "| 5 | 11815 | GME00127786 | 1986-01-05 |  2.6 | -3.8 | 0.3 | 1986 | 1 | 5 | -0.528125 | 0.0 |\n",
       "| 6 | 11816 | GME00127786 | 1986-01-06 |  3.1 |  0.8 | 1.0 | 1986 | 1 | 6 | -1.150000 | 0.0 |\n",
       "\n"
      ],
      "text/plain": [
       "  X     id          date       tmax tmin prcp year month day daily_Cd  daily_Ca\n",
       "1 11811 GME00127786 1986-01-01 -0.5 -5.5 2.6  1986 1     1    0.000000 0.0     \n",
       "2 11812 GME00127786 1986-01-02  6.0 -1.0 0.7  1986 1     2   -2.571429 0.0     \n",
       "3 11813 GME00127786 1986-01-03  9.6  2.3 2.3  1986 1     3   -2.350000 1.3     \n",
       "4 11814 GME00127786 1986-01-04  5.4 -0.8 0.0  1986 1     4   -2.351613 0.0     \n",
       "5 11815 GME00127786 1986-01-05  2.6 -3.8 0.3  1986 1     5   -0.528125 0.0     \n",
       "6 11816 GME00127786 1986-01-06  3.1  0.8 1.0  1986 1     6   -1.150000 0.0     "
      ]
     },
     "metadata": {},
     "output_type": "display_data"
    }
   ],
   "source": [
    "# Chill-day model (Cesaraccio et al., 2004)\n",
    "# - Consists of 6 cases: (Tc: threshold temp, Tn = daily minimum, Tx = daily maximum, Tm = daily mean, Cd = chill days, Ca = anti-chill days)\n",
    "\n",
    "chill_days <- function(r, Tc = 7) {\n",
    "    \n",
    "    Tmin <- as.numeric(r[[\"tmin\"]])\n",
    "    Tmax <- as.numeric(r[[\"tmax\"]])\n",
    "    Tmean <- (Tmin + Tmax)/2\n",
    "\n",
    "    if (0 <= Tc & Tc <= Tmin & Tmin <= Tmax) {\n",
    "        \n",
    "        Cd <- 0\n",
    "        Ca <- Tmean - Tc\n",
    "\n",
    "    } else if (0 <= Tmin & Tmin <= Tc & Tc <= Tmax) {\n",
    "\n",
    "        Cd <- -1 * ((Tmean - Tmin) - ((Tmax - Tc)/2))\n",
    "        Ca <- (Tmax - Tc)/2\n",
    "\n",
    "    } else if (0 <= Tmin & Tmin <= Tmax & Tmax <= Tc) {\n",
    "\n",
    "        Cd <- -1 * (Tmean - Tmin)\n",
    "        Ca <- 0\n",
    "    \n",
    "    } else if (Tmin <= 0 & 0 <= Tmax & Tmax <= Tc) {\n",
    "\n",
    "        Cd <- -1 * (Tmax / (Tmax - Tmin)) * (Tmax/2)\n",
    "        Ca <- 0\n",
    "\n",
    "    } else if (Tmin <= 0 & 0 <= Tc & Tc <= Tmax) {\n",
    "\n",
    "        Cd <- -1 * ((Tmax / (Tmax - Tmin)) * (Tmax/2) - ((Tmax - Tc)/2))\n",
    "        Ca <- (Tmax - Tc) / 2\n",
    "\n",
    "    } else if (Tmax < 0) {\n",
    "\n",
    "        Cd <- 0\n",
    "        Ca <- 0\n",
    "\n",
    "    } else {\n",
    "        \n",
    "        Cd <- 0\n",
    "        Ca <- 0\n",
    "    }\n",
    "\n",
    "    return(c(Cd, Ca))\n",
    "}\n",
    "\n",
    "temp_data$daily_Cd <- apply(temp_data, MARGIN = 1, FUN = function(x) {chill_days(r = x)[1]})\n",
    "temp_data$daily_Ca <- apply(temp_data, MARGIN = 1, FUN = function(x) {chill_days(r = x)[2]})\n",
    "\n",
    "head(temp_data)"
   ]
  },
  {
   "cell_type": "code",
   "execution_count": 22,
   "metadata": {
    "vscode": {
     "languageId": "r"
    }
   },
   "outputs": [
    {
     "data": {
      "text/html": [
       "<style>\n",
       ".list-inline {list-style: none; margin:0; padding: 0}\n",
       ".list-inline>li {display: inline-block}\n",
       ".list-inline>li:not(:last-child)::after {content: \"\\00b7\"; padding: 0 .5ex}\n",
       "</style>\n",
       "<ol class=list-inline><li>2135</li><li>15</li></ol>\n"
      ],
      "text/latex": [
       "\\begin{enumerate*}\n",
       "\\item 2135\n",
       "\\item 15\n",
       "\\end{enumerate*}\n"
      ],
      "text/markdown": [
       "1. 2135\n",
       "2. 15\n",
       "\n",
       "\n"
      ],
      "text/plain": [
       "[1] 2135   15"
      ]
     },
     "metadata": {},
     "output_type": "display_data"
    },
    {
     "data": {
      "text/html": [
       "<table class=\"dataframe\">\n",
       "<caption>A data.frame: 6 × 15</caption>\n",
       "<thead>\n",
       "\t<tr><th></th><th scope=col>date</th><th scope=col>X</th><th scope=col>id</th><th scope=col>tmax</th><th scope=col>tmin</th><th scope=col>prcp</th><th scope=col>year</th><th scope=col>month</th><th scope=col>day</th><th scope=col>daily_Cd</th><th scope=col>daily_Ca</th><th scope=col>Cd_cumsum</th><th scope=col>Ca_cumsum</th><th scope=col>bloom_doy</th><th scope=col>is_bloom</th></tr>\n",
       "\t<tr><th></th><th scope=col>&lt;chr&gt;</th><th scope=col>&lt;int&gt;</th><th scope=col>&lt;chr&gt;</th><th scope=col>&lt;dbl&gt;</th><th scope=col>&lt;dbl&gt;</th><th scope=col>&lt;dbl&gt;</th><th scope=col>&lt;int&gt;</th><th scope=col>&lt;int&gt;</th><th scope=col>&lt;int&gt;</th><th scope=col>&lt;dbl&gt;</th><th scope=col>&lt;dbl&gt;</th><th scope=col>&lt;dbl&gt;</th><th scope=col>&lt;dbl&gt;</th><th scope=col>&lt;int&gt;</th><th scope=col>&lt;dbl&gt;</th></tr>\n",
       "</thead>\n",
       "<tbody>\n",
       "\t<tr><th scope=row>1</th><td>1986-03-01</td><td>11870</td><td>GME00127786</td><td> 1.0</td><td>-4.5</td><td>0.0</td><td>1986</td><td>3</td><td>1</td><td>-0.09090909</td><td>0.00</td><td>-50.73523</td><td>17.25</td><td>NA</td><td>0</td></tr>\n",
       "\t<tr><th scope=row>2</th><td>1986-03-02</td><td>11871</td><td>GME00127786</td><td> 2.4</td><td>-7.4</td><td>0.0</td><td>1986</td><td>3</td><td>2</td><td>-0.29387755</td><td>0.00</td><td>-51.02911</td><td>17.25</td><td>NA</td><td>0</td></tr>\n",
       "\t<tr><th scope=row>3</th><td>1986-03-03</td><td>11872</td><td>GME00127786</td><td> 1.0</td><td>-5.2</td><td>2.6</td><td>1986</td><td>3</td><td>3</td><td>-0.08064516</td><td>0.00</td><td>-51.10976</td><td>17.25</td><td>NA</td><td>0</td></tr>\n",
       "\t<tr><th scope=row>4</th><td>1986-03-04</td><td>11873</td><td>GME00127786</td><td> 3.5</td><td>-6.7</td><td>0.0</td><td>1986</td><td>3</td><td>4</td><td>-0.60049020</td><td>0.00</td><td>-51.71025</td><td>17.25</td><td>NA</td><td>0</td></tr>\n",
       "\t<tr><th scope=row>5</th><td>1986-03-05</td><td>11874</td><td>GME00127786</td><td>10.0</td><td>-0.4</td><td>0.2</td><td>1986</td><td>3</td><td>5</td><td>-3.30769231</td><td>1.50</td><td>-55.01794</td><td>18.75</td><td>NA</td><td>0</td></tr>\n",
       "\t<tr><th scope=row>6</th><td>1986-03-06</td><td>11875</td><td>GME00127786</td><td>12.5</td><td> 1.5</td><td>1.5</td><td>1986</td><td>3</td><td>6</td><td>-2.75000000</td><td>2.75</td><td>-57.76794</td><td>21.50</td><td>NA</td><td>0</td></tr>\n",
       "</tbody>\n",
       "</table>\n"
      ],
      "text/latex": [
       "A data.frame: 6 × 15\n",
       "\\begin{tabular}{r|lllllllllllllll}\n",
       "  & date & X & id & tmax & tmin & prcp & year & month & day & daily\\_Cd & daily\\_Ca & Cd\\_cumsum & Ca\\_cumsum & bloom\\_doy & is\\_bloom\\\\\n",
       "  & <chr> & <int> & <chr> & <dbl> & <dbl> & <dbl> & <int> & <int> & <int> & <dbl> & <dbl> & <dbl> & <dbl> & <int> & <dbl>\\\\\n",
       "\\hline\n",
       "\t1 & 1986-03-01 & 11870 & GME00127786 &  1.0 & -4.5 & 0.0 & 1986 & 3 & 1 & -0.09090909 & 0.00 & -50.73523 & 17.25 & NA & 0\\\\\n",
       "\t2 & 1986-03-02 & 11871 & GME00127786 &  2.4 & -7.4 & 0.0 & 1986 & 3 & 2 & -0.29387755 & 0.00 & -51.02911 & 17.25 & NA & 0\\\\\n",
       "\t3 & 1986-03-03 & 11872 & GME00127786 &  1.0 & -5.2 & 2.6 & 1986 & 3 & 3 & -0.08064516 & 0.00 & -51.10976 & 17.25 & NA & 0\\\\\n",
       "\t4 & 1986-03-04 & 11873 & GME00127786 &  3.5 & -6.7 & 0.0 & 1986 & 3 & 4 & -0.60049020 & 0.00 & -51.71025 & 17.25 & NA & 0\\\\\n",
       "\t5 & 1986-03-05 & 11874 & GME00127786 & 10.0 & -0.4 & 0.2 & 1986 & 3 & 5 & -3.30769231 & 1.50 & -55.01794 & 18.75 & NA & 0\\\\\n",
       "\t6 & 1986-03-06 & 11875 & GME00127786 & 12.5 &  1.5 & 1.5 & 1986 & 3 & 6 & -2.75000000 & 2.75 & -57.76794 & 21.50 & NA & 0\\\\\n",
       "\\end{tabular}\n"
      ],
      "text/markdown": [
       "\n",
       "A data.frame: 6 × 15\n",
       "\n",
       "| <!--/--> | date &lt;chr&gt; | X &lt;int&gt; | id &lt;chr&gt; | tmax &lt;dbl&gt; | tmin &lt;dbl&gt; | prcp &lt;dbl&gt; | year &lt;int&gt; | month &lt;int&gt; | day &lt;int&gt; | daily_Cd &lt;dbl&gt; | daily_Ca &lt;dbl&gt; | Cd_cumsum &lt;dbl&gt; | Ca_cumsum &lt;dbl&gt; | bloom_doy &lt;int&gt; | is_bloom &lt;dbl&gt; |\n",
       "|---|---|---|---|---|---|---|---|---|---|---|---|---|---|---|---|\n",
       "| 1 | 1986-03-01 | 11870 | GME00127786 |  1.0 | -4.5 | 0.0 | 1986 | 3 | 1 | -0.09090909 | 0.00 | -50.73523 | 17.25 | NA | 0 |\n",
       "| 2 | 1986-03-02 | 11871 | GME00127786 |  2.4 | -7.4 | 0.0 | 1986 | 3 | 2 | -0.29387755 | 0.00 | -51.02911 | 17.25 | NA | 0 |\n",
       "| 3 | 1986-03-03 | 11872 | GME00127786 |  1.0 | -5.2 | 2.6 | 1986 | 3 | 3 | -0.08064516 | 0.00 | -51.10976 | 17.25 | NA | 0 |\n",
       "| 4 | 1986-03-04 | 11873 | GME00127786 |  3.5 | -6.7 | 0.0 | 1986 | 3 | 4 | -0.60049020 | 0.00 | -51.71025 | 17.25 | NA | 0 |\n",
       "| 5 | 1986-03-05 | 11874 | GME00127786 | 10.0 | -0.4 | 0.2 | 1986 | 3 | 5 | -3.30769231 | 1.50 | -55.01794 | 18.75 | NA | 0 |\n",
       "| 6 | 1986-03-06 | 11875 | GME00127786 | 12.5 |  1.5 | 1.5 | 1986 | 3 | 6 | -2.75000000 | 2.75 | -57.76794 | 21.50 | NA | 0 |\n",
       "\n"
      ],
      "text/plain": [
       "  date       X     id          tmax tmin prcp year month day daily_Cd   \n",
       "1 1986-03-01 11870 GME00127786  1.0 -4.5 0.0  1986 3     1   -0.09090909\n",
       "2 1986-03-02 11871 GME00127786  2.4 -7.4 0.0  1986 3     2   -0.29387755\n",
       "3 1986-03-03 11872 GME00127786  1.0 -5.2 2.6  1986 3     3   -0.08064516\n",
       "4 1986-03-04 11873 GME00127786  3.5 -6.7 0.0  1986 3     4   -0.60049020\n",
       "5 1986-03-05 11874 GME00127786 10.0 -0.4 0.2  1986 3     5   -3.30769231\n",
       "6 1986-03-06 11875 GME00127786 12.5  1.5 1.5  1986 3     6   -2.75000000\n",
       "  daily_Ca Cd_cumsum Ca_cumsum bloom_doy is_bloom\n",
       "1 0.00     -50.73523 17.25     NA        0       \n",
       "2 0.00     -51.02911 17.25     NA        0       \n",
       "3 0.00     -51.10976 17.25     NA        0       \n",
       "4 0.00     -51.71025 17.25     NA        0       \n",
       "5 1.50     -55.01794 18.75     NA        0       \n",
       "6 2.75     -57.76794 21.50     NA        0       "
      ]
     },
     "metadata": {},
     "output_type": "display_data"
    }
   ],
   "source": [
    "# Obtain cumsum of Cd and Ca\n",
    "# - Cd: start from (yr-1)-10-01\n",
    "# - Ca: start from yr-01-31\n",
    "# Merge with the bloom_date data.\n",
    "# Plot histogram of the Ca_cumsum of the bloom_date.\n",
    "\n",
    "temp_data_list <- list()\n",
    "\n",
    "for (yr in target_years) {\n",
    "\n",
    "    sub_df <- temp_data[paste0(as.character(yr-1), \"-09-30\") < temp_data$date & temp_data$date < paste0(as.character(yr), \"-05-01\"), ]\n",
    "    sub_df$Cd_cumsum <- cumsum(sub_df$daily_Cd)\n",
    "    sub_df2 <- sub_df[sub_df$date > as.Date(paste0(as.character(yr), \"-01-01\")), ]\n",
    "    sub_df2$Ca_cumsum <- cumsum(sub_df2$daily_Ca)\n",
    "    combined_df <- sub_df %>% merge(y = sub_df2[, c(\"date\", \"Ca_cumsum\")], by = \"date\", all.x = TRUE)\n",
    "    temp_data_list[[yr]] <- combined_df\n",
    "    \n",
    "}\n",
    "# print(\"done\")\n",
    "\n",
    "temp_complete <- temp_data_list %>% bind_rows() %>%\n",
    "    filter(!is.na(Ca_cumsum))\n",
    "# dim(temp_complete)\n",
    "# head(temp_complete)\n",
    "\n",
    "cherry_bloom_date <- read.csv(\"/home/joosungm/projects/def-lelliott/joosungm/projects/peak-bloom-prediction/A_outputs/A11_cherry_sub.csv\") %>%\n",
    "    filter(city == \"Liestal\") %>% dplyr::select(bloom_date, bloom_doy)\n",
    "\n",
    "temp_complete2 <- temp_complete %>% merge(y = cherry_bloom_date, by.x = \"date\", by.y = \"bloom_date\", all.x = TRUE) %>%\n",
    "    mutate(is_bloom = ifelse(!is.na(bloom_doy), 1, 0)) %>%\n",
    "    filter(month > 2)\n",
    "\n",
    "dim(temp_complete2)\n",
    "head(temp_complete2)\n",
    "write.csv(temp_complete2, \"/home/joosungm/projects/def-lelliott/joosungm/projects/peak-bloom-prediction/A_outputs/A41_gdd_liestal.csv\", row.names = FALSE)"
   ]
  },
  {
   "cell_type": "code",
   "execution_count": null,
   "metadata": {
    "vscode": {
     "languageId": "r"
    }
   },
   "outputs": [],
   "source": []
  }
 ],
 "metadata": {
  "kernelspec": {
   "display_name": "R",
   "language": "R",
   "name": "ir"
  },
  "language_info": {
   "codemirror_mode": "r",
   "file_extension": ".r",
   "mimetype": "text/x-r-source",
   "name": "R",
   "pygments_lexer": "r",
   "version": "4.1.2"
  },
  "orig_nbformat": 4,
  "vscode": {
   "interpreter": {
    "hash": "7ebba22d4926039ff239339cf567af8b303e0a244d82717597cfd7af2af74d26"
   }
  }
 },
 "nbformat": 4,
 "nbformat_minor": 2
}
