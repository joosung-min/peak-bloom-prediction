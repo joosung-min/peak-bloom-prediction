{
 "cells": [
  {
   "cell_type": "markdown",
   "metadata": {},
   "source": [
    "# 1. Data preprocessing - DC and NY\n",
    "\n",
    "In this notebook, we preprocess the data for washingtondc and newyorkcity, the procedure of which includes the following:\n"
   ]
  },
  {
   "cell_type": "code",
   "execution_count": 1,
   "metadata": {
    "vscode": {
     "languageId": "r"
    }
   },
   "outputs": [
    {
     "name": "stderr",
     "output_type": "stream",
     "text": [
      "── \u001b[1mAttaching core tidyverse packages\u001b[22m ──────────────────────── tidyverse 2.0.0 ──\n",
      "\u001b[32m✔\u001b[39m \u001b[34mdplyr    \u001b[39m 1.1.1     \u001b[32m✔\u001b[39m \u001b[34mreadr    \u001b[39m 2.1.4\n",
      "\u001b[32m✔\u001b[39m \u001b[34mforcats  \u001b[39m 1.0.0     \u001b[32m✔\u001b[39m \u001b[34mstringr  \u001b[39m 1.5.0\n",
      "\u001b[32m✔\u001b[39m \u001b[34mggplot2  \u001b[39m 3.4.2     \u001b[32m✔\u001b[39m \u001b[34mtibble   \u001b[39m 3.2.1\n",
      "\u001b[32m✔\u001b[39m \u001b[34mlubridate\u001b[39m 1.9.2     \u001b[32m✔\u001b[39m \u001b[34mtidyr    \u001b[39m 1.3.0\n",
      "\u001b[32m✔\u001b[39m \u001b[34mpurrr    \u001b[39m 1.0.1     \n",
      "── \u001b[1mConflicts\u001b[22m ────────────────────────────────────────── tidyverse_conflicts() ──\n",
      "\u001b[31m✖\u001b[39m \u001b[34mdplyr\u001b[39m::\u001b[32mfilter()\u001b[39m masks \u001b[34mstats\u001b[39m::filter()\n",
      "\u001b[31m✖\u001b[39m \u001b[34mdplyr\u001b[39m::\u001b[32mlag()\u001b[39m    masks \u001b[34mstats\u001b[39m::lag()\n",
      "\u001b[36mℹ\u001b[39m Use the conflicted package (\u001b[3m\u001b[34m<http://conflicted.r-lib.org/>\u001b[39m\u001b[23m) to force all conflicts to become errors\n",
      "\n",
      "Attaching package: ‘mice’\n",
      "\n",
      "\n",
      "The following object is masked from ‘package:stats’:\n",
      "\n",
      "    filter\n",
      "\n",
      "\n",
      "The following objects are masked from ‘package:base’:\n",
      "\n",
      "    cbind, rbind\n",
      "\n",
      "\n"
     ]
    }
   ],
   "source": [
    "# Load necessary packages \n",
    "library(tidyverse)\n",
    "library(yaml)\n",
    "library(rnoaa)\n",
    "library(mice)\n",
    "\n",
    "configs <- read_yaml(\"./_config.yaml\") \n",
    "comp_data_dir <- configs$competition_data   # competition data\n",
    "data_dir <- configs$data_dir                # output data"
   ]
  },
  {
   "cell_type": "markdown",
   "metadata": {},
   "source": [
    "## 1a. Clean the data\n",
    "\n",
    "Remove rows with:\n",
    "\n",
    "* Phenophase_Status unknown (-1)\n",
    "\n",
    "* AGDD == 0"
   ]
  },
  {
   "cell_type": "code",
   "execution_count": 2,
   "metadata": {
    "vscode": {
     "languageId": "r"
    }
   },
   "outputs": [
    {
     "data": {
      "text/html": [
       "<table class=\"dataframe\">\n",
       "<caption>A data.frame: 6 × 15</caption>\n",
       "<thead>\n",
       "\t<tr><th></th><th scope=col>Longitude</th><th scope=col>Latitude</th><th scope=col>Elevation_in_Meters</th><th scope=col>State</th><th scope=col>Species</th><th scope=col>Observation_Date</th><th scope=col>Day_of_Year</th><th scope=col>Phenophase_Status</th><th scope=col>AGDD</th><th scope=col>Accum_Prcp</th><th scope=col>Species_ID</th><th scope=col>date</th><th scope=col>year</th><th scope=col>month</th><th scope=col>day</th></tr>\n",
       "\t<tr><th></th><th scope=col>&lt;dbl&gt;</th><th scope=col>&lt;dbl&gt;</th><th scope=col>&lt;int&gt;</th><th scope=col>&lt;chr&gt;</th><th scope=col>&lt;chr&gt;</th><th scope=col>&lt;chr&gt;</th><th scope=col>&lt;int&gt;</th><th scope=col>&lt;int&gt;</th><th scope=col>&lt;dbl&gt;</th><th scope=col>&lt;dbl&gt;</th><th scope=col>&lt;int&gt;</th><th scope=col>&lt;date&gt;</th><th scope=col>&lt;dbl&gt;</th><th scope=col>&lt;dbl&gt;</th><th scope=col>&lt;int&gt;</th></tr>\n",
       "</thead>\n",
       "<tbody>\n",
       "\t<tr><th scope=row>1</th><td>-122.8555</td><td>45.4856</td><td>63</td><td>OR</td><td>emarginata</td><td>3/4/10 </td><td> 63</td><td>1</td><td>508.50</td><td>274</td><td>87</td><td>2010-03-04</td><td>2010</td><td>3</td><td> 4</td></tr>\n",
       "\t<tr><th scope=row>2</th><td>-122.8555</td><td>45.4856</td><td>63</td><td>OR</td><td>emarginata</td><td>3/14/10</td><td> 73</td><td>1</td><td>582.75</td><td>320</td><td>87</td><td>2010-03-14</td><td>2010</td><td>3</td><td>14</td></tr>\n",
       "\t<tr><th scope=row>3</th><td>-122.8555</td><td>45.4856</td><td>63</td><td>OR</td><td>emarginata</td><td>3/15/10</td><td> 74</td><td>1</td><td>594.00</td><td>320</td><td>87</td><td>2010-03-15</td><td>2010</td><td>3</td><td>15</td></tr>\n",
       "\t<tr><th scope=row>4</th><td>-122.8555</td><td>45.4856</td><td>63</td><td>OR</td><td>emarginata</td><td>3/27/10</td><td> 86</td><td>0</td><td>716.75</td><td>347</td><td>87</td><td>2010-03-27</td><td>2010</td><td>3</td><td>27</td></tr>\n",
       "\t<tr><th scope=row>5</th><td>-122.8555</td><td>45.4856</td><td>63</td><td>OR</td><td>emarginata</td><td>4/4/10 </td><td> 94</td><td>0</td><td>776.25</td><td>428</td><td>87</td><td>2010-04-04</td><td>2010</td><td>4</td><td> 4</td></tr>\n",
       "\t<tr><th scope=row>6</th><td>-122.8555</td><td>45.4856</td><td>63</td><td>OR</td><td>emarginata</td><td>4/18/10</td><td>108</td><td>0</td><td>920.25</td><td>464</td><td>87</td><td>2010-04-18</td><td>2010</td><td>4</td><td>18</td></tr>\n",
       "</tbody>\n",
       "</table>\n"
      ],
      "text/latex": [
       "A data.frame: 6 × 15\n",
       "\\begin{tabular}{r|lllllllllllllll}\n",
       "  & Longitude & Latitude & Elevation\\_in\\_Meters & State & Species & Observation\\_Date & Day\\_of\\_Year & Phenophase\\_Status & AGDD & Accum\\_Prcp & Species\\_ID & date & year & month & day\\\\\n",
       "  & <dbl> & <dbl> & <int> & <chr> & <chr> & <chr> & <int> & <int> & <dbl> & <dbl> & <int> & <date> & <dbl> & <dbl> & <int>\\\\\n",
       "\\hline\n",
       "\t1 & -122.8555 & 45.4856 & 63 & OR & emarginata & 3/4/10  &  63 & 1 & 508.50 & 274 & 87 & 2010-03-04 & 2010 & 3 &  4\\\\\n",
       "\t2 & -122.8555 & 45.4856 & 63 & OR & emarginata & 3/14/10 &  73 & 1 & 582.75 & 320 & 87 & 2010-03-14 & 2010 & 3 & 14\\\\\n",
       "\t3 & -122.8555 & 45.4856 & 63 & OR & emarginata & 3/15/10 &  74 & 1 & 594.00 & 320 & 87 & 2010-03-15 & 2010 & 3 & 15\\\\\n",
       "\t4 & -122.8555 & 45.4856 & 63 & OR & emarginata & 3/27/10 &  86 & 0 & 716.75 & 347 & 87 & 2010-03-27 & 2010 & 3 & 27\\\\\n",
       "\t5 & -122.8555 & 45.4856 & 63 & OR & emarginata & 4/4/10  &  94 & 0 & 776.25 & 428 & 87 & 2010-04-04 & 2010 & 4 &  4\\\\\n",
       "\t6 & -122.8555 & 45.4856 & 63 & OR & emarginata & 4/18/10 & 108 & 0 & 920.25 & 464 & 87 & 2010-04-18 & 2010 & 4 & 18\\\\\n",
       "\\end{tabular}\n"
      ],
      "text/markdown": [
       "\n",
       "A data.frame: 6 × 15\n",
       "\n",
       "| <!--/--> | Longitude &lt;dbl&gt; | Latitude &lt;dbl&gt; | Elevation_in_Meters &lt;int&gt; | State &lt;chr&gt; | Species &lt;chr&gt; | Observation_Date &lt;chr&gt; | Day_of_Year &lt;int&gt; | Phenophase_Status &lt;int&gt; | AGDD &lt;dbl&gt; | Accum_Prcp &lt;dbl&gt; | Species_ID &lt;int&gt; | date &lt;date&gt; | year &lt;dbl&gt; | month &lt;dbl&gt; | day &lt;int&gt; |\n",
       "|---|---|---|---|---|---|---|---|---|---|---|---|---|---|---|---|\n",
       "| 1 | -122.8555 | 45.4856 | 63 | OR | emarginata | 3/4/10  |  63 | 1 | 508.50 | 274 | 87 | 2010-03-04 | 2010 | 3 |  4 |\n",
       "| 2 | -122.8555 | 45.4856 | 63 | OR | emarginata | 3/14/10 |  73 | 1 | 582.75 | 320 | 87 | 2010-03-14 | 2010 | 3 | 14 |\n",
       "| 3 | -122.8555 | 45.4856 | 63 | OR | emarginata | 3/15/10 |  74 | 1 | 594.00 | 320 | 87 | 2010-03-15 | 2010 | 3 | 15 |\n",
       "| 4 | -122.8555 | 45.4856 | 63 | OR | emarginata | 3/27/10 |  86 | 0 | 716.75 | 347 | 87 | 2010-03-27 | 2010 | 3 | 27 |\n",
       "| 5 | -122.8555 | 45.4856 | 63 | OR | emarginata | 4/4/10  |  94 | 0 | 776.25 | 428 | 87 | 2010-04-04 | 2010 | 4 |  4 |\n",
       "| 6 | -122.8555 | 45.4856 | 63 | OR | emarginata | 4/18/10 | 108 | 0 | 920.25 | 464 | 87 | 2010-04-18 | 2010 | 4 | 18 |\n",
       "\n"
      ],
      "text/plain": [
       "  Longitude Latitude Elevation_in_Meters State Species    Observation_Date\n",
       "1 -122.8555 45.4856  63                  OR    emarginata 3/4/10          \n",
       "2 -122.8555 45.4856  63                  OR    emarginata 3/14/10         \n",
       "3 -122.8555 45.4856  63                  OR    emarginata 3/15/10         \n",
       "4 -122.8555 45.4856  63                  OR    emarginata 3/27/10         \n",
       "5 -122.8555 45.4856  63                  OR    emarginata 4/4/10          \n",
       "6 -122.8555 45.4856  63                  OR    emarginata 4/18/10         \n",
       "  Day_of_Year Phenophase_Status AGDD   Accum_Prcp Species_ID date       year\n",
       "1  63         1                 508.50 274        87         2010-03-04 2010\n",
       "2  73         1                 582.75 320        87         2010-03-14 2010\n",
       "3  74         1                 594.00 320        87         2010-03-15 2010\n",
       "4  86         0                 716.75 347        87         2010-03-27 2010\n",
       "5  94         0                 776.25 428        87         2010-04-04 2010\n",
       "6 108         0                 920.25 464        87         2010-04-18 2010\n",
       "  month day\n",
       "1 3      4 \n",
       "2 3     14 \n",
       "3 3     15 \n",
       "4 3     27 \n",
       "5 4      4 \n",
       "6 4     18 "
      ]
     },
     "metadata": {},
     "output_type": "display_data"
    }
   ],
   "source": [
    "usa_npn <- read.csv(paste0(comp_data_dir, \"/USA-NPN_status_intensity_observations_data.csv\")) %>%\n",
    "    dplyr::select(Longitude, Latitude, Elevation_in_Meters, State, Species, Observation_Date, Day_of_Year, Phenophase_Status, AGDD, Accum_Prcp, Species_ID) %>%\n",
    "    filter(Phenophase_Status != -1) %>%\n",
    "    filter(AGDD > 0) %>%\n",
    "    mutate(date = as.Date(Observation_Date, format = \"%m/%d/%y\")) %>%\n",
    "    mutate(year = year(date)) %>%\n",
    "    mutate(month = month(date)) %>%\n",
    "    mutate(day = day(date)) %>%\n",
    "    # dplyr::select(-Observation_Date) %>%\n",
    "    filter(month %in% c(3,4,5))\n",
    "head(usa_npn)"
   ]
  },
  {
   "cell_type": "markdown",
   "metadata": {},
   "source": [
    "## 1b. Process DC data\n",
    "\n",
    "* Pull weather data upto the most recent available date from NOAA\n",
    "\n",
    "* Compute the accumulated growing degree days as instructed in the datafield descriptions."
   ]
  },
  {
   "cell_type": "code",
   "execution_count": 3,
   "metadata": {
    "vscode": {
     "languageId": "r"
    }
   },
   "outputs": [],
   "source": [
    "# Define functions to pull (imputed if missing) temperature data\n",
    "F01_get_temperature <- function(stationid, date_min = \"1950-01-01\", date_max = \"2023-05-31\") {\n",
    "\n",
    "    dat <- ghcnd_search(stationid = stationid, var = c(\"TMAX\", \"TMIN\", \"PRCP\"), \n",
    "               date_min = date_min, date_max = date_max) %>%\n",
    "               purrr::reduce(left_join, by = \"date\") %>%\n",
    "               dplyr::select(id.x, date, tmax, tmin, prcp) %>%\n",
    "               dplyr::rename_with(~ \"id\", id.x) %>%\n",
    "               mutate(tmax = tmax/10) %>%      # in C\n",
    "               mutate(tmin = tmin/10) %>%      # in C\n",
    "               mutate(prcp = prcp/10) %>%      # in mm\n",
    "               mutate(year = format(date, \"%Y\")) %>%\n",
    "               mutate(month = as.integer(strftime(date, '%m'))) %>%\n",
    "               mutate(day = as.integer(strftime(date, '%d')))\n",
    "    \n",
    "    return(dat)\n",
    "}\n",
    "\n",
    "F01_get_imp_temperature <- function(city_station_pair, date_min = \"1950-01-01\", date_max = \"2023-05-31\", imp_method = \"pmm\") {\n",
    "\n",
    "    station_ids <- city_station_pair$id\n",
    "    city_temp_list <- list()\n",
    "\n",
    "    for (c in seq_len(length(station_ids))) {\n",
    "\n",
    "        skip_to_next <- 0\n",
    "        \n",
    "        temp_df <- tryCatch(\n",
    "            {F01_get_temperature(station_ids[c]\n",
    "            , date_min = date_min\n",
    "            , date_max = date_max)\n",
    "            }\n",
    "        , error = function(x) skip_to_next <<-1 )\n",
    "        \n",
    "        if (skip_to_next == 1 ){\n",
    "            next\n",
    "        }\n",
    "        # Impute missing data\n",
    "        # - check missing data\n",
    "        n_missing <- sum(is.na(temp_df[, c(\"tmax\", \"tmin\", \"prcp\")]))\n",
    "\n",
    "        if (n_missing > 0) {\n",
    "            tempData <- mice(temp_df, m = 3, method = imp_method)\n",
    "\n",
    "            # complete set\n",
    "            imputed_temp <- complete(tempData, 3)\n",
    "        \n",
    "        } else {\n",
    "            imputed_temp <- temp_df\n",
    "        }\n",
    "        city_temp_list[[c]] <- imputed_temp\n",
    "    }\n",
    "    out <- city_temp_list %>% bind_rows()\n",
    "    return(out)\n",
    "}\n"
   ]
  },
  {
   "cell_type": "code",
   "execution_count": 4,
   "metadata": {
    "vscode": {
     "languageId": "r"
    }
   },
   "outputs": [
    {
     "name": "stderr",
     "output_type": "stream",
     "text": [
      "using cached file: ~/.cache/R/noaa_ghcnd/USC00186350.dly\n",
      "\n",
      "date created (size, mb): 2023-02-06 22:23:38 (2.732)\n",
      "\n"
     ]
    },
    {
     "name": "stderr",
     "output_type": "stream",
     "text": [
      "file min/max dates: 1948-08-01 / 2022-11-30\n",
      "\n"
     ]
    },
    {
     "name": "stdout",
     "output_type": "stream",
     "text": [
      "\n",
      " iter imp variable\n",
      "  1   1  tmax  tmin  prcp\n",
      "  1   2  tmax  tmin  prcp\n",
      "  1   3  tmax  tmin  prcp\n",
      "  2   1  tmax  tmin  prcp\n",
      "  2   2  tmax  tmin  prcp\n",
      "  2   3  tmax  tmin  prcp\n",
      "  3   1  tmax  tmin  prcp\n",
      "  3   2  tmax  tmin  prcp\n",
      "  3   3  tmax  tmin  prcp\n",
      "  4   1  tmax  tmin  prcp\n",
      "  4   2  tmax  tmin  prcp\n",
      "  4   3  tmax  tmin  prcp\n",
      "  5   1  tmax  tmin  prcp\n",
      "  5   2  tmax  tmin  prcp\n",
      "  5   3  tmax  tmin  prcp\n"
     ]
    },
    {
     "name": "stderr",
     "output_type": "stream",
     "text": [
      "Warning message:\n",
      "“Number of logged events: 2”\n"
     ]
    },
    {
     "data": {
      "text/html": [
       "<table class=\"dataframe\">\n",
       "<caption>A data.frame: 6 × 7</caption>\n",
       "<thead>\n",
       "\t<tr><th></th><th scope=col>location</th><th scope=col>lat</th><th scope=col>long</th><th scope=col>alt</th><th scope=col>year</th><th scope=col>bloom_date</th><th scope=col>bloom_doy</th></tr>\n",
       "\t<tr><th></th><th scope=col>&lt;chr&gt;</th><th scope=col>&lt;dbl&gt;</th><th scope=col>&lt;dbl&gt;</th><th scope=col>&lt;int&gt;</th><th scope=col>&lt;int&gt;</th><th scope=col>&lt;date&gt;</th><th scope=col>&lt;int&gt;</th></tr>\n",
       "</thead>\n",
       "<tbody>\n",
       "\t<tr><th scope=row>1</th><td>washingtondc</td><td>38.88535</td><td>-77.03863</td><td>0</td><td>1950</td><td>1950-04-09</td><td> 99</td></tr>\n",
       "\t<tr><th scope=row>2</th><td>washingtondc</td><td>38.88535</td><td>-77.03863</td><td>0</td><td>1951</td><td>1951-04-06</td><td> 96</td></tr>\n",
       "\t<tr><th scope=row>3</th><td>washingtondc</td><td>38.88535</td><td>-77.03863</td><td>0</td><td>1952</td><td>1952-04-09</td><td>100</td></tr>\n",
       "\t<tr><th scope=row>4</th><td>washingtondc</td><td>38.88535</td><td>-77.03863</td><td>0</td><td>1953</td><td>1953-03-27</td><td> 86</td></tr>\n",
       "\t<tr><th scope=row>5</th><td>washingtondc</td><td>38.88535</td><td>-77.03863</td><td>0</td><td>1954</td><td>1954-04-06</td><td> 96</td></tr>\n",
       "\t<tr><th scope=row>6</th><td>washingtondc</td><td>38.88535</td><td>-77.03863</td><td>0</td><td>1955</td><td>1955-04-02</td><td> 92</td></tr>\n",
       "</tbody>\n",
       "</table>\n"
      ],
      "text/latex": [
       "A data.frame: 6 × 7\n",
       "\\begin{tabular}{r|lllllll}\n",
       "  & location & lat & long & alt & year & bloom\\_date & bloom\\_doy\\\\\n",
       "  & <chr> & <dbl> & <dbl> & <int> & <int> & <date> & <int>\\\\\n",
       "\\hline\n",
       "\t1 & washingtondc & 38.88535 & -77.03863 & 0 & 1950 & 1950-04-09 &  99\\\\\n",
       "\t2 & washingtondc & 38.88535 & -77.03863 & 0 & 1951 & 1951-04-06 &  96\\\\\n",
       "\t3 & washingtondc & 38.88535 & -77.03863 & 0 & 1952 & 1952-04-09 & 100\\\\\n",
       "\t4 & washingtondc & 38.88535 & -77.03863 & 0 & 1953 & 1953-03-27 &  86\\\\\n",
       "\t5 & washingtondc & 38.88535 & -77.03863 & 0 & 1954 & 1954-04-06 &  96\\\\\n",
       "\t6 & washingtondc & 38.88535 & -77.03863 & 0 & 1955 & 1955-04-02 &  92\\\\\n",
       "\\end{tabular}\n"
      ],
      "text/markdown": [
       "\n",
       "A data.frame: 6 × 7\n",
       "\n",
       "| <!--/--> | location &lt;chr&gt; | lat &lt;dbl&gt; | long &lt;dbl&gt; | alt &lt;int&gt; | year &lt;int&gt; | bloom_date &lt;date&gt; | bloom_doy &lt;int&gt; |\n",
       "|---|---|---|---|---|---|---|---|\n",
       "| 1 | washingtondc | 38.88535 | -77.03863 | 0 | 1950 | 1950-04-09 |  99 |\n",
       "| 2 | washingtondc | 38.88535 | -77.03863 | 0 | 1951 | 1951-04-06 |  96 |\n",
       "| 3 | washingtondc | 38.88535 | -77.03863 | 0 | 1952 | 1952-04-09 | 100 |\n",
       "| 4 | washingtondc | 38.88535 | -77.03863 | 0 | 1953 | 1953-03-27 |  86 |\n",
       "| 5 | washingtondc | 38.88535 | -77.03863 | 0 | 1954 | 1954-04-06 |  96 |\n",
       "| 6 | washingtondc | 38.88535 | -77.03863 | 0 | 1955 | 1955-04-02 |  92 |\n",
       "\n"
      ],
      "text/plain": [
       "  location     lat      long      alt year bloom_date bloom_doy\n",
       "1 washingtondc 38.88535 -77.03863 0   1950 1950-04-09  99      \n",
       "2 washingtondc 38.88535 -77.03863 0   1951 1951-04-06  96      \n",
       "3 washingtondc 38.88535 -77.03863 0   1952 1952-04-09 100      \n",
       "4 washingtondc 38.88535 -77.03863 0   1953 1953-03-27  86      \n",
       "5 washingtondc 38.88535 -77.03863 0   1954 1954-04-06  96      \n",
       "6 washingtondc 38.88535 -77.03863 0   1955 1955-04-02  92      "
      ]
     },
     "metadata": {},
     "output_type": "display_data"
    }
   ],
   "source": [
    "# Pull weather data\n",
    "# - washington dc\n",
    "dc_temp_raw <- F01_get_imp_temperature(\n",
    "    data.frame(city = \"washingtondc\", id = \"USC00186350\")\n",
    "    , date_min = \"1950-01-01\"\n",
    "    , date_max = \"2024-05-01\"\n",
    "    )\n",
    "# head(dc_temp_raw)\n",
    "dc_min_year <- min(dc_temp_raw$year)\n",
    "\n",
    "dc_blooms <- read.csv(paste0(comp_data_dir, \"/washingtondc.csv\")) %>%\n",
    "    filter(year >= dc_min_year) %>%\n",
    "    mutate(bloom_date = as.Date(bloom_date, format = \"%Y-%m-%d\"))\n",
    "head(dc_blooms)"
   ]
  },
  {
   "cell_type": "code",
   "execution_count": 5,
   "metadata": {
    "vscode": {
     "languageId": "r"
    }
   },
   "outputs": [
    {
     "data": {
      "text/html": [
       "<table class=\"dataframe\">\n",
       "<caption>A data.frame: 6 × 13</caption>\n",
       "<thead>\n",
       "\t<tr><th></th><th scope=col>Longitude</th><th scope=col>Latitude</th><th scope=col>Elevation_in_Meters</th><th scope=col>State</th><th scope=col>Species</th><th scope=col>Day_of_Year</th><th scope=col>Phenophase_Status</th><th scope=col>AGDD</th><th scope=col>Accum_Prcp</th><th scope=col>date</th><th scope=col>year</th><th scope=col>month</th><th scope=col>day</th></tr>\n",
       "\t<tr><th></th><th scope=col>&lt;dbl&gt;</th><th scope=col>&lt;dbl&gt;</th><th scope=col>&lt;int&gt;</th><th scope=col>&lt;chr&gt;</th><th scope=col>&lt;chr&gt;</th><th scope=col>&lt;dbl&gt;</th><th scope=col>&lt;dbl&gt;</th><th scope=col>&lt;dbl&gt;</th><th scope=col>&lt;dbl&gt;</th><th scope=col>&lt;date&gt;</th><th scope=col>&lt;chr&gt;</th><th scope=col>&lt;int&gt;</th><th scope=col>&lt;int&gt;</th></tr>\n",
       "</thead>\n",
       "<tbody>\n",
       "\t<tr><th scope=row>1</th><td>-77.07354</td><td>38.90951</td><td>40</td><td>DC</td><td>yedoensis</td><td>60</td><td>0</td><td>416.35</td><td>120.2</td><td>1950-03-01</td><td>1950</td><td>3</td><td>1</td></tr>\n",
       "\t<tr><th scope=row>2</th><td>-77.07354</td><td>38.90951</td><td>40</td><td>DC</td><td>yedoensis</td><td>61</td><td>0</td><td>418.00</td><td>120.2</td><td>1950-03-02</td><td>1950</td><td>3</td><td>2</td></tr>\n",
       "\t<tr><th scope=row>3</th><td>-77.07354</td><td>38.90951</td><td>40</td><td>DC</td><td>yedoensis</td><td>62</td><td>0</td><td>418.00</td><td>120.2</td><td>1950-03-03</td><td>1950</td><td>3</td><td>3</td></tr>\n",
       "\t<tr><th scope=row>4</th><td>-77.07354</td><td>38.90951</td><td>40</td><td>DC</td><td>yedoensis</td><td>63</td><td>0</td><td>418.00</td><td>120.2</td><td>1950-03-04</td><td>1950</td><td>3</td><td>4</td></tr>\n",
       "\t<tr><th scope=row>5</th><td>-77.07354</td><td>38.90951</td><td>40</td><td>DC</td><td>yedoensis</td><td>64</td><td>0</td><td>423.25</td><td>120.2</td><td>1950-03-05</td><td>1950</td><td>3</td><td>5</td></tr>\n",
       "\t<tr><th scope=row>6</th><td>-77.07354</td><td>38.90951</td><td>40</td><td>DC</td><td>yedoensis</td><td>65</td><td>0</td><td>431.05</td><td>120.2</td><td>1950-03-06</td><td>1950</td><td>3</td><td>6</td></tr>\n",
       "</tbody>\n",
       "</table>\n"
      ],
      "text/latex": [
       "A data.frame: 6 × 13\n",
       "\\begin{tabular}{r|lllllllllllll}\n",
       "  & Longitude & Latitude & Elevation\\_in\\_Meters & State & Species & Day\\_of\\_Year & Phenophase\\_Status & AGDD & Accum\\_Prcp & date & year & month & day\\\\\n",
       "  & <dbl> & <dbl> & <int> & <chr> & <chr> & <dbl> & <dbl> & <dbl> & <dbl> & <date> & <chr> & <int> & <int>\\\\\n",
       "\\hline\n",
       "\t1 & -77.07354 & 38.90951 & 40 & DC & yedoensis & 60 & 0 & 416.35 & 120.2 & 1950-03-01 & 1950 & 3 & 1\\\\\n",
       "\t2 & -77.07354 & 38.90951 & 40 & DC & yedoensis & 61 & 0 & 418.00 & 120.2 & 1950-03-02 & 1950 & 3 & 2\\\\\n",
       "\t3 & -77.07354 & 38.90951 & 40 & DC & yedoensis & 62 & 0 & 418.00 & 120.2 & 1950-03-03 & 1950 & 3 & 3\\\\\n",
       "\t4 & -77.07354 & 38.90951 & 40 & DC & yedoensis & 63 & 0 & 418.00 & 120.2 & 1950-03-04 & 1950 & 3 & 4\\\\\n",
       "\t5 & -77.07354 & 38.90951 & 40 & DC & yedoensis & 64 & 0 & 423.25 & 120.2 & 1950-03-05 & 1950 & 3 & 5\\\\\n",
       "\t6 & -77.07354 & 38.90951 & 40 & DC & yedoensis & 65 & 0 & 431.05 & 120.2 & 1950-03-06 & 1950 & 3 & 6\\\\\n",
       "\\end{tabular}\n"
      ],
      "text/markdown": [
       "\n",
       "A data.frame: 6 × 13\n",
       "\n",
       "| <!--/--> | Longitude &lt;dbl&gt; | Latitude &lt;dbl&gt; | Elevation_in_Meters &lt;int&gt; | State &lt;chr&gt; | Species &lt;chr&gt; | Day_of_Year &lt;dbl&gt; | Phenophase_Status &lt;dbl&gt; | AGDD &lt;dbl&gt; | Accum_Prcp &lt;dbl&gt; | date &lt;date&gt; | year &lt;chr&gt; | month &lt;int&gt; | day &lt;int&gt; |\n",
       "|---|---|---|---|---|---|---|---|---|---|---|---|---|---|\n",
       "| 1 | -77.07354 | 38.90951 | 40 | DC | yedoensis | 60 | 0 | 416.35 | 120.2 | 1950-03-01 | 1950 | 3 | 1 |\n",
       "| 2 | -77.07354 | 38.90951 | 40 | DC | yedoensis | 61 | 0 | 418.00 | 120.2 | 1950-03-02 | 1950 | 3 | 2 |\n",
       "| 3 | -77.07354 | 38.90951 | 40 | DC | yedoensis | 62 | 0 | 418.00 | 120.2 | 1950-03-03 | 1950 | 3 | 3 |\n",
       "| 4 | -77.07354 | 38.90951 | 40 | DC | yedoensis | 63 | 0 | 418.00 | 120.2 | 1950-03-04 | 1950 | 3 | 4 |\n",
       "| 5 | -77.07354 | 38.90951 | 40 | DC | yedoensis | 64 | 0 | 423.25 | 120.2 | 1950-03-05 | 1950 | 3 | 5 |\n",
       "| 6 | -77.07354 | 38.90951 | 40 | DC | yedoensis | 65 | 0 | 431.05 | 120.2 | 1950-03-06 | 1950 | 3 | 6 |\n",
       "\n"
      ],
      "text/plain": [
       "  Longitude Latitude Elevation_in_Meters State Species   Day_of_Year\n",
       "1 -77.07354 38.90951 40                  DC    yedoensis 60         \n",
       "2 -77.07354 38.90951 40                  DC    yedoensis 61         \n",
       "3 -77.07354 38.90951 40                  DC    yedoensis 62         \n",
       "4 -77.07354 38.90951 40                  DC    yedoensis 63         \n",
       "5 -77.07354 38.90951 40                  DC    yedoensis 64         \n",
       "6 -77.07354 38.90951 40                  DC    yedoensis 65         \n",
       "  Phenophase_Status AGDD   Accum_Prcp date       year month day\n",
       "1 0                 416.35 120.2      1950-03-01 1950 3     1  \n",
       "2 0                 418.00 120.2      1950-03-02 1950 3     2  \n",
       "3 0                 418.00 120.2      1950-03-03 1950 3     3  \n",
       "4 0                 418.00 120.2      1950-03-04 1950 3     4  \n",
       "5 0                 423.25 120.2      1950-03-05 1950 3     5  \n",
       "6 0                 431.05 120.2      1950-03-06 1950 3     6  "
      ]
     },
     "metadata": {},
     "output_type": "display_data"
    }
   ],
   "source": [
    "dc_lat <- usa_npn[usa_npn$State == \"DC\", \"Latitude\"][1]\n",
    "dc_long <- usa_npn[usa_npn$State == \"DC\", \"Longitude\"][1]\n",
    "dc_alt <- usa_npn[usa_npn$State == \"DC\", \"Elevation_in_Meters\"][1]\n",
    "\n",
    "# Compute AGDD and process\n",
    "dc_gdd <- dc_temp_raw %>%\n",
    "    mutate(gdd = ifelse((tmax+tmin)/2 > 0, (tmax+tmin)/2, 0)) %>%\n",
    "    group_by(year) %>%\n",
    "    mutate(AGDD = cumsum(gdd)) %>%\n",
    "    mutate(Accum_Prcp = cumsum(prcp)) %>%\n",
    "    ungroup() %>%\n",
    "    filter(month %in% c(3,4,5)) %>%\n",
    "    data.frame(.) %>%\n",
    "    mutate(State = \"DC\") %>%\n",
    "    mutate(Species = \"yedoensis\") %>%\n",
    "    mutate(Latitude = dc_lat) %>%\n",
    "    mutate(Longitude = dc_long) %>%\n",
    "    mutate(Elevation_in_Meters = dc_alt) %>%\n",
    "    mutate(Day_of_Year = as.numeric(format(date, \"%j\"))) %>%\n",
    "    mutate(date = as.Date(date, format = \"%Y-%m-%d\")) %>%\n",
    "    merge(y = dc_blooms[,c(\"bloom_date\", \"bloom_doy\")], by.x = \"date\", by.y = \"bloom_date\", how = \"left\", all.x = TRUE) %>%\n",
    "    mutate(Phenophase_Status = ifelse(is.na(bloom_doy), 0, 1)) %>%\n",
    "    dplyr::select(Longitude, Latitude, Elevation_in_Meters, State, Species, Day_of_Year, Phenophase_Status, AGDD, Accum_Prcp, date, year, month, day)\n",
    "head(dc_gdd)"
   ]
  },
  {
   "cell_type": "markdown",
   "metadata": {},
   "source": [
    "## 1c. Process NY data\n",
    "\n",
    "* Following the same procedure as the above."
   ]
  },
  {
   "cell_type": "code",
   "execution_count": 6,
   "metadata": {
    "vscode": {
     "languageId": "r"
    }
   },
   "outputs": [
    {
     "name": "stderr",
     "output_type": "stream",
     "text": [
      "Warning message:\n",
      "“\u001b[1m\u001b[22mThere were 2 warnings in `summarize()`.\n",
      "The first warning was:\n",
      "\u001b[1m\u001b[22m\u001b[36mℹ\u001b[39m In argument: `first_flower_index = min(which(Phenophase_Status == 1))`.\n",
      "\u001b[36mℹ\u001b[39m In group 1: `year = 2011`.\n",
      "Caused by warning in `min()`:\n",
      "\u001b[33m!\u001b[39m no non-missing arguments to min; returning Inf\n",
      "\u001b[1m\u001b[22m\u001b[36mℹ\u001b[39m Run `dplyr::last_dplyr_warnings()` to see the 1 remaining warning.”\n",
      "using cached file: ~/.cache/R/noaa_ghcnd/USW00094728.dly\n",
      "\n",
      "date created (size, mb): 2024-02-27 22:38:05 (8.578)\n",
      "\n"
     ]
    },
    {
     "name": "stderr",
     "output_type": "stream",
     "text": [
      "file min/max dates: 1869-01-01 / 2024-02-29\n",
      "\n"
     ]
    },
    {
     "name": "stdout",
     "output_type": "stream",
     "text": [
      "\n",
      " iter imp variable\n",
      "  1   1  tmax  tmin  prcp\n",
      "  1   2  tmax  tmin  prcp\n",
      "  1   3  tmax  tmin  prcp\n",
      "  2   1  tmax  tmin  prcp\n",
      "  2   2  tmax  tmin  prcp\n",
      "  2   3  tmax  tmin  prcp\n",
      "  3   1  tmax  tmin  prcp\n",
      "  3   2  tmax  tmin  prcp\n",
      "  3   3  tmax  tmin  prcp\n",
      "  4   1  tmax  tmin  prcp\n",
      "  4   2  tmax  tmin  prcp\n",
      "  4   3  tmax  tmin  prcp\n",
      "  5   1  tmax  tmin  prcp\n",
      "  5   2  tmax  tmin  prcp\n",
      "  5   3  tmax  tmin  prcp\n"
     ]
    },
    {
     "name": "stderr",
     "output_type": "stream",
     "text": [
      "Warning message:\n",
      "“Number of logged events: 2”\n"
     ]
    },
    {
     "data": {
      "text/html": [
       "<table class=\"dataframe\">\n",
       "<caption>A data.frame: 6 × 8</caption>\n",
       "<thead>\n",
       "\t<tr><th></th><th scope=col>id</th><th scope=col>date</th><th scope=col>tmax</th><th scope=col>tmin</th><th scope=col>prcp</th><th scope=col>year</th><th scope=col>month</th><th scope=col>day</th></tr>\n",
       "\t<tr><th></th><th scope=col>&lt;chr&gt;</th><th scope=col>&lt;date&gt;</th><th scope=col>&lt;dbl&gt;</th><th scope=col>&lt;dbl&gt;</th><th scope=col>&lt;dbl&gt;</th><th scope=col>&lt;chr&gt;</th><th scope=col>&lt;int&gt;</th><th scope=col>&lt;int&gt;</th></tr>\n",
       "</thead>\n",
       "<tbody>\n",
       "\t<tr><th scope=row>1</th><td>USW00094728</td><td>2014-01-01</td><td> 0.6</td><td> -4.3</td><td>0.0</td><td>2014</td><td>1</td><td>1</td></tr>\n",
       "\t<tr><th scope=row>2</th><td>USW00094728</td><td>2014-01-02</td><td> 0.6</td><td> -7.7</td><td>8.4</td><td>2014</td><td>1</td><td>2</td></tr>\n",
       "\t<tr><th scope=row>3</th><td>USW00094728</td><td>2014-01-03</td><td>-7.7</td><td>-12.7</td><td>7.4</td><td>2014</td><td>1</td><td>3</td></tr>\n",
       "\t<tr><th scope=row>4</th><td>USW00094728</td><td>2014-01-04</td><td>-1.6</td><td>-13.2</td><td>0.0</td><td>2014</td><td>1</td><td>4</td></tr>\n",
       "\t<tr><th scope=row>5</th><td>USW00094728</td><td>2014-01-05</td><td> 4.4</td><td> -2.7</td><td>3.6</td><td>2014</td><td>1</td><td>5</td></tr>\n",
       "\t<tr><th scope=row>6</th><td>USW00094728</td><td>2014-01-06</td><td>12.8</td><td> -7.1</td><td>9.1</td><td>2014</td><td>1</td><td>6</td></tr>\n",
       "</tbody>\n",
       "</table>\n"
      ],
      "text/latex": [
       "A data.frame: 6 × 8\n",
       "\\begin{tabular}{r|llllllll}\n",
       "  & id & date & tmax & tmin & prcp & year & month & day\\\\\n",
       "  & <chr> & <date> & <dbl> & <dbl> & <dbl> & <chr> & <int> & <int>\\\\\n",
       "\\hline\n",
       "\t1 & USW00094728 & 2014-01-01 &  0.6 &  -4.3 & 0.0 & 2014 & 1 & 1\\\\\n",
       "\t2 & USW00094728 & 2014-01-02 &  0.6 &  -7.7 & 8.4 & 2014 & 1 & 2\\\\\n",
       "\t3 & USW00094728 & 2014-01-03 & -7.7 & -12.7 & 7.4 & 2014 & 1 & 3\\\\\n",
       "\t4 & USW00094728 & 2014-01-04 & -1.6 & -13.2 & 0.0 & 2014 & 1 & 4\\\\\n",
       "\t5 & USW00094728 & 2014-01-05 &  4.4 &  -2.7 & 3.6 & 2014 & 1 & 5\\\\\n",
       "\t6 & USW00094728 & 2014-01-06 & 12.8 &  -7.1 & 9.1 & 2014 & 1 & 6\\\\\n",
       "\\end{tabular}\n"
      ],
      "text/markdown": [
       "\n",
       "A data.frame: 6 × 8\n",
       "\n",
       "| <!--/--> | id &lt;chr&gt; | date &lt;date&gt; | tmax &lt;dbl&gt; | tmin &lt;dbl&gt; | prcp &lt;dbl&gt; | year &lt;chr&gt; | month &lt;int&gt; | day &lt;int&gt; |\n",
       "|---|---|---|---|---|---|---|---|---|\n",
       "| 1 | USW00094728 | 2014-01-01 |  0.6 |  -4.3 | 0.0 | 2014 | 1 | 1 |\n",
       "| 2 | USW00094728 | 2014-01-02 |  0.6 |  -7.7 | 8.4 | 2014 | 1 | 2 |\n",
       "| 3 | USW00094728 | 2014-01-03 | -7.7 | -12.7 | 7.4 | 2014 | 1 | 3 |\n",
       "| 4 | USW00094728 | 2014-01-04 | -1.6 | -13.2 | 0.0 | 2014 | 1 | 4 |\n",
       "| 5 | USW00094728 | 2014-01-05 |  4.4 |  -2.7 | 3.6 | 2014 | 1 | 5 |\n",
       "| 6 | USW00094728 | 2014-01-06 | 12.8 |  -7.1 | 9.1 | 2014 | 1 | 6 |\n",
       "\n"
      ],
      "text/plain": [
       "  id          date       tmax tmin  prcp year month day\n",
       "1 USW00094728 2014-01-01  0.6  -4.3 0.0  2014 1     1  \n",
       "2 USW00094728 2014-01-02  0.6  -7.7 8.4  2014 1     2  \n",
       "3 USW00094728 2014-01-03 -7.7 -12.7 7.4  2014 1     3  \n",
       "4 USW00094728 2014-01-04 -1.6 -13.2 0.0  2014 1     4  \n",
       "5 USW00094728 2014-01-05  4.4  -2.7 3.6  2014 1     5  \n",
       "6 USW00094728 2014-01-06 12.8  -7.1 9.1  2014 1     6  "
      ]
     },
     "metadata": {},
     "output_type": "display_data"
    }
   ],
   "source": [
    "ny_blooms <- usa_npn %>%\n",
    "    filter(State == \"NY\") %>%\n",
    "    filter(Species_ID == 228) %>% \n",
    "    arrange(Observation_Date) %>% \n",
    "    # mutate(year = year(Observation_Date)) %>% \n",
    "    group_by(year) %>% \n",
    "    summarize(first_flower_index = min(which(Phenophase_Status == 1)),\n",
    "                bloom_date = strftime(date[first_flower_index], format = '%Y-%m-%d'),\n",
    "                bloom_doy = Day_of_Year[first_flower_index],\n",
    "                .groups = 'drop') %>% \n",
    "    filter(!is.na(bloom_doy)) %>% \n",
    "    select(-first_flower_index) %>% \n",
    "    mutate(location = 'newyorkcity') %>%\n",
    "    data.frame(.) %>%\n",
    "    mutate(bloom_date = as.Date(bloom_date, format = \"%Y-%m-%d\")) %>%\n",
    "    mutate(bloom_doy = as.numeric(format(bloom_date, \"%j\")))\n",
    "\n",
    "ny_blooms[(nrow(ny_blooms)+1), ] <- c(2023, \"2023-04-30\", as.numeric(format(as.Date(\"2023-04-30\"), \"%j\")), \"newyorkcity\")\n",
    "\n",
    "ny_min_year <- min(ny_blooms$year)\n",
    "\n",
    "ny_temp_raw <- F01_get_imp_temperature(\n",
    "    data.frame(city = \"newyorkcity\", id = \"USW00094728\")\n",
    "    , date_min = paste0(ny_min_year, \"-01-01\")\n",
    "    , date_max = \"2024-05-01\"\n",
    "    )\n",
    "head(ny_temp_raw)\n"
   ]
  },
  {
   "cell_type": "code",
   "execution_count": 7,
   "metadata": {
    "vscode": {
     "languageId": "r"
    }
   },
   "outputs": [
    {
     "data": {
      "text/html": [
       "<table class=\"dataframe\">\n",
       "<caption>A data.frame: 6 × 13</caption>\n",
       "<thead>\n",
       "\t<tr><th></th><th scope=col>Longitude</th><th scope=col>Latitude</th><th scope=col>Elevation_in_Meters</th><th scope=col>State</th><th scope=col>Species</th><th scope=col>Day_of_Year</th><th scope=col>Phenophase_Status</th><th scope=col>AGDD</th><th scope=col>Accum_Prcp</th><th scope=col>date</th><th scope=col>year</th><th scope=col>month</th><th scope=col>day</th></tr>\n",
       "\t<tr><th></th><th scope=col>&lt;dbl&gt;</th><th scope=col>&lt;dbl&gt;</th><th scope=col>&lt;int&gt;</th><th scope=col>&lt;chr&gt;</th><th scope=col>&lt;chr&gt;</th><th scope=col>&lt;dbl&gt;</th><th scope=col>&lt;dbl&gt;</th><th scope=col>&lt;dbl&gt;</th><th scope=col>&lt;dbl&gt;</th><th scope=col>&lt;date&gt;</th><th scope=col>&lt;chr&gt;</th><th scope=col>&lt;int&gt;</th><th scope=col>&lt;int&gt;</th></tr>\n",
       "</thead>\n",
       "<tbody>\n",
       "\t<tr><th scope=row>1</th><td>-74.02538</td><td>41.09339</td><td>122</td><td>NY</td><td>yedoensis</td><td>60</td><td>0</td><td>109.40</td><td>210.2</td><td>2014-03-01</td><td>2014</td><td>3</td><td>1</td></tr>\n",
       "\t<tr><th scope=row>2</th><td>-74.02538</td><td>41.09339</td><td>122</td><td>NY</td><td>yedoensis</td><td>61</td><td>0</td><td>111.60</td><td>210.2</td><td>2014-03-02</td><td>2014</td><td>3</td><td>2</td></tr>\n",
       "\t<tr><th scope=row>3</th><td>-74.02538</td><td>41.09339</td><td>122</td><td>NY</td><td>yedoensis</td><td>62</td><td>0</td><td>111.60</td><td>211.2</td><td>2014-03-03</td><td>2014</td><td>3</td><td>3</td></tr>\n",
       "\t<tr><th scope=row>4</th><td>-74.02538</td><td>41.09339</td><td>122</td><td>NY</td><td>yedoensis</td><td>63</td><td>0</td><td>111.60</td><td>211.2</td><td>2014-03-04</td><td>2014</td><td>3</td><td>4</td></tr>\n",
       "\t<tr><th scope=row>5</th><td>-74.02538</td><td>41.09339</td><td>122</td><td>NY</td><td>yedoensis</td><td>64</td><td>0</td><td>111.95</td><td>211.2</td><td>2014-03-05</td><td>2014</td><td>3</td><td>5</td></tr>\n",
       "\t<tr><th scope=row>6</th><td>-74.02538</td><td>41.09339</td><td>122</td><td>NY</td><td>yedoensis</td><td>65</td><td>0</td><td>111.95</td><td>211.2</td><td>2014-03-06</td><td>2014</td><td>3</td><td>6</td></tr>\n",
       "</tbody>\n",
       "</table>\n"
      ],
      "text/latex": [
       "A data.frame: 6 × 13\n",
       "\\begin{tabular}{r|lllllllllllll}\n",
       "  & Longitude & Latitude & Elevation\\_in\\_Meters & State & Species & Day\\_of\\_Year & Phenophase\\_Status & AGDD & Accum\\_Prcp & date & year & month & day\\\\\n",
       "  & <dbl> & <dbl> & <int> & <chr> & <chr> & <dbl> & <dbl> & <dbl> & <dbl> & <date> & <chr> & <int> & <int>\\\\\n",
       "\\hline\n",
       "\t1 & -74.02538 & 41.09339 & 122 & NY & yedoensis & 60 & 0 & 109.40 & 210.2 & 2014-03-01 & 2014 & 3 & 1\\\\\n",
       "\t2 & -74.02538 & 41.09339 & 122 & NY & yedoensis & 61 & 0 & 111.60 & 210.2 & 2014-03-02 & 2014 & 3 & 2\\\\\n",
       "\t3 & -74.02538 & 41.09339 & 122 & NY & yedoensis & 62 & 0 & 111.60 & 211.2 & 2014-03-03 & 2014 & 3 & 3\\\\\n",
       "\t4 & -74.02538 & 41.09339 & 122 & NY & yedoensis & 63 & 0 & 111.60 & 211.2 & 2014-03-04 & 2014 & 3 & 4\\\\\n",
       "\t5 & -74.02538 & 41.09339 & 122 & NY & yedoensis & 64 & 0 & 111.95 & 211.2 & 2014-03-05 & 2014 & 3 & 5\\\\\n",
       "\t6 & -74.02538 & 41.09339 & 122 & NY & yedoensis & 65 & 0 & 111.95 & 211.2 & 2014-03-06 & 2014 & 3 & 6\\\\\n",
       "\\end{tabular}\n"
      ],
      "text/markdown": [
       "\n",
       "A data.frame: 6 × 13\n",
       "\n",
       "| <!--/--> | Longitude &lt;dbl&gt; | Latitude &lt;dbl&gt; | Elevation_in_Meters &lt;int&gt; | State &lt;chr&gt; | Species &lt;chr&gt; | Day_of_Year &lt;dbl&gt; | Phenophase_Status &lt;dbl&gt; | AGDD &lt;dbl&gt; | Accum_Prcp &lt;dbl&gt; | date &lt;date&gt; | year &lt;chr&gt; | month &lt;int&gt; | day &lt;int&gt; |\n",
       "|---|---|---|---|---|---|---|---|---|---|---|---|---|---|\n",
       "| 1 | -74.02538 | 41.09339 | 122 | NY | yedoensis | 60 | 0 | 109.40 | 210.2 | 2014-03-01 | 2014 | 3 | 1 |\n",
       "| 2 | -74.02538 | 41.09339 | 122 | NY | yedoensis | 61 | 0 | 111.60 | 210.2 | 2014-03-02 | 2014 | 3 | 2 |\n",
       "| 3 | -74.02538 | 41.09339 | 122 | NY | yedoensis | 62 | 0 | 111.60 | 211.2 | 2014-03-03 | 2014 | 3 | 3 |\n",
       "| 4 | -74.02538 | 41.09339 | 122 | NY | yedoensis | 63 | 0 | 111.60 | 211.2 | 2014-03-04 | 2014 | 3 | 4 |\n",
       "| 5 | -74.02538 | 41.09339 | 122 | NY | yedoensis | 64 | 0 | 111.95 | 211.2 | 2014-03-05 | 2014 | 3 | 5 |\n",
       "| 6 | -74.02538 | 41.09339 | 122 | NY | yedoensis | 65 | 0 | 111.95 | 211.2 | 2014-03-06 | 2014 | 3 | 6 |\n",
       "\n"
      ],
      "text/plain": [
       "  Longitude Latitude Elevation_in_Meters State Species   Day_of_Year\n",
       "1 -74.02538 41.09339 122                 NY    yedoensis 60         \n",
       "2 -74.02538 41.09339 122                 NY    yedoensis 61         \n",
       "3 -74.02538 41.09339 122                 NY    yedoensis 62         \n",
       "4 -74.02538 41.09339 122                 NY    yedoensis 63         \n",
       "5 -74.02538 41.09339 122                 NY    yedoensis 64         \n",
       "6 -74.02538 41.09339 122                 NY    yedoensis 65         \n",
       "  Phenophase_Status AGDD   Accum_Prcp date       year month day\n",
       "1 0                 109.40 210.2      2014-03-01 2014 3     1  \n",
       "2 0                 111.60 210.2      2014-03-02 2014 3     2  \n",
       "3 0                 111.60 211.2      2014-03-03 2014 3     3  \n",
       "4 0                 111.60 211.2      2014-03-04 2014 3     4  \n",
       "5 0                 111.95 211.2      2014-03-05 2014 3     5  \n",
       "6 0                 111.95 211.2      2014-03-06 2014 3     6  "
      ]
     },
     "metadata": {},
     "output_type": "display_data"
    }
   ],
   "source": [
    "ny_lat <- usa_npn[usa_npn$State == \"NY\", \"Latitude\"][1]\n",
    "ny_long <- usa_npn[usa_npn$State == \"NY\", \"Longitude\"][1]\n",
    "ny_alt <- usa_npn[usa_npn$State == \"NY\", \"Elevation_in_Meters\"][1]\n",
    "\n",
    "ny_gdd <- ny_temp_raw %>% \n",
    "    # filter(year == 2023) %>%\n",
    "    mutate(gdd = ifelse((tmax+tmin)/2 > 0, (tmax+tmin)/2, 0)) %>%\n",
    "    group_by(year) %>%\n",
    "    mutate(AGDD = cumsum(gdd)) %>%\n",
    "    mutate(Accum_Prcp = cumsum(prcp)) %>%\n",
    "    ungroup() %>%\n",
    "    filter(month %in% c(3,4,5)) %>%\n",
    "    data.frame(.) %>%\n",
    "    mutate(State = \"NY\") %>%\n",
    "    mutate(Species = \"yedoensis\") %>%\n",
    "    mutate(Latitude = ny_lat) %>%\n",
    "    mutate(Longitude = ny_long) %>%\n",
    "    mutate(Elevation_in_Meters = ny_alt) %>%\n",
    "    mutate(Day_of_Year = as.numeric(format(date, \"%j\"))) %>%\n",
    "    mutate(date = as.Date(date, format = \"%Y-%m-%d\")) %>%\n",
    "    merge(y = ny_blooms[,c(\"bloom_date\", \"bloom_doy\")], by.x = \"date\", by.y = \"bloom_date\", how = \"left\", all.x = TRUE) %>%\n",
    "    mutate(Phenophase_Status = ifelse(is.na(bloom_doy), 0, 1)) %>%\n",
    "    dplyr::select(Longitude, Latitude, Elevation_in_Meters, State, Species, Day_of_Year, Phenophase_Status, AGDD, Accum_Prcp, date, year, month, day)\n",
    "head(ny_gdd)"
   ]
  },
  {
   "cell_type": "markdown",
   "metadata": {},
   "source": [
    "## 1e. Process BC data"
   ]
  },
  {
   "cell_type": "code",
   "execution_count": 8,
   "metadata": {
    "vscode": {
     "languageId": "r"
    }
   },
   "outputs": [
    {
     "name": "stderr",
     "output_type": "stream",
     "text": [
      "using cached file: ~/.cache/R/noaa_ghcnd/CA001108395.dly\n",
      "\n",
      "date created (size, mb): 2023-02-06 22:23:48 (1.325)\n",
      "\n"
     ]
    },
    {
     "name": "stderr",
     "output_type": "stream",
     "text": [
      "file min/max dates: 1957-01-01 / 2023-02-28\n",
      "\n"
     ]
    },
    {
     "name": "stdout",
     "output_type": "stream",
     "text": [
      "\n",
      " iter imp variable\n",
      "  1   1  tmax  tmin  prcp\n",
      "  1   2  tmax  tmin  prcp\n",
      "  1   3  tmax  tmin  prcp\n",
      "  2   1  tmax  tmin  prcp\n",
      "  2   2  tmax  tmin  prcp\n",
      "  2   3  tmax  tmin  prcp\n",
      "  3   1  tmax  tmin  prcp\n",
      "  3   2  tmax  tmin  prcp\n",
      "  3   3  tmax  tmin  prcp\n",
      "  4   1  tmax  tmin  prcp\n",
      "  4   2  tmax  tmin  prcp\n",
      "  4   3  tmax  tmin  prcp\n",
      "  5   1  tmax  tmin  prcp\n",
      "  5   2  tmax  tmin  prcp\n",
      "  5   3  tmax  tmin  prcp\n"
     ]
    },
    {
     "name": "stderr",
     "output_type": "stream",
     "text": [
      "Warning message:\n",
      "“Number of logged events: 2”\n"
     ]
    }
   ],
   "source": [
    "bc_blooms <- read.csv(paste0(comp_data_dir, \"/vancouver.csv\")) %>%\n",
    "    mutate(bloom_date = as.Date(bloom_date, format = \"%Y-%m-%d\"))\n",
    "bc_lat <- bc_blooms[1, \"lat\"]\n",
    "bc_long <- bc_blooms[1, \"long\"]\n",
    "bc_alt <- bc_blooms[1, \"alt\"]\n",
    "\n",
    "bc_temp_raw <- F01_get_imp_temperature(\n",
    "    data.frame(city = \"vancouver\", id = \"CA001108395\")\n",
    "    , date_min = \"2022-01-01\"\n",
    "    , date_max = \"2024-05-01\"\n",
    "    )\n",
    "\n",
    "bc_gdd <- bc_temp_raw %>%\n",
    "    mutate(gdd = ifelse((tmax+tmin)/2 > 0, (tmax+tmin)/2, 0)) %>%\n",
    "    group_by(year) %>%\n",
    "    mutate(AGDD = cumsum(gdd)) %>%\n",
    "    mutate(Accum_Prcp = cumsum(prcp)) %>%\n",
    "    ungroup() %>%\n",
    "    filter(month %in% c(3,4,5)) %>%\n",
    "    data.frame(.) %>%\n",
    "    mutate(State = \"BC\") %>%\n",
    "    mutate(Species = \"yedoensis\") %>%\n",
    "    mutate(Latitude = bc_lat) %>%\n",
    "    mutate(Longitude = bc_long) %>%\n",
    "    mutate(Elevation_in_Meters = bc_alt) %>%\n",
    "    mutate(Day_of_Year = as.numeric(format(date, \"%j\"))) %>%\n",
    "    mutate(date = as.Date(date, format = \"%Y-%m-%d\")) %>%\n",
    "    merge(y = bc_blooms[,c(\"bloom_date\", \"bloom_doy\")], by.x = \"date\", by.y = \"bloom_date\", how = \"left\", all.x = TRUE) %>%\n",
    "    mutate(Phenophase_Status = ifelse(is.na(bloom_doy), 0, 1)) %>%\n",
    "    dplyr::select(Longitude, Latitude, Elevation_in_Meters, State, Species, Day_of_Year, Phenophase_Status, AGDD, Accum_Prcp, date, year, month, day)"
   ]
  },
  {
   "cell_type": "markdown",
   "metadata": {},
   "source": [
    "## 1d. Merge and save the data"
   ]
  },
  {
   "cell_type": "code",
   "execution_count": 9,
   "metadata": {
    "vscode": {
     "languageId": "r"
    }
   },
   "outputs": [
    {
     "data": {
      "text/html": [
       "<table class=\"dataframe\">\n",
       "<caption>A data.frame: 6 × 13</caption>\n",
       "<thead>\n",
       "\t<tr><th></th><th scope=col>Longitude</th><th scope=col>Latitude</th><th scope=col>Elevation_in_Meters</th><th scope=col>State</th><th scope=col>Species</th><th scope=col>Day_of_Year</th><th scope=col>Phenophase_Status</th><th scope=col>AGDD</th><th scope=col>Accum_Prcp</th><th scope=col>date</th><th scope=col>year</th><th scope=col>month</th><th scope=col>day</th></tr>\n",
       "\t<tr><th></th><th scope=col>&lt;dbl&gt;</th><th scope=col>&lt;dbl&gt;</th><th scope=col>&lt;int&gt;</th><th scope=col>&lt;chr&gt;</th><th scope=col>&lt;chr&gt;</th><th scope=col>&lt;dbl&gt;</th><th scope=col>&lt;dbl&gt;</th><th scope=col>&lt;dbl&gt;</th><th scope=col>&lt;dbl&gt;</th><th scope=col>&lt;date&gt;</th><th scope=col>&lt;chr&gt;</th><th scope=col>&lt;dbl&gt;</th><th scope=col>&lt;int&gt;</th></tr>\n",
       "</thead>\n",
       "<tbody>\n",
       "\t<tr><th scope=row>8518</th><td>-123.1636</td><td>49.2237</td><td>24</td><td>BC</td><td>yedoensis</td><td>146</td><td>0</td><td>1127.35</td><td>501.3</td><td>2022-05-26</td><td>2022</td><td>5</td><td>26</td></tr>\n",
       "\t<tr><th scope=row>8519</th><td>-123.1636</td><td>49.2237</td><td>24</td><td>BC</td><td>yedoensis</td><td>147</td><td>0</td><td>1140.20</td><td>509.3</td><td>2022-05-27</td><td>2022</td><td>5</td><td>27</td></tr>\n",
       "\t<tr><th scope=row>8520</th><td>-123.1636</td><td>49.2237</td><td>24</td><td>BC</td><td>yedoensis</td><td>148</td><td>0</td><td>1152.00</td><td>509.3</td><td>2022-05-28</td><td>2022</td><td>5</td><td>28</td></tr>\n",
       "\t<tr><th scope=row>8521</th><td>-123.1636</td><td>49.2237</td><td>24</td><td>BC</td><td>yedoensis</td><td>149</td><td>0</td><td>1165.35</td><td>509.3</td><td>2022-05-29</td><td>2022</td><td>5</td><td>29</td></tr>\n",
       "\t<tr><th scope=row>8522</th><td>-123.1636</td><td>49.2237</td><td>24</td><td>BC</td><td>yedoensis</td><td>150</td><td>0</td><td>1177.35</td><td>514.4</td><td>2022-05-30</td><td>2022</td><td>5</td><td>30</td></tr>\n",
       "\t<tr><th scope=row>8523</th><td>-123.1636</td><td>49.2237</td><td>24</td><td>BC</td><td>yedoensis</td><td>151</td><td>0</td><td>1191.75</td><td>514.4</td><td>2022-05-31</td><td>2022</td><td>5</td><td>31</td></tr>\n",
       "</tbody>\n",
       "</table>\n"
      ],
      "text/latex": [
       "A data.frame: 6 × 13\n",
       "\\begin{tabular}{r|lllllllllllll}\n",
       "  & Longitude & Latitude & Elevation\\_in\\_Meters & State & Species & Day\\_of\\_Year & Phenophase\\_Status & AGDD & Accum\\_Prcp & date & year & month & day\\\\\n",
       "  & <dbl> & <dbl> & <int> & <chr> & <chr> & <dbl> & <dbl> & <dbl> & <dbl> & <date> & <chr> & <dbl> & <int>\\\\\n",
       "\\hline\n",
       "\t8518 & -123.1636 & 49.2237 & 24 & BC & yedoensis & 146 & 0 & 1127.35 & 501.3 & 2022-05-26 & 2022 & 5 & 26\\\\\n",
       "\t8519 & -123.1636 & 49.2237 & 24 & BC & yedoensis & 147 & 0 & 1140.20 & 509.3 & 2022-05-27 & 2022 & 5 & 27\\\\\n",
       "\t8520 & -123.1636 & 49.2237 & 24 & BC & yedoensis & 148 & 0 & 1152.00 & 509.3 & 2022-05-28 & 2022 & 5 & 28\\\\\n",
       "\t8521 & -123.1636 & 49.2237 & 24 & BC & yedoensis & 149 & 0 & 1165.35 & 509.3 & 2022-05-29 & 2022 & 5 & 29\\\\\n",
       "\t8522 & -123.1636 & 49.2237 & 24 & BC & yedoensis & 150 & 0 & 1177.35 & 514.4 & 2022-05-30 & 2022 & 5 & 30\\\\\n",
       "\t8523 & -123.1636 & 49.2237 & 24 & BC & yedoensis & 151 & 0 & 1191.75 & 514.4 & 2022-05-31 & 2022 & 5 & 31\\\\\n",
       "\\end{tabular}\n"
      ],
      "text/markdown": [
       "\n",
       "A data.frame: 6 × 13\n",
       "\n",
       "| <!--/--> | Longitude &lt;dbl&gt; | Latitude &lt;dbl&gt; | Elevation_in_Meters &lt;int&gt; | State &lt;chr&gt; | Species &lt;chr&gt; | Day_of_Year &lt;dbl&gt; | Phenophase_Status &lt;dbl&gt; | AGDD &lt;dbl&gt; | Accum_Prcp &lt;dbl&gt; | date &lt;date&gt; | year &lt;chr&gt; | month &lt;dbl&gt; | day &lt;int&gt; |\n",
       "|---|---|---|---|---|---|---|---|---|---|---|---|---|---|\n",
       "| 8518 | -123.1636 | 49.2237 | 24 | BC | yedoensis | 146 | 0 | 1127.35 | 501.3 | 2022-05-26 | 2022 | 5 | 26 |\n",
       "| 8519 | -123.1636 | 49.2237 | 24 | BC | yedoensis | 147 | 0 | 1140.20 | 509.3 | 2022-05-27 | 2022 | 5 | 27 |\n",
       "| 8520 | -123.1636 | 49.2237 | 24 | BC | yedoensis | 148 | 0 | 1152.00 | 509.3 | 2022-05-28 | 2022 | 5 | 28 |\n",
       "| 8521 | -123.1636 | 49.2237 | 24 | BC | yedoensis | 149 | 0 | 1165.35 | 509.3 | 2022-05-29 | 2022 | 5 | 29 |\n",
       "| 8522 | -123.1636 | 49.2237 | 24 | BC | yedoensis | 150 | 0 | 1177.35 | 514.4 | 2022-05-30 | 2022 | 5 | 30 |\n",
       "| 8523 | -123.1636 | 49.2237 | 24 | BC | yedoensis | 151 | 0 | 1191.75 | 514.4 | 2022-05-31 | 2022 | 5 | 31 |\n",
       "\n"
      ],
      "text/plain": [
       "     Longitude Latitude Elevation_in_Meters State Species   Day_of_Year\n",
       "8518 -123.1636 49.2237  24                  BC    yedoensis 146        \n",
       "8519 -123.1636 49.2237  24                  BC    yedoensis 147        \n",
       "8520 -123.1636 49.2237  24                  BC    yedoensis 148        \n",
       "8521 -123.1636 49.2237  24                  BC    yedoensis 149        \n",
       "8522 -123.1636 49.2237  24                  BC    yedoensis 150        \n",
       "8523 -123.1636 49.2237  24                  BC    yedoensis 151        \n",
       "     Phenophase_Status AGDD    Accum_Prcp date       year month day\n",
       "8518 0                 1127.35 501.3      2022-05-26 2022 5     26 \n",
       "8519 0                 1140.20 509.3      2022-05-27 2022 5     27 \n",
       "8520 0                 1152.00 509.3      2022-05-28 2022 5     28 \n",
       "8521 0                 1165.35 509.3      2022-05-29 2022 5     29 \n",
       "8522 0                 1177.35 514.4      2022-05-30 2022 5     30 \n",
       "8523 0                 1191.75 514.4      2022-05-31 2022 5     31 "
      ]
     },
     "metadata": {},
     "output_type": "display_data"
    },
    {
     "name": "stdout",
     "output_type": "stream",
     "text": [
      "[1] \"done\"\n"
     ]
    }
   ],
   "source": [
    "## Merge all data\n",
    "usa_npn_out <- usa_npn %>%\n",
    "    dplyr::select(Longitude, Latitude, Elevation_in_Meters, State, Species, Day_of_Year, Phenophase_Status, AGDD, Accum_Prcp, date, year, month, day) %>%\n",
    "    filter(!(State %in% c(\"DC\", \"NY\", \"BC\"))) %>%\n",
    "    rbind(., dc_gdd) %>%\n",
    "    rbind(., ny_gdd) %>%\n",
    "    rbind(., bc_gdd)\n",
    "tail(usa_npn_out)\n",
    "\n",
    "write.csv(usa_npn_out, paste0(data_dir, \"/A31_america_temperatures2.csv\"), row.names = FALSE)\n",
    "print(\"done\")"
   ]
  },
  {
   "cell_type": "code",
   "execution_count": null,
   "metadata": {
    "vscode": {
     "languageId": "r"
    }
   },
   "outputs": [],
   "source": []
  }
 ],
 "metadata": {
  "kernelspec": {
   "display_name": "R 4.1",
   "language": "R",
   "name": "ir41"
  },
  "language_info": {
   "codemirror_mode": "r",
   "file_extension": ".r",
   "mimetype": "text/x-r-source",
   "name": "R",
   "pygments_lexer": "r",
   "version": "4.1.2"
  }
 },
 "nbformat": 4,
 "nbformat_minor": 2
}
