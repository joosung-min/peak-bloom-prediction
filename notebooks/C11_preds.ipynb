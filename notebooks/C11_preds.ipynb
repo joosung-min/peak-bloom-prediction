{
 "cells": [
  {
   "cell_type": "markdown",
   "metadata": {},
   "source": [
    "# 3. Make predictions for the year 2024"
   ]
  },
  {
   "cell_type": "code",
   "execution_count": 60,
   "metadata": {},
   "outputs": [],
   "source": [
    "# Load necessary packages\n",
    "import lightgbm as lgb\n",
    "import numpy as np\n",
    "import pandas as pd\n",
    "pd.options.mode.chained_assignment = None  # default='warn'\n",
    "import yaml\n",
    "import os\n",
    "from datetime import datetime\n",
    "import sys\n",
    "from sklearn.model_selection import train_test_split\n",
    "import sklearn.metrics\n",
    "import pickle\n",
    "\n",
    "import optuna\n",
    "\n",
    "import multiprocessing as mp\n",
    "from multiprocessing import Pool\n",
    "# import s3fs\n",
    "from datetime import datetime\n",
    "\n",
    "with open(\"./_config.yaml\", \"r\") as file:\n",
    "    cherry_config = yaml.safe_load(file)\n",
    "comp_data_dir = cherry_config['competition_data']\n",
    "data_dir = cherry_config['data_dir']     # data generated from A__dataPrep.ipynb\n",
    "model_dir = cherry_config['model_dir']   # output dir for the best trained lgb models"
   ]
  },
  {
   "cell_type": "code",
   "execution_count": 61,
   "metadata": {},
   "outputs": [],
   "source": [
    "# Define functions for computing Ca_cumsum and Cd_cumsum\n",
    "\n",
    "def compute_gdd(r):\n",
    "    gdd = (r[['tmax']].item() + r[['tmin']].item())/2\n",
    "    return gdd if gdd > 0 else 0\n",
    "\n",
    "\n",
    "def chill_days(r, Tc):\n",
    "    '''\n",
    "    Following Cesaraccio\n",
    "    '''\n",
    "    Tmin = r[['tmin']].item()\n",
    "    Tmax = r[['tmax']].item()\n",
    "    Tmean = (Tmin + Tmax)/2\n",
    "\n",
    "    if (0 <= Tc) & (Tc <= Tmin) & (Tmin <= Tmax):\n",
    "        Cd = 0\n",
    "        Ca = Tmean - Tc\n",
    "\n",
    "    elif (0 <= Tmin) & (Tmin <= Tc) & (Tc <= Tmax):\n",
    "        Cd = -1 * ((Tmean - Tmin) - ((Tmax - Tc)/2))\n",
    "        Ca = (Tmax - Tc)/2\n",
    "    \n",
    "    elif (0 <= Tmin) & (Tmin <= Tmax) & (Tmax <= Tc):\n",
    "        Cd = -1 * (Tmean - Tmin)\n",
    "        Ca = 0\n",
    "    \n",
    "    elif (Tmin <= 0) & (0 <= Tmax) & (Tmax <= Tc):\n",
    "        Cd = -1 * (Tmax / (Tmax - Tmin)) * (Tmax/2)\n",
    "        Ca = 0\n",
    "    \n",
    "    elif (Tmin <= 0) & (0 <= Tc) & (Tc <= Tmax):\n",
    "        Cd = -1 * ((Tmax / (Tmax - Tmin)) * (Tmax/2) - ((Tmax - Tc)/2))\n",
    "        Ca = (Tmax - Tc) / 2\n",
    "    \n",
    "    elif (Tmax < 0):\n",
    "        Cd = 0\n",
    "        Ca = 0\n",
    "    \n",
    "    else:\n",
    "        Cd = 0\n",
    "        Ca = 0\n",
    "\n",
    "    # r['Cd'] = Cd\n",
    "    # r['Ca'] = Ca\n",
    "\n",
    "    return Cd, Ca\n",
    "\n",
    "def compute_cgdd(station_df, station_id, Rc_thresh, Tc):\n",
    "\n",
    "    # Computes daily_Ca, daily_Cd, Ca_cumsum, Cd_cumsum.\n",
    "    # weather_df should have at least: tmax, tmin\n",
    "    \n",
    "    # Rc_thresh and Tc are learnt from gdd_model\n",
    "    # Rc_thresh accumulated Cd threshold to start accumulating GDD.\n",
    "    # Tc: Threshold temperature for computing Ca and Cd.\n",
    "\n",
    "    output_list = {}\n",
    "    \n",
    "    Ca_Cd_df = station_df.copy()\n",
    "    \n",
    "    Ca_Cd_df['date'] = Ca_Cd_df.apply(lambda x : \"-\".join([str(x[\"year\"]), str(x[\"month\"]), str(x[\"day\"])]), axis = 1)\n",
    "    Ca_Cd_df['date'] = pd.to_datetime(Ca_Cd_df['date'])\n",
    "    \n",
    "    Ca_Cd_df['daily_Cd'], Ca_Cd_df['daily_Ca'] = zip(*Ca_Cd_df.apply(lambda row: chill_days(row, Tc = Tc), axis = 1))\n",
    "    \n",
    "    ## Compute Ca_cumsum (a.k.a AGDD) and Cd_cumsum\n",
    "    years = Ca_Cd_df['year'].unique()\n",
    "    # years = [1992, 1993, 1994]\n",
    "    for yr in years:\n",
    "        # yr = years[1]\n",
    "        # print(yr)\n",
    "        Rc_start = datetime.strptime(str(int(yr) - 1) + \"-09-30\", \"%Y-%m-%d\")\n",
    "        \n",
    "        sub_df = Ca_Cd_df.loc[(Rc_start < Ca_Cd_df[\"date\"]) & (Ca_Cd_df[\"date\"] < datetime.strptime(str(yr)+\"-06-01\", \"%Y-%m-%d\")), :].reset_index(drop = True)\n",
    "    \n",
    "        list_id = station_id + \"-\" + str(yr)\n",
    "\n",
    "        if len(sub_df['month'].unique()) != 8:\n",
    "            # print(\"next\")\n",
    "            continue            \n",
    "\n",
    "        sub_df['Cd_cumsum'] = sub_df['daily_Cd'].cumsum()\n",
    "\n",
    "        if (np.isin(\"prcp\", sub_df.columns)):\n",
    "            sub_df[\"prcp_cumsum\"] = sub_df[\"prcp\"].cumsum()\n",
    "        \n",
    "        sub_df['Ca_cumsum'] = 0\n",
    "\n",
    "        if sub_df[sub_df['Cd_cumsum'] < Rc_thresh].shape[0] == 0:\n",
    "            continue\n",
    "        \n",
    "        Rc_thresh_loc = sub_df[sub_df['Cd_cumsum'] < Rc_thresh].index[0]\n",
    "\n",
    "        if pd.isna(Rc_thresh_loc):\n",
    "            Rc_thresh_loc = sub_df[sub_df['Cd_cumsum'] < Rc_thresh].index[0]\n",
    "            if pd.isna(Rc_thresh_loc):\n",
    "                continue\n",
    "\n",
    "        Rc_thresh_day = sub_df.iloc[Rc_thresh_loc]['date']\n",
    "        # print(paste0(\"reaches the Rc threshold on \", Rc_thresh_day)) # 저온요구도 달성일 i.e., 내생휴면 해제일. \n",
    "\n",
    "        if int(Rc_thresh_day.timetuple().tm_yday) > 31:\n",
    "            first_Tc_reach_day = datetime.strptime(str(yr) + \"-01-31\", \"%Y-%m-%d\")\n",
    "        else:\n",
    "            sub_df_afterRc = sub_df.iloc[range(Rc_thresh_loc, sub_df.shape[0]), :].reset_index(drop = True)\n",
    "            first_Tc_reach_loc = sub_df_afterRc[sub_df_afterRc['tmax'] > Tc].index[0]\n",
    "            first_Tc_reach_day = sub_df_afterRc.iloc[first_Tc_reach_loc]['date']\n",
    "\n",
    "        if pd.isna(first_Tc_reach_day):\n",
    "            # print(\"is na first tc reach day\")\n",
    "            continue\n",
    "        \n",
    "        first_Tc_reach_loc2 = sub_df[sub_df[\"date\"] == first_Tc_reach_day].index[0] # Ca accumulates starting this day.\n",
    "        sub_df.loc[first_Tc_reach_loc2:sub_df.shape[0], \"Ca_cumsum\"] = sub_df.loc[first_Tc_reach_loc2:sub_df.shape[0], \"daily_Ca\"].cumsum()\n",
    "        \n",
    "        # sub_df[\"diff_Ca_Cd\"] = sub_df['daily_Ca'].abs() - sub_df['daily_Cd'].abs()\n",
    "        # sub_df[\"diff_Ca_Cd_cumsum\"] = sub_df['diff_Ca_Cd'].cumsum()\n",
    "        \n",
    "        sub_df = sub_df[sub_df['month'].isin([1,2,3,4,5])].reset_index(drop=True)\n",
    "\n",
    "        sub_df['daily_gdd'] = sub_df.apply(lambda row: compute_gdd(row), axis = 1)\n",
    "        sub_df['AGDD'] = sub_df['daily_gdd'].cumsum()\n",
    "        \n",
    "        output_list[list_id] = sub_df\n",
    "\n",
    "    if len(output_list) == 0:\n",
    "        return pd.DataFrame(columns = sub_df.columns)\n",
    "    elif len(output_list) == 1:\n",
    "        out_df = output_list[list(output_list.keys())[0]].dropna().reset_index(drop = True)\n",
    "    elif len(output_list) > 1:\n",
    "        out_df = pd.concat(output_list, axis = 0).dropna().reset_index(drop = True)\n",
    "    \n",
    "\n",
    "    # return(out_df)\n",
    "    \n",
    "    return out_df\n",
    "\n",
    "\n",
    "def generate_cgdds(temperature_df, st, Tc, Rc_thresh):\n",
    "    \n",
    "    # st = target_ids[3]\n",
    "    station_temp = temperature_df[temperature_df[\"id\"] == st]\n",
    "    city_name = station_temp.iloc[1][\"city\"]\n",
    "    # city_name\n",
    "    station_bloom_years = station_temp['year'].unique()\n",
    "     \n",
    "    sub_cds = compute_cgdd(station_df = station_temp, station_id = st, Rc_thresh = Rc_thresh, Tc=Tc)\n",
    "    \n",
    "    return sub_cds\n",
    "\n",
    "\n",
    "def generate_data(temperature_df, target_ids, Tc, Rc_thresh, pooling = False):\n",
    "    \n",
    "    args = [(temperature_df, id, Tc, Rc_thresh) for id in target_ids]\n",
    "        \n",
    "    if pooling == True:\n",
    "        n_cpus = 7\n",
    "        pool = Pool(processes = n_cpus)\n",
    "        \n",
    "        df = pd.concat(pool.starmap(generate_cgdds, args), axis = 0)\n",
    "        pool.close()\n",
    "        pool.join()\n",
    "    else:\n",
    "        df = pd.concat([generate_cgdds(*arg) for arg in args], axis = 0)\n",
    "\n",
    "    return df"
   ]
  },
  {
   "cell_type": "markdown",
   "metadata": {},
   "source": [
    "## 3a. Load trained models"
   ]
  },
  {
   "cell_type": "code",
   "execution_count": 62,
   "metadata": {},
   "outputs": [],
   "source": [
    "# Load models\n",
    "with open(model_dir + \"/B11_lgb_kyoto.pkl\" ,\"rb\") as m1:\n",
    "    lgb_kyoto = pickle.load(m1)\n",
    "\n",
    "with open(model_dir + \"/B21_lgb_liestal.pkl\", \"rb\") as m2:\n",
    "    lgb_liestal = pickle.load(m2)\n",
    "\n",
    "with open(model_dir + \"/B31_lgb_america.pkl\", \"rb\") as m3:\n",
    "    lgb_ame = pickle.load(m3)"
   ]
  },
  {
   "cell_type": "markdown",
   "metadata": {},
   "source": [
    "## 3b. Load temperature data\n",
    "\n",
    "* Temperature forecasts acquired from AccuWeather"
   ]
  },
  {
   "cell_type": "code",
   "execution_count": 63,
   "metadata": {},
   "outputs": [],
   "source": [
    "# Kyoto\n",
    "kyoto_blooms = pd.read_csv(comp_data_dir + \"/kyoto.csv\")\n",
    "kyoto_lat = kyoto_blooms.iloc[0][\"lat\"]\n",
    "kyoto_long = kyoto_blooms.iloc[0][\"long\"]\n",
    "kyoto_alt = kyoto_blooms.iloc[0][\"alt\"]\n",
    "\n",
    "kyoto_temps = pd.read_csv(data_dir + \"/C11_kyoto_temp_2224.csv\")   # Acquired from AccuWeather\n",
    "kyoto_temps = kyoto_temps.query('year >= 2023')\n",
    "kyoto_temps['city'] = \"Kyoto\"\n",
    "\n",
    "kyoto_df = generate_data(kyoto_temps, target_ids = [\"JA000047759\"], Tc = 7, Rc_thresh = -100)\n",
    "kyoto_df['lat'] = kyoto_lat\n",
    "kyoto_df['long'] = kyoto_long\n",
    "kyoto_df['alt'] = kyoto_alt\n",
    "kyoto_df = kyoto_df.query(\"year == 2024\")\n",
    "kyoto_df = kyoto_df.loc[(2 < kyoto_df['month']) , :]\n",
    "\n",
    "cgdd_predictors = [\"lat\", \"long\", \"alt\", \"Ca_cumsum\", \"Cd_cumsum\", \"AGDD\", \"month\"]\n",
    "kyoto_newX = kyoto_df[cgdd_predictors]"
   ]
  },
  {
   "cell_type": "code",
   "execution_count": 64,
   "metadata": {},
   "outputs": [],
   "source": [
    "# Liestal\n",
    "liestal_blooms = pd.read_csv(comp_data_dir + \"/liestal.csv\")\n",
    "liestal_lat = liestal_blooms.iloc[0][\"lat\"]\n",
    "liestal_long = liestal_blooms.iloc[0][\"long\"]\n",
    "liestal_alt = liestal_blooms.iloc[0][\"alt\"]\n",
    "\n",
    "liestal_temps = pd.read_csv(data_dir + \"/C21_liestal_temp_2224.csv\")   # Acquired from AccuWeather\n",
    "liestal_temps = liestal_temps.query('year >= 2023')\n",
    "liestal_temps['city'] = \"Liestal\"\n",
    "\n",
    "liestal_df = generate_data(liestal_temps, target_ids = [\"GME00127786\"], Tc = 7, Rc_thresh = -100)\n",
    "liestal_df['lat'] = liestal_lat\n",
    "liestal_df['long'] = liestal_long\n",
    "liestal_df['alt'] = liestal_alt\n",
    "\n",
    "liestal_df = liestal_df.query(\"year == 2024\")\n",
    "liestal_df = liestal_df.loc[(2 < liestal_df['month']), :]\n",
    "\n",
    "liestal_newX = liestal_df[cgdd_predictors]"
   ]
  },
  {
   "cell_type": "code",
   "execution_count": 65,
   "metadata": {},
   "outputs": [],
   "source": [
    "dc_blooms = pd.read_csv(comp_data_dir + \"/washingtondc.csv\")\n",
    "dc_lat = dc_blooms.iloc[0][\"lat\"]\n",
    "dc_long = dc_blooms.iloc[0][\"long\"]\n",
    "dc_alt = dc_blooms.iloc[0][\"alt\"]\n",
    "\n",
    "dc_temps = pd.read_csv(data_dir + \"/C31_washingtondc_temp_2224.csv\")   # Acquired from AccuWeather\n",
    "dc_temps = dc_temps.query('year >= 2023')\n",
    "dc_temps['city'] = \"DC\"\n",
    "\n",
    "dc_df = generate_data(dc_temps, target_ids = [\"USC00186350\"], Tc = 7, Rc_thresh = -100)\n",
    "dc_df['date'] = pd.to_datetime(dc_df['date'])\n",
    "dc_df[\"Day_of_Year\"] = dc_df.loc[:, \"date\"].apply(lambda row: pd.Period(row, freq = \"D\").day_of_year)\n",
    "dc_df['Latitude'] = dc_lat\n",
    "dc_df['Longitude'] = dc_long\n",
    "dc_df['Elevation_in_Meters'] = dc_alt\n",
    "dc_df['State'] = 'DC'\n",
    "dc_df['State'] = dc_df['State'].astype('category')\n",
    "dc_df[\"Species\"] = \"yedoensis\"\n",
    "dc_df = dc_df.query(\"year == 2024\")\n",
    "\n",
    "npn_predictors = [\"Longitude\",\"Latitude\",\"Elevation_in_Meters\",\"State\",\"Day_of_Year\",\"AGDD\"]\n",
    "\n",
    "dc_newX = dc_df[npn_predictors]"
   ]
  },
  {
   "cell_type": "code",
   "execution_count": 66,
   "metadata": {},
   "outputs": [],
   "source": [
    "ny_blooms = pd.read_csv(data_dir + \"/A31_america_temperatures2.csv\").query(\"State == 'NY'\")\n",
    "ny_lat = ny_blooms.iloc[0][\"Latitude\"]\n",
    "ny_long = ny_blooms.iloc[0][\"Longitude\"]\n",
    "ny_alt = ny_blooms.iloc[0][\"Elevation_in_Meters\"]\n",
    "\n",
    "ny_temps = pd.read_csv(data_dir + \"/C31_newyorkcity_temp_2224.csv\")   # Acquired from AccuWeather\n",
    "ny_temps = ny_temps.query('year >= 2023')\n",
    "ny_temps['city'] = \"NY\"\n",
    "\n",
    "ny_df = generate_data(ny_temps, target_ids = [\"USW00094728\"], Tc = 7, Rc_thresh = -100)\n",
    "ny_df['date'] = pd.to_datetime(ny_df['date'])\n",
    "ny_df[\"Day_of_Year\"] = ny_df.loc[:, \"date\"].apply(lambda row: pd.Period(row, freq = \"D\").day_of_year)\n",
    "ny_df['Latitude'] = ny_lat\n",
    "ny_df['Longitude'] = ny_long\n",
    "ny_df['Elevation_in_Meters'] = ny_alt\n",
    "ny_df['State'] = 'ny'\n",
    "ny_df['State'] = ny_df['State'].astype('category')\n",
    "ny_df[\"Species\"] = \"yedoensis\"\n",
    "ny_df = ny_df.query(\"year == 2024\")\n",
    "\n",
    "npn_predictors = [\"Longitude\",\"Latitude\",\"Elevation_in_Meters\",\"State\",\"Day_of_Year\",\"AGDD\"]\n",
    "\n",
    "ny_newX = ny_df[npn_predictors]"
   ]
  },
  {
   "cell_type": "code",
   "execution_count": 67,
   "metadata": {},
   "outputs": [],
   "source": [
    "bc_blooms = pd.read_csv(data_dir + \"/A31_america_temperatures2.csv\").query(\"State == 'BC'\")\n",
    "bc_lat = bc_blooms.iloc[0][\"Latitude\"]\n",
    "bc_long = bc_blooms.iloc[0][\"Longitude\"]\n",
    "bc_alt = bc_blooms.iloc[0][\"Elevation_in_Meters\"]\n",
    "\n",
    "bc_temps = pd.read_csv(data_dir + \"/C31_vancouver_temp_2224.csv\")   # Acquired from AccuWeather\n",
    "bc_temps = bc_temps.query('year >= 2023')\n",
    "bc_temps['city'] = \"bc\"\n",
    "\n",
    "bc_df = generate_data(bc_temps, target_ids = [\"CA001108395\"], Tc = 7, Rc_thresh = -100)\n",
    "bc_df['date'] = pd.to_datetime(bc_df['date'])\n",
    "bc_df[\"Day_of_Year\"] = bc_df.loc[:, \"date\"].apply(lambda row: pd.Period(row, freq = \"D\").day_of_year)\n",
    "bc_df['Latitude'] = bc_lat\n",
    "bc_df['Longitude'] = bc_long\n",
    "bc_df['Elevation_in_Meters'] = bc_alt\n",
    "bc_df['State'] = 'bc'\n",
    "bc_df['State'] = bc_df['State'].astype('category')\n",
    "bc_df[\"Species\"] = \"yedoensis\"\n",
    "bc_df = bc_df.query(\"year == 2024\")\n",
    "\n",
    "npn_predictors = [\"Longitude\",\"Latitude\",\"Elevation_in_Meters\",\"State\",\"Day_of_Year\",\"AGDD\"]\n",
    "\n",
    "bc_newX = bc_df[npn_predictors]"
   ]
  },
  {
   "cell_type": "markdown",
   "metadata": {},
   "source": [
    "## 3d. Make final predictions for the year 2024"
   ]
  },
  {
   "cell_type": "code",
   "execution_count": 68,
   "metadata": {},
   "outputs": [
    {
     "name": "stdout",
     "output_type": "stream",
     "text": [
      "2024-05-01 00:00:00\n",
      "122\n"
     ]
    }
   ],
   "source": [
    "pred_kyoto = lgb_kyoto.predict(kyoto_newX)\n",
    "pred_kyoto_idx = np.where(pred_kyoto == np.max(pred_kyoto))[0][0]\n",
    "pred_kyoto_date = kyoto_df.iloc[pred_kyoto_idx]['date']\n",
    "pred_kyoto_doy = pd.Period(pred_kyoto_date, freq = \"D\").day_of_year\n",
    "print(pred_kyoto_date)\n",
    "print(pred_kyoto_doy)"
   ]
  },
  {
   "cell_type": "code",
   "execution_count": 69,
   "metadata": {},
   "outputs": [
    {
     "name": "stdout",
     "output_type": "stream",
     "text": [
      "2024-04-01 00:00:00\n",
      "92\n"
     ]
    }
   ],
   "source": [
    "pred_liestal = lgb_liestal.predict(liestal_newX)\n",
    "pred_liestal_idx = np.where(pred_liestal == np.max(pred_liestal))[0][0]\n",
    "pred_liestal_date = liestal_df.iloc[pred_liestal_idx]['date']\n",
    "pred_liestal_doy = pd.Period(pred_liestal_date, freq = \"D\").day_of_year\n",
    "print(pred_liestal_date)\n",
    "print(pred_liestal_doy)"
   ]
  },
  {
   "cell_type": "code",
   "execution_count": 70,
   "metadata": {},
   "outputs": [
    {
     "name": "stdout",
     "output_type": "stream",
     "text": [
      "2024-03-20 00:00:00\n",
      "80\n"
     ]
    }
   ],
   "source": [
    "# Make prediction for washingtondc\n",
    "pred_dc = lgb_ame.predict(dc_newX)\n",
    "pred_dc_idx = np.where(pred_dc == np.max(pred_dc))[0][0]\n",
    "pred_dc_date = dc_df.iloc[pred_dc_idx]['date']\n",
    "pred_dc_doy = pd.Period(pred_dc_date, freq = \"D\").day_of_year\n",
    "print(pred_dc_date)\n",
    "print(pred_dc_doy)"
   ]
  },
  {
   "cell_type": "code",
   "execution_count": 71,
   "metadata": {},
   "outputs": [
    {
     "name": "stdout",
     "output_type": "stream",
     "text": [
      "2024-04-09 00:00:00\n",
      "100\n"
     ]
    }
   ],
   "source": [
    "# Make prediction for New York City\n",
    "pred_ny = lgb_ame.predict(ny_newX)\n",
    "pred_ny_idx = np.where(pred_ny == np.max(pred_ny))[0][0]\n",
    "pred_ny_date = ny_df.iloc[pred_ny_idx]['date']\n",
    "pred_ny_doy = pd.Period(pred_ny_date, freq = \"D\").day_of_year\n",
    "print(pred_ny_date)\n",
    "print(pred_ny_doy)"
   ]
  },
  {
   "cell_type": "code",
   "execution_count": 72,
   "metadata": {},
   "outputs": [
    {
     "name": "stdout",
     "output_type": "stream",
     "text": [
      "2024-04-09 00:00:00\n",
      "100\n"
     ]
    }
   ],
   "source": [
    "# Make prediction for Vancouver\n",
    "pred_bc = lgb_ame.predict(bc_newX)\n",
    "pred_bc_idx = np.where(pred_bc == np.max(pred_bc))[0][0]\n",
    "pred_bc_date = bc_df.iloc[pred_bc_idx]['date']\n",
    "pred_bc_doy = pd.Period(pred_bc_date, freq = \"D\").day_of_year\n",
    "print(pred_bc_date)\n",
    "print(pred_bc_doy)"
   ]
  },
  {
   "cell_type": "code",
   "execution_count": 73,
   "metadata": {},
   "outputs": [
    {
     "data": {
      "text/html": [
       "<div>\n",
       "<style scoped>\n",
       "    .dataframe tbody tr th:only-of-type {\n",
       "        vertical-align: middle;\n",
       "    }\n",
       "\n",
       "    .dataframe tbody tr th {\n",
       "        vertical-align: top;\n",
       "    }\n",
       "\n",
       "    .dataframe thead th {\n",
       "        text-align: right;\n",
       "    }\n",
       "</style>\n",
       "<table border=\"1\" class=\"dataframe\">\n",
       "  <thead>\n",
       "    <tr style=\"text-align: right;\">\n",
       "      <th></th>\n",
       "      <th>location</th>\n",
       "      <th>prediction</th>\n",
       "    </tr>\n",
       "  </thead>\n",
       "  <tbody>\n",
       "    <tr>\n",
       "      <th>0</th>\n",
       "      <td>washingtondc</td>\n",
       "      <td>80</td>\n",
       "    </tr>\n",
       "    <tr>\n",
       "      <th>1</th>\n",
       "      <td>liestal</td>\n",
       "      <td>92</td>\n",
       "    </tr>\n",
       "    <tr>\n",
       "      <th>2</th>\n",
       "      <td>kyoto</td>\n",
       "      <td>122</td>\n",
       "    </tr>\n",
       "    <tr>\n",
       "      <th>3</th>\n",
       "      <td>vancouver</td>\n",
       "      <td>100</td>\n",
       "    </tr>\n",
       "    <tr>\n",
       "      <th>4</th>\n",
       "      <td>newyorkcity</td>\n",
       "      <td>100</td>\n",
       "    </tr>\n",
       "  </tbody>\n",
       "</table>\n",
       "</div>"
      ],
      "text/plain": [
       "       location  prediction\n",
       "0  washingtondc          80\n",
       "1       liestal          92\n",
       "2         kyoto         122\n",
       "3     vancouver         100\n",
       "4   newyorkcity         100"
      ]
     },
     "execution_count": 73,
     "metadata": {},
     "output_type": "execute_result"
    }
   ],
   "source": [
    "pred_df = pd.DataFrame(\n",
    "    {\"location\": [\"washingtondc\", \"liestal\", \"kyoto\", \"vancouver\", \"newyorkcity\"],\n",
    "    \"prediction\": [pred_dc_doy, pred_liestal_doy, pred_kyoto_doy, pred_bc_doy, pred_ny_doy]}\n",
    ")\n",
    "pred_df"
   ]
  },
  {
   "cell_type": "code",
   "execution_count": 74,
   "metadata": {},
   "outputs": [],
   "source": [
    "# Save the final output\n",
    "import csv\n",
    "pred_df.to_csv(\"./2024preds.csv\", index = False, quoting = csv.QUOTE_NONNUMERIC)"
   ]
  },
  {
   "cell_type": "markdown",
   "metadata": {},
   "source": [
    "## 3e. Feature importance"
   ]
  },
  {
   "cell_type": "code",
   "execution_count": 75,
   "metadata": {},
   "outputs": [
    {
     "data": {
      "text/plain": [
       "<Axes: title={'center': 'Feature importance'}, xlabel='Feature importance', ylabel='Features'>"
      ]
     },
     "execution_count": 75,
     "metadata": {},
     "output_type": "execute_result"
    },
    {
     "data": {
      "image/png": "[encoded data removed]",
      "text/plain": [
       "<Figure size 640x480 with 1 Axes>"
      ]
     },
     "metadata": {},
     "output_type": "display_data"
    }
   ],
   "source": [
    "lgb.plot_importance(lgb_kyoto)"
   ]
  },
  {
   "cell_type": "code",
   "execution_count": 76,
   "metadata": {},
   "outputs": [
    {
     "data": {
      "text/plain": [
       "<Axes: title={'center': 'Feature importance'}, xlabel='Feature importance', ylabel='Features'>"
      ]
     },
     "execution_count": 76,
     "metadata": {},
     "output_type": "execute_result"
    },
    {
     "data": {
      "image/png": "[encoded data removed]",
      "text/plain": [
       "<Figure size 640x480 with 1 Axes>"
      ]
     },
     "metadata": {},
     "output_type": "display_data"
    }
   ],
   "source": [
    "lgb.plot_importance(lgb_liestal)"
   ]
  },
  {
   "cell_type": "code",
   "execution_count": 77,
   "metadata": {},
   "outputs": [
    {
     "data": {
      "text/plain": [
       "<Axes: title={'center': 'Feature importance'}, xlabel='Feature importance', ylabel='Features'>"
      ]
     },
     "execution_count": 77,
     "metadata": {},
     "output_type": "execute_result"
    },
    {
     "data": {
      "image/png": "[encoded data removed]",
      "text/plain": [
       "<Figure size 640x480 with 1 Axes>"
      ]
     },
     "metadata": {},
     "output_type": "display_data"
    }
   ],
   "source": [
    "lgb.plot_importance(lgb_ame)"
   ]
  },
  {
   "cell_type": "code",
   "execution_count": null,
   "metadata": {},
   "outputs": [],
   "source": []
  }
 ],
 "metadata": {
  "kernelspec": {
   "display_name": "py310",
   "language": "python",
   "name": "python3"
  },
  "language_info": {
   "codemirror_mode": {
    "name": "ipython",
    "version": 3
   },
   "file_extension": ".py",
   "mimetype": "text/x-python",
   "name": "python",
   "nbconvert_exporter": "python",
   "pygments_lexer": "ipython3",
   "version": "3.10.2"
  }
 },
 "nbformat": 4,
 "nbformat_minor": 2
}
