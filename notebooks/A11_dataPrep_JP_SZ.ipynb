{
 "cells": [
  {
   "cell_type": "markdown",
   "metadata": {},
   "source": [
    "# 1. Data preprocessing\n",
    "\n",
    "In this notebook, we preprocess the data, the procedure of which includes the following:\n",
    "\n",
    "* Remove duplicate entries.\n",
    "\n",
    "* Check data size -> Data size is too small.\n",
    "    * Use other cities' data as proxy cities.\n",
    "    * Proxy cities: Have high correlation in bloom_doy to Kyoto.\n",
    "\n",
    "* Identify the nearest NOAA weather stations for the proxy cities.\n",
    "\n",
    "* Download the weather data."
   ]
  },
  {
   "cell_type": "code",
   "execution_count": 1,
   "metadata": {
    "vscode": {
     "languageId": "r"
    }
   },
   "outputs": [
    {
     "name": "stderr",
     "output_type": "stream",
     "text": [
      "── \u001b[1mAttaching core tidyverse packages\u001b[22m ──────────────────────── tidyverse 2.0.0 ──\n",
      "\u001b[32m✔\u001b[39m \u001b[34mdplyr    \u001b[39m 1.1.1     \u001b[32m✔\u001b[39m \u001b[34mreadr    \u001b[39m 2.1.4\n",
      "\u001b[32m✔\u001b[39m \u001b[34mforcats  \u001b[39m 1.0.0     \u001b[32m✔\u001b[39m \u001b[34mstringr  \u001b[39m 1.5.0\n",
      "\u001b[32m✔\u001b[39m \u001b[34mggplot2  \u001b[39m 3.4.2     \u001b[32m✔\u001b[39m \u001b[34mtibble   \u001b[39m 3.2.1\n",
      "\u001b[32m✔\u001b[39m \u001b[34mlubridate\u001b[39m 1.9.2     \u001b[32m✔\u001b[39m \u001b[34mtidyr    \u001b[39m 1.3.0\n",
      "\u001b[32m✔\u001b[39m \u001b[34mpurrr    \u001b[39m 1.0.1     \n",
      "── \u001b[1mConflicts\u001b[22m ────────────────────────────────────────── tidyverse_conflicts() ──\n",
      "\u001b[31m✖\u001b[39m \u001b[34mdplyr\u001b[39m::\u001b[32mfilter()\u001b[39m masks \u001b[34mstats\u001b[39m::filter()\n",
      "\u001b[31m✖\u001b[39m \u001b[34mdplyr\u001b[39m::\u001b[32mlag()\u001b[39m    masks \u001b[34mstats\u001b[39m::lag()\n",
      "\u001b[36mℹ\u001b[39m Use the conflicted package (\u001b[3m\u001b[34m<http://conflicted.r-lib.org/>\u001b[39m\u001b[23m) to force all conflicts to become errors\n",
      "\n",
      "Attaching package: ‘mice’\n",
      "\n",
      "\n",
      "The following object is masked from ‘package:stats’:\n",
      "\n",
      "    filter\n",
      "\n",
      "\n",
      "The following objects are masked from ‘package:base’:\n",
      "\n",
      "    cbind, rbind\n",
      "\n",
      "\n"
     ]
    }
   ],
   "source": [
    "# Load necessary packages \n",
    "library(tidyverse)\n",
    "library(yaml)\n",
    "library(rnoaa)\n",
    "library(mice)\n",
    "\n",
    "configs <- read_yaml(\"./_config.yaml\") \n",
    "comp_data_dir <- configs$competition_data   # competition data\n",
    "data_dir <- configs$data_dir                # output data"
   ]
  },
  {
   "cell_type": "markdown",
   "metadata": {},
   "source": [
    "## 1a. Is the data large enough?\n",
    "\n",
    "To apply ML methods, we must have enough data size. \n",
    "\n",
    "Here, we check whether we have enough data for Kyoto."
   ]
  },
  {
   "cell_type": "code",
   "execution_count": 2,
   "metadata": {
    "vscode": {
     "languageId": "r"
    }
   },
   "outputs": [
    {
     "data": {
      "text/html": [
       "<table class=\"dataframe\">\n",
       "<caption>A data.frame: 6 × 7</caption>\n",
       "<thead>\n",
       "\t<tr><th></th><th scope=col>city</th><th scope=col>lat</th><th scope=col>long</th><th scope=col>alt</th><th scope=col>year</th><th scope=col>bloom_date</th><th scope=col>bloom_doy</th></tr>\n",
       "\t<tr><th></th><th scope=col>&lt;chr&gt;</th><th scope=col>&lt;dbl&gt;</th><th scope=col>&lt;dbl&gt;</th><th scope=col>&lt;int&gt;</th><th scope=col>&lt;int&gt;</th><th scope=col>&lt;date&gt;</th><th scope=col>&lt;int&gt;</th></tr>\n",
       "</thead>\n",
       "<tbody>\n",
       "\t<tr><th scope=row>1</th><td>Kyoto</td><td>35.01198</td><td>135.6761</td><td>44</td><td>812</td><td>812-04-01</td><td> 92</td></tr>\n",
       "\t<tr><th scope=row>2</th><td>Kyoto</td><td>35.01198</td><td>135.6761</td><td>44</td><td>815</td><td>815-04-15</td><td>105</td></tr>\n",
       "\t<tr><th scope=row>3</th><td>Kyoto</td><td>35.01198</td><td>135.6761</td><td>44</td><td>831</td><td>831-04-06</td><td> 96</td></tr>\n",
       "\t<tr><th scope=row>4</th><td>Kyoto</td><td>35.01198</td><td>135.6761</td><td>44</td><td>851</td><td>851-04-18</td><td>108</td></tr>\n",
       "\t<tr><th scope=row>5</th><td>Kyoto</td><td>35.01198</td><td>135.6761</td><td>44</td><td>853</td><td>853-04-14</td><td>104</td></tr>\n",
       "\t<tr><th scope=row>6</th><td>Kyoto</td><td>35.01198</td><td>135.6761</td><td>44</td><td>864</td><td>864-04-09</td><td>100</td></tr>\n",
       "</tbody>\n",
       "</table>\n"
      ],
      "text/latex": [
       "A data.frame: 6 × 7\n",
       "\\begin{tabular}{r|lllllll}\n",
       "  & city & lat & long & alt & year & bloom\\_date & bloom\\_doy\\\\\n",
       "  & <chr> & <dbl> & <dbl> & <int> & <int> & <date> & <int>\\\\\n",
       "\\hline\n",
       "\t1 & Kyoto & 35.01198 & 135.6761 & 44 & 812 & 812-04-01 &  92\\\\\n",
       "\t2 & Kyoto & 35.01198 & 135.6761 & 44 & 815 & 815-04-15 & 105\\\\\n",
       "\t3 & Kyoto & 35.01198 & 135.6761 & 44 & 831 & 831-04-06 &  96\\\\\n",
       "\t4 & Kyoto & 35.01198 & 135.6761 & 44 & 851 & 851-04-18 & 108\\\\\n",
       "\t5 & Kyoto & 35.01198 & 135.6761 & 44 & 853 & 853-04-14 & 104\\\\\n",
       "\t6 & Kyoto & 35.01198 & 135.6761 & 44 & 864 & 864-04-09 & 100\\\\\n",
       "\\end{tabular}\n"
      ],
      "text/markdown": [
       "\n",
       "A data.frame: 6 × 7\n",
       "\n",
       "| <!--/--> | city &lt;chr&gt; | lat &lt;dbl&gt; | long &lt;dbl&gt; | alt &lt;int&gt; | year &lt;int&gt; | bloom_date &lt;date&gt; | bloom_doy &lt;int&gt; |\n",
       "|---|---|---|---|---|---|---|---|\n",
       "| 1 | Kyoto | 35.01198 | 135.6761 | 44 | 812 | 812-04-01 |  92 |\n",
       "| 2 | Kyoto | 35.01198 | 135.6761 | 44 | 815 | 815-04-15 | 105 |\n",
       "| 3 | Kyoto | 35.01198 | 135.6761 | 44 | 831 | 831-04-06 |  96 |\n",
       "| 4 | Kyoto | 35.01198 | 135.6761 | 44 | 851 | 851-04-18 | 108 |\n",
       "| 5 | Kyoto | 35.01198 | 135.6761 | 44 | 853 | 853-04-14 | 104 |\n",
       "| 6 | Kyoto | 35.01198 | 135.6761 | 44 | 864 | 864-04-09 | 100 |\n",
       "\n"
      ],
      "text/plain": [
       "  city  lat      long     alt year bloom_date bloom_doy\n",
       "1 Kyoto 35.01198 135.6761 44  812  812-04-01   92      \n",
       "2 Kyoto 35.01198 135.6761 44  815  815-04-15  105      \n",
       "3 Kyoto 35.01198 135.6761 44  831  831-04-06   96      \n",
       "4 Kyoto 35.01198 135.6761 44  851  851-04-18  108      \n",
       "5 Kyoto 35.01198 135.6761 44  853  853-04-14  104      \n",
       "6 Kyoto 35.01198 135.6761 44  864  864-04-09  100      "
      ]
     },
     "metadata": {},
     "output_type": "display_data"
    },
    {
     "name": "stdout",
     "output_type": "stream",
     "text": [
      "[1] 835\n"
     ]
    }
   ],
   "source": [
    "kyoto <- read.csv(paste0(comp_data_dir, \"/kyoto.csv\")) %>%\n",
    "    rename(c(\"city\" = location)) %>%\n",
    "    mutate(bloom_date = as.Date(bloom_date, format = \"%Y-%m-%d\")) %>%\n",
    "    mutate(city = \"Kyoto\")\n",
    "head(kyoto)\n",
    "print(nrow(kyoto))"
   ]
  },
  {
   "cell_type": "markdown",
   "metadata": {},
   "source": [
    "For temperature-based analyses, we need historical temperature data, and to obtain them we need to find out where the closest NOAA weather station is to Kyoto."
   ]
  },
  {
   "cell_type": "code",
   "execution_count": 3,
   "metadata": {
    "vscode": {
     "languageId": "r"
    }
   },
   "outputs": [
    {
     "name": "stderr",
     "output_type": "stream",
     "text": [
      "using cached file: ~/.cache/R/noaa_ghcnd/ghcnd-stations.rds\n",
      "\n",
      "date created (size, mb): 2023-02-06 22:22:18 (2.228)\n",
      "\n",
      "using cached file: ~/.cache/R/noaa_ghcnd/ghcnd-inventory.rds\n",
      "\n",
      "date created (size, mb): 2023-02-07 23:34:57 (2.757)\n",
      "\n"
     ]
    },
    {
     "data": {
      "text/html": [
       "<table class=\"dataframe\">\n",
       "<caption>A tibble: 6 × 11</caption>\n",
       "<thead>\n",
       "\t<tr><th scope=col>id</th><th scope=col>latitude</th><th scope=col>longitude</th><th scope=col>elevation</th><th scope=col>state</th><th scope=col>name</th><th scope=col>gsn_flag</th><th scope=col>wmo_id</th><th scope=col>element</th><th scope=col>first_year</th><th scope=col>last_year</th></tr>\n",
       "\t<tr><th scope=col>&lt;chr&gt;</th><th scope=col>&lt;dbl&gt;</th><th scope=col>&lt;dbl&gt;</th><th scope=col>&lt;dbl&gt;</th><th scope=col>&lt;chr&gt;</th><th scope=col>&lt;chr&gt;</th><th scope=col>&lt;chr&gt;</th><th scope=col>&lt;chr&gt;</th><th scope=col>&lt;chr&gt;</th><th scope=col>&lt;int&gt;</th><th scope=col>&lt;int&gt;</th></tr>\n",
       "</thead>\n",
       "<tbody>\n",
       "\t<tr><td>JA000047401</td><td>45.417</td><td>141.683</td><td> 12</td><td></td><td>WAKKANAI    </td><td>GSN</td><td>47401</td><td>TMAX</td><td>1951</td><td>2022</td></tr>\n",
       "\t<tr><td>JA000047402</td><td>44.933</td><td>142.583</td><td>  8</td><td></td><td>KITAMIESASHI</td><td>   </td><td>47402</td><td>TMAX</td><td>1951</td><td>2023</td></tr>\n",
       "\t<tr><td>JA000047404</td><td>44.367</td><td>141.700</td><td> 10</td><td></td><td>HABORO      </td><td>   </td><td>47404</td><td>TMAX</td><td>1951</td><td>2023</td></tr>\n",
       "\t<tr><td>JA000047405</td><td>44.583</td><td>142.967</td><td> 15</td><td></td><td>OMU         </td><td>   </td><td>47405</td><td>TMAX</td><td>1951</td><td>2023</td></tr>\n",
       "\t<tr><td>JA000047406</td><td>43.950</td><td>141.633</td><td> 28</td><td></td><td>RUMOI       </td><td>   </td><td>47406</td><td>TMAX</td><td>1951</td><td>2023</td></tr>\n",
       "\t<tr><td>JA000047407</td><td>43.767</td><td>142.367</td><td>116</td><td></td><td>ASAHIKAWA   </td><td>   </td><td>47407</td><td>TMAX</td><td>1951</td><td>2022</td></tr>\n",
       "</tbody>\n",
       "</table>\n"
      ],
      "text/latex": [
       "A tibble: 6 × 11\n",
       "\\begin{tabular}{lllllllllll}\n",
       " id & latitude & longitude & elevation & state & name & gsn\\_flag & wmo\\_id & element & first\\_year & last\\_year\\\\\n",
       " <chr> & <dbl> & <dbl> & <dbl> & <chr> & <chr> & <chr> & <chr> & <chr> & <int> & <int>\\\\\n",
       "\\hline\n",
       "\t JA000047401 & 45.417 & 141.683 &  12 &  & WAKKANAI     & GSN & 47401 & TMAX & 1951 & 2022\\\\\n",
       "\t JA000047402 & 44.933 & 142.583 &   8 &  & KITAMIESASHI &     & 47402 & TMAX & 1951 & 2023\\\\\n",
       "\t JA000047404 & 44.367 & 141.700 &  10 &  & HABORO       &     & 47404 & TMAX & 1951 & 2023\\\\\n",
       "\t JA000047405 & 44.583 & 142.967 &  15 &  & OMU          &     & 47405 & TMAX & 1951 & 2023\\\\\n",
       "\t JA000047406 & 43.950 & 141.633 &  28 &  & RUMOI        &     & 47406 & TMAX & 1951 & 2023\\\\\n",
       "\t JA000047407 & 43.767 & 142.367 & 116 &  & ASAHIKAWA    &     & 47407 & TMAX & 1951 & 2022\\\\\n",
       "\\end{tabular}\n"
      ],
      "text/markdown": [
       "\n",
       "A tibble: 6 × 11\n",
       "\n",
       "| id &lt;chr&gt; | latitude &lt;dbl&gt; | longitude &lt;dbl&gt; | elevation &lt;dbl&gt; | state &lt;chr&gt; | name &lt;chr&gt; | gsn_flag &lt;chr&gt; | wmo_id &lt;chr&gt; | element &lt;chr&gt; | first_year &lt;int&gt; | last_year &lt;int&gt; |\n",
       "|---|---|---|---|---|---|---|---|---|---|---|\n",
       "| JA000047401 | 45.417 | 141.683 |  12 | <!----> | WAKKANAI     | GSN | 47401 | TMAX | 1951 | 2022 |\n",
       "| JA000047402 | 44.933 | 142.583 |   8 | <!----> | KITAMIESASHI | <!----> | 47402 | TMAX | 1951 | 2023 |\n",
       "| JA000047404 | 44.367 | 141.700 |  10 | <!----> | HABORO       | <!----> | 47404 | TMAX | 1951 | 2023 |\n",
       "| JA000047405 | 44.583 | 142.967 |  15 | <!----> | OMU          | <!----> | 47405 | TMAX | 1951 | 2023 |\n",
       "| JA000047406 | 43.950 | 141.633 |  28 | <!----> | RUMOI        | <!----> | 47406 | TMAX | 1951 | 2023 |\n",
       "| JA000047407 | 43.767 | 142.367 | 116 | <!----> | ASAHIKAWA    | <!----> | 47407 | TMAX | 1951 | 2022 |\n",
       "\n"
      ],
      "text/plain": [
       "  id          latitude longitude elevation state name         gsn_flag wmo_id\n",
       "1 JA000047401 45.417   141.683    12             WAKKANAI     GSN      47401 \n",
       "2 JA000047402 44.933   142.583     8             KITAMIESASHI          47402 \n",
       "3 JA000047404 44.367   141.700    10             HABORO                47404 \n",
       "4 JA000047405 44.583   142.967    15             OMU                   47405 \n",
       "5 JA000047406 43.950   141.633    28             RUMOI                 47406 \n",
       "6 JA000047407 43.767   142.367   116             ASAHIKAWA             47407 \n",
       "  element first_year last_year\n",
       "1 TMAX    1951       2022     \n",
       "2 TMAX    1951       2023     \n",
       "3 TMAX    1951       2023     \n",
       "4 TMAX    1951       2023     \n",
       "5 TMAX    1951       2023     \n",
       "6 TMAX    1951       2022     "
      ]
     },
     "metadata": {},
     "output_type": "display_data"
    }
   ],
   "source": [
    "# Pull the list of weather stations.\n",
    "weather_stations <- ghcnd_stations() %>%\n",
    "    filter(last_year %in% c(2022,2023)) %>%\n",
    "    distinct(id, .keep_all = TRUE) %>%\n",
    "    filter(str_sub(id, 1, 2) %in% c(\"JA\"))\n",
    "head(weather_stations)"
   ]
  },
  {
   "cell_type": "code",
   "execution_count": 4,
   "metadata": {
    "vscode": {
     "languageId": "r"
    }
   },
   "outputs": [
    {
     "data": {
      "text/html": [
       "<table class=\"dataframe\">\n",
       "<caption>A data.frame: 6 × 4</caption>\n",
       "<thead>\n",
       "\t<tr><th></th><th scope=col>city</th><th scope=col>lat</th><th scope=col>long</th><th scope=col>alt</th></tr>\n",
       "\t<tr><th></th><th scope=col>&lt;chr&gt;</th><th scope=col>&lt;dbl&gt;</th><th scope=col>&lt;dbl&gt;</th><th scope=col>&lt;dbl&gt;</th></tr>\n",
       "</thead>\n",
       "<tbody>\n",
       "\t<tr><th scope=row>1</th><td>Kyoto      </td><td>35.01198</td><td>135.6761</td><td>44</td></tr>\n",
       "\t<tr><th scope=row>2</th><td>JA000047401</td><td>45.41700</td><td>141.6830</td><td>12</td></tr>\n",
       "\t<tr><th scope=row>3</th><td>JA000047402</td><td>44.93300</td><td>142.5830</td><td> 8</td></tr>\n",
       "\t<tr><th scope=row>4</th><td>JA000047404</td><td>44.36700</td><td>141.7000</td><td>10</td></tr>\n",
       "\t<tr><th scope=row>5</th><td>JA000047405</td><td>44.58300</td><td>142.9670</td><td>15</td></tr>\n",
       "\t<tr><th scope=row>6</th><td>JA000047406</td><td>43.95000</td><td>141.6330</td><td>28</td></tr>\n",
       "</tbody>\n",
       "</table>\n"
      ],
      "text/latex": [
       "A data.frame: 6 × 4\n",
       "\\begin{tabular}{r|llll}\n",
       "  & city & lat & long & alt\\\\\n",
       "  & <chr> & <dbl> & <dbl> & <dbl>\\\\\n",
       "\\hline\n",
       "\t1 & Kyoto       & 35.01198 & 135.6761 & 44\\\\\n",
       "\t2 & JA000047401 & 45.41700 & 141.6830 & 12\\\\\n",
       "\t3 & JA000047402 & 44.93300 & 142.5830 &  8\\\\\n",
       "\t4 & JA000047404 & 44.36700 & 141.7000 & 10\\\\\n",
       "\t5 & JA000047405 & 44.58300 & 142.9670 & 15\\\\\n",
       "\t6 & JA000047406 & 43.95000 & 141.6330 & 28\\\\\n",
       "\\end{tabular}\n"
      ],
      "text/markdown": [
       "\n",
       "A data.frame: 6 × 4\n",
       "\n",
       "| <!--/--> | city &lt;chr&gt; | lat &lt;dbl&gt; | long &lt;dbl&gt; | alt &lt;dbl&gt; |\n",
       "|---|---|---|---|---|\n",
       "| 1 | Kyoto       | 35.01198 | 135.6761 | 44 |\n",
       "| 2 | JA000047401 | 45.41700 | 141.6830 | 12 |\n",
       "| 3 | JA000047402 | 44.93300 | 142.5830 |  8 |\n",
       "| 4 | JA000047404 | 44.36700 | 141.7000 | 10 |\n",
       "| 5 | JA000047405 | 44.58300 | 142.9670 | 15 |\n",
       "| 6 | JA000047406 | 43.95000 | 141.6330 | 28 |\n",
       "\n"
      ],
      "text/plain": [
       "  city        lat      long     alt\n",
       "1 Kyoto       35.01198 135.6761 44 \n",
       "2 JA000047401 45.41700 141.6830 12 \n",
       "3 JA000047402 44.93300 142.5830  8 \n",
       "4 JA000047404 44.36700 141.7000 10 \n",
       "5 JA000047405 44.58300 142.9670 15 \n",
       "6 JA000047406 43.95000 141.6330 28 "
      ]
     },
     "metadata": {},
     "output_type": "display_data"
    }
   ],
   "source": [
    "temp_station <- weather_stations %>%\n",
    "    mutate(lat = latitude) %>%\n",
    "    mutate(long = longitude) %>%\n",
    "    mutate(alt = elevation) %>%\n",
    "    rename_with(~\"city\", id) %>%\n",
    "    dplyr::select(city, lat, long, alt) %>%\n",
    "    data.frame()\n",
    "\n",
    "kyoto_stations <- rbind(kyoto[1, c(\"city\", \"lat\", \"long\", \"alt\")], temp_station)\n",
    "head(kyoto_stations)"
   ]
  },
  {
   "cell_type": "code",
   "execution_count": 5,
   "metadata": {
    "vscode": {
     "languageId": "r"
    }
   },
   "outputs": [
    {
     "data": {
      "text/html": [
       "<table class=\"dataframe\">\n",
       "<caption>A data.frame: 6 × 5</caption>\n",
       "<thead>\n",
       "\t<tr><th></th><th scope=col>city</th><th scope=col>lat</th><th scope=col>long</th><th scope=col>alt</th><th scope=col>dist</th></tr>\n",
       "\t<tr><th></th><th scope=col>&lt;chr&gt;</th><th scope=col>&lt;dbl&gt;</th><th scope=col>&lt;dbl&gt;</th><th scope=col>&lt;dbl&gt;</th><th scope=col>&lt;dbl&gt;</th></tr>\n",
       "</thead>\n",
       "<tbody>\n",
       "\t<tr><th scope=row>1</th><td>Kyoto      </td><td>35.01198</td><td>135.6761</td><td> 44</td><td>1.385135e-05</td></tr>\n",
       "\t<tr><th scope=row>2</th><td>JA000047759</td><td>35.01700</td><td>135.7330</td><td> 46</td><td>5.710730e-02</td></tr>\n",
       "\t<tr><th scope=row>3</th><td>JA000047780</td><td>34.70000</td><td>135.8330</td><td>106</td><td>3.492089e-01</td></tr>\n",
       "\t<tr><th scope=row>4</th><td>JAM00047772</td><td>34.68300</td><td>135.5170</td><td> 83</td><td>3.654408e-01</td></tr>\n",
       "\t<tr><th scope=row>5</th><td>JA000047649</td><td>34.76700</td><td>136.1500</td><td>161</td><td>5.334652e-01</td></tr>\n",
       "\t<tr><th scope=row>6</th><td>JA000047770</td><td>34.70000</td><td>135.2170</td><td> 30</td><td>5.550844e-01</td></tr>\n",
       "</tbody>\n",
       "</table>\n"
      ],
      "text/latex": [
       "A data.frame: 6 × 5\n",
       "\\begin{tabular}{r|lllll}\n",
       "  & city & lat & long & alt & dist\\\\\n",
       "  & <chr> & <dbl> & <dbl> & <dbl> & <dbl>\\\\\n",
       "\\hline\n",
       "\t1 & Kyoto       & 35.01198 & 135.6761 &  44 & 1.385135e-05\\\\\n",
       "\t2 & JA000047759 & 35.01700 & 135.7330 &  46 & 5.710730e-02\\\\\n",
       "\t3 & JA000047780 & 34.70000 & 135.8330 & 106 & 3.492089e-01\\\\\n",
       "\t4 & JAM00047772 & 34.68300 & 135.5170 &  83 & 3.654408e-01\\\\\n",
       "\t5 & JA000047649 & 34.76700 & 136.1500 & 161 & 5.334652e-01\\\\\n",
       "\t6 & JA000047770 & 34.70000 & 135.2170 &  30 & 5.550844e-01\\\\\n",
       "\\end{tabular}\n"
      ],
      "text/markdown": [
       "\n",
       "A data.frame: 6 × 5\n",
       "\n",
       "| <!--/--> | city &lt;chr&gt; | lat &lt;dbl&gt; | long &lt;dbl&gt; | alt &lt;dbl&gt; | dist &lt;dbl&gt; |\n",
       "|---|---|---|---|---|---|\n",
       "| 1 | Kyoto       | 35.01198 | 135.6761 |  44 | 1.385135e-05 |\n",
       "| 2 | JA000047759 | 35.01700 | 135.7330 |  46 | 5.710730e-02 |\n",
       "| 3 | JA000047780 | 34.70000 | 135.8330 | 106 | 3.492089e-01 |\n",
       "| 4 | JAM00047772 | 34.68300 | 135.5170 |  83 | 3.654408e-01 |\n",
       "| 5 | JA000047649 | 34.76700 | 136.1500 | 161 | 5.334652e-01 |\n",
       "| 6 | JA000047770 | 34.70000 | 135.2170 |  30 | 5.550844e-01 |\n",
       "\n"
      ],
      "text/plain": [
       "  city        lat      long     alt dist        \n",
       "1 Kyoto       35.01198 135.6761  44 1.385135e-05\n",
       "2 JA000047759 35.01700 135.7330  46 5.710730e-02\n",
       "3 JA000047780 34.70000 135.8330 106 3.492089e-01\n",
       "4 JAM00047772 34.68300 135.5170  83 3.654408e-01\n",
       "5 JA000047649 34.76700 136.1500 161 5.334652e-01\n",
       "6 JA000047770 34.70000 135.2170  30 5.550844e-01"
      ]
     },
     "metadata": {},
     "output_type": "display_data"
    }
   ],
   "source": [
    "# Compute the Euclidean distances between Kyoto and the stations.\n",
    "kyoto_stations$dist <- apply(kyoto_stations, MARGIN = 1, FUN = function(row){\n",
    "    geo = c(\"lat\", \"long\")\n",
    "    x = kyoto_stations[kyoto_stations$city == \"Kyoto\", geo]\n",
    "    y = row[geo]\n",
    "    dist = as.numeric(dist(rbind(x, y)))\n",
    "    return(dist)\n",
    "    })\n",
    "\n",
    "kyoto_stations %>% arrange(dist) %>% head()"
   ]
  },
  {
   "cell_type": "markdown",
   "metadata": {},
   "source": [
    "The station id that is closest to Kyoto is \"JA000047759\".\n",
    "\n",
    "Now, pull the weather data from NOAA."
   ]
  },
  {
   "cell_type": "code",
   "execution_count": 6,
   "metadata": {
    "vscode": {
     "languageId": "r"
    }
   },
   "outputs": [
    {
     "name": "stderr",
     "output_type": "stream",
     "text": [
      "using cached file: ~/.cache/R/noaa_ghcnd/JA000047401.dly\n",
      "\n",
      "date created (size, mb): 2023-02-18 19:46:08 (1.738)\n",
      "\n"
     ]
    },
    {
     "name": "stderr",
     "output_type": "stream",
     "text": [
      "file min/max dates: 1951-01-01 / 2022-10-31\n",
      "\n"
     ]
    },
    {
     "data": {
      "text/html": [
       "<table class=\"dataframe\">\n",
       "<caption>A tibble: 6 × 8</caption>\n",
       "<thead>\n",
       "\t<tr><th scope=col>id</th><th scope=col>date</th><th scope=col>tmax</th><th scope=col>tmin</th><th scope=col>prcp</th><th scope=col>year</th><th scope=col>month</th><th scope=col>day</th></tr>\n",
       "\t<tr><th scope=col>&lt;chr&gt;</th><th scope=col>&lt;date&gt;</th><th scope=col>&lt;dbl&gt;</th><th scope=col>&lt;dbl&gt;</th><th scope=col>&lt;dbl&gt;</th><th scope=col>&lt;chr&gt;</th><th scope=col>&lt;int&gt;</th><th scope=col>&lt;int&gt;</th></tr>\n",
       "</thead>\n",
       "<tbody>\n",
       "\t<tr><td>JA000047401</td><td>1951-01-01</td><td>-2.7</td><td> -7.1</td><td>2.5</td><td>1951</td><td>1</td><td>1</td></tr>\n",
       "\t<tr><td>JA000047401</td><td>1951-01-02</td><td>-6.3</td><td> -7.9</td><td>2.5</td><td>1951</td><td>1</td><td>2</td></tr>\n",
       "\t<tr><td>JA000047401</td><td>1951-01-03</td><td>-6.4</td><td> -8.9</td><td>1.6</td><td>1951</td><td>1</td><td>3</td></tr>\n",
       "\t<tr><td>JA000047401</td><td>1951-01-04</td><td>-8.1</td><td>-10.1</td><td>0.9</td><td>1951</td><td>1</td><td>4</td></tr>\n",
       "\t<tr><td>JA000047401</td><td>1951-01-05</td><td>-6.2</td><td> -9.6</td><td>3.0</td><td>1951</td><td>1</td><td>5</td></tr>\n",
       "\t<tr><td>JA000047401</td><td>1951-01-06</td><td>-7.3</td><td> -9.1</td><td>0.2</td><td>1951</td><td>1</td><td>6</td></tr>\n",
       "</tbody>\n",
       "</table>\n"
      ],
      "text/latex": [
       "A tibble: 6 × 8\n",
       "\\begin{tabular}{llllllll}\n",
       " id & date & tmax & tmin & prcp & year & month & day\\\\\n",
       " <chr> & <date> & <dbl> & <dbl> & <dbl> & <chr> & <int> & <int>\\\\\n",
       "\\hline\n",
       "\t JA000047401 & 1951-01-01 & -2.7 &  -7.1 & 2.5 & 1951 & 1 & 1\\\\\n",
       "\t JA000047401 & 1951-01-02 & -6.3 &  -7.9 & 2.5 & 1951 & 1 & 2\\\\\n",
       "\t JA000047401 & 1951-01-03 & -6.4 &  -8.9 & 1.6 & 1951 & 1 & 3\\\\\n",
       "\t JA000047401 & 1951-01-04 & -8.1 & -10.1 & 0.9 & 1951 & 1 & 4\\\\\n",
       "\t JA000047401 & 1951-01-05 & -6.2 &  -9.6 & 3.0 & 1951 & 1 & 5\\\\\n",
       "\t JA000047401 & 1951-01-06 & -7.3 &  -9.1 & 0.2 & 1951 & 1 & 6\\\\\n",
       "\\end{tabular}\n"
      ],
      "text/markdown": [
       "\n",
       "A tibble: 6 × 8\n",
       "\n",
       "| id &lt;chr&gt; | date &lt;date&gt; | tmax &lt;dbl&gt; | tmin &lt;dbl&gt; | prcp &lt;dbl&gt; | year &lt;chr&gt; | month &lt;int&gt; | day &lt;int&gt; |\n",
       "|---|---|---|---|---|---|---|---|\n",
       "| JA000047401 | 1951-01-01 | -2.7 |  -7.1 | 2.5 | 1951 | 1 | 1 |\n",
       "| JA000047401 | 1951-01-02 | -6.3 |  -7.9 | 2.5 | 1951 | 1 | 2 |\n",
       "| JA000047401 | 1951-01-03 | -6.4 |  -8.9 | 1.6 | 1951 | 1 | 3 |\n",
       "| JA000047401 | 1951-01-04 | -8.1 | -10.1 | 0.9 | 1951 | 1 | 4 |\n",
       "| JA000047401 | 1951-01-05 | -6.2 |  -9.6 | 3.0 | 1951 | 1 | 5 |\n",
       "| JA000047401 | 1951-01-06 | -7.3 |  -9.1 | 0.2 | 1951 | 1 | 6 |\n",
       "\n"
      ],
      "text/plain": [
       "  id          date       tmax tmin  prcp year month day\n",
       "1 JA000047401 1951-01-01 -2.7  -7.1 2.5  1951 1     1  \n",
       "2 JA000047401 1951-01-02 -6.3  -7.9 2.5  1951 1     2  \n",
       "3 JA000047401 1951-01-03 -6.4  -8.9 1.6  1951 1     3  \n",
       "4 JA000047401 1951-01-04 -8.1 -10.1 0.9  1951 1     4  \n",
       "5 JA000047401 1951-01-05 -6.2  -9.6 3.0  1951 1     5  \n",
       "6 JA000047401 1951-01-06 -7.3  -9.1 0.2  1951 1     6  "
      ]
     },
     "metadata": {},
     "output_type": "display_data"
    }
   ],
   "source": [
    "kyoto_id <- kyoto_stations[2, \"city\"]    # JA000047759\n",
    "\n",
    "kyoto_temp <- ghcnd_search(stationid = kyoto_id, var = c(\"TMAX\", \"TMIN\", \"PRCP\"), date_min = \"1900-01-01\", date_max = \"2024-05-30\") %>%\n",
    "    purrr::reduce(left_join, by = \"date\") %>%\n",
    "    dplyr::select(id.x, date, tmax, tmin, prcp) %>%\n",
    "    dplyr::rename_with(~ \"id\", id.x) %>%\n",
    "    mutate(tmax = tmax/10) %>%      # in C\n",
    "    mutate(tmin = tmin/10) %>%      # in C\n",
    "    mutate(prcp = prcp/10) %>%      # in mm\n",
    "    mutate(year = format(date, \"%Y\")) %>%\n",
    "    mutate(month = as.integer(strftime(date, '%m'))) %>%\n",
    "    mutate(day = as.integer(strftime(date, '%d')))\n",
    "head(kyoto_temp)"
   ]
  },
  {
   "cell_type": "markdown",
   "metadata": {},
   "source": [
    "The earliest possible year for analyses is 1951. Hence, trim the bloom data accordingly."
   ]
  },
  {
   "cell_type": "code",
   "execution_count": 7,
   "metadata": {
    "vscode": {
     "languageId": "r"
    }
   },
   "outputs": [
    {
     "name": "stdout",
     "output_type": "stream",
     "text": [
      "[1] 73  7\n"
     ]
    },
    {
     "data": {
      "text/html": [
       "<table class=\"dataframe\">\n",
       "<caption>A data.frame: 6 × 7</caption>\n",
       "<thead>\n",
       "\t<tr><th></th><th scope=col>city</th><th scope=col>lat</th><th scope=col>long</th><th scope=col>alt</th><th scope=col>year</th><th scope=col>bloom_date</th><th scope=col>bloom_doy</th></tr>\n",
       "\t<tr><th></th><th scope=col>&lt;chr&gt;</th><th scope=col>&lt;dbl&gt;</th><th scope=col>&lt;dbl&gt;</th><th scope=col>&lt;int&gt;</th><th scope=col>&lt;int&gt;</th><th scope=col>&lt;date&gt;</th><th scope=col>&lt;int&gt;</th></tr>\n",
       "</thead>\n",
       "<tbody>\n",
       "\t<tr><th scope=row>1</th><td>Kyoto</td><td>35.01198</td><td>135.6761</td><td>44</td><td>1951</td><td>1951-04-08</td><td> 98</td></tr>\n",
       "\t<tr><th scope=row>2</th><td>Kyoto</td><td>35.01198</td><td>135.6761</td><td>44</td><td>1952</td><td>1952-04-14</td><td>105</td></tr>\n",
       "\t<tr><th scope=row>3</th><td>Kyoto</td><td>35.01198</td><td>135.6761</td><td>44</td><td>1953</td><td>1953-04-11</td><td>101</td></tr>\n",
       "\t<tr><th scope=row>4</th><td>Kyoto</td><td>35.01198</td><td>135.6761</td><td>44</td><td>1954</td><td>1954-04-08</td><td> 98</td></tr>\n",
       "\t<tr><th scope=row>5</th><td>Kyoto</td><td>35.01198</td><td>135.6761</td><td>44</td><td>1955</td><td>1955-04-07</td><td> 97</td></tr>\n",
       "\t<tr><th scope=row>6</th><td>Kyoto</td><td>35.01198</td><td>135.6761</td><td>44</td><td>1956</td><td>1956-04-08</td><td> 99</td></tr>\n",
       "</tbody>\n",
       "</table>\n"
      ],
      "text/latex": [
       "A data.frame: 6 × 7\n",
       "\\begin{tabular}{r|lllllll}\n",
       "  & city & lat & long & alt & year & bloom\\_date & bloom\\_doy\\\\\n",
       "  & <chr> & <dbl> & <dbl> & <int> & <int> & <date> & <int>\\\\\n",
       "\\hline\n",
       "\t1 & Kyoto & 35.01198 & 135.6761 & 44 & 1951 & 1951-04-08 &  98\\\\\n",
       "\t2 & Kyoto & 35.01198 & 135.6761 & 44 & 1952 & 1952-04-14 & 105\\\\\n",
       "\t3 & Kyoto & 35.01198 & 135.6761 & 44 & 1953 & 1953-04-11 & 101\\\\\n",
       "\t4 & Kyoto & 35.01198 & 135.6761 & 44 & 1954 & 1954-04-08 &  98\\\\\n",
       "\t5 & Kyoto & 35.01198 & 135.6761 & 44 & 1955 & 1955-04-07 &  97\\\\\n",
       "\t6 & Kyoto & 35.01198 & 135.6761 & 44 & 1956 & 1956-04-08 &  99\\\\\n",
       "\\end{tabular}\n"
      ],
      "text/markdown": [
       "\n",
       "A data.frame: 6 × 7\n",
       "\n",
       "| <!--/--> | city &lt;chr&gt; | lat &lt;dbl&gt; | long &lt;dbl&gt; | alt &lt;int&gt; | year &lt;int&gt; | bloom_date &lt;date&gt; | bloom_doy &lt;int&gt; |\n",
       "|---|---|---|---|---|---|---|---|\n",
       "| 1 | Kyoto | 35.01198 | 135.6761 | 44 | 1951 | 1951-04-08 |  98 |\n",
       "| 2 | Kyoto | 35.01198 | 135.6761 | 44 | 1952 | 1952-04-14 | 105 |\n",
       "| 3 | Kyoto | 35.01198 | 135.6761 | 44 | 1953 | 1953-04-11 | 101 |\n",
       "| 4 | Kyoto | 35.01198 | 135.6761 | 44 | 1954 | 1954-04-08 |  98 |\n",
       "| 5 | Kyoto | 35.01198 | 135.6761 | 44 | 1955 | 1955-04-07 |  97 |\n",
       "| 6 | Kyoto | 35.01198 | 135.6761 | 44 | 1956 | 1956-04-08 |  99 |\n",
       "\n"
      ],
      "text/plain": [
       "  city  lat      long     alt year bloom_date bloom_doy\n",
       "1 Kyoto 35.01198 135.6761 44  1951 1951-04-08  98      \n",
       "2 Kyoto 35.01198 135.6761 44  1952 1952-04-14 105      \n",
       "3 Kyoto 35.01198 135.6761 44  1953 1953-04-11 101      \n",
       "4 Kyoto 35.01198 135.6761 44  1954 1954-04-08  98      \n",
       "5 Kyoto 35.01198 135.6761 44  1955 1955-04-07  97      \n",
       "6 Kyoto 35.01198 135.6761 44  1956 1956-04-08  99      "
      ]
     },
     "metadata": {},
     "output_type": "display_data"
    }
   ],
   "source": [
    "kyoto <- kyoto %>%\n",
    "    filter(year >= 1951) %>%\n",
    "    mutate(bloom_date = as.Date(bloom_date, format = \"%Y-%m-%d\"))\n",
    "print(dim(kyoto))\n",
    "head(kyoto)"
   ]
  },
  {
   "cell_type": "markdown",
   "metadata": {},
   "source": [
    "Now we have only 73 observed cherry blossom bloom days to work with, which is too small to train ML models.\n",
    "\n",
    "One way to increase data size is to bring data from other cities that are similar to Kyoto, namely the 'proxy' cities.\n",
    "\n",
    "Here, we define the proxies as the cities with high correlations to Kyoto in bloom_doy."
   ]
  },
  {
   "cell_type": "code",
   "execution_count": 8,
   "metadata": {
    "vscode": {
     "languageId": "r"
    }
   },
   "outputs": [],
   "source": [
    "# Load data\n",
    "japan <- read.csv(paste0(comp_data_dir, \"/japan.csv\")) %>%\n",
    "    mutate(city = str_split(location, pattern = \"/\", simplify = TRUE)[, 2]) %>%\n",
    "    filter(city != \"Kyoto\") %>%\n",
    "    dplyr::select(-location) %>%\n",
    "    relocate(city) %>%\n",
    "    mutate(bloom_date = as.Date(bloom_date, format = \"%Y-%m-%d\")) %>%\n",
    "    rbind(., kyoto)"
   ]
  },
  {
   "cell_type": "markdown",
   "metadata": {},
   "source": [
    "## 1b. Remove duplicated entries"
   ]
  },
  {
   "cell_type": "markdown",
   "metadata": {},
   "source": [
    "We noticed that some entries in the competition data are duplicated.\n",
    "\n",
    "Here, we identify them and eliminate them."
   ]
  },
  {
   "cell_type": "code",
   "execution_count": 9,
   "metadata": {
    "vscode": {
     "languageId": "r"
    }
   },
   "outputs": [
    {
     "name": "stderr",
     "output_type": "stream",
     "text": [
      "\u001b[1m\u001b[22m`summarise()` has grouped output by 'city'. You can override using the\n",
      "`.groups` argument.\n"
     ]
    },
    {
     "data": {
      "text/html": [
       "<table class=\"dataframe\">\n",
       "<caption>A grouped_df: 11 × 2</caption>\n",
       "<thead>\n",
       "\t<tr><th scope=col>city</th><th scope=col>n</th></tr>\n",
       "\t<tr><th scope=col>&lt;chr&gt;</th><th scope=col>&lt;int&gt;</th></tr>\n",
       "</thead>\n",
       "<tbody>\n",
       "\t<tr><td>Akita       </td><td>2</td></tr>\n",
       "\t<tr><td>Izuhara     </td><td>2</td></tr>\n",
       "\t<tr><td>Kochi       </td><td>2</td></tr>\n",
       "\t<tr><td>Kushiro     </td><td>2</td></tr>\n",
       "\t<tr><td>Muroran     </td><td>2</td></tr>\n",
       "\t<tr><td>Nagoya      </td><td>2</td></tr>\n",
       "\t<tr><td>Naze        </td><td>2</td></tr>\n",
       "\t<tr><td>Sendai      </td><td>2</td></tr>\n",
       "\t<tr><td>Shionomisaki</td><td>2</td></tr>\n",
       "\t<tr><td>Tottori     </td><td>2</td></tr>\n",
       "\t<tr><td>Yakushima   </td><td>2</td></tr>\n",
       "</tbody>\n",
       "</table>\n"
      ],
      "text/latex": [
       "A grouped\\_df: 11 × 2\n",
       "\\begin{tabular}{ll}\n",
       " city & n\\\\\n",
       " <chr> & <int>\\\\\n",
       "\\hline\n",
       "\t Akita        & 2\\\\\n",
       "\t Izuhara      & 2\\\\\n",
       "\t Kochi        & 2\\\\\n",
       "\t Kushiro      & 2\\\\\n",
       "\t Muroran      & 2\\\\\n",
       "\t Nagoya       & 2\\\\\n",
       "\t Naze         & 2\\\\\n",
       "\t Sendai       & 2\\\\\n",
       "\t Shionomisaki & 2\\\\\n",
       "\t Tottori      & 2\\\\\n",
       "\t Yakushima    & 2\\\\\n",
       "\\end{tabular}\n"
      ],
      "text/markdown": [
       "\n",
       "A grouped_df: 11 × 2\n",
       "\n",
       "| city &lt;chr&gt; | n &lt;int&gt; |\n",
       "|---|---|\n",
       "| Akita        | 2 |\n",
       "| Izuhara      | 2 |\n",
       "| Kochi        | 2 |\n",
       "| Kushiro      | 2 |\n",
       "| Muroran      | 2 |\n",
       "| Nagoya       | 2 |\n",
       "| Naze         | 2 |\n",
       "| Sendai       | 2 |\n",
       "| Shionomisaki | 2 |\n",
       "| Tottori      | 2 |\n",
       "| Yakushima    | 2 |\n",
       "\n"
      ],
      "text/plain": [
       "   city         n\n",
       "1  Akita        2\n",
       "2  Izuhara      2\n",
       "3  Kochi        2\n",
       "4  Kushiro      2\n",
       "5  Muroran      2\n",
       "6  Nagoya       2\n",
       "7  Naze         2\n",
       "8  Sendai       2\n",
       "9  Shionomisaki 2\n",
       "10 Tottori      2\n",
       "11 Yakushima    2"
      ]
     },
     "metadata": {},
     "output_type": "display_data"
    }
   ],
   "source": [
    "# Find cities with duplicate entries\n",
    "japan_dups <- japan %>% group_by(city, year) %>%\n",
    "    summarise(n = n()) %>%\n",
    "    filter(n >= 2) %>%\n",
    "    distinct(city, n)\n",
    "japan_dups"
   ]
  },
  {
   "cell_type": "code",
   "execution_count": 10,
   "metadata": {
    "vscode": {
     "languageId": "r"
    }
   },
   "outputs": [
    {
     "name": "stderr",
     "output_type": "stream",
     "text": [
      "\u001b[1m\u001b[22m`summarise()` has grouped output by 'city'. You can override using the\n",
      "`.groups` argument.\n"
     ]
    },
    {
     "data": {
      "text/html": [
       "<table class=\"dataframe\">\n",
       "<caption>A grouped_df: 0 × 2</caption>\n",
       "<thead>\n",
       "\t<tr><th scope=col>city</th><th scope=col>n</th></tr>\n",
       "\t<tr><th scope=col>&lt;chr&gt;</th><th scope=col>&lt;int&gt;</th></tr>\n",
       "</thead>\n",
       "<tbody>\n",
       "</tbody>\n",
       "</table>\n"
      ],
      "text/latex": [
       "A grouped\\_df: 0 × 2\n",
       "\\begin{tabular}{ll}\n",
       " city & n\\\\\n",
       " <chr> & <int>\\\\\n",
       "\\hline\n",
       "\\end{tabular}\n"
      ],
      "text/markdown": [
       "\n",
       "A grouped_df: 0 × 2\n",
       "\n",
       "| city &lt;chr&gt; | n &lt;int&gt; |\n",
       "|---|---|\n",
       "\n"
      ],
      "text/plain": [
       "     city n"
      ]
     },
     "metadata": {},
     "output_type": "display_data"
    },
    {
     "data": {
      "text/html": [
       "<table class=\"dataframe\">\n",
       "<caption>A data.frame: 6 × 7</caption>\n",
       "<thead>\n",
       "\t<tr><th></th><th scope=col>city</th><th scope=col>lat</th><th scope=col>long</th><th scope=col>alt</th><th scope=col>year</th><th scope=col>bloom_date</th><th scope=col>bloom_doy</th></tr>\n",
       "\t<tr><th></th><th scope=col>&lt;chr&gt;</th><th scope=col>&lt;dbl&gt;</th><th scope=col>&lt;dbl&gt;</th><th scope=col>&lt;dbl&gt;</th><th scope=col>&lt;int&gt;</th><th scope=col>&lt;date&gt;</th><th scope=col>&lt;int&gt;</th></tr>\n",
       "</thead>\n",
       "<tbody>\n",
       "\t<tr><th scope=row>1</th><td>Wakkanai</td><td>45.415</td><td>141.6789</td><td>2.85</td><td>1953</td><td>1953-05-30</td><td>150</td></tr>\n",
       "\t<tr><th scope=row>2</th><td>Wakkanai</td><td>45.415</td><td>141.6789</td><td>2.85</td><td>1954</td><td>1954-05-27</td><td>147</td></tr>\n",
       "\t<tr><th scope=row>3</th><td>Wakkanai</td><td>45.415</td><td>141.6789</td><td>2.85</td><td>1955</td><td>1955-05-23</td><td>143</td></tr>\n",
       "\t<tr><th scope=row>4</th><td>Wakkanai</td><td>45.415</td><td>141.6789</td><td>2.85</td><td>1956</td><td>1956-05-14</td><td>135</td></tr>\n",
       "\t<tr><th scope=row>5</th><td>Wakkanai</td><td>45.415</td><td>141.6789</td><td>2.85</td><td>1957</td><td>1957-05-22</td><td>142</td></tr>\n",
       "\t<tr><th scope=row>6</th><td>Wakkanai</td><td>45.415</td><td>141.6789</td><td>2.85</td><td>1958</td><td>1958-05-25</td><td>145</td></tr>\n",
       "</tbody>\n",
       "</table>\n"
      ],
      "text/latex": [
       "A data.frame: 6 × 7\n",
       "\\begin{tabular}{r|lllllll}\n",
       "  & city & lat & long & alt & year & bloom\\_date & bloom\\_doy\\\\\n",
       "  & <chr> & <dbl> & <dbl> & <dbl> & <int> & <date> & <int>\\\\\n",
       "\\hline\n",
       "\t1 & Wakkanai & 45.415 & 141.6789 & 2.85 & 1953 & 1953-05-30 & 150\\\\\n",
       "\t2 & Wakkanai & 45.415 & 141.6789 & 2.85 & 1954 & 1954-05-27 & 147\\\\\n",
       "\t3 & Wakkanai & 45.415 & 141.6789 & 2.85 & 1955 & 1955-05-23 & 143\\\\\n",
       "\t4 & Wakkanai & 45.415 & 141.6789 & 2.85 & 1956 & 1956-05-14 & 135\\\\\n",
       "\t5 & Wakkanai & 45.415 & 141.6789 & 2.85 & 1957 & 1957-05-22 & 142\\\\\n",
       "\t6 & Wakkanai & 45.415 & 141.6789 & 2.85 & 1958 & 1958-05-25 & 145\\\\\n",
       "\\end{tabular}\n"
      ],
      "text/markdown": [
       "\n",
       "A data.frame: 6 × 7\n",
       "\n",
       "| <!--/--> | city &lt;chr&gt; | lat &lt;dbl&gt; | long &lt;dbl&gt; | alt &lt;dbl&gt; | year &lt;int&gt; | bloom_date &lt;date&gt; | bloom_doy &lt;int&gt; |\n",
       "|---|---|---|---|---|---|---|---|\n",
       "| 1 | Wakkanai | 45.415 | 141.6789 | 2.85 | 1953 | 1953-05-30 | 150 |\n",
       "| 2 | Wakkanai | 45.415 | 141.6789 | 2.85 | 1954 | 1954-05-27 | 147 |\n",
       "| 3 | Wakkanai | 45.415 | 141.6789 | 2.85 | 1955 | 1955-05-23 | 143 |\n",
       "| 4 | Wakkanai | 45.415 | 141.6789 | 2.85 | 1956 | 1956-05-14 | 135 |\n",
       "| 5 | Wakkanai | 45.415 | 141.6789 | 2.85 | 1957 | 1957-05-22 | 142 |\n",
       "| 6 | Wakkanai | 45.415 | 141.6789 | 2.85 | 1958 | 1958-05-25 | 145 |\n",
       "\n"
      ],
      "text/plain": [
       "  city     lat    long     alt  year bloom_date bloom_doy\n",
       "1 Wakkanai 45.415 141.6789 2.85 1953 1953-05-30 150      \n",
       "2 Wakkanai 45.415 141.6789 2.85 1954 1954-05-27 147      \n",
       "3 Wakkanai 45.415 141.6789 2.85 1955 1955-05-23 143      \n",
       "4 Wakkanai 45.415 141.6789 2.85 1956 1956-05-14 135      \n",
       "5 Wakkanai 45.415 141.6789 2.85 1957 1957-05-22 142      \n",
       "6 Wakkanai 45.415 141.6789 2.85 1958 1958-05-25 145      "
      ]
     },
     "metadata": {},
     "output_type": "display_data"
    }
   ],
   "source": [
    "# Remove the duplicated entries from the japan data.\n",
    "\n",
    "# - Assign identifiers\n",
    "japan$identifier <- paste0(as.character(japan$city), as.character(japan$lat), as.character(japan$long), as.character(japan$alt))\n",
    "\n",
    "# - Create a unique list of cities, along with their identifiers.\n",
    "japan_cities <- japan %>%\n",
    "    dplyr::select(city, lat, long, alt) %>%\n",
    "    group_by(city, .drop = FALSE) %>%\n",
    "    filter(row_number(lat) == 1)\n",
    "japan_cities$identifier <- paste0(as.character(japan_cities$city), as.character(japan_cities$lat), as.character(japan_cities$long), as.character(japan_cities$alt))\n",
    "\n",
    "# - Extract distinct rows using the identifiers\n",
    "japan <- japan %>%\n",
    "    filter(identifier %in% japan_cities$identifier) %>%\n",
    "    dplyr::select(-identifier) %>%\n",
    "    distinct()\n",
    "\n",
    "# - Check dups again\n",
    "japan %>% group_by(city, year) %>%\n",
    "    summarise(n = n()) %>%\n",
    "    filter(n >= 2) %>%\n",
    "    distinct(city, n)\n",
    "head(japan)"
   ]
  },
  {
   "cell_type": "markdown",
   "metadata": {},
   "source": [
    "## 1c. Find proxy cities\n",
    "\n",
    "One way to increase data size is by incorporating data from other cities that are similar to Kyoto.\n",
    "\n",
    "Here, we define the proxy cities as where their bloom_doy are highly correlated ($R^2$) with Kyoto's."
   ]
  },
  {
   "cell_type": "code",
   "execution_count": 11,
   "metadata": {
    "vscode": {
     "languageId": "r"
    }
   },
   "outputs": [
    {
     "name": "stdout",
     "output_type": "stream",
     "text": [
      "[1] 43\n"
     ]
    },
    {
     "data": {
      "text/html": [
       "<table class=\"dataframe\">\n",
       "<caption>A data.frame: 6 × 5</caption>\n",
       "<thead>\n",
       "\t<tr><th></th><th scope=col>city</th><th scope=col>lat</th><th scope=col>long</th><th scope=col>alt</th><th scope=col>corr</th></tr>\n",
       "\t<tr><th></th><th scope=col>&lt;chr&gt;</th><th scope=col>&lt;dbl&gt;</th><th scope=col>&lt;dbl&gt;</th><th scope=col>&lt;dbl&gt;</th><th scope=col>&lt;dbl&gt;</th></tr>\n",
       "</thead>\n",
       "<tbody>\n",
       "\t<tr><th scope=row>1</th><td>Kyoto   </td><td>35.01198</td><td>135.6761</td><td> 44.00</td><td>1.0000000</td></tr>\n",
       "\t<tr><th scope=row>2</th><td>Nara    </td><td>34.69389</td><td>135.8278</td><td>104.40</td><td>0.9269058</td></tr>\n",
       "\t<tr><th scope=row>3</th><td>Okayama </td><td>34.68583</td><td>133.9253</td><td>  5.32</td><td>0.9249229</td></tr>\n",
       "\t<tr><th scope=row>4</th><td>Hikone  </td><td>35.27611</td><td>136.2439</td><td> 87.30</td><td>0.9191706</td></tr>\n",
       "\t<tr><th scope=row>5</th><td>Tottori </td><td>35.48778</td><td>134.2383</td><td>  7.10</td><td>0.9026952</td></tr>\n",
       "\t<tr><th scope=row>6</th><td>Maebashi</td><td>36.40528</td><td>139.0606</td><td>112.10</td><td>0.8982915</td></tr>\n",
       "</tbody>\n",
       "</table>\n"
      ],
      "text/latex": [
       "A data.frame: 6 × 5\n",
       "\\begin{tabular}{r|lllll}\n",
       "  & city & lat & long & alt & corr\\\\\n",
       "  & <chr> & <dbl> & <dbl> & <dbl> & <dbl>\\\\\n",
       "\\hline\n",
       "\t1 & Kyoto    & 35.01198 & 135.6761 &  44.00 & 1.0000000\\\\\n",
       "\t2 & Nara     & 34.69389 & 135.8278 & 104.40 & 0.9269058\\\\\n",
       "\t3 & Okayama  & 34.68583 & 133.9253 &   5.32 & 0.9249229\\\\\n",
       "\t4 & Hikone   & 35.27611 & 136.2439 &  87.30 & 0.9191706\\\\\n",
       "\t5 & Tottori  & 35.48778 & 134.2383 &   7.10 & 0.9026952\\\\\n",
       "\t6 & Maebashi & 36.40528 & 139.0606 & 112.10 & 0.8982915\\\\\n",
       "\\end{tabular}\n"
      ],
      "text/markdown": [
       "\n",
       "A data.frame: 6 × 5\n",
       "\n",
       "| <!--/--> | city &lt;chr&gt; | lat &lt;dbl&gt; | long &lt;dbl&gt; | alt &lt;dbl&gt; | corr &lt;dbl&gt; |\n",
       "|---|---|---|---|---|---|\n",
       "| 1 | Kyoto    | 35.01198 | 135.6761 |  44.00 | 1.0000000 |\n",
       "| 2 | Nara     | 34.69389 | 135.8278 | 104.40 | 0.9269058 |\n",
       "| 3 | Okayama  | 34.68583 | 133.9253 |   5.32 | 0.9249229 |\n",
       "| 4 | Hikone   | 35.27611 | 136.2439 |  87.30 | 0.9191706 |\n",
       "| 5 | Tottori  | 35.48778 | 134.2383 |   7.10 | 0.9026952 |\n",
       "| 6 | Maebashi | 36.40528 | 139.0606 | 112.10 | 0.8982915 |\n",
       "\n"
      ],
      "text/plain": [
       "  city     lat      long     alt    corr     \n",
       "1 Kyoto    35.01198 135.6761  44.00 1.0000000\n",
       "2 Nara     34.69389 135.8278 104.40 0.9269058\n",
       "3 Okayama  34.68583 133.9253   5.32 0.9249229\n",
       "4 Hikone   35.27611 136.2439  87.30 0.9191706\n",
       "5 Tottori  35.48778 134.2383   7.10 0.9026952\n",
       "6 Maebashi 36.40528 139.0606 112.10 0.8982915"
      ]
     },
     "metadata": {},
     "output_type": "display_data"
    }
   ],
   "source": [
    "japan_cities$corr <- apply(\n",
    "    japan_cities, MARGIN = 1\n",
    "    , FUN = function(row) {\n",
    "        if (row[\"city\"] == \"Kyoto\") {\n",
    "            return(1)\n",
    "        }\n",
    "\n",
    "        row_df <- japan[japan$city %in% c(\"Kyoto\", as.character(row[\"city\"])), c(\"year\", \"city\", \"bloom_doy\")] %>% \n",
    "            pivot_wider(names_from = \"city\", values_from = \"bloom_doy\") %>%\n",
    "            drop_na()\n",
    "        \n",
    "        x = row_df[, \"Kyoto\"]\n",
    "        y = row_df[, as.character(row[\"city\"])]\n",
    "        \n",
    "        city_cor = as.numeric(cor(x, y))\n",
    "        return(city_cor)\n",
    "    })\n",
    "\n",
    "# Pull those with R^2 > 0.8 to Kyoto.\n",
    "japan_tops <- japan_cities %>%\n",
    "    arrange(desc(corr)) %>%\n",
    "    dplyr::select(-identifier) %>%\n",
    "    filter(corr > 0.80) %>%\n",
    "    as.data.frame()\n",
    "\n",
    "# display(japan_tops)\n",
    "print(nrow(japan_tops))\n",
    "head(japan_tops)"
   ]
  },
  {
   "cell_type": "markdown",
   "metadata": {},
   "source": [
    "bloom_doy of 42 cities are highly correlated with that of Kyoto.\n",
    "\n",
    "Next, we find their closest weather stations, and pull their historical weather data."
   ]
  },
  {
   "cell_type": "code",
   "execution_count": 12,
   "metadata": {
    "vscode": {
     "languageId": "r"
    }
   },
   "outputs": [
    {
     "data": {
      "text/html": [
       "<table class=\"dataframe\">\n",
       "<caption>A data.frame: 6 × 3</caption>\n",
       "<thead>\n",
       "\t<tr><th></th><th scope=col>city</th><th scope=col>id</th><th scope=col>dist</th></tr>\n",
       "\t<tr><th></th><th scope=col>&lt;chr&gt;</th><th scope=col>&lt;chr&gt;</th><th scope=col>&lt;dbl&gt;</th></tr>\n",
       "</thead>\n",
       "<tbody>\n",
       "\t<tr><th scope=row>1</th><td>Utsunomiya</td><td>JA000047615</td><td>0.001361961</td></tr>\n",
       "\t<tr><th scope=row>2</th><td>Nagoya    </td><td>JA000047636</td><td>0.001640536</td></tr>\n",
       "\t<tr><th scope=row>3</th><td>Mito      </td><td>JA000047629</td><td>0.002163816</td></tr>\n",
       "\t<tr><th scope=row>4</th><td>Osaka     </td><td>JAM00047772</td><td>0.002302039</td></tr>\n",
       "\t<tr><th scope=row>5</th><td>Shirakawa </td><td>JA000047597</td><td>0.002403701</td></tr>\n",
       "\t<tr><th scope=row>6</th><td>Tsu       </td><td>JA000047651</td><td>0.002961690</td></tr>\n",
       "</tbody>\n",
       "</table>\n"
      ],
      "text/latex": [
       "A data.frame: 6 × 3\n",
       "\\begin{tabular}{r|lll}\n",
       "  & city & id & dist\\\\\n",
       "  & <chr> & <chr> & <dbl>\\\\\n",
       "\\hline\n",
       "\t1 & Utsunomiya & JA000047615 & 0.001361961\\\\\n",
       "\t2 & Nagoya     & JA000047636 & 0.001640536\\\\\n",
       "\t3 & Mito       & JA000047629 & 0.002163816\\\\\n",
       "\t4 & Osaka      & JAM00047772 & 0.002302039\\\\\n",
       "\t5 & Shirakawa  & JA000047597 & 0.002403701\\\\\n",
       "\t6 & Tsu        & JA000047651 & 0.002961690\\\\\n",
       "\\end{tabular}\n"
      ],
      "text/markdown": [
       "\n",
       "A data.frame: 6 × 3\n",
       "\n",
       "| <!--/--> | city &lt;chr&gt; | id &lt;chr&gt; | dist &lt;dbl&gt; |\n",
       "|---|---|---|---|\n",
       "| 1 | Utsunomiya | JA000047615 | 0.001361961 |\n",
       "| 2 | Nagoya     | JA000047636 | 0.001640536 |\n",
       "| 3 | Mito       | JA000047629 | 0.002163816 |\n",
       "| 4 | Osaka      | JAM00047772 | 0.002302039 |\n",
       "| 5 | Shirakawa  | JA000047597 | 0.002403701 |\n",
       "| 6 | Tsu        | JA000047651 | 0.002961690 |\n",
       "\n"
      ],
      "text/plain": [
       "  city       id          dist       \n",
       "1 Utsunomiya JA000047615 0.001361961\n",
       "2 Nagoya     JA000047636 0.001640536\n",
       "3 Mito       JA000047629 0.002163816\n",
       "4 Osaka      JAM00047772 0.002302039\n",
       "5 Shirakawa  JA000047597 0.002403701\n",
       "6 Tsu        JA000047651 0.002961690"
      ]
     },
     "metadata": {},
     "output_type": "display_data"
    }
   ],
   "source": [
    "cherry_sub = japan %>%\n",
    "    filter(city %in% japan_tops$city) %>%\n",
    "    mutate(bloom_date = as.Date(bloom_date, format = \"%Y-%m-%d\"))\n",
    "\n",
    "temp_df <- cherry_sub %>%\n",
    "    dplyr::select(city, lat, long, alt) %>%\n",
    "    data.frame()\n",
    "\n",
    "temp_station <- weather_stations %>%\n",
    "    mutate(lat = latitude) %>%\n",
    "    mutate(long = longitude) %>%\n",
    "    mutate(alt = elevation) %>%\n",
    "    rename_with(~\"city\", id) %>%\n",
    "    dplyr::select(city, lat, long, alt) %>%\n",
    "    data.frame()\n",
    "\n",
    "# Placeholder for the resulting pairs\n",
    "city_station_pair <- data.frame(\n",
    "    matrix(NA, nrow = 0, ncol = 3\n",
    "        , dimnames = list(NULL, c(\"city\", \"id\", \"dist\"))))\n",
    "\n",
    "target_cities <- unique(cherry_sub$city)\n",
    "\n",
    "for (c in seq_len(length(target_cities))) {\n",
    "    \n",
    "    skip_to_next <- 0\n",
    "    ct <- target_cities[c]\n",
    "    \n",
    "    # Replace any special characters in the city names\n",
    "    ct_converted <- str_replace(str_replace(str_replace(str_replace(ct, \"-\", \".\"), \" \", \".\"), \",\", \".\"), \"'\",\".\")\n",
    "    tryCatch(\n",
    "        {\n",
    "            # rbind the city's geographical features and the weather stations'.\n",
    "            temp_merged <- temp_df %>% \n",
    "                filter(city == ct) %>%\n",
    "                dplyr::select(city, lat, long, alt) %>%\n",
    "                distinct() %>%\n",
    "                rbind(., temp_station) %>%\n",
    "                data.frame(.)\n",
    "        \n",
    "            # Compute the Euclidean distance between the city and the stations.\n",
    "            temp_merged$dist <- apply(temp_merged, MARGIN = 1, FUN = function(row){\n",
    "                geo = c(\"lat\", \"long\")\n",
    "                x = temp_merged[temp_merged$city == ct, geo]\n",
    "                y = row[geo]\n",
    "                dist = as.numeric(dist(rbind(x, y)))\n",
    "                return(dist)\n",
    "                })\n",
    "            \n",
    "            # Sort the rows by ascending dist.\n",
    "            temp_merged <- temp_merged %>%\n",
    "                arrange(dist)\n",
    "\n",
    "            # The first row is the city itself. Select the second row as the closest weather station.        \n",
    "            station_id <- temp_merged[2, \"city\"]\n",
    "            station_dist <- temp_merged[2, \"dist\"]\n",
    "        }\n",
    "        \n",
    "        , error = function(e) skip_to_next <<-1\n",
    "    )\n",
    "    if (skip_to_next == 1) {\n",
    "        # If error, skip to the next city.\n",
    "        next\n",
    "    }\n",
    "\n",
    "    city_station_pair[nrow(city_station_pair) + 1, ] <- c(ct, station_id, station_dist)\n",
    "}\n",
    "city_station_pairs <- city_station_pair %>% \n",
    "    mutate(dist = as.numeric(dist)) %>%\n",
    "    filter(dist < 2) %>%   # Only include the pairs that are close enough.\n",
    "    arrange(dist) %>%\n",
    "    group_by(id) %>%\n",
    "    filter(row_number(id) == 1) %>%  # Remove any duplicated rows.\n",
    "    as.data.frame(.)\n",
    "\n",
    "head(city_station_pairs)"
   ]
  },
  {
   "cell_type": "code",
   "execution_count": 13,
   "metadata": {
    "vscode": {
     "languageId": "r"
    }
   },
   "outputs": [
    {
     "name": "stdout",
     "output_type": "stream",
     "text": [
      "[1] 42\n",
      "[1] 42\n"
     ]
    }
   ],
   "source": [
    "print(length(unique(city_station_pairs$city)))\n",
    "print(length(unique(city_station_pairs$id)))"
   ]
  },
  {
   "cell_type": "markdown",
   "metadata": {
    "vscode": {
     "languageId": "r"
    }
   },
   "source": [
    "In the weather data, there could some missing values.\n",
    "\n",
    "We impute the missing values using the 'pmm' method, provided in the mice package."
   ]
  },
  {
   "cell_type": "code",
   "execution_count": 14,
   "metadata": {
    "vscode": {
     "languageId": "r"
    }
   },
   "outputs": [],
   "source": [
    "# Define functions to pull (imputed if missing) temperature data\n",
    "F01_get_temperature <- function(stationid, date_min = \"1950-01-01\", date_max = \"2023-05-31\") {\n",
    "\n",
    "    dat <- ghcnd_search(stationid = stationid, var = c(\"TMAX\", \"TMIN\", \"PRCP\"), \n",
    "               date_min = date_min, date_max = date_max) %>%\n",
    "               purrr::reduce(left_join, by = \"date\") %>%\n",
    "               dplyr::select(id.x, date, tmax, tmin, prcp) %>%\n",
    "               dplyr::rename_with(~ \"id\", id.x) %>%\n",
    "               mutate(tmax = tmax/10) %>%      # in C\n",
    "               mutate(tmin = tmin/10) %>%      # in C\n",
    "               mutate(prcp = prcp/10) %>%      # in mm\n",
    "               mutate(year = format(date, \"%Y\")) %>%\n",
    "               mutate(month = as.integer(strftime(date, '%m'))) %>%\n",
    "               mutate(day = as.integer(strftime(date, '%d')))\n",
    "    \n",
    "    return(dat)\n",
    "}\n",
    "\n",
    "F01_get_imp_temperature <- function(city_station_pair, date_min = \"1950-01-01\", date_max = \"2023-05-31\", imp_method = \"pmm\") {\n",
    "\n",
    "    station_ids <- city_station_pair$id\n",
    "    city_temp_list <- list()\n",
    "\n",
    "    for (c in seq_len(length(station_ids))) {\n",
    "\n",
    "        skip_to_next <- 0\n",
    "        \n",
    "        temp_df <- tryCatch(\n",
    "            {F01_get_temperature(station_ids[c]\n",
    "            , date_min = date_min\n",
    "            , date_max = date_max)\n",
    "            }\n",
    "        , error = function(x) skip_to_next <<-1 )\n",
    "        \n",
    "        if (skip_to_next == 1 ){\n",
    "            next\n",
    "        }\n",
    "        # Impute missing data\n",
    "        # - check missing data\n",
    "        n_missing <- sum(is.na(temp_df[, c(\"tmax\", \"tmin\", \"prcp\")]))\n",
    "\n",
    "        if (n_missing > 0) {\n",
    "            tempData <- mice(temp_df, m = 3, method = imp_method)\n",
    "\n",
    "            # complete set\n",
    "            imputed_temp <- complete(tempData, 3)\n",
    "        \n",
    "        } else {\n",
    "            imputed_temp <- temp_df\n",
    "        }\n",
    "        city_temp_list[[c]] <- imputed_temp\n",
    "    }\n",
    "    out <- city_temp_list %>% bind_rows()\n",
    "    return(out)\n",
    "}\n"
   ]
  },
  {
   "cell_type": "code",
   "execution_count": 15,
   "metadata": {
    "vscode": {
     "languageId": "r"
    }
   },
   "outputs": [
    {
     "data": {
      "text/html": [
       "<table class=\"dataframe\">\n",
       "<caption>A data.frame: 6 × 8</caption>\n",
       "<thead>\n",
       "\t<tr><th></th><th scope=col>id</th><th scope=col>date</th><th scope=col>tmax</th><th scope=col>tmin</th><th scope=col>prcp</th><th scope=col>year</th><th scope=col>month</th><th scope=col>day</th></tr>\n",
       "\t<tr><th></th><th scope=col>&lt;chr&gt;</th><th scope=col>&lt;IDate&gt;</th><th scope=col>&lt;dbl&gt;</th><th scope=col>&lt;dbl&gt;</th><th scope=col>&lt;dbl&gt;</th><th scope=col>&lt;int&gt;</th><th scope=col>&lt;int&gt;</th><th scope=col>&lt;int&gt;</th></tr>\n",
       "</thead>\n",
       "<tbody>\n",
       "\t<tr><th scope=row>1</th><td>JA000047615</td><td>1951-01-01</td><td>6.4</td><td>-6.4</td><td>0</td><td>1951</td><td>1</td><td>1</td></tr>\n",
       "\t<tr><th scope=row>2</th><td>JA000047615</td><td>1951-01-02</td><td>5.0</td><td>-9.3</td><td>0</td><td>1951</td><td>1</td><td>2</td></tr>\n",
       "\t<tr><th scope=row>3</th><td>JA000047615</td><td>1951-01-03</td><td>5.8</td><td>-9.1</td><td>0</td><td>1951</td><td>1</td><td>3</td></tr>\n",
       "\t<tr><th scope=row>4</th><td>JA000047615</td><td>1951-01-04</td><td>6.9</td><td>-7.4</td><td>0</td><td>1951</td><td>1</td><td>4</td></tr>\n",
       "\t<tr><th scope=row>5</th><td>JA000047615</td><td>1951-01-05</td><td>8.2</td><td>-8.0</td><td>0</td><td>1951</td><td>1</td><td>5</td></tr>\n",
       "\t<tr><th scope=row>6</th><td>JA000047615</td><td>1951-01-06</td><td>5.6</td><td>-7.5</td><td>0</td><td>1951</td><td>1</td><td>6</td></tr>\n",
       "</tbody>\n",
       "</table>\n"
      ],
      "text/latex": [
       "A data.frame: 6 × 8\n",
       "\\begin{tabular}{r|llllllll}\n",
       "  & id & date & tmax & tmin & prcp & year & month & day\\\\\n",
       "  & <chr> & <IDate> & <dbl> & <dbl> & <dbl> & <int> & <int> & <int>\\\\\n",
       "\\hline\n",
       "\t1 & JA000047615 & 1951-01-01 & 6.4 & -6.4 & 0 & 1951 & 1 & 1\\\\\n",
       "\t2 & JA000047615 & 1951-01-02 & 5.0 & -9.3 & 0 & 1951 & 1 & 2\\\\\n",
       "\t3 & JA000047615 & 1951-01-03 & 5.8 & -9.1 & 0 & 1951 & 1 & 3\\\\\n",
       "\t4 & JA000047615 & 1951-01-04 & 6.9 & -7.4 & 0 & 1951 & 1 & 4\\\\\n",
       "\t5 & JA000047615 & 1951-01-05 & 8.2 & -8.0 & 0 & 1951 & 1 & 5\\\\\n",
       "\t6 & JA000047615 & 1951-01-06 & 5.6 & -7.5 & 0 & 1951 & 1 & 6\\\\\n",
       "\\end{tabular}\n"
      ],
      "text/markdown": [
       "\n",
       "A data.frame: 6 × 8\n",
       "\n",
       "| <!--/--> | id &lt;chr&gt; | date &lt;IDate&gt; | tmax &lt;dbl&gt; | tmin &lt;dbl&gt; | prcp &lt;dbl&gt; | year &lt;int&gt; | month &lt;int&gt; | day &lt;int&gt; |\n",
       "|---|---|---|---|---|---|---|---|---|\n",
       "| 1 | JA000047615 | 1951-01-01 | 6.4 | -6.4 | 0 | 1951 | 1 | 1 |\n",
       "| 2 | JA000047615 | 1951-01-02 | 5.0 | -9.3 | 0 | 1951 | 1 | 2 |\n",
       "| 3 | JA000047615 | 1951-01-03 | 5.8 | -9.1 | 0 | 1951 | 1 | 3 |\n",
       "| 4 | JA000047615 | 1951-01-04 | 6.9 | -7.4 | 0 | 1951 | 1 | 4 |\n",
       "| 5 | JA000047615 | 1951-01-05 | 8.2 | -8.0 | 0 | 1951 | 1 | 5 |\n",
       "| 6 | JA000047615 | 1951-01-06 | 5.6 | -7.5 | 0 | 1951 | 1 | 6 |\n",
       "\n"
      ],
      "text/plain": [
       "  id          date       tmax tmin prcp year month day\n",
       "1 JA000047615 1951-01-01 6.4  -6.4 0    1951 1     1  \n",
       "2 JA000047615 1951-01-02 5.0  -9.3 0    1951 1     2  \n",
       "3 JA000047615 1951-01-03 5.8  -9.1 0    1951 1     3  \n",
       "4 JA000047615 1951-01-04 6.9  -7.4 0    1951 1     4  \n",
       "5 JA000047615 1951-01-05 8.2  -8.0 0    1951 1     5  \n",
       "6 JA000047615 1951-01-06 5.6  -7.5 0    1951 1     6  "
      ]
     },
     "metadata": {},
     "output_type": "display_data"
    }
   ],
   "source": [
    "japan_temp_file = paste0(data_dir, \"/A11_japan_temperatures.csv\")\n",
    "\n",
    "if (file.exists(japan_temp_file)) {\n",
    "    cherry_temp_raw <- data.frame(data.table::fread(japan_temp_file))\n",
    "} else {\n",
    "    cherry_temp_raw <- F01_get_imp_temperature(\n",
    "    # pull weather data for the cities listed in city_station_pairs. Impute missing tmax, tmin, prcp\n",
    "    city_station_pairs\n",
    "    , date_max = \"2024-05-31\"\n",
    "    )\n",
    "    write.csv(cherry_temp_raw, paste0(data_dir, \"/A11_japan_temperatures.csv\"), row.names=FALSE)\n",
    "}\n",
    "\n",
    "head(cherry_temp_raw)"
   ]
  },
  {
   "cell_type": "code",
   "execution_count": 16,
   "metadata": {
    "vscode": {
     "languageId": "r"
    }
   },
   "outputs": [
    {
     "name": "stderr",
     "output_type": "stream",
     "text": [
      "\u001b[1m\u001b[22m`summarise()` has grouped output by 'id'. You can override using the `.groups`\n",
      "argument.\n"
     ]
    },
    {
     "data": {
      "text/html": [
       "<table class=\"dataframe\">\n",
       "<caption>A data.frame: 6 × 9</caption>\n",
       "<thead>\n",
       "\t<tr><th></th><th scope=col>city</th><th scope=col>year</th><th scope=col>id</th><th scope=col>n</th><th scope=col>bloom_doy</th><th scope=col>bloom_date</th><th scope=col>lat</th><th scope=col>long</th><th scope=col>alt</th></tr>\n",
       "\t<tr><th></th><th scope=col>&lt;chr&gt;</th><th scope=col>&lt;int&gt;</th><th scope=col>&lt;chr&gt;</th><th scope=col>&lt;int&gt;</th><th scope=col>&lt;int&gt;</th><th scope=col>&lt;date&gt;</th><th scope=col>&lt;dbl&gt;</th><th scope=col>&lt;dbl&gt;</th><th scope=col>&lt;dbl&gt;</th></tr>\n",
       "</thead>\n",
       "<tbody>\n",
       "\t<tr><th scope=row>1</th><td>Fukui</td><td>1953</td><td>JA000047616</td><td>365</td><td>102</td><td>1953-04-12</td><td>36.05556</td><td>136.2225</td><td>8.8</td></tr>\n",
       "\t<tr><th scope=row>2</th><td>Fukui</td><td>1954</td><td>JA000047616</td><td>365</td><td> 96</td><td>1954-04-06</td><td>36.05556</td><td>136.2225</td><td>8.8</td></tr>\n",
       "\t<tr><th scope=row>3</th><td>Fukui</td><td>1955</td><td>JA000047616</td><td>365</td><td> 99</td><td>1955-04-09</td><td>36.05556</td><td>136.2225</td><td>8.8</td></tr>\n",
       "\t<tr><th scope=row>4</th><td>Fukui</td><td>1956</td><td>JA000047616</td><td>366</td><td>105</td><td>1956-04-14</td><td>36.05556</td><td>136.2225</td><td>8.8</td></tr>\n",
       "\t<tr><th scope=row>5</th><td>Fukui</td><td>1957</td><td>JA000047616</td><td>365</td><td>107</td><td>1957-04-17</td><td>36.05556</td><td>136.2225</td><td>8.8</td></tr>\n",
       "\t<tr><th scope=row>6</th><td>Fukui</td><td>1958</td><td>JA000047616</td><td>365</td><td> 97</td><td>1958-04-07</td><td>36.05556</td><td>136.2225</td><td>8.8</td></tr>\n",
       "</tbody>\n",
       "</table>\n"
      ],
      "text/latex": [
       "A data.frame: 6 × 9\n",
       "\\begin{tabular}{r|lllllllll}\n",
       "  & city & year & id & n & bloom\\_doy & bloom\\_date & lat & long & alt\\\\\n",
       "  & <chr> & <int> & <chr> & <int> & <int> & <date> & <dbl> & <dbl> & <dbl>\\\\\n",
       "\\hline\n",
       "\t1 & Fukui & 1953 & JA000047616 & 365 & 102 & 1953-04-12 & 36.05556 & 136.2225 & 8.8\\\\\n",
       "\t2 & Fukui & 1954 & JA000047616 & 365 &  96 & 1954-04-06 & 36.05556 & 136.2225 & 8.8\\\\\n",
       "\t3 & Fukui & 1955 & JA000047616 & 365 &  99 & 1955-04-09 & 36.05556 & 136.2225 & 8.8\\\\\n",
       "\t4 & Fukui & 1956 & JA000047616 & 366 & 105 & 1956-04-14 & 36.05556 & 136.2225 & 8.8\\\\\n",
       "\t5 & Fukui & 1957 & JA000047616 & 365 & 107 & 1957-04-17 & 36.05556 & 136.2225 & 8.8\\\\\n",
       "\t6 & Fukui & 1958 & JA000047616 & 365 &  97 & 1958-04-07 & 36.05556 & 136.2225 & 8.8\\\\\n",
       "\\end{tabular}\n"
      ],
      "text/markdown": [
       "\n",
       "A data.frame: 6 × 9\n",
       "\n",
       "| <!--/--> | city &lt;chr&gt; | year &lt;int&gt; | id &lt;chr&gt; | n &lt;int&gt; | bloom_doy &lt;int&gt; | bloom_date &lt;date&gt; | lat &lt;dbl&gt; | long &lt;dbl&gt; | alt &lt;dbl&gt; |\n",
       "|---|---|---|---|---|---|---|---|---|---|\n",
       "| 1 | Fukui | 1953 | JA000047616 | 365 | 102 | 1953-04-12 | 36.05556 | 136.2225 | 8.8 |\n",
       "| 2 | Fukui | 1954 | JA000047616 | 365 |  96 | 1954-04-06 | 36.05556 | 136.2225 | 8.8 |\n",
       "| 3 | Fukui | 1955 | JA000047616 | 365 |  99 | 1955-04-09 | 36.05556 | 136.2225 | 8.8 |\n",
       "| 4 | Fukui | 1956 | JA000047616 | 366 | 105 | 1956-04-14 | 36.05556 | 136.2225 | 8.8 |\n",
       "| 5 | Fukui | 1957 | JA000047616 | 365 | 107 | 1957-04-17 | 36.05556 | 136.2225 | 8.8 |\n",
       "| 6 | Fukui | 1958 | JA000047616 | 365 |  97 | 1958-04-07 | 36.05556 | 136.2225 | 8.8 |\n",
       "\n"
      ],
      "text/plain": [
       "  city  year id          n   bloom_doy bloom_date lat      long     alt\n",
       "1 Fukui 1953 JA000047616 365 102       1953-04-12 36.05556 136.2225 8.8\n",
       "2 Fukui 1954 JA000047616 365  96       1954-04-06 36.05556 136.2225 8.8\n",
       "3 Fukui 1955 JA000047616 365  99       1955-04-09 36.05556 136.2225 8.8\n",
       "4 Fukui 1956 JA000047616 366 105       1956-04-14 36.05556 136.2225 8.8\n",
       "5 Fukui 1957 JA000047616 365 107       1957-04-17 36.05556 136.2225 8.8\n",
       "6 Fukui 1958 JA000047616 365  97       1958-04-07 36.05556 136.2225 8.8"
      ]
     },
     "metadata": {},
     "output_type": "display_data"
    }
   ],
   "source": [
    "# Exclude years which do not have temperature data for the entire year.\n",
    "cherry_temp_n <- cherry_temp_raw %>%\n",
    "    group_by(id, year) %>%\n",
    "    summarise(n = n()) %>%\n",
    "    filter(n >=365) %>%\n",
    "    merge(y = city_station_pairs[, c(\"id\", \"city\")], by = \"id\", how = \"inner\") %>%\n",
    "    merge(y = cherry_sub[, c(\"city\", \"year\", \"bloom_doy\", \"bloom_date\", \"lat\", \"long\", \"alt\")], by = c(\"city\", \"year\"), how = \"inner\") %>%\n",
    "    mutate(bloom_date = as.Date(bloom_date, format = \"%Y-%m-%d\"))\n",
    "\n",
    "head(cherry_temp_n)"
   ]
  },
  {
   "cell_type": "code",
   "execution_count": 17,
   "metadata": {
    "vscode": {
     "languageId": "r"
    }
   },
   "outputs": [
    {
     "data": {
      "text/html": [
       "<table class=\"dataframe\">\n",
       "<caption>A data.frame: 6 × 14</caption>\n",
       "<thead>\n",
       "\t<tr><th></th><th scope=col>id</th><th scope=col>year</th><th scope=col>date</th><th scope=col>tmax</th><th scope=col>tmin</th><th scope=col>prcp</th><th scope=col>month</th><th scope=col>day</th><th scope=col>city</th><th scope=col>bloom_doy</th><th scope=col>bloom_date</th><th scope=col>lat</th><th scope=col>long</th><th scope=col>alt</th></tr>\n",
       "\t<tr><th></th><th scope=col>&lt;chr&gt;</th><th scope=col>&lt;int&gt;</th><th scope=col>&lt;date&gt;</th><th scope=col>&lt;dbl&gt;</th><th scope=col>&lt;dbl&gt;</th><th scope=col>&lt;dbl&gt;</th><th scope=col>&lt;int&gt;</th><th scope=col>&lt;int&gt;</th><th scope=col>&lt;chr&gt;</th><th scope=col>&lt;int&gt;</th><th scope=col>&lt;date&gt;</th><th scope=col>&lt;dbl&gt;</th><th scope=col>&lt;dbl&gt;</th><th scope=col>&lt;dbl&gt;</th></tr>\n",
       "</thead>\n",
       "<tbody>\n",
       "\t<tr><th scope=row>1</th><td>JA000047587</td><td>1971</td><td>1971-01-01</td><td>5.0</td><td> 0.7</td><td>10.5</td><td>1</td><td>1</td><td>Sakata</td><td>114</td><td>1971-04-24</td><td>38.90861</td><td>139.8433</td><td>3.14</td></tr>\n",
       "\t<tr><th scope=row>2</th><td>JA000047587</td><td>1971</td><td>1971-01-02</td><td>4.1</td><td>-0.9</td><td> 1.0</td><td>1</td><td>2</td><td>Sakata</td><td>114</td><td>1971-04-24</td><td>38.90861</td><td>139.8433</td><td>3.14</td></tr>\n",
       "\t<tr><th scope=row>3</th><td>JA000047587</td><td>1971</td><td>1971-01-03</td><td>1.9</td><td>-2.7</td><td> 0.0</td><td>1</td><td>3</td><td>Sakata</td><td>114</td><td>1971-04-24</td><td>38.90861</td><td>139.8433</td><td>3.14</td></tr>\n",
       "\t<tr><th scope=row>4</th><td>JA000047587</td><td>1971</td><td>1971-01-04</td><td>5.3</td><td> 0.1</td><td> 6.5</td><td>1</td><td>4</td><td>Sakata</td><td>114</td><td>1971-04-24</td><td>38.90861</td><td>139.8433</td><td>3.14</td></tr>\n",
       "\t<tr><th scope=row>5</th><td>JA000047587</td><td>1971</td><td>1971-01-05</td><td>2.6</td><td>-3.5</td><td>12.5</td><td>1</td><td>5</td><td>Sakata</td><td>114</td><td>1971-04-24</td><td>38.90861</td><td>139.8433</td><td>3.14</td></tr>\n",
       "\t<tr><th scope=row>6</th><td>JA000047587</td><td>1971</td><td>1971-01-06</td><td>2.3</td><td>-4.1</td><td> 2.5</td><td>1</td><td>6</td><td>Sakata</td><td>114</td><td>1971-04-24</td><td>38.90861</td><td>139.8433</td><td>3.14</td></tr>\n",
       "</tbody>\n",
       "</table>\n"
      ],
      "text/latex": [
       "A data.frame: 6 × 14\n",
       "\\begin{tabular}{r|llllllllllllll}\n",
       "  & id & year & date & tmax & tmin & prcp & month & day & city & bloom\\_doy & bloom\\_date & lat & long & alt\\\\\n",
       "  & <chr> & <int> & <date> & <dbl> & <dbl> & <dbl> & <int> & <int> & <chr> & <int> & <date> & <dbl> & <dbl> & <dbl>\\\\\n",
       "\\hline\n",
       "\t1 & JA000047587 & 1971 & 1971-01-01 & 5.0 &  0.7 & 10.5 & 1 & 1 & Sakata & 114 & 1971-04-24 & 38.90861 & 139.8433 & 3.14\\\\\n",
       "\t2 & JA000047587 & 1971 & 1971-01-02 & 4.1 & -0.9 &  1.0 & 1 & 2 & Sakata & 114 & 1971-04-24 & 38.90861 & 139.8433 & 3.14\\\\\n",
       "\t3 & JA000047587 & 1971 & 1971-01-03 & 1.9 & -2.7 &  0.0 & 1 & 3 & Sakata & 114 & 1971-04-24 & 38.90861 & 139.8433 & 3.14\\\\\n",
       "\t4 & JA000047587 & 1971 & 1971-01-04 & 5.3 &  0.1 &  6.5 & 1 & 4 & Sakata & 114 & 1971-04-24 & 38.90861 & 139.8433 & 3.14\\\\\n",
       "\t5 & JA000047587 & 1971 & 1971-01-05 & 2.6 & -3.5 & 12.5 & 1 & 5 & Sakata & 114 & 1971-04-24 & 38.90861 & 139.8433 & 3.14\\\\\n",
       "\t6 & JA000047587 & 1971 & 1971-01-06 & 2.3 & -4.1 &  2.5 & 1 & 6 & Sakata & 114 & 1971-04-24 & 38.90861 & 139.8433 & 3.14\\\\\n",
       "\\end{tabular}\n"
      ],
      "text/markdown": [
       "\n",
       "A data.frame: 6 × 14\n",
       "\n",
       "| <!--/--> | id &lt;chr&gt; | year &lt;int&gt; | date &lt;date&gt; | tmax &lt;dbl&gt; | tmin &lt;dbl&gt; | prcp &lt;dbl&gt; | month &lt;int&gt; | day &lt;int&gt; | city &lt;chr&gt; | bloom_doy &lt;int&gt; | bloom_date &lt;date&gt; | lat &lt;dbl&gt; | long &lt;dbl&gt; | alt &lt;dbl&gt; |\n",
       "|---|---|---|---|---|---|---|---|---|---|---|---|---|---|---|\n",
       "| 1 | JA000047587 | 1971 | 1971-01-01 | 5.0 |  0.7 | 10.5 | 1 | 1 | Sakata | 114 | 1971-04-24 | 38.90861 | 139.8433 | 3.14 |\n",
       "| 2 | JA000047587 | 1971 | 1971-01-02 | 4.1 | -0.9 |  1.0 | 1 | 2 | Sakata | 114 | 1971-04-24 | 38.90861 | 139.8433 | 3.14 |\n",
       "| 3 | JA000047587 | 1971 | 1971-01-03 | 1.9 | -2.7 |  0.0 | 1 | 3 | Sakata | 114 | 1971-04-24 | 38.90861 | 139.8433 | 3.14 |\n",
       "| 4 | JA000047587 | 1971 | 1971-01-04 | 5.3 |  0.1 |  6.5 | 1 | 4 | Sakata | 114 | 1971-04-24 | 38.90861 | 139.8433 | 3.14 |\n",
       "| 5 | JA000047587 | 1971 | 1971-01-05 | 2.6 | -3.5 | 12.5 | 1 | 5 | Sakata | 114 | 1971-04-24 | 38.90861 | 139.8433 | 3.14 |\n",
       "| 6 | JA000047587 | 1971 | 1971-01-06 | 2.3 | -4.1 |  2.5 | 1 | 6 | Sakata | 114 | 1971-04-24 | 38.90861 | 139.8433 | 3.14 |\n",
       "\n"
      ],
      "text/plain": [
       "  id          year date       tmax tmin prcp month day city   bloom_doy\n",
       "1 JA000047587 1971 1971-01-01 5.0   0.7 10.5 1     1   Sakata 114      \n",
       "2 JA000047587 1971 1971-01-02 4.1  -0.9  1.0 1     2   Sakata 114      \n",
       "3 JA000047587 1971 1971-01-03 1.9  -2.7  0.0 1     3   Sakata 114      \n",
       "4 JA000047587 1971 1971-01-04 5.3   0.1  6.5 1     4   Sakata 114      \n",
       "5 JA000047587 1971 1971-01-05 2.6  -3.5 12.5 1     5   Sakata 114      \n",
       "6 JA000047587 1971 1971-01-06 2.3  -4.1  2.5 1     6   Sakata 114      \n",
       "  bloom_date lat      long     alt \n",
       "1 1971-04-24 38.90861 139.8433 3.14\n",
       "2 1971-04-24 38.90861 139.8433 3.14\n",
       "3 1971-04-24 38.90861 139.8433 3.14\n",
       "4 1971-04-24 38.90861 139.8433 3.14\n",
       "5 1971-04-24 38.90861 139.8433 3.14\n",
       "6 1971-04-24 38.90861 139.8433 3.14"
      ]
     },
     "metadata": {},
     "output_type": "display_data"
    }
   ],
   "source": [
    "# Extract id and year pairs from cherry_temp_raw that are included in cherry_temp_n\n",
    "cherry_temp <- cherry_temp_raw %>%\n",
    "    merge(y = cherry_temp_n[, c(\"id\", \"year\", \"city\", \"bloom_doy\", \"bloom_date\", \"lat\", \"long\", \"alt\")], by = c(\"id\", \"year\"), all.x = TRUE) %>%\n",
    "    drop_na(city) %>%\n",
    "    mutate(date = as.Date(date, format = \"%Y-%m-%d\")) %>%\n",
    "    mutate(bloom_date = as.Date(bloom_date, format = \"%Y-%m-%d\")) %>%\n",
    "    arrange(id, date)\n",
    "    \n",
    "head(cherry_temp)"
   ]
  },
  {
   "cell_type": "code",
   "execution_count": 18,
   "metadata": {
    "vscode": {
     "languageId": "r"
    }
   },
   "outputs": [],
   "source": [
    "# Save the japan temperature data\n",
    "write.csv(cherry_temp, paste0(data_dir, \"/A11_japan_temperatures2.csv\"), row.names = FALSE)"
   ]
  },
  {
   "cell_type": "markdown",
   "metadata": {},
   "source": [
    "## 1d. Repeat the procedure for Liestal"
   ]
  },
  {
   "cell_type": "code",
   "execution_count": 19,
   "metadata": {
    "vscode": {
     "languageId": "r"
    }
   },
   "outputs": [
    {
     "name": "stderr",
     "output_type": "stream",
     "text": [
      "using cached file: ~/.cache/R/noaa_ghcnd/ghcnd-stations.rds\n",
      "\n",
      "date created (size, mb): 2023-02-06 22:22:18 (2.228)\n",
      "\n"
     ]
    },
    {
     "name": "stderr",
     "output_type": "stream",
     "text": [
      "using cached file: ~/.cache/R/noaa_ghcnd/ghcnd-inventory.rds\n",
      "\n",
      "date created (size, mb): 2023-02-07 23:34:57 (2.757)\n",
      "\n"
     ]
    }
   ],
   "source": [
    "Liestal <- read.csv(paste0(comp_data_dir, \"/liestal.csv\")) %>%\n",
    "    rename(c(\"city\" = location)) %>%\n",
    "    mutate(bloom_date = as.Date(bloom_date, format = \"%Y-%m-%d\")) %>%\n",
    "    mutate(city = \"Liestal\")\n",
    "min_year <- min(Liestal$year)\n",
    "# head(liestal)\n",
    "# print(nrow(liestal))\n",
    "\n",
    "# Pull the list of weather stations.\n",
    "# - Switzerland is close to Germany, so pull both SZ, GM, and FR data\n",
    "weather_stations <- ghcnd_stations() %>%\n",
    "    filter(last_year %in% c(2022,2023, 2024)) %>%\n",
    "    distinct(id, .keep_all = TRUE) %>%\n",
    "    filter(str_sub(id, 1, 2) %in% c(\"SZ\", \"GM\", \"FR\"))\n",
    "# head(weather_stations)\n",
    "\n",
    "temp_station <- weather_stations %>%\n",
    "    mutate(lat = latitude) %>%\n",
    "    mutate(long = longitude) %>%\n",
    "    mutate(alt = elevation) %>%\n",
    "    rename_with(~\"city\", id) %>%\n",
    "    dplyr::select(city, lat, long, alt) %>%\n",
    "    data.frame()\n",
    "\n",
    "Liestal_stations <- rbind(Liestal[1, c(\"city\", \"lat\", \"long\", \"alt\")], temp_station)\n",
    "# head(Liestal_stations)\n",
    "\n",
    "# Compute the Euclidean distances between Liestal and the stations.\n",
    "Liestal_stations$dist <- apply(Liestal_stations, MARGIN = 1, FUN = function(row){\n",
    "    geo = c(\"lat\", \"long\", \"alt\")\n",
    "    x = Liestal_stations[Liestal_stations$city == \"Liestal\", geo]\n",
    "    y = row[geo]\n",
    "    dist = as.numeric(dist(rbind(x, y)))\n",
    "    return(dist)\n",
    "    })\n"
   ]
  },
  {
   "cell_type": "code",
   "execution_count": 20,
   "metadata": {
    "vscode": {
     "languageId": "r"
    }
   },
   "outputs": [
    {
     "name": "stderr",
     "output_type": "stream",
     "text": [
      "using cached file: ~/.cache/R/noaa_ghcnd/GME00127786.dly\n",
      "\n",
      "date created (size, mb): 2023-02-06 22:23:42 (1.573)\n",
      "\n"
     ]
    },
    {
     "name": "stderr",
     "output_type": "stream",
     "text": [
      "file min/max dates: 1953-09-01 / 2022-10-31\n",
      "\n"
     ]
    }
   ],
   "source": [
    "# Liestal_stations %>% arrange(dist) %>% head()\n",
    "Liestal_id <- \"GME00127786\"\n",
    "Liestal_stations[Liestal_stations$city == \"Liestal\", \"id\"] <- Liestal_id\n",
    "Liestal_temp <- ghcnd_search(stationid = Liestal_id, var = c(\"TMAX\", \"TMIN\", \"PRCP\"), date_min = min_year, date_max = \"2024-05-30\") %>%\n",
    "    purrr::reduce(left_join, by = \"date\") %>%\n",
    "    dplyr::select(id.x, date, tmax, tmin, prcp) %>%\n",
    "    dplyr::rename_with(~ \"id\", id.x) %>%\n",
    "    mutate(tmax = tmax/10) %>%      # in C\n",
    "    mutate(tmin = tmin/10) %>%      # in C\n",
    "    mutate(prcp = prcp/10) %>%      # in mm\n",
    "    mutate(year = format(date, \"%Y\")) %>%\n",
    "    mutate(month = as.integer(strftime(date, '%m'))) %>%\n",
    "    mutate(day = as.integer(strftime(date, '%d')))\n",
    "\n",
    "# head(Liestal_temp)\n",
    "Liestal <- Liestal %>%\n",
    "    filter(year >= min_year)\n",
    "# print(dim(Liestal))"
   ]
  },
  {
   "cell_type": "code",
   "execution_count": 21,
   "metadata": {
    "vscode": {
     "languageId": "r"
    }
   },
   "outputs": [
    {
     "data": {
      "text/html": [
       "<table class=\"dataframe\">\n",
       "<caption>A data.frame: 6 × 7</caption>\n",
       "<thead>\n",
       "\t<tr><th></th><th scope=col>city</th><th scope=col>lat</th><th scope=col>long</th><th scope=col>alt</th><th scope=col>year</th><th scope=col>bloom_date</th><th scope=col>bloom_doy</th></tr>\n",
       "\t<tr><th></th><th scope=col>&lt;chr&gt;</th><th scope=col>&lt;dbl&gt;</th><th scope=col>&lt;dbl&gt;</th><th scope=col>&lt;int&gt;</th><th scope=col>&lt;int&gt;</th><th scope=col>&lt;date&gt;</th><th scope=col>&lt;int&gt;</th></tr>\n",
       "</thead>\n",
       "<tbody>\n",
       "\t<tr><th scope=row>6728</th><td>Liestal</td><td>47.4814</td><td>7.730519</td><td>350</td><td>2018</td><td>2018-04-08</td><td>98</td></tr>\n",
       "\t<tr><th scope=row>6729</th><td>Liestal</td><td>47.4814</td><td>7.730519</td><td>350</td><td>2019</td><td>2019-03-27</td><td>86</td></tr>\n",
       "\t<tr><th scope=row>6730</th><td>Liestal</td><td>47.4814</td><td>7.730519</td><td>350</td><td>2020</td><td>2020-03-17</td><td>77</td></tr>\n",
       "\t<tr><th scope=row>6731</th><td>Liestal</td><td>47.4814</td><td>7.730519</td><td>350</td><td>2021</td><td>2021-03-28</td><td>87</td></tr>\n",
       "\t<tr><th scope=row>6732</th><td>Liestal</td><td>47.4814</td><td>7.730519</td><td>350</td><td>2022</td><td>2022-03-26</td><td>85</td></tr>\n",
       "\t<tr><th scope=row>6733</th><td>Liestal</td><td>47.4814</td><td>7.730519</td><td>350</td><td>2023</td><td>2023-03-29</td><td>88</td></tr>\n",
       "</tbody>\n",
       "</table>\n"
      ],
      "text/latex": [
       "A data.frame: 6 × 7\n",
       "\\begin{tabular}{r|lllllll}\n",
       "  & city & lat & long & alt & year & bloom\\_date & bloom\\_doy\\\\\n",
       "  & <chr> & <dbl> & <dbl> & <int> & <int> & <date> & <int>\\\\\n",
       "\\hline\n",
       "\t6728 & Liestal & 47.4814 & 7.730519 & 350 & 2018 & 2018-04-08 & 98\\\\\n",
       "\t6729 & Liestal & 47.4814 & 7.730519 & 350 & 2019 & 2019-03-27 & 86\\\\\n",
       "\t6730 & Liestal & 47.4814 & 7.730519 & 350 & 2020 & 2020-03-17 & 77\\\\\n",
       "\t6731 & Liestal & 47.4814 & 7.730519 & 350 & 2021 & 2021-03-28 & 87\\\\\n",
       "\t6732 & Liestal & 47.4814 & 7.730519 & 350 & 2022 & 2022-03-26 & 85\\\\\n",
       "\t6733 & Liestal & 47.4814 & 7.730519 & 350 & 2023 & 2023-03-29 & 88\\\\\n",
       "\\end{tabular}\n"
      ],
      "text/markdown": [
       "\n",
       "A data.frame: 6 × 7\n",
       "\n",
       "| <!--/--> | city &lt;chr&gt; | lat &lt;dbl&gt; | long &lt;dbl&gt; | alt &lt;int&gt; | year &lt;int&gt; | bloom_date &lt;date&gt; | bloom_doy &lt;int&gt; |\n",
       "|---|---|---|---|---|---|---|---|\n",
       "| 6728 | Liestal | 47.4814 | 7.730519 | 350 | 2018 | 2018-04-08 | 98 |\n",
       "| 6729 | Liestal | 47.4814 | 7.730519 | 350 | 2019 | 2019-03-27 | 86 |\n",
       "| 6730 | Liestal | 47.4814 | 7.730519 | 350 | 2020 | 2020-03-17 | 77 |\n",
       "| 6731 | Liestal | 47.4814 | 7.730519 | 350 | 2021 | 2021-03-28 | 87 |\n",
       "| 6732 | Liestal | 47.4814 | 7.730519 | 350 | 2022 | 2022-03-26 | 85 |\n",
       "| 6733 | Liestal | 47.4814 | 7.730519 | 350 | 2023 | 2023-03-29 | 88 |\n",
       "\n"
      ],
      "text/plain": [
       "     city    lat     long     alt year bloom_date bloom_doy\n",
       "6728 Liestal 47.4814 7.730519 350 2018 2018-04-08 98       \n",
       "6729 Liestal 47.4814 7.730519 350 2019 2019-03-27 86       \n",
       "6730 Liestal 47.4814 7.730519 350 2020 2020-03-17 77       \n",
       "6731 Liestal 47.4814 7.730519 350 2021 2021-03-28 87       \n",
       "6732 Liestal 47.4814 7.730519 350 2022 2022-03-26 85       \n",
       "6733 Liestal 47.4814 7.730519 350 2023 2023-03-29 88       "
      ]
     },
     "metadata": {},
     "output_type": "display_data"
    }
   ],
   "source": [
    "# Load data\n",
    "meteoswiss <- read.csv(paste0(comp_data_dir, \"/meteoswiss.csv\")) %>%\n",
    "    mutate(city = str_split(location, pattern = \"/\", simplify = TRUE)[, 2]) %>%\n",
    "    filter(city != \"Liestal\") %>%\n",
    "    dplyr::select(-location) %>%\n",
    "    relocate(city) %>%\n",
    "    mutate(bloom_date = as.Date(bloom_date, format = \"%Y-%m-%d\")) %>%\n",
    "    rbind(., Liestal)\n",
    "tail(meteoswiss)"
   ]
  },
  {
   "cell_type": "code",
   "execution_count": 22,
   "metadata": {
    "vscode": {
     "languageId": "r"
    }
   },
   "outputs": [
    {
     "name": "stderr",
     "output_type": "stream",
     "text": [
      "\u001b[1m\u001b[22m`summarise()` has grouped output by 'city'. You can override using the\n",
      "`.groups` argument.\n",
      "\u001b[1m\u001b[22m`summarise()` has grouped output by 'city'. You can override using the\n",
      "`.groups` argument.\n"
     ]
    },
    {
     "data": {
      "text/html": [
       "<table class=\"dataframe\">\n",
       "<caption>A grouped_df: 0 × 2</caption>\n",
       "<thead>\n",
       "\t<tr><th scope=col>city</th><th scope=col>n</th></tr>\n",
       "\t<tr><th scope=col>&lt;chr&gt;</th><th scope=col>&lt;int&gt;</th></tr>\n",
       "</thead>\n",
       "<tbody>\n",
       "</tbody>\n",
       "</table>\n"
      ],
      "text/latex": [
       "A grouped\\_df: 0 × 2\n",
       "\\begin{tabular}{ll}\n",
       " city & n\\\\\n",
       " <chr> & <int>\\\\\n",
       "\\hline\n",
       "\\end{tabular}\n"
      ],
      "text/markdown": [
       "\n",
       "A grouped_df: 0 × 2\n",
       "\n",
       "| city &lt;chr&gt; | n &lt;int&gt; |\n",
       "|---|---|\n",
       "\n"
      ],
      "text/plain": [
       "     city n"
      ]
     },
     "metadata": {},
     "output_type": "display_data"
    }
   ],
   "source": [
    "# Find cities with duplicate entries\n",
    "meteoswiss_dups <- meteoswiss %>% group_by(city, year) %>%\n",
    "    summarise(n = n()) %>%\n",
    "    filter(n >= 2) %>%\n",
    "    distinct(city, n)\n",
    "# meteoswiss_dups\n",
    "\n",
    "\n",
    "# Remove the duplicated entries from the meteoswiss data.\n",
    "# - Assign identifiers\n",
    "meteoswiss$identifier <- paste0(as.character(meteoswiss$city), as.character(meteoswiss$lat), as.character(meteoswiss$long), as.character(meteoswiss$alt))\n",
    "\n",
    "# - Create a unique list of cities, along with their identifiers.\n",
    "meteoswiss_cities <- meteoswiss %>%\n",
    "    dplyr::select(city, lat, long, alt) %>%\n",
    "    group_by(city, .drop = FALSE) %>%\n",
    "    filter(row_number(lat) == 1)\n",
    "meteoswiss_cities$identifier <- paste0(as.character(meteoswiss_cities$city), as.character(meteoswiss_cities$lat), as.character(meteoswiss_cities$long), as.character(meteoswiss_cities$alt))\n",
    "\n",
    "# - Extract distinct rows using the identifiers\n",
    "meteoswiss <- meteoswiss %>%\n",
    "    filter(identifier %in% meteoswiss_cities$identifier) %>%\n",
    "    dplyr::select(-identifier) %>%\n",
    "    distinct()\n",
    "\n",
    "# - Check dups again\n",
    "meteoswiss %>% group_by(city, year) %>%\n",
    "    summarise(n = n()) %>%\n",
    "    filter(n >= 2) %>%\n",
    "    distinct(city, n)"
   ]
  },
  {
   "cell_type": "code",
   "execution_count": 23,
   "metadata": {
    "vscode": {
     "languageId": "r"
    }
   },
   "outputs": [
    {
     "data": {
      "text/html": [
       "<table class=\"dataframe\">\n",
       "<caption>A data.frame: 6 × 7</caption>\n",
       "<thead>\n",
       "\t<tr><th></th><th scope=col>city</th><th scope=col>lat</th><th scope=col>long</th><th scope=col>alt</th><th scope=col>year</th><th scope=col>bloom_date</th><th scope=col>bloom_doy</th></tr>\n",
       "\t<tr><th></th><th scope=col>&lt;chr&gt;</th><th scope=col>&lt;dbl&gt;</th><th scope=col>&lt;dbl&gt;</th><th scope=col>&lt;int&gt;</th><th scope=col>&lt;int&gt;</th><th scope=col>&lt;date&gt;</th><th scope=col>&lt;int&gt;</th></tr>\n",
       "</thead>\n",
       "<tbody>\n",
       "\t<tr><th scope=row>6728</th><td>Liestal</td><td>47.4814</td><td>7.730519</td><td>350</td><td>2018</td><td>2018-04-08</td><td>98</td></tr>\n",
       "\t<tr><th scope=row>6729</th><td>Liestal</td><td>47.4814</td><td>7.730519</td><td>350</td><td>2019</td><td>2019-03-27</td><td>86</td></tr>\n",
       "\t<tr><th scope=row>6730</th><td>Liestal</td><td>47.4814</td><td>7.730519</td><td>350</td><td>2020</td><td>2020-03-17</td><td>77</td></tr>\n",
       "\t<tr><th scope=row>6731</th><td>Liestal</td><td>47.4814</td><td>7.730519</td><td>350</td><td>2021</td><td>2021-03-28</td><td>87</td></tr>\n",
       "\t<tr><th scope=row>6732</th><td>Liestal</td><td>47.4814</td><td>7.730519</td><td>350</td><td>2022</td><td>2022-03-26</td><td>85</td></tr>\n",
       "\t<tr><th scope=row>6733</th><td>Liestal</td><td>47.4814</td><td>7.730519</td><td>350</td><td>2023</td><td>2023-03-29</td><td>88</td></tr>\n",
       "</tbody>\n",
       "</table>\n"
      ],
      "text/latex": [
       "A data.frame: 6 × 7\n",
       "\\begin{tabular}{r|lllllll}\n",
       "  & city & lat & long & alt & year & bloom\\_date & bloom\\_doy\\\\\n",
       "  & <chr> & <dbl> & <dbl> & <int> & <int> & <date> & <int>\\\\\n",
       "\\hline\n",
       "\t6728 & Liestal & 47.4814 & 7.730519 & 350 & 2018 & 2018-04-08 & 98\\\\\n",
       "\t6729 & Liestal & 47.4814 & 7.730519 & 350 & 2019 & 2019-03-27 & 86\\\\\n",
       "\t6730 & Liestal & 47.4814 & 7.730519 & 350 & 2020 & 2020-03-17 & 77\\\\\n",
       "\t6731 & Liestal & 47.4814 & 7.730519 & 350 & 2021 & 2021-03-28 & 87\\\\\n",
       "\t6732 & Liestal & 47.4814 & 7.730519 & 350 & 2022 & 2022-03-26 & 85\\\\\n",
       "\t6733 & Liestal & 47.4814 & 7.730519 & 350 & 2023 & 2023-03-29 & 88\\\\\n",
       "\\end{tabular}\n"
      ],
      "text/markdown": [
       "\n",
       "A data.frame: 6 × 7\n",
       "\n",
       "| <!--/--> | city &lt;chr&gt; | lat &lt;dbl&gt; | long &lt;dbl&gt; | alt &lt;int&gt; | year &lt;int&gt; | bloom_date &lt;date&gt; | bloom_doy &lt;int&gt; |\n",
       "|---|---|---|---|---|---|---|---|\n",
       "| 6728 | Liestal | 47.4814 | 7.730519 | 350 | 2018 | 2018-04-08 | 98 |\n",
       "| 6729 | Liestal | 47.4814 | 7.730519 | 350 | 2019 | 2019-03-27 | 86 |\n",
       "| 6730 | Liestal | 47.4814 | 7.730519 | 350 | 2020 | 2020-03-17 | 77 |\n",
       "| 6731 | Liestal | 47.4814 | 7.730519 | 350 | 2021 | 2021-03-28 | 87 |\n",
       "| 6732 | Liestal | 47.4814 | 7.730519 | 350 | 2022 | 2022-03-26 | 85 |\n",
       "| 6733 | Liestal | 47.4814 | 7.730519 | 350 | 2023 | 2023-03-29 | 88 |\n",
       "\n"
      ],
      "text/plain": [
       "     city    lat     long     alt year bloom_date bloom_doy\n",
       "6728 Liestal 47.4814 7.730519 350 2018 2018-04-08 98       \n",
       "6729 Liestal 47.4814 7.730519 350 2019 2019-03-27 86       \n",
       "6730 Liestal 47.4814 7.730519 350 2020 2020-03-17 77       \n",
       "6731 Liestal 47.4814 7.730519 350 2021 2021-03-28 87       \n",
       "6732 Liestal 47.4814 7.730519 350 2022 2022-03-26 85       \n",
       "6733 Liestal 47.4814 7.730519 350 2023 2023-03-29 88       "
      ]
     },
     "metadata": {},
     "output_type": "display_data"
    }
   ],
   "source": [
    "tail(meteoswiss)"
   ]
  },
  {
   "cell_type": "code",
   "execution_count": 24,
   "metadata": {
    "vscode": {
     "languageId": "r"
    }
   },
   "outputs": [],
   "source": [
    "# Compute correlations\n",
    "meteoswiss_cities$corr <- apply(\n",
    "    meteoswiss_cities, MARGIN = 1\n",
    "    , FUN = function(row) {\n",
    "        if (row[\"city\"] == \"Liestal\") {\n",
    "            return(1)\n",
    "        }\n",
    "\n",
    "        row_df <- meteoswiss[meteoswiss$city %in% c(\"Liestal\", as.character(row[\"city\"])), c(\"year\", \"city\", \"bloom_doy\")] %>% \n",
    "            pivot_wider(names_from = \"city\", values_from = \"bloom_doy\") %>%\n",
    "            drop_na()\n",
    "        \n",
    "        x = row_df[, \"Liestal\"]\n",
    "        y = row_df[, as.character(row[\"city\"])]\n",
    "        \n",
    "        city_cor = as.numeric(cor(x, y))\n",
    "        return(city_cor)\n",
    "    })\n"
   ]
  },
  {
   "cell_type": "code",
   "execution_count": 25,
   "metadata": {
    "vscode": {
     "languageId": "r"
    }
   },
   "outputs": [
    {
     "data": {
      "text/html": [
       "<style>\n",
       ".list-inline {list-style: none; margin:0; padding: 0}\n",
       ".list-inline>li {display: inline-block}\n",
       ".list-inline>li:not(:last-child)::after {content: \"\\00b7\"; padding: 0 .5ex}\n",
       "</style>\n",
       "<ol class=list-inline><li>111</li><li>5</li></ol>\n"
      ],
      "text/latex": [
       "\\begin{enumerate*}\n",
       "\\item 111\n",
       "\\item 5\n",
       "\\end{enumerate*}\n"
      ],
      "text/markdown": [
       "1. 111\n",
       "2. 5\n",
       "\n",
       "\n"
      ],
      "text/plain": [
       "[1] 111   5"
      ]
     },
     "metadata": {},
     "output_type": "display_data"
    },
    {
     "name": "stderr",
     "output_type": "stream",
     "text": [
      "Warning message in FUN(X[[i]], ...):\n",
      "“input string 1 is invalid in this locale”\n",
      "Warning message in FUN(X[[i]], ...):\n",
      "“input string 1 is invalid in this locale”\n",
      "Warning message in FUN(X[[i]], ...):\n",
      "“input string 1 is invalid in this locale”\n",
      "ERROR while rich displaying an object: Error in gsub(chr, html_specials[[chr]], text, fixed = TRUE): input string 1 is invalid in this locale\n",
      "\n",
      "Traceback:\n",
      "1. tryCatch(withCallingHandlers({\n",
      " .     if (!mime %in% names(repr::mime2repr)) \n",
      " .         stop(\"No repr_* for mimetype \", mime, \" in repr::mime2repr\")\n",
      " .     rpr <- repr::mime2repr[[mime]](obj)\n",
      " .     if (is.null(rpr)) \n",
      " .         return(NULL)\n",
      " .     prepare_content(is.raw(rpr), rpr)\n",
      " . }, error = error_handler), error = outer_handler)\n",
      "2. tryCatchList(expr, classes, parentenv, handlers)\n",
      "3. tryCatchOne(expr, names, parentenv, handlers[[1L]])\n",
      "4. doTryCatch(return(expr), name, parentenv, handler)\n",
      "5. withCallingHandlers({\n",
      " .     if (!mime %in% names(repr::mime2repr)) \n",
      " .         stop(\"No repr_* for mimetype \", mime, \" in repr::mime2repr\")\n",
      " .     rpr <- repr::mime2repr[[mime]](obj)\n",
      " .     if (is.null(rpr)) \n",
      " .         return(NULL)\n",
      " .     prepare_content(is.raw(rpr), rpr)\n",
      " . }, error = error_handler)\n",
      "6. repr::mime2repr[[mime]](obj)\n",
      "7. repr_markdown.data.frame(obj)\n",
      "8. repr_matrix_generic(obj, \"\\n%s\\n\\n%s%s\\n\", sprintf(\"|%%s\\n|%s|\\n\", \n",
      " .     underline), NULL, \" <!--/--> |\", \" %s |\", \"%s\", \"|%s\\n\", \n",
      " .     \" %s |\", \" %s |\", escape_fun = markdown_escape, rows = rows, \n",
      " .     cols = cols, ...)\n",
      "9. lapply(seq_len(nrow(x)), function(r) {\n",
      " .     row <- escape_fun(slice_row(x, r))\n",
      " .     cells <- sprintf(cell, row)\n",
      " .     if (has_rownames) {\n",
      " .         row_head <- sprintf(row_head, escape_fun(rownames(x)[[r]]))\n",
      " .         cells <- c(row_head, cells)\n",
      " .     }\n",
      " .     sprintf(row_wrap, paste(cells, collapse = \"\"))\n",
      " . })\n",
      "10. FUN(X[[i]], ...)\n",
      "11. escape_fun(slice_row(x, r))\n",
      "12. html_escape(values, do_spaces = FALSE)\n",
      "13. gsub(chr, html_specials[[chr]], text, fixed = TRUE)\n",
      "Warning message in FUN(X[[i]], ...):\n",
      "“input string 1 is invalid in this locale”\n",
      "Warning message in FUN(X[[i]], ...):\n",
      "“input string 1 is invalid in this locale”\n",
      "Warning message in FUN(X[[i]], ...):\n",
      "“input string 1 is invalid in this locale”\n",
      "Warning message in FUN(X[[i]], ...):\n",
      "“input string 1 is invalid in this locale”\n",
      "Warning message in FUN(X[[i]], ...):\n",
      "“input string 1 is invalid in this locale”\n",
      "Warning message in FUN(X[[i]], ...):\n",
      "“input string 1 is invalid in this locale”\n",
      "Warning message in FUN(X[[i]], ...):\n",
      "“input string 1 is invalid in this locale”\n",
      "Warning message in FUN(X[[i]], ...):\n",
      "“input string 1 is invalid in this locale”\n",
      "Warning message in FUN(X[[i]], ...):\n",
      "“input string 1 is invalid in this locale”\n",
      "Warning message in FUN(X[[i]], ...):\n",
      "“input string 1 is invalid in this locale”\n",
      "Warning message in FUN(X[[i]], ...):\n",
      "“input string 1 is invalid in this locale”\n",
      "Warning message in FUN(X[[i]], ...):\n",
      "“input string 1 is invalid in this locale”\n",
      "Warning message in FUN(X[[i]], ...):\n",
      "“input string 1 is invalid in this locale”\n"
     ]
    },
    {
     "data": {
      "text/html": [
       "<table class=\"dataframe\">\n",
       "<caption>A data.frame: 6 × 5</caption>\n",
       "<thead>\n",
       "\t<tr><th></th><th scope=col>city</th><th scope=col>lat</th><th scope=col>long</th><th scope=col>alt</th><th scope=col>corr</th></tr>\n",
       "\t<tr><th></th><th scope=col>&lt;chr&gt;</th><th scope=col>&lt;dbl&gt;</th><th scope=col>&lt;dbl&gt;</th><th scope=col>&lt;int&gt;</th><th scope=col>&lt;dbl&gt;</th></tr>\n",
       "</thead>\n",
       "<tbody>\n",
       "\t<tr><th scope=row>1</th><td>Liestal                </td><td>47.48140</td><td>7.730519</td><td>350</td><td>1.0000000</td></tr>\n",
       "\t<tr><th scope=row>2</th><td>Mellingen              </td><td>47.42098</td><td>8.273286</td><td>356</td><td>1.0000000</td></tr>\n",
       "\t<tr><th scope=row>3</th><td>Faido                  </td><td>46.47788</td><td>8.800878</td><td>715</td><td>1.0000000</td></tr>\n",
       "\t<tr><th scope=row>4</th><td>Dornach                </td><td>47.48164</td><td>7.611114</td><td>300</td><td>0.9403232</td></tr>\n",
       "\t<tr><th scope=row>5</th><td>Basel-Binningen        </td><td>47.54859</td><td>7.582372</td><td>315</td><td>0.9323295</td></tr>\n",
       "\t<tr><th scope=row>6</th><td>Z<fc>rich-MeteoSchweiz</td><td>47.37814</td><td>8.565853</td><td>555</td><td>0.9317979</td></tr>\n",
       "</tbody>\n",
       "</table>\n"
      ],
      "text/latex": [
       "A data.frame: 6 × 5\n",
       "\\begin{tabular}{r|lllll}\n",
       "  & city & lat & long & alt & corr\\\\\n",
       "  & <chr> & <dbl> & <dbl> & <int> & <dbl>\\\\\n",
       "\\hline\n",
       "\t1 & Liestal                 & 47.48140 & 7.730519 & 350 & 1.0000000\\\\\n",
       "\t2 & Mellingen               & 47.42098 & 8.273286 & 356 & 1.0000000\\\\\n",
       "\t3 & Faido                   & 46.47788 & 8.800878 & 715 & 1.0000000\\\\\n",
       "\t4 & Dornach                 & 47.48164 & 7.611114 & 300 & 0.9403232\\\\\n",
       "\t5 & Basel-Binningen         & 47.54859 & 7.582372 & 315 & 0.9323295\\\\\n",
       "\t6 & Z<fc>rich-MeteoSchweiz & 47.37814 & 8.565853 & 555 & 0.9317979\\\\\n",
       "\\end{tabular}\n"
      ],
      "text/plain": [
       "  city                    lat      long     alt corr     \n",
       "1 Liestal                 47.48140 7.730519 350 1.0000000\n",
       "2 Mellingen               47.42098 8.273286 356 1.0000000\n",
       "3 Faido                   46.47788 8.800878 715 1.0000000\n",
       "4 Dornach                 47.48164 7.611114 300 0.9403232\n",
       "5 Basel-Binningen         47.54859 7.582372 315 0.9323295\n",
       "6 Z\\xfcrich-MeteoSchweiz  47.37814 8.565853 555 0.9317979"
      ]
     },
     "metadata": {},
     "output_type": "display_data"
    }
   ],
   "source": [
    "# Pull those with R^2 > 0.6 to Liestal.\n",
    "meteoswiss_tops <- meteoswiss_cities %>%\n",
    "    arrange(desc(corr)) %>%\n",
    "    dplyr::select(-identifier) %>%\n",
    "    filter(corr > 0.6) %>%\n",
    "    as.data.frame()\n",
    "dim(meteoswiss_tops)\n",
    "\n",
    "row_liestal <- which(meteoswiss_tops$city == \"Liestal\")\n",
    "if (row_liestal != 1){\n",
    "    temp_row <- meteoswiss_tops[1, ]\n",
    "    meteoswiss_tops[1, ] <- meteoswiss_tops[row_liestal, ]\n",
    "    meteoswiss_tops[row_liestal, ] <- temp_row\n",
    "}\n",
    "head(meteoswiss_tops)"
   ]
  },
  {
   "cell_type": "code",
   "execution_count": 26,
   "metadata": {
    "vscode": {
     "languageId": "r"
    }
   },
   "outputs": [
    {
     "data": {
      "text/html": [
       "<style>\n",
       ".list-inline {list-style: none; margin:0; padding: 0}\n",
       ".list-inline>li {display: inline-block}\n",
       ".list-inline>li:not(:last-child)::after {content: \"\\00b7\"; padding: 0 .5ex}\n",
       "</style>\n",
       "<ol class=list-inline><li>'Liestal'</li><li>'Fiesch'</li><li>'Orvin'</li><li>'Posieux'</li><li>'Schiers'</li><li>'Zofingen'</li><li>'Biel'</li><li>'Flawil'</li><li>'Murg'</li><li>'Rafz'</li><li>'Seon'</li><li>'Versoix'</li><li>'Wattwil, SG'</li><li>'Wiliberg'</li><li>'Z\\U{32a63a2d}Albisg\\xfcetli'</li><li>'Orbe '</li><li>'Cartigny'</li><li>'Couvet'</li><li>'Sarnen'</li><li>'Wald, ZH'</li><li>'L\\'Abergement'</li><li>'Aurigeno'</li><li>'Disentis'</li><li>'Elm'</li><li>'Meiringen I'</li><li>'M\\xf6hlin'</li><li>'Sargans II'</li><li>'Thusis'</li><li>'W\\xe4denswil'</li><li>'Z\\U{32a63a2d}MeteoSchweiz'</li><li>'Bauma'</li><li>'Prato-Sornico'</li><li>'Entlebuch'</li><li>'Longirod'</li><li>'Merishausen'</li><li>'Sihlbrugg'</li><li>'Chur'</li><li>'Oeschberg'</li><li>'Grossdietwil'</li><li>'Moutier'</li><li>'Davos-Dorf'</li><li>'Changins'</li><li>'Basel-Binningen'</li><li>'Cevio-Cavergno'</li><li>'Horgen'</li><li>'Locarno'</li><li>'Moudon'</li><li>'Winterthur'</li><li>'Z\\U{32a63a2d}Witikon'</li><li>'Cernier'</li><li>'Herzogenbuchsee'</li><li>'Appenzell'</li><li>'Bondo GR'</li><li>'Domat '</li><li>'Fanas'</li><li>'Gr\\xfcsch'</li><li>'Jenaz'</li><li>'Laufenburg'</li><li>'Linthal'</li><li>'Sch\\xf6nenwerd'</li><li>'Stampa'</li><li>'Villnachern'</li><li>'Wynau'</li><li>'Diessenhofen'</li><li>'Zizers'</li><li>'Eschen-Boja'</li><li>'Neuhausen'</li><li>'D\\xf6ttingen'</li><li>'Heiden'</li><li>'Luzern'</li><li>'Muri, AG'</li><li>'Oberehrendingen'</li><li>'Vira '</li><li>'Leytron'</li><li>'Osterfingen'</li><li>'Rorschach'</li><li>'Olivone'</li><li>'Romanshorn'</li><li>'Hallau'</li><li>'Stein, AR II'</li><li>'Azmoos'</li><li>'Chardonne'</li><li>'Birmensdorf'</li><li>'Worb BE'</li><li>'Gundetswil'</li><li>'Sagno TI'</li><li>'Blonay'</li><li>'Estavayer-le-Lac'</li><li>'Frauenfeld'</li><li>'Hard b. Weinfelden'</li><li>'Lanterswil'</li><li>'Visp'</li><li>'Wil, SG'</li><li>'Dornach'</li><li>'Buchs'</li><li>'Boudry'</li><li>'Grellingen'</li><li>'Therwil'</li><li>'Seewil'</li><li>'Unterseen'</li><li>'Jegenstorf II'</li><li>'Alchenfl\\xfch '</li><li>'Langnau i.E.'</li><li>'Neuch\\xe2tel'</li><li>'Ballens'</li><li>'Ried '</li><li>'Faido'</li><li>'Payerne'</li><li>'Reinach, BL'</li><li>'Mellingen'</li><li>'Enges'</li></ol>\n"
      ],
      "text/latex": [
       "\\begin{enumerate*}\n",
       "\\item 'Liestal'\n",
       "\\item 'Fiesch'\n",
       "\\item 'Orvin'\n",
       "\\item 'Posieux'\n",
       "\\item 'Schiers'\n",
       "\\item 'Zofingen'\n",
       "\\item 'Biel'\n",
       "\\item 'Flawil'\n",
       "\\item 'Murg'\n",
       "\\item 'Rafz'\n",
       "\\item 'Seon'\n",
       "\\item 'Versoix'\n",
       "\\item 'Wattwil, SG'\n",
       "\\item 'Wiliberg'\n",
       "\\item 'Z\\textbackslash{}U\\{32a63a2d\\}Albisg\\textbackslash{}xfcetli'\n",
       "\\item 'Orbe '\n",
       "\\item 'Cartigny'\n",
       "\\item 'Couvet'\n",
       "\\item 'Sarnen'\n",
       "\\item 'Wald, ZH'\n",
       "\\item 'L\\textbackslash{}'Abergement'\n",
       "\\item 'Aurigeno'\n",
       "\\item 'Disentis'\n",
       "\\item 'Elm'\n",
       "\\item 'Meiringen I'\n",
       "\\item 'M\\textbackslash{}xf6hlin'\n",
       "\\item 'Sargans II'\n",
       "\\item 'Thusis'\n",
       "\\item 'W\\textbackslash{}xe4denswil'\n",
       "\\item 'Z\\textbackslash{}U\\{32a63a2d\\}MeteoSchweiz'\n",
       "\\item 'Bauma'\n",
       "\\item 'Prato-Sornico'\n",
       "\\item 'Entlebuch'\n",
       "\\item 'Longirod'\n",
       "\\item 'Merishausen'\n",
       "\\item 'Sihlbrugg'\n",
       "\\item 'Chur'\n",
       "\\item 'Oeschberg'\n",
       "\\item 'Grossdietwil'\n",
       "\\item 'Moutier'\n",
       "\\item 'Davos-Dorf'\n",
       "\\item 'Changins'\n",
       "\\item 'Basel-Binningen'\n",
       "\\item 'Cevio-Cavergno'\n",
       "\\item 'Horgen'\n",
       "\\item 'Locarno'\n",
       "\\item 'Moudon'\n",
       "\\item 'Winterthur'\n",
       "\\item 'Z\\textbackslash{}U\\{32a63a2d\\}Witikon'\n",
       "\\item 'Cernier'\n",
       "\\item 'Herzogenbuchsee'\n",
       "\\item 'Appenzell'\n",
       "\\item 'Bondo GR'\n",
       "\\item 'Domat '\n",
       "\\item 'Fanas'\n",
       "\\item 'Gr\\textbackslash{}xfcsch'\n",
       "\\item 'Jenaz'\n",
       "\\item 'Laufenburg'\n",
       "\\item 'Linthal'\n",
       "\\item 'Sch\\textbackslash{}xf6nenwerd'\n",
       "\\item 'Stampa'\n",
       "\\item 'Villnachern'\n",
       "\\item 'Wynau'\n",
       "\\item 'Diessenhofen'\n",
       "\\item 'Zizers'\n",
       "\\item 'Eschen-Boja'\n",
       "\\item 'Neuhausen'\n",
       "\\item 'D\\textbackslash{}xf6ttingen'\n",
       "\\item 'Heiden'\n",
       "\\item 'Luzern'\n",
       "\\item 'Muri, AG'\n",
       "\\item 'Oberehrendingen'\n",
       "\\item 'Vira '\n",
       "\\item 'Leytron'\n",
       "\\item 'Osterfingen'\n",
       "\\item 'Rorschach'\n",
       "\\item 'Olivone'\n",
       "\\item 'Romanshorn'\n",
       "\\item 'Hallau'\n",
       "\\item 'Stein, AR II'\n",
       "\\item 'Azmoos'\n",
       "\\item 'Chardonne'\n",
       "\\item 'Birmensdorf'\n",
       "\\item 'Worb BE'\n",
       "\\item 'Gundetswil'\n",
       "\\item 'Sagno TI'\n",
       "\\item 'Blonay'\n",
       "\\item 'Estavayer-le-Lac'\n",
       "\\item 'Frauenfeld'\n",
       "\\item 'Hard b. Weinfelden'\n",
       "\\item 'Lanterswil'\n",
       "\\item 'Visp'\n",
       "\\item 'Wil, SG'\n",
       "\\item 'Dornach'\n",
       "\\item 'Buchs'\n",
       "\\item 'Boudry'\n",
       "\\item 'Grellingen'\n",
       "\\item 'Therwil'\n",
       "\\item 'Seewil'\n",
       "\\item 'Unterseen'\n",
       "\\item 'Jegenstorf II'\n",
       "\\item 'Alchenfl\\textbackslash{}xfch '\n",
       "\\item 'Langnau i.E.'\n",
       "\\item 'Neuch\\textbackslash{}xe2tel'\n",
       "\\item 'Ballens'\n",
       "\\item 'Ried '\n",
       "\\item 'Faido'\n",
       "\\item 'Payerne'\n",
       "\\item 'Reinach, BL'\n",
       "\\item 'Mellingen'\n",
       "\\item 'Enges'\n",
       "\\end{enumerate*}\n"
      ],
      "text/markdown": [
       "1. 'Liestal'\n",
       "2. 'Fiesch'\n",
       "3. 'Orvin'\n",
       "4. 'Posieux'\n",
       "5. 'Schiers'\n",
       "6. 'Zofingen'\n",
       "7. 'Biel'\n",
       "8. 'Flawil'\n",
       "9. 'Murg'\n",
       "10. 'Rafz'\n",
       "11. 'Seon'\n",
       "12. 'Versoix'\n",
       "13. 'Wattwil, SG'\n",
       "14. 'Wiliberg'\n",
       "15. 'Z\\U{32a63a2d}Albisg\\xfcetli'\n",
       "16. 'Orbe '\n",
       "17. 'Cartigny'\n",
       "18. 'Couvet'\n",
       "19. 'Sarnen'\n",
       "20. 'Wald, ZH'\n",
       "21. 'L\\'Abergement'\n",
       "22. 'Aurigeno'\n",
       "23. 'Disentis'\n",
       "24. 'Elm'\n",
       "25. 'Meiringen I'\n",
       "26. 'M\\xf6hlin'\n",
       "27. 'Sargans II'\n",
       "28. 'Thusis'\n",
       "29. 'W\\xe4denswil'\n",
       "30. 'Z\\U{32a63a2d}MeteoSchweiz'\n",
       "31. 'Bauma'\n",
       "32. 'Prato-Sornico'\n",
       "33. 'Entlebuch'\n",
       "34. 'Longirod'\n",
       "35. 'Merishausen'\n",
       "36. 'Sihlbrugg'\n",
       "37. 'Chur'\n",
       "38. 'Oeschberg'\n",
       "39. 'Grossdietwil'\n",
       "40. 'Moutier'\n",
       "41. 'Davos-Dorf'\n",
       "42. 'Changins'\n",
       "43. 'Basel-Binningen'\n",
       "44. 'Cevio-Cavergno'\n",
       "45. 'Horgen'\n",
       "46. 'Locarno'\n",
       "47. 'Moudon'\n",
       "48. 'Winterthur'\n",
       "49. 'Z\\U{32a63a2d}Witikon'\n",
       "50. 'Cernier'\n",
       "51. 'Herzogenbuchsee'\n",
       "52. 'Appenzell'\n",
       "53. 'Bondo GR'\n",
       "54. 'Domat '\n",
       "55. 'Fanas'\n",
       "56. 'Gr\\xfcsch'\n",
       "57. 'Jenaz'\n",
       "58. 'Laufenburg'\n",
       "59. 'Linthal'\n",
       "60. 'Sch\\xf6nenwerd'\n",
       "61. 'Stampa'\n",
       "62. 'Villnachern'\n",
       "63. 'Wynau'\n",
       "64. 'Diessenhofen'\n",
       "65. 'Zizers'\n",
       "66. 'Eschen-Boja'\n",
       "67. 'Neuhausen'\n",
       "68. 'D\\xf6ttingen'\n",
       "69. 'Heiden'\n",
       "70. 'Luzern'\n",
       "71. 'Muri, AG'\n",
       "72. 'Oberehrendingen'\n",
       "73. 'Vira '\n",
       "74. 'Leytron'\n",
       "75. 'Osterfingen'\n",
       "76. 'Rorschach'\n",
       "77. 'Olivone'\n",
       "78. 'Romanshorn'\n",
       "79. 'Hallau'\n",
       "80. 'Stein, AR II'\n",
       "81. 'Azmoos'\n",
       "82. 'Chardonne'\n",
       "83. 'Birmensdorf'\n",
       "84. 'Worb BE'\n",
       "85. 'Gundetswil'\n",
       "86. 'Sagno TI'\n",
       "87. 'Blonay'\n",
       "88. 'Estavayer-le-Lac'\n",
       "89. 'Frauenfeld'\n",
       "90. 'Hard b. Weinfelden'\n",
       "91. 'Lanterswil'\n",
       "92. 'Visp'\n",
       "93. 'Wil, SG'\n",
       "94. 'Dornach'\n",
       "95. 'Buchs'\n",
       "96. 'Boudry'\n",
       "97. 'Grellingen'\n",
       "98. 'Therwil'\n",
       "99. 'Seewil'\n",
       "100. 'Unterseen'\n",
       "101. 'Jegenstorf II'\n",
       "102. 'Alchenfl\\xfch '\n",
       "103. 'Langnau i.E.'\n",
       "104. 'Neuch\\xe2tel'\n",
       "105. 'Ballens'\n",
       "106. 'Ried '\n",
       "107. 'Faido'\n",
       "108. 'Payerne'\n",
       "109. 'Reinach, BL'\n",
       "110. 'Mellingen'\n",
       "111. 'Enges'\n",
       "\n",
       "\n"
      ],
      "text/plain": [
       "  [1] \"Liestal\"                   \"Fiesch\"                   \n",
       "  [3] \"Orvin\"                     \"Posieux\"                  \n",
       "  [5] \"Schiers\"                   \"Zofingen\"                 \n",
       "  [7] \"Biel\"                      \"Flawil\"                   \n",
       "  [9] \"Murg\"                      \"Rafz\"                     \n",
       " [11] \"Seon\"                      \"Versoix\"                  \n",
       " [13] \"Wattwil, SG\"               \"Wiliberg\"                 \n",
       " [15] \"Z\\xfcrich-Albisg\\xfcetli\" \"Orbe \"                    \n",
       " [17] \"Cartigny\"                  \"Couvet\"                   \n",
       " [19] \"Sarnen\"                    \"Wald, ZH\"                 \n",
       " [21] \"L'Abergement\"              \"Aurigeno\"                 \n",
       " [23] \"Disentis\"                  \"Elm\"                      \n",
       " [25] \"Meiringen I\"               \"M\\xf6hlin\"                \n",
       " [27] \"Sargans II\"                \"Thusis\"                   \n",
       " [29] \"W\\xe4denswil\"              \"Z\\xfcrich-MeteoSchweiz\"  \n",
       " [31] \"Bauma\"                     \"Prato-Sornico\"            \n",
       " [33] \"Entlebuch\"                 \"Longirod\"                 \n",
       " [35] \"Merishausen\"               \"Sihlbrugg\"                \n",
       " [37] \"Chur\"                      \"Oeschberg\"                \n",
       " [39] \"Grossdietwil\"              \"Moutier\"                  \n",
       " [41] \"Davos-Dorf\"                \"Changins\"                 \n",
       " [43] \"Basel-Binningen\"           \"Cevio-Cavergno\"           \n",
       " [45] \"Horgen\"                    \"Locarno\"                  \n",
       " [47] \"Moudon\"                    \"Winterthur\"               \n",
       " [49] \"Z\\xfcrich-Witikon\"        \"Cernier\"                  \n",
       " [51] \"Herzogenbuchsee\"           \"Appenzell\"                \n",
       " [53] \"Bondo GR\"                  \"Domat \"                   \n",
       " [55] \"Fanas\"                     \"Gr\\xfcsch\"                \n",
       " [57] \"Jenaz\"                     \"Laufenburg\"               \n",
       " [59] \"Linthal\"                   \"Sch\\xf6nenwerd\"           \n",
       " [61] \"Stampa\"                    \"Villnachern\"              \n",
       " [63] \"Wynau\"                     \"Diessenhofen\"             \n",
       " [65] \"Zizers\"                    \"Eschen-Boja\"              \n",
       " [67] \"Neuhausen\"                 \"D\\xf6ttingen\"             \n",
       " [69] \"Heiden\"                    \"Luzern\"                   \n",
       " [71] \"Muri, AG\"                  \"Oberehrendingen\"          \n",
       " [73] \"Vira \"                     \"Leytron\"                  \n",
       " [75] \"Osterfingen\"               \"Rorschach\"                \n",
       " [77] \"Olivone\"                   \"Romanshorn\"               \n",
       " [79] \"Hallau\"                    \"Stein, AR II\"             \n",
       " [81] \"Azmoos\"                    \"Chardonne\"                \n",
       " [83] \"Birmensdorf\"               \"Worb BE\"                  \n",
       " [85] \"Gundetswil\"                \"Sagno TI\"                 \n",
       " [87] \"Blonay\"                    \"Estavayer-le-Lac\"         \n",
       " [89] \"Frauenfeld\"                \"Hard b. Weinfelden\"       \n",
       " [91] \"Lanterswil\"                \"Visp\"                     \n",
       " [93] \"Wil, SG\"                   \"Dornach\"                  \n",
       " [95] \"Buchs\"                     \"Boudry\"                   \n",
       " [97] \"Grellingen\"                \"Therwil\"                  \n",
       " [99] \"Seewil\"                    \"Unterseen\"                \n",
       "[101] \"Jegenstorf II\"             \"Alchenfl\\xfch \"           \n",
       "[103] \"Langnau i.E.\"              \"Neuch\\xe2tel\"             \n",
       "[105] \"Ballens\"                   \"Ried \"                    \n",
       "[107] \"Faido\"                     \"Payerne\"                  \n",
       "[109] \"Reinach, BL\"               \"Mellingen\"                \n",
       "[111] \"Enges\"                    "
      ]
     },
     "metadata": {},
     "output_type": "display_data"
    }
   ],
   "source": [
    "# Download temperature data for the proxy cities.\n",
    "cherry_sub = meteoswiss %>%\n",
    "    filter(city %in% meteoswiss_tops$city) %>%\n",
    "    mutate(bloom_date = as.Date(bloom_date, format = \"%Y-%m-%d\"))\n",
    "\n",
    "temp_df <- cherry_sub %>%\n",
    "    dplyr::select(city, lat, long, alt) %>%\n",
    "    data.frame()\n",
    "\n",
    "temp_station <- weather_stations %>%\n",
    "    mutate(lat = latitude) %>%\n",
    "    mutate(long = longitude) %>%\n",
    "    mutate(alt = elevation) %>%\n",
    "    rename_with(~\"city\", id) %>%\n",
    "    dplyr::select(city, lat, long, alt) %>%\n",
    "    data.frame()\n",
    "\n",
    "\n",
    "# Placeholder for the resulting pairs\n",
    "city_station_pair <- data.frame(\n",
    "    matrix(NA, nrow = 0, ncol = 3\n",
    "        , dimnames = list(NULL, c(\"city\", \"id\", \"dist\"))))\n",
    "\n",
    "target_cities <- unique(cherry_sub$city)\n",
    "\n",
    "c_liestal <- which(target_cities == \"Liestal\")\n",
    "if (c_liestal != 1){\n",
    "    temp_city <- target_cities[1]\n",
    "    target_cities[1] <- target_cities[c_liestal]\n",
    "    target_cities[c_liestal] <- temp_city\n",
    "}\n",
    "target_cities"
   ]
  },
  {
   "cell_type": "code",
   "execution_count": 27,
   "metadata": {
    "vscode": {
     "languageId": "r"
    }
   },
   "outputs": [],
   "source": [
    "for (c in seq_len(length(target_cities))) {\n",
    "    \n",
    "    skip_to_next <- 0\n",
    "    ct <- target_cities[c]\n",
    "    \n",
    "    # Replace any special characters in the city names\n",
    "    ct_converted <- str_replace(str_replace(str_replace(str_replace(ct, \"-\", \".\"), \" \", \".\"), \",\", \".\"), \"'\",\".\")\n",
    "    tryCatch(\n",
    "        {\n",
    "            # rbind the city's geographical features and the weather stations'.\n",
    "            temp_merged <- temp_df %>% \n",
    "                filter(city == ct) %>%\n",
    "                dplyr::select(city, lat, long, alt) %>%\n",
    "                distinct() %>%\n",
    "                rbind(., temp_station) %>%\n",
    "                data.frame(.)\n",
    "        \n",
    "            # Compute the Euclidean distance between the city and the stations.\n",
    "            temp_merged$dist <- apply(temp_merged, MARGIN = 1, FUN = function(row){\n",
    "                geo = c(\"lat\", \"long\")\n",
    "                x = temp_merged[temp_merged$city == ct, geo]\n",
    "                y = row[geo]\n",
    "                dist = as.numeric(dist(rbind(x, y)))\n",
    "                return(dist)\n",
    "                })\n",
    "            \n",
    "            # Sort the rows by ascending dist.\n",
    "            temp_merged <- temp_merged %>%\n",
    "                arrange(dist)\n",
    "\n",
    "            # The first row is the city itself. Select the second row as the closest weather station.        \n",
    "            \n",
    "            station_id <- temp_merged[2, \"city\"]\n",
    "            station_dist <- temp_merged[2, \"dist\"]\n",
    "            idx = 2\n",
    "            while (station_id %in% city_station_pair$id) {\n",
    "                \n",
    "                idx = idx + 1\n",
    "                station_id <- temp_merged[idx, \"city\"]\n",
    "                station_dist <- temp_merged[idx, \"dist\"]\n",
    "\n",
    "            }\n",
    "        }\n",
    "        \n",
    "        , error = function(e) skip_to_next <<-1\n",
    "    )\n",
    "    if (skip_to_next == 1) {\n",
    "        # If error, skip to the next city.\n",
    "        next\n",
    "    }\n",
    "\n",
    "    city_station_pair[nrow(city_station_pair) + 1, ] <- c(ct, station_id, station_dist)\n",
    "}\n"
   ]
  },
  {
   "cell_type": "code",
   "execution_count": 28,
   "metadata": {
    "vscode": {
     "languageId": "r"
    }
   },
   "outputs": [
    {
     "data": {
      "text/html": [
       "<style>\n",
       ".list-inline {list-style: none; margin:0; padding: 0}\n",
       ".list-inline>li {display: inline-block}\n",
       ".list-inline>li:not(:last-child)::after {content: \"\\00b7\"; padding: 0 .5ex}\n",
       "</style>\n",
       "<ol class=list-inline><li>38</li><li>3</li></ol>\n"
      ],
      "text/latex": [
       "\\begin{enumerate*}\n",
       "\\item 38\n",
       "\\item 3\n",
       "\\end{enumerate*}\n"
      ],
      "text/markdown": [
       "1. 38\n",
       "2. 3\n",
       "\n",
       "\n"
      ],
      "text/plain": [
       "[1] 38  3"
      ]
     },
     "metadata": {},
     "output_type": "display_data"
    }
   ],
   "source": [
    "city_station_pairs <- city_station_pair %>% \n",
    "    mutate(dist = as.numeric(dist)) %>%\n",
    "    filter(dist < 1) %>%   # Only include the pairs that are close enough.\n",
    "    arrange(dist) %>%\n",
    "    group_by(id) %>%\n",
    "    as.data.frame(.)\n",
    "\n",
    "row_liestal = which(city_station_pairs$city == \"Liestal\")\n",
    "if (row_liestal != 1){\n",
    "    temp_row <- city_station_pairs[1, ]\n",
    "    city_station_pairs[1, ] <- city_station_pairs[row_liestal, ]\n",
    "    city_station_pairs[row_liestal, ] <- temp_row\n",
    "}\n",
    "dim(city_station_pairs)"
   ]
  },
  {
   "cell_type": "code",
   "execution_count": 29,
   "metadata": {
    "vscode": {
     "languageId": "r"
    }
   },
   "outputs": [],
   "source": [
    "meteoswiss_temp_file = paste0(data_dir, \"/A21_meteoswiss_temperatures.csv\")\n",
    "\n",
    "if (file.exists(meteoswiss_temp_file)) {\n",
    "    cherry_temp_raw <- data.frame(data.table::fread(meteoswiss_temp_file))\n",
    "} else {\n",
    "    cherry_temp_raw <- F01_get_imp_temperature(\n",
    "    # pull weather data for the cities listed in city_station_pairs. Impute missing tmax, tmin, prcp\n",
    "    city_station_pairs\n",
    "    , date_max = \"2024-05-31\"\n",
    "    )\n",
    "    write.csv(cherry_temp_raw, paste0(data_dir, \"/A21_meteoswiss_temperatures.csv\"), row.names=FALSE)\n",
    "}\n",
    "# head(cherry_temp_raw)"
   ]
  },
  {
   "cell_type": "code",
   "execution_count": 30,
   "metadata": {
    "vscode": {
     "languageId": "r"
    }
   },
   "outputs": [
    {
     "name": "stderr",
     "output_type": "stream",
     "text": [
      "\u001b[1m\u001b[22m`summarise()` has grouped output by 'id'. You can override using the `.groups`\n",
      "argument.\n"
     ]
    },
    {
     "data": {
      "text/html": [
       "<table class=\"dataframe\">\n",
       "<caption>A data.frame: 6 × 9</caption>\n",
       "<thead>\n",
       "\t<tr><th></th><th scope=col>city</th><th scope=col>year</th><th scope=col>id</th><th scope=col>n</th><th scope=col>bloom_doy</th><th scope=col>bloom_date</th><th scope=col>lat</th><th scope=col>long</th><th scope=col>alt</th></tr>\n",
       "\t<tr><th></th><th scope=col>&lt;chr&gt;</th><th scope=col>&lt;int&gt;</th><th scope=col>&lt;chr&gt;</th><th scope=col>&lt;int&gt;</th><th scope=col>&lt;int&gt;</th><th scope=col>&lt;date&gt;</th><th scope=col>&lt;dbl&gt;</th><th scope=col>&lt;dbl&gt;</th><th scope=col>&lt;int&gt;</th></tr>\n",
       "</thead>\n",
       "<tbody>\n",
       "\t<tr><th scope=row>1</th><td>Aurigeno</td><td>1956</td><td>SZ000009480</td><td>366</td><td>104</td><td>1956-04-13</td><td>46.23608</td><td>8.725292</td><td>350</td></tr>\n",
       "\t<tr><th scope=row>2</th><td>Aurigeno</td><td>1958</td><td>SZ000009480</td><td>365</td><td>115</td><td>1958-04-25</td><td>46.23608</td><td>8.725292</td><td>350</td></tr>\n",
       "\t<tr><th scope=row>3</th><td>Aurigeno</td><td>1959</td><td>SZ000009480</td><td>365</td><td> 94</td><td>1959-04-04</td><td>46.23608</td><td>8.725292</td><td>350</td></tr>\n",
       "\t<tr><th scope=row>4</th><td>Aurigeno</td><td>1961</td><td>SZ000009480</td><td>365</td><td> 87</td><td>1961-03-28</td><td>46.23608</td><td>8.725292</td><td>350</td></tr>\n",
       "\t<tr><th scope=row>5</th><td>Aurigeno</td><td>1963</td><td>SZ000009480</td><td>365</td><td> 92</td><td>1963-04-02</td><td>46.23608</td><td>8.725292</td><td>350</td></tr>\n",
       "\t<tr><th scope=row>6</th><td>Aurigeno</td><td>1964</td><td>SZ000009480</td><td>366</td><td> 81</td><td>1964-03-21</td><td>46.23608</td><td>8.725292</td><td>350</td></tr>\n",
       "</tbody>\n",
       "</table>\n"
      ],
      "text/latex": [
       "A data.frame: 6 × 9\n",
       "\\begin{tabular}{r|lllllllll}\n",
       "  & city & year & id & n & bloom\\_doy & bloom\\_date & lat & long & alt\\\\\n",
       "  & <chr> & <int> & <chr> & <int> & <int> & <date> & <dbl> & <dbl> & <int>\\\\\n",
       "\\hline\n",
       "\t1 & Aurigeno & 1956 & SZ000009480 & 366 & 104 & 1956-04-13 & 46.23608 & 8.725292 & 350\\\\\n",
       "\t2 & Aurigeno & 1958 & SZ000009480 & 365 & 115 & 1958-04-25 & 46.23608 & 8.725292 & 350\\\\\n",
       "\t3 & Aurigeno & 1959 & SZ000009480 & 365 &  94 & 1959-04-04 & 46.23608 & 8.725292 & 350\\\\\n",
       "\t4 & Aurigeno & 1961 & SZ000009480 & 365 &  87 & 1961-03-28 & 46.23608 & 8.725292 & 350\\\\\n",
       "\t5 & Aurigeno & 1963 & SZ000009480 & 365 &  92 & 1963-04-02 & 46.23608 & 8.725292 & 350\\\\\n",
       "\t6 & Aurigeno & 1964 & SZ000009480 & 366 &  81 & 1964-03-21 & 46.23608 & 8.725292 & 350\\\\\n",
       "\\end{tabular}\n"
      ],
      "text/markdown": [
       "\n",
       "A data.frame: 6 × 9\n",
       "\n",
       "| <!--/--> | city &lt;chr&gt; | year &lt;int&gt; | id &lt;chr&gt; | n &lt;int&gt; | bloom_doy &lt;int&gt; | bloom_date &lt;date&gt; | lat &lt;dbl&gt; | long &lt;dbl&gt; | alt &lt;int&gt; |\n",
       "|---|---|---|---|---|---|---|---|---|---|\n",
       "| 1 | Aurigeno | 1956 | SZ000009480 | 366 | 104 | 1956-04-13 | 46.23608 | 8.725292 | 350 |\n",
       "| 2 | Aurigeno | 1958 | SZ000009480 | 365 | 115 | 1958-04-25 | 46.23608 | 8.725292 | 350 |\n",
       "| 3 | Aurigeno | 1959 | SZ000009480 | 365 |  94 | 1959-04-04 | 46.23608 | 8.725292 | 350 |\n",
       "| 4 | Aurigeno | 1961 | SZ000009480 | 365 |  87 | 1961-03-28 | 46.23608 | 8.725292 | 350 |\n",
       "| 5 | Aurigeno | 1963 | SZ000009480 | 365 |  92 | 1963-04-02 | 46.23608 | 8.725292 | 350 |\n",
       "| 6 | Aurigeno | 1964 | SZ000009480 | 366 |  81 | 1964-03-21 | 46.23608 | 8.725292 | 350 |\n",
       "\n"
      ],
      "text/plain": [
       "  city     year id          n   bloom_doy bloom_date lat      long     alt\n",
       "1 Aurigeno 1956 SZ000009480 366 104       1956-04-13 46.23608 8.725292 350\n",
       "2 Aurigeno 1958 SZ000009480 365 115       1958-04-25 46.23608 8.725292 350\n",
       "3 Aurigeno 1959 SZ000009480 365  94       1959-04-04 46.23608 8.725292 350\n",
       "4 Aurigeno 1961 SZ000009480 365  87       1961-03-28 46.23608 8.725292 350\n",
       "5 Aurigeno 1963 SZ000009480 365  92       1963-04-02 46.23608 8.725292 350\n",
       "6 Aurigeno 1964 SZ000009480 366  81       1964-03-21 46.23608 8.725292 350"
      ]
     },
     "metadata": {},
     "output_type": "display_data"
    }
   ],
   "source": [
    "# Exclude years which do not have temperature data for the entire year.\n",
    "cherry_temp_n <- cherry_temp_raw %>%\n",
    "    group_by(id, year) %>%\n",
    "    summarise(n = n()) %>%\n",
    "    filter(n >=365) %>%\n",
    "    merge(y = city_station_pairs[, c(\"id\", \"city\")], by = \"id\", how = \"inner\") %>%\n",
    "    merge(y = cherry_sub[, c(\"city\", \"year\", \"bloom_doy\", \"bloom_date\", \"lat\", \"long\", \"alt\")], by = c(\"city\", \"year\"), how = \"inner\")\n",
    "head(cherry_temp_n)"
   ]
  },
  {
   "cell_type": "code",
   "execution_count": 31,
   "metadata": {
    "vscode": {
     "languageId": "r"
    }
   },
   "outputs": [
    {
     "data": {
      "text/html": [
       "<table class=\"dataframe\">\n",
       "<caption>A data.frame: 6 × 14</caption>\n",
       "<thead>\n",
       "\t<tr><th></th><th scope=col>id</th><th scope=col>year</th><th scope=col>date</th><th scope=col>tmax</th><th scope=col>tmin</th><th scope=col>prcp</th><th scope=col>month</th><th scope=col>day</th><th scope=col>city</th><th scope=col>bloom_doy</th><th scope=col>bloom_date</th><th scope=col>lat</th><th scope=col>long</th><th scope=col>alt</th></tr>\n",
       "\t<tr><th></th><th scope=col>&lt;chr&gt;</th><th scope=col>&lt;int&gt;</th><th scope=col>&lt;date&gt;</th><th scope=col>&lt;dbl&gt;</th><th scope=col>&lt;dbl&gt;</th><th scope=col>&lt;dbl&gt;</th><th scope=col>&lt;int&gt;</th><th scope=col>&lt;int&gt;</th><th scope=col>&lt;chr&gt;</th><th scope=col>&lt;int&gt;</th><th scope=col>&lt;date&gt;</th><th scope=col>&lt;dbl&gt;</th><th scope=col>&lt;dbl&gt;</th><th scope=col>&lt;int&gt;</th></tr>\n",
       "</thead>\n",
       "<tbody>\n",
       "\t<tr><th scope=row>211832</th><td>SZE00116090</td><td>2017</td><td>2017-12-26</td><td> 6.4</td><td>-2.5</td><td>2.5</td><td>12</td><td>26</td><td>Orvin</td><td>99</td><td>2017-04-09</td><td>47.15775</td><td>7.214464</td><td>700</td></tr>\n",
       "\t<tr><th scope=row>211833</th><td>SZE00116090</td><td>2017</td><td>2017-12-27</td><td> 4.4</td><td>-0.5</td><td>3.1</td><td>12</td><td>27</td><td>Orvin</td><td>99</td><td>2017-04-09</td><td>47.15775</td><td>7.214464</td><td>700</td></tr>\n",
       "\t<tr><th scope=row>211834</th><td>SZE00116090</td><td>2017</td><td>2017-12-28</td><td> 2.2</td><td>-1.3</td><td>0.0</td><td>12</td><td>28</td><td>Orvin</td><td>99</td><td>2017-04-09</td><td>47.15775</td><td>7.214464</td><td>700</td></tr>\n",
       "\t<tr><th scope=row>211835</th><td>SZE00116090</td><td>2017</td><td>2017-12-29</td><td> 3.5</td><td>-2.5</td><td>5.1</td><td>12</td><td>29</td><td>Orvin</td><td>99</td><td>2017-04-09</td><td>47.15775</td><td>7.214464</td><td>700</td></tr>\n",
       "\t<tr><th scope=row>211836</th><td>SZE00116090</td><td>2017</td><td>2017-12-30</td><td>10.4</td><td> 2.4</td><td>3.5</td><td>12</td><td>30</td><td>Orvin</td><td>99</td><td>2017-04-09</td><td>47.15775</td><td>7.214464</td><td>700</td></tr>\n",
       "\t<tr><th scope=row>211837</th><td>SZE00116090</td><td>2017</td><td>2017-12-31</td><td>12.1</td><td> 3.3</td><td>1.7</td><td>12</td><td>31</td><td>Orvin</td><td>99</td><td>2017-04-09</td><td>47.15775</td><td>7.214464</td><td>700</td></tr>\n",
       "</tbody>\n",
       "</table>\n"
      ],
      "text/latex": [
       "A data.frame: 6 × 14\n",
       "\\begin{tabular}{r|llllllllllllll}\n",
       "  & id & year & date & tmax & tmin & prcp & month & day & city & bloom\\_doy & bloom\\_date & lat & long & alt\\\\\n",
       "  & <chr> & <int> & <date> & <dbl> & <dbl> & <dbl> & <int> & <int> & <chr> & <int> & <date> & <dbl> & <dbl> & <int>\\\\\n",
       "\\hline\n",
       "\t211832 & SZE00116090 & 2017 & 2017-12-26 &  6.4 & -2.5 & 2.5 & 12 & 26 & Orvin & 99 & 2017-04-09 & 47.15775 & 7.214464 & 700\\\\\n",
       "\t211833 & SZE00116090 & 2017 & 2017-12-27 &  4.4 & -0.5 & 3.1 & 12 & 27 & Orvin & 99 & 2017-04-09 & 47.15775 & 7.214464 & 700\\\\\n",
       "\t211834 & SZE00116090 & 2017 & 2017-12-28 &  2.2 & -1.3 & 0.0 & 12 & 28 & Orvin & 99 & 2017-04-09 & 47.15775 & 7.214464 & 700\\\\\n",
       "\t211835 & SZE00116090 & 2017 & 2017-12-29 &  3.5 & -2.5 & 5.1 & 12 & 29 & Orvin & 99 & 2017-04-09 & 47.15775 & 7.214464 & 700\\\\\n",
       "\t211836 & SZE00116090 & 2017 & 2017-12-30 & 10.4 &  2.4 & 3.5 & 12 & 30 & Orvin & 99 & 2017-04-09 & 47.15775 & 7.214464 & 700\\\\\n",
       "\t211837 & SZE00116090 & 2017 & 2017-12-31 & 12.1 &  3.3 & 1.7 & 12 & 31 & Orvin & 99 & 2017-04-09 & 47.15775 & 7.214464 & 700\\\\\n",
       "\\end{tabular}\n"
      ],
      "text/markdown": [
       "\n",
       "A data.frame: 6 × 14\n",
       "\n",
       "| <!--/--> | id &lt;chr&gt; | year &lt;int&gt; | date &lt;date&gt; | tmax &lt;dbl&gt; | tmin &lt;dbl&gt; | prcp &lt;dbl&gt; | month &lt;int&gt; | day &lt;int&gt; | city &lt;chr&gt; | bloom_doy &lt;int&gt; | bloom_date &lt;date&gt; | lat &lt;dbl&gt; | long &lt;dbl&gt; | alt &lt;int&gt; |\n",
       "|---|---|---|---|---|---|---|---|---|---|---|---|---|---|---|\n",
       "| 211832 | SZE00116090 | 2017 | 2017-12-26 |  6.4 | -2.5 | 2.5 | 12 | 26 | Orvin | 99 | 2017-04-09 | 47.15775 | 7.214464 | 700 |\n",
       "| 211833 | SZE00116090 | 2017 | 2017-12-27 |  4.4 | -0.5 | 3.1 | 12 | 27 | Orvin | 99 | 2017-04-09 | 47.15775 | 7.214464 | 700 |\n",
       "| 211834 | SZE00116090 | 2017 | 2017-12-28 |  2.2 | -1.3 | 0.0 | 12 | 28 | Orvin | 99 | 2017-04-09 | 47.15775 | 7.214464 | 700 |\n",
       "| 211835 | SZE00116090 | 2017 | 2017-12-29 |  3.5 | -2.5 | 5.1 | 12 | 29 | Orvin | 99 | 2017-04-09 | 47.15775 | 7.214464 | 700 |\n",
       "| 211836 | SZE00116090 | 2017 | 2017-12-30 | 10.4 |  2.4 | 3.5 | 12 | 30 | Orvin | 99 | 2017-04-09 | 47.15775 | 7.214464 | 700 |\n",
       "| 211837 | SZE00116090 | 2017 | 2017-12-31 | 12.1 |  3.3 | 1.7 | 12 | 31 | Orvin | 99 | 2017-04-09 | 47.15775 | 7.214464 | 700 |\n",
       "\n"
      ],
      "text/plain": [
       "       id          year date       tmax tmin prcp month day city  bloom_doy\n",
       "211832 SZE00116090 2017 2017-12-26  6.4 -2.5 2.5  12    26  Orvin 99       \n",
       "211833 SZE00116090 2017 2017-12-27  4.4 -0.5 3.1  12    27  Orvin 99       \n",
       "211834 SZE00116090 2017 2017-12-28  2.2 -1.3 0.0  12    28  Orvin 99       \n",
       "211835 SZE00116090 2017 2017-12-29  3.5 -2.5 5.1  12    29  Orvin 99       \n",
       "211836 SZE00116090 2017 2017-12-30 10.4  2.4 3.5  12    30  Orvin 99       \n",
       "211837 SZE00116090 2017 2017-12-31 12.1  3.3 1.7  12    31  Orvin 99       \n",
       "       bloom_date lat      long     alt\n",
       "211832 2017-04-09 47.15775 7.214464 700\n",
       "211833 2017-04-09 47.15775 7.214464 700\n",
       "211834 2017-04-09 47.15775 7.214464 700\n",
       "211835 2017-04-09 47.15775 7.214464 700\n",
       "211836 2017-04-09 47.15775 7.214464 700\n",
       "211837 2017-04-09 47.15775 7.214464 700"
      ]
     },
     "metadata": {},
     "output_type": "display_data"
    }
   ],
   "source": [
    "# Extract id and year pairs from cherry_temp_raw that are included in cherry_temp_n\n",
    "cherry_temp <- cherry_temp_raw %>%\n",
    "    merge(y = cherry_temp_n[, c(\"id\", \"year\", \"city\", \"bloom_doy\", \"bloom_date\", \"lat\", \"long\", \"alt\")], by = c(\"id\", \"year\"), all.x = TRUE) %>%\n",
    "    drop_na(city) %>%\n",
    "    mutate(date = as.Date(date, format = \"%Y-%m-%d\")) %>%\n",
    "    mutate(bloom_date = as.Date(bloom_date, format = \"%Y-%m-%d\")) %>%\n",
    "    arrange(id, date)\n",
    "\n",
    "# Remove non-UTF8 characters\n",
    "cherry_temp <- cherry_temp %>% mutate(city = iconv(city, to = \"UTF-8\", sub = \"\"))\n",
    "\n",
    "# Save the japan temperature data\n",
    "write.csv(cherry_temp, paste0(data_dir, \"/A21_meteoswiss_temperatures2.csv\"), row.names = FALSE)\n",
    "\n",
    "tail(cherry_temp)"
   ]
  },
  {
   "cell_type": "code",
   "execution_count": null,
   "metadata": {
    "vscode": {
     "languageId": "r"
    }
   },
   "outputs": [],
   "source": []
  }
 ],
 "metadata": {
  "kernelspec": {
   "display_name": "R 4.1",
   "language": "R",
   "name": "ir41"
  },
  "language_info": {
   "codemirror_mode": "r",
   "file_extension": ".r",
   "mimetype": "text/x-r-source",
   "name": "R",
   "pygments_lexer": "r",
   "version": "4.1.2"
  }
 },
 "nbformat": 4,
 "nbformat_minor": 2
}
